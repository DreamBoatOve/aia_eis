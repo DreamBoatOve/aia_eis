{
 "cells": [
  {
   "cell_type": "markdown",
   "id": "644c14f9-8fe8-4cf2-8cb4-41dc54fde70e",
   "metadata": {},
   "source": [
    "# 这个文件主要用来处理论文画图需要的零碎数据"
   ]
  },
  {
   "cell_type": "code",
   "execution_count": 1,
   "id": "a34bd8f2-fe7d-4c62-8925-0e89e110a0ef",
   "metadata": {},
   "outputs": [],
   "source": [
    "import sys\n",
    "sys.path.append('../../')"
   ]
  },
  {
   "cell_type": "code",
   "execution_count": 2,
   "id": "125a3326-4d33-48ab-a2ff-f4e26867e31f",
   "metadata": {},
   "outputs": [],
   "source": [
    "from data_processor.GOA_preprocessor.goa_data_wrapper import load_Lai_EIS_data"
   ]
  },
  {
   "cell_type": "code",
   "execution_count": 4,
   "id": "a136b13e-5e32-4a8a-9460-1aed683c1375",
   "metadata": {},
   "outputs": [],
   "source": [
    "\"\"\"\n",
    "lai_normed_eis_dict_list[\n",
    "    dict0{\n",
    "        'file_name': '1-1',\n",
    "        'ecm_num': 9,\n",
    "        'f': [100078.1, 63140.62, ..., 0.1588983, 0.1001603],\n",
    "        'z_raw': [(0.005566658429999999-0.0112022736j),\n",
    "                  (0.006214947129999999-0.0172324988j),\n",
    "                  ...,\n",
    "                  (285.52881799999994-486.4391289999999j),\n",
    "                  (370.64242699999994-661.259928j)]\n",
    "    }\n",
    "    dict1,\n",
    "    ...\n",
    "]\n",
    "\"\"\"\n",
    "lai_normed_eis_dict_list = load_Lai_EIS_data(file_path='../../datasets/goa_datasets/normed',\n",
    "                                             file_name='2020_08_22_goa_lai_normed_dataset_pickle.file')"
   ]
  },
  {
   "cell_type": "code",
   "execution_count": 7,
   "id": "2e0187ea-507b-476d-87be-2a551f9b323f",
   "metadata": {
    "collapsed": true,
    "jupyter": {
     "outputs_hidden": true
    },
    "tags": []
   },
   "outputs": [
    {
     "name": "stdout",
     "output_type": "stream",
     "text": [
      "File Name\tData Number\n",
      "1-1 \t\t 31\n",
      "1-2 \t\t 31\n",
      "1-3 \t\t 31\n",
      "1-4 \t\t 31\n",
      "1-6 \t\t 31\n",
      "1-7 \t\t 31\n",
      "1-8 \t\t 31\n",
      "1-9 \t\t 31\n",
      "1-10 \t\t 31\n",
      "1-11 \t\t 31\n",
      "1-12 \t\t 31\n",
      "1-14 \t\t 31\n",
      "1-16 \t\t 31\n",
      "1-18 \t\t 31\n",
      "1-19 \t\t 31\n",
      "1-20 \t\t 31\n",
      "1-21 \t\t 31\n",
      "1-22 \t\t 31\n",
      "1-24 \t\t 31\n",
      "1-25 \t\t 31\n",
      "1-26 \t\t 31\n",
      "1-27 \t\t 31\n",
      "1-29 \t\t 31\n",
      "1-30 \t\t 31\n",
      "1-31 \t\t 31\n",
      "1-32 \t\t 31\n",
      "1-33 \t\t 31\n",
      "2-1 \t\t 31\n",
      "2-2 \t\t 31\n",
      "2-3 \t\t 31\n",
      "2-4 \t\t 31\n",
      "2-5 \t\t 31\n",
      "2-6 \t\t 31\n",
      "2-7 \t\t 31\n",
      "2-8 \t\t 31\n",
      "2-9 \t\t 31\n",
      "2-10 \t\t 31\n",
      "2-11 \t\t 31\n",
      "2-12 \t\t 31\n",
      "2-13 \t\t 31\n",
      "2-15 \t\t 31\n",
      "2-16 \t\t 31\n",
      "2-17 \t\t 31\n",
      "2-19 \t\t 31\n",
      "2-20 \t\t 31\n",
      "2-23 \t\t 31\n",
      "2-24 \t\t 31\n",
      "2-26 \t\t 31\n",
      "2-28 \t\t 31\n",
      "2-29 \t\t 31\n",
      "2-30 \t\t 31\n",
      "2-31 \t\t 31\n",
      "2-32 \t\t 31\n",
      "2-33 \t\t 31\n",
      "2-34 \t\t 31\n",
      "3-1 \t\t 31\n",
      "3-5 \t\t 31\n",
      "3-6 \t\t 31\n",
      "3-7 \t\t 31\n",
      "3-8 \t\t 31\n",
      "3-9 \t\t 31\n",
      "3-10 \t\t 31\n",
      "3-11 \t\t 31\n",
      "3-12 \t\t 31\n",
      "3-13 \t\t 31\n",
      "3-14 \t\t 31\n",
      "3-15 \t\t 31\n",
      "3-17 \t\t 31\n",
      "3-19 \t\t 31\n",
      "3-20 \t\t 31\n",
      "3-21 \t\t 31\n",
      "3-22 \t\t 31\n",
      "3-23 \t\t 31\n",
      "3-24 \t\t 31\n",
      "3-25 \t\t 31\n",
      "3-26 \t\t 31\n",
      "3-27 \t\t 31\n",
      "3-29 \t\t 31\n",
      "3-30 \t\t 31\n",
      "3-31 \t\t 31\n",
      "3-32 \t\t 31\n",
      "3-33 \t\t 31\n",
      "3-34 \t\t 31\n",
      "4-1 \t\t 31\n",
      "4-2 \t\t 31\n",
      "4-3 \t\t 31\n",
      "4-4 \t\t 31\n",
      "4-5 \t\t 31\n",
      "4-6 \t\t 31\n",
      "4-7 \t\t 31\n",
      "4-8 \t\t 31\n",
      "4-9 \t\t 31\n",
      "4-10 \t\t 31\n",
      "4-11 \t\t 31\n",
      "4-12 \t\t 31\n",
      "4-14 \t\t 31\n",
      "4-19 \t\t 31\n",
      "4-21 \t\t 31\n",
      "4-22 \t\t 31\n",
      "4-25 \t\t 31\n",
      "4-28 \t\t 31\n",
      "4-29 \t\t 31\n",
      "4-31 \t\t 31\n",
      "4-34 \t\t 31\n",
      "5-1 \t\t 31\n",
      "5-2 \t\t 31\n",
      "5-3 \t\t 31\n",
      "5-4 \t\t 31\n",
      "5-5 \t\t 31\n",
      "5-6 \t\t 31\n",
      "5-7 \t\t 31\n",
      "5-8 \t\t 31\n",
      "5-9 \t\t 31\n",
      "5-11 \t\t 31\n",
      "5-12 \t\t 31\n",
      "5-16 \t\t 31\n",
      "5-17 \t\t 31\n",
      "5-18 \t\t 31\n",
      "5-19 \t\t 31\n",
      "5-22 \t\t 31\n",
      "5-26 \t\t 31\n",
      "5-27 \t\t 31\n",
      "5-28 \t\t 31\n",
      "5-29 \t\t 31\n",
      "5-31 \t\t 30\n",
      "5-32 \t\t 29\n",
      "5-33 \t\t 29\n"
     ]
    }
   ],
   "source": [
    "print('File Name\\tData Number')\n",
    "for lai_normed_eis_dict in lai_normed_eis_dict_list:\n",
    "    print(lai_normed_eis_dict['file_name'], '\\t\\t',len(lai_normed_eis_dict['z_raw']))"
   ]
  },
  {
   "cell_type": "code",
   "execution_count": null,
   "id": "466f3ed0-4816-432a-a70e-ac07ec2611de",
   "metadata": {},
   "outputs": [],
   "source": []
  },
  {
   "cell_type": "markdown",
   "id": "ddb4f14b-abf1-4f30-8576-f6fde746bdee",
   "metadata": {},
   "source": [
    "# 画Heatmap"
   ]
  },
  {
   "cell_type": "code",
   "execution_count": 1,
   "id": "820845a2-f41d-4650-aacb-5bdfe882a8fe",
   "metadata": {},
   "outputs": [
    {
     "data": {
      "image/png": "[encoded data removed]",
      "text/plain": [
       "<Figure size 432x288 with 1 Axes>"
      ]
     },
     "metadata": {
      "needs_background": "light"
     },
     "output_type": "display_data"
    }
   ],
   "source": [
    "# A simple categorical heatmap https://matplotlib.org/stable/gallery/images_contours_and_fields/image_annotated_heatmap.html\n",
    "import numpy as np\n",
    "import matplotlib\n",
    "import matplotlib.pyplot as plt\n",
    "\n",
    "vegetables = [\"cucumber\", \"tomato\", \"lettuce\", \"asparagus\",\n",
    "              \"potato\", \"wheat\", \"barley\"]\n",
    "farmers = [\"Farmer Joe\", \"Upland Bros.\", \"Smith Gardening\",\n",
    "           \"Agrifun\", \"Organiculture\", \"BioGoods Ltd.\", \"Cornylee Corp.\"]\n",
    "\n",
    "harvest = np.array([[0.8, 2.4, 2.5, 3.9, 0.0, 4.0, 0.0],\n",
    "                    [2.4, 0.0, 4.0, 1.0, 2.7, 0.0, 0.0],\n",
    "                    [1.1, 2.4, 0.8, 4.3, 1.9, 4.4, 0.0],\n",
    "                    [0.6, 0.0, 0.3, 0.0, 3.1, 0.0, 0.0],\n",
    "                    [0.7, 1.7, 0.6, 2.6, 2.2, 6.2, 0.0],\n",
    "                    [1.3, 1.2, 0.0, 0.0, 0.0, 3.2, 5.1],\n",
    "                    [0.1, 2.0, 0.0, 1.4, 0.0, 1.9, 6.3]])\n",
    "\n",
    "\n",
    "fig, ax = plt.subplots()\n",
    "im = ax.imshow(harvest)\n",
    "\n",
    "# Show all ticks and label them with the respective list entries\n",
    "ax.set_xticks(np.arange(len(farmers)), labels=farmers)\n",
    "ax.set_yticks(np.arange(len(vegetables)), labels=vegetables)\n",
    "\n",
    "# Rotate the tick labels and set their alignment.\n",
    "plt.setp(ax.get_xticklabels(), rotation=45, ha=\"right\",\n",
    "         rotation_mode=\"anchor\")\n",
    "\n",
    "# Loop over data dimensions and create text annotations.\n",
    "for i in range(len(vegetables)):\n",
    "    for j in range(len(farmers)):\n",
    "        text = ax.text(j, i, harvest[i, j],\n",
    "                       ha=\"center\", va=\"center\", color=\"w\")\n",
    "\n",
    "ax.set_title(\"Harvest of local farmers (in tons/year)\")\n",
    "fig.tight_layout()\n",
    "plt.show()"
   ]
  },
  {
   "cell_type": "markdown",
   "id": "0cc60d8b-2c51-4ca4-8dce-2b40ea3f15a3",
   "metadata": {},
   "source": [
    "## Unicode characters for engineers in Python"
   ]
  },
  {
   "cell_type": "code",
   "execution_count": 12,
   "id": "f40b233b-93bd-4706-8bac-4508e62dadb8",
   "metadata": {},
   "outputs": [
    {
     "name": "stdout",
     "output_type": "stream",
     "text": [
      "Omega: Ω\n",
      "Delta: Δ\n",
      "sigma: σ\n",
      "mu: μ\n",
      "epsilon: ε\n",
      "degree: °\n",
      "6î + 4ĵ-2k̂\n"
     ]
    }
   ],
   "source": [
    "# https://pythonforundergradengineers.com/unicode-characters-in-python.html\n",
    "print('Omega: \\u03A9')\n",
    "print('Delta: \\u0394')\n",
    "print('sigma: \\u03C3')\n",
    "print('mu: \\u03BC')\n",
    "print('epsilon: \\u03B5')\n",
    "print('degree: \\u00B0')\n",
    "print('6i\\u0302 + 4j\\u0302-2k\\u0302')"
   ]
  },
  {
   "cell_type": "markdown",
   "id": "5dbd0346-dda2-4f03-895b-dfb7b1fc1224",
   "metadata": {},
   "source": [
    "## Superscript and Subscript in Python"
   ]
  },
  {
   "cell_type": "code",
   "execution_count": 4,
   "id": "d3dd73fe-4420-4fa4-9d99-06812ec998f2",
   "metadata": {},
   "outputs": [],
   "source": [
    "# How to print Superscript and Subscript in Python?\n",
    "# https://www.geeksforgeeks.org/how-to-print-superscript-and-subscript-in-python/"
   ]
  },
  {
   "cell_type": "markdown",
   "id": "164c811a-9a4c-4d36-af66-7e30dfd14256",
   "metadata": {},
   "source": [
    "### Superscript in Python"
   ]
  },
  {
   "cell_type": "code",
   "execution_count": 7,
   "id": "5e24eff4-fd8f-4a41-a67b-fffa3df0d586",
   "metadata": {},
   "outputs": [
    {
     "name": "stdout",
     "output_type": "stream",
     "text": [
      "Aⁱ\n",
      "A⁲\n",
      "A⁳\n"
     ]
    }
   ],
   "source": [
    "# Using Unicode subscripts and superscripts\n",
    "print('A\\u2071')\n",
    "print('A\\u2072')\n",
    "print('A\\u2073')"
   ]
  },
  {
   "cell_type": "code",
   "execution_count": 9,
   "id": "85ab8b63-239b-45ba-81d4-09d6c6c8329d",
   "metadata": {},
   "outputs": [
    {
     "name": "stdout",
     "output_type": "stream",
     "text": [
      "A±\n",
      "A²\n",
      "A³\n"
     ]
    }
   ],
   "source": [
    "print('A\\u00b1')\n",
    "print('A\\u00b2')\n",
    "print('A\\u00b3')"
   ]
  },
  {
   "cell_type": "markdown",
   "id": "8d403e6a-2acd-455d-8a61-56177682bc46",
   "metadata": {},
   "source": [
    "### Subscript in Python"
   ]
  },
  {
   "cell_type": "code",
   "execution_count": 11,
   "id": "c2eab582-8024-42e8-aede-7330bf6a8705",
   "metadata": {},
   "outputs": [
    {
     "name": "stdout",
     "output_type": "stream",
     "text": [
      "A₁\n",
      "A₂\n",
      "A₃\n"
     ]
    }
   ],
   "source": [
    "print('A\\u2081')\n",
    "print('A\\u2082')\n",
    "print('A\\u2083')"
   ]
  },
  {
   "cell_type": "code",
   "execution_count": 38,
   "id": "e49f58e6-909c-4aee-bc43-63d8d3b841f5",
   "metadata": {},
   "outputs": [],
   "source": [
    "# A simple categorical heatmap https://matplotlib.org/stable/gallery/images_contours_and_fields/image_annotated_heatmap.html\n",
    "import numpy as np\n",
    "import matplotlib\n",
    "import matplotlib.pyplot as plt\n",
    "\n",
    "xFrequencyLabels = ['HF','MF','LF']\n",
    "\n",
    "# ---------------放弃直接把特殊字符画出来，之后在PPT上改--------------\n",
    "# print('epsilon: \\u03B5') --> epsilon: ε\n",
    "# yCriterionLabels = ['|\\u03B5\\u208S-G,Re|', '||','']\n",
    "# yCriterionLabels = ['|ε\\u208S|']\n",
    "# yCriterionLabels = ['|ε\\u208S-G,Re|', '||','']\n",
    "# yCriterionLabels = ['|ε\\u208S-G,Re|', '||','']\n",
    "# ---------------放弃直接把特殊字符画出来，之后在PPT上改--------------\n",
    "\n",
    "yCriterionLabels = ['|Es-g,re|, |Ere|', '|Es-g,im|, |Eim|',\n",
    "                    '|Es-g,re|+|Es-g,im|, |Ere|+|Eim|', '|Es-g|, |E|',\n",
    "                    '|△Zs-g|, |Ere|', '|△Zs-g|, |Eim|',\n",
    "                    '|△Zs-g|, |Ere|+|Eim|', '|△Zs-g|, |E|',\n",
    "                    '|△φs-g|, |Ere|', '|△φs-g|, |Eim|',\n",
    "                    '|△φs-g|, |Ere|+|Eim|', '|△φs-g|, |E|']\n",
    "# for yCriterionLabel in yCriterionLabels:\n",
    "#     print(yCriterionLabel)\n",
    "\n",
    "dataArr = np.array([[12,15,16],\n",
    "                    [15,15,17],\n",
    "                    [12,16,16],\n",
    "                    [14,16,16],\n",
    "                    [12,16,16],\n",
    "                    [16,13,16],\n",
    "                    [15,15,16],\n",
    "                    [15,15,16],\n",
    "                    [13,16,16],\n",
    "                    [16,14,16],\n",
    "                    [15,15,16],\n",
    "                    [15,15,16]], dtype=int)\n",
    "\n",
    "fig, ax = plt.subplots()\n",
    "im = ax.imshow(dataArr)\n",
    "\n",
    "# Show all ticks and label them with the respective list entries\n",
    "ax.set_xticks(np.arange(len(xFrequencyLabels)), labels=xFrequencyLabels)\n",
    "ax.set_yticks(np.arange(len(yCriterionLabels)), labels=yCriterionLabels)\n",
    "\n",
    "# Rotate the tick labels and set their alignment.\n",
    "plt.setp(ax.get_xticklabels(), rotation=45, ha=\"right\",\n",
    "         rotation_mode=\"anchor\")\n",
    "\n",
    "# wrong\n",
    "# ax.text(5, 2, dataArr[5, 2], ha=\"center\", va=\"center\", color=\"w\")\n",
    "\n",
    "ax.text(2,5, dataArr[5, 2], ha=\"center\", va=\"center\", color=\"w\")\n",
    "\n",
    "# Loop over data dimensions and create text annotations.\n",
    "for col in range(len(xFrequencyLabels)):\n",
    "    for row in range(len(yCriterionLabels)):\n",
    "        text = ax.text(col, row, dataArr[row,col], ha=\"center\", va=\"center\", color=\"w\") \n",
    "\n",
    "# for i in range(len(xFrequencyLabels)):\n",
    "#     for j in range(len(yCriterionLabels)):\n",
    "#         print(j, i, dataArr[j, i])\n",
    "#         text = ax.text(j, i, dataArr[j, i],\n",
    "#                        ha=\"center\", va=\"center\", color=\"w\")        \n",
    "#         print(j, i, dataArr[i, j])\n",
    "#         text = ax.text(j, i, dataArr[i, j],\n",
    "#                        ha=\"center\", va=\"center\", color=\"w\")\n",
    "\n",
    "# ax.set_title(\"Harvest of local farmers (in tons/year)\")\n",
    "fig.tight_layout()\n",
    "\n",
    "# plt.show()\n",
    "\n",
    "plt.savefig('heatmap.png', dpi=600)\n",
    "plt.close()"
   ]
  },
  {
   "cell_type": "code",
   "execution_count": null,
   "id": "709fefc1-660f-467a-8d09-542db180fa6f",
   "metadata": {},
   "outputs": [],
   "source": []
  },
  {
   "cell_type": "code",
   "execution_count": null,
   "id": "8d707032-18a3-4e36-ac1e-58377faf3ce4",
   "metadata": {},
   "outputs": [],
   "source": []
  },
  {
   "cell_type": "code",
   "execution_count": null,
   "id": "03dc7d8d-8d20-438e-9e0d-b6e36437dafb",
   "metadata": {},
   "outputs": [],
   "source": []
  }
 ],
 "metadata": {
  "kernelspec": {
   "display_name": "Python 3",
   "language": "python",
   "name": "python3"
  },
  "language_info": {
   "codemirror_mode": {
    "name": "ipython",
    "version": 3
   },
   "file_extension": ".py",
   "mimetype": "text/x-python",
   "name": "python",
   "nbconvert_exporter": "python",
   "pygments_lexer": "ipython3",
   "version": "3.8.2"
  },
  "toc-autonumbering": true
 },
 "nbformat": 4,
 "nbformat_minor": 5
}
