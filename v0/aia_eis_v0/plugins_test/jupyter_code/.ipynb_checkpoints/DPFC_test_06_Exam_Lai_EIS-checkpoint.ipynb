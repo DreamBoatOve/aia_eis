{
 "cells": [
  {
   "cell_type": "markdown",
   "metadata": {},
   "source": [
    "# Purpose"
   ]
  },
  {
   "cell_type": "markdown",
   "metadata": {},
   "source": [
    "Exam the correctness of Lai's fitting results by draw his raw-EIS and fitted-EIS in the same plot"
   ]
  },
  {
   "cell_type": "markdown",
   "metadata": {},
   "source": [
    "# Preparation of circuit elements and plot utils"
   ]
  },
  {
   "cell_type": "markdown",
   "metadata": {},
   "source": [
    "## Preparation of circuit elements"
   ]
  },
  {
   "cell_type": "code",
   "execution_count": 1,
   "metadata": {
    "ExecuteTime": {
     "end_time": "2020-05-18T08:38:56.780070Z",
     "start_time": "2020-05-18T08:38:56.770149Z"
    },
    "code_folding": [
     0,
     5,
     10,
     52
    ]
   },
   "outputs": [],
   "source": [
    "def ele_C(w, C):\n",
    "    # w: Angular frequency [1/s]\n",
    "    # C: F\n",
    "    return 1 / (1j * w * C)\n",
    "\n",
    "def ele_L(w, L):\n",
    "    # w: Angular frequency [1/s]\n",
    "    # L: Inductance [ohm * s]\n",
    "    return 1j * w * L\n",
    "\n",
    "def ele_Warburg(w, sigma):\n",
    "    \"\"\"\n",
    "    :param\n",
    "        w: Angular frequency [1/s], (s:second)\n",
    "        The first expression:\n",
    "            Warburg = σ * (w^(-0.5)) * (1 - 1j)\n",
    "            sigma: warburg coefficient, no unit\n",
    "\n",
    "        The second expression:\n",
    "            refer: PAPER: 100-173-053-Preparation of carbon-coated lithium iron phosphate/titanium nitride for a lithium-ion supercapacitor, Eq-3\n",
    "            Warburg = W_R * coth[(1j * W_T * w)^W_P] / (1j * W_T * w)^W_P\n",
    "            if we take z = (1j * W_T * w)^W_P:\n",
    "            then, the equation can be simplified as Warburg = W_R * coth[z] / z\n",
    "\n",
    "            W_R: Diffusion resistance (Warburg diffusion resistance)\n",
    "            W_T: Diffusion time constant, is equal to (L^2)/D\n",
    "                L and D are the effective diffusion length and diffusion coefficient, respectively\n",
    "            W_P: is a fractional exponent between 0 and 1.\n",
    "            coth: hyperbolic cotangent\n",
    "                webs:\n",
    "                    coth: https://www.mathworks.com/help/matlab/ref/coth.html\n",
    "                    Hyperbolic Cotangent: https://mathworld.wolfram.com/HyperbolicCotangent.html\n",
    "                coth(z) = (e^z + e^(-z)) / (e^z - e^(-z)) = (e^2z + 1) / (e^2z - 1)\n",
    "    :return:\n",
    "        Zwar: Warburg impedance\n",
    "    \"\"\"\n",
    "    def coth(z):\n",
    "        c = (math.e ** (2 * z) + 1) / (math.e ** (2 * z) - 1)\n",
    "        return c\n",
    "\n",
    "    if (type(sigma) == int) or (type(sigma) == float):\n",
    "        Zwar = sigma * (w ** (-0.5)) * (1 - 1j)\n",
    "    elif len(sigma) == 3:\n",
    "        Wr, Wt, Wp = sigma\n",
    "        # z = (1j * W_T * w)^W_P\n",
    "        z = (1j * Wt * w) ** Wp\n",
    "        Zwar = Wr * coth(z) / z\n",
    "    else:\n",
    "        print(\"There is something wrong in your Warburg parameters, check it\")\n",
    "        sys.exit(0)\n",
    "    return Zwar\n",
    "\n",
    "def ele_Q(w, q, n):\n",
    "    \"\"\"\n",
    "    :param\n",
    "        w: Angular frequency [1/s]\n",
    "        q: CPE coefficient, Constant phase element [s^n/ohm]\n",
    "        n: Constant phase elelment exponent [-]\n",
    "    :return:\n",
    "    \"\"\"\n",
    "    z = 1 / (q * ((1j * w) ** n))\n",
    "    return z\n",
    "\n",
    "C = ele_C\n",
    "L = ele_L\n",
    "WB = ele_Warburg\n",
    "Q = ele_Q"
   ]
  },
  {
   "cell_type": "code",
   "execution_count": 2,
   "metadata": {
    "ExecuteTime": {
     "end_time": "2020-05-18T08:39:00.002374Z",
     "start_time": "2020-05-18T08:38:59.996355Z"
    },
    "code_folding": [
     1
    ]
   },
   "outputs": [],
   "source": [
    "import math\n",
    "def fre_generator(f_start, f_end, pts_decade):\n",
    "    \"\"\"\n",
    "    :param\n",
    "        f_start:\n",
    "            int\n",
    "            High frequency\n",
    "            Ex: 7, == 1e7\n",
    "        f_end:\n",
    "            int\n",
    "            Low frequency\n",
    "            Ex: 7, == 1e-7\n",
    "        pts_decade:\n",
    "    :return:\n",
    "    \"\"\"\n",
    "    points_num = (f_start - f_end) * pts_decade\n",
    "    fre_list = [10 ** (f_start - i * (f_start - f_end) / points_num) for i in range(points_num)]\n",
    "    w_list = [2 * math.pi * f for f in fre_list]\n",
    "    return fre_list, w_list"
   ]
  },
  {
   "cell_type": "code",
   "execution_count": 4,
   "metadata": {
    "ExecuteTime": {
     "end_time": "2020-05-18T08:45:15.227977Z",
     "start_time": "2020-05-18T08:45:15.223453Z"
    }
   },
   "outputs": [],
   "source": [
    "# Frequency range 1e5 ~ 1e-1, 5 points per decade\n",
    "fre_list, w_list = fre_generator(f_start = 5, f_end = -1, pts_decade = 5)"
   ]
  },
  {
   "cell_type": "code",
   "execution_count": 5,
   "metadata": {
    "ExecuteTime": {
     "end_time": "2020-05-18T08:46:08.714056Z",
     "start_time": "2020-05-18T08:46:08.709051Z"
    }
   },
   "outputs": [],
   "source": [
    "# ECM-2 R(QR)(QR)\n",
    "def RaQRbaQRb(w, R0, Q0_pair, R1, Q1_pair, R2):\n",
    "    z = R0 \\\n",
    "        + 1 / ((1 / R1) + (1 / Q(w, q = Q0_pair[0], n = Q0_pair[1])))\\\n",
    "        + 1 / ((1 / R2) + (1 / Q(w, q = Q1_pair[0], n = Q1_pair[1])))\n",
    "    return z"
   ]
  },
  {
   "cell_type": "code",
   "execution_count": 43,
   "metadata": {
    "ExecuteTime": {
     "end_time": "2020-05-18T10:08:30.936887Z",
     "start_time": "2020-05-18T10:08:30.930068Z"
    }
   },
   "outputs": [],
   "source": [
    "# ECM-9 R(Q(R(QR)))\n",
    "def RaQaRaQRbbb(w, R0, Q0_pair, R1, Q1_pair, R2):\n",
    "    z = R0 + 1 / ((1 / Q(w, q=Q0_pair[0], n=Q0_pair[1])) + ( 1 / ( R1 + ( 1 / ( 1/Q(w, q=Q1_pair[0],n=Q1_pair[1]) + 1/R2)))) )\n",
    "    return z"
   ]
  },
  {
   "cell_type": "markdown",
   "metadata": {},
   "source": [
    "## Preparation of plot utils"
   ]
  },
  {
   "cell_type": "code",
   "execution_count": 35,
   "metadata": {
    "ExecuteTime": {
     "end_time": "2020-05-18T09:37:03.913213Z",
     "start_time": "2020-05-18T09:37:03.904933Z"
    },
    "code_folding": []
   },
   "outputs": [],
   "source": [
    "import matplotlib.pyplot as plt\n",
    "def raw_fitted_nyquist_plot(raw_z_list, fitted_z_list, x_lim=[0, 50000], y_lim=[0, 50000]):\n",
    "    \"\"\"\n",
    "    function\n",
    "        Draw the raw-EIS and fitted-EIS in the same plot\n",
    "    :param\n",
    "        raw_z_list:\n",
    "            raw eis impedance list (complex)\n",
    "        fitted_z_list:\n",
    "            fitted eis impedance list (complex)\n",
    "        x_lim:\n",
    "            the boundaries of x-axis\n",
    "        y_lim:\n",
    "            the boundaries of y-axis\n",
    "        plot_label:\n",
    "    :return:\n",
    "    \"\"\"\n",
    "    raw_z_real_list = [z.real for z in raw_z_list]\n",
    "    raw_z_imag_list = [z.imag for z in raw_z_list]\n",
    "    raw_z_inv_imag_list = [-z_imag for z_imag in raw_z_imag_list]\n",
    "\n",
    "    fitted_z_real_list = [z.real for z in fitted_z_list]\n",
    "    fitted_z_imag_list = [z.imag for z in fitted_z_list]\n",
    "    fitted_z_inv_imag_list = [-z_imag for z_imag in fitted_z_imag_list]\n",
    "\n",
    "    fig = plt.figure()\n",
    "    # plt.plot(raw_z_real_list, raw_z_inv_imag_list, 'o--', label=plot_label)\n",
    "    plt.plot(raw_z_real_list, raw_z_inv_imag_list, color='blue', marker='o', linestyle='--', linewidth=1, markersize=6, label='Raw')\n",
    "\n",
    "    # plt.plot(fitted_z_real_list, fitted_z_inv_imag_list, 'o--', label=plot_label)\n",
    "    plt.plot(fitted_z_real_list, fitted_z_inv_imag_list, color='red', marker='^', linestyle='-.', linewidth=1, markersize=6, label='Fitted')\n",
    "\n",
    "    plt.xlim(x_lim)\n",
    "    plt.ylim(y_lim)\n",
    "    plt.xlabel('Z$_{real}$ [$\\Omega$]')\n",
    "    plt.ylabel('-Z$_{imag}$ [$\\Omega$]')\n",
    "    plt.legend()\n",
    "    plt.show()"
   ]
  },
  {
   "cell_type": "markdown",
   "metadata": {},
   "source": [
    "## Read all the normed-EIS(raw-EIS * sample_area) data"
   ]
  },
  {
   "cell_type": "code",
   "execution_count": 7,
   "metadata": {
    "ExecuteTime": {
     "end_time": "2020-05-18T08:51:45.680076Z",
     "start_time": "2020-05-18T08:51:45.671163Z"
    },
    "code_folding": []
   },
   "outputs": [],
   "source": [
    "import os\n",
    "\"\"\"\n",
    "本模块中的函数主要用于解析Lai的EIS原始数据\n",
    "\"\"\"\n",
    "def read_raw_lai_eis(folder):\n",
    "    \"\"\"\n",
    "    function\n",
    "        主要读取文件夹中的所有EIS实验文件\n",
    "    :param\n",
    "        folder\n",
    "            default: prj\\datasets\\experiement_data\\lai\\eis\\exp_data_txt\n",
    "    :return:\n",
    "        以文件名为key，value:{‘fre’:fre_list, 'z':z_list(complex)}的字典\n",
    "    \"\"\"\n",
    "    raw_eis_dict = {}\n",
    "    filenames = os.listdir(folder)\n",
    "    for fn in filenames:\n",
    "        key = fn.split('.')[0]\n",
    "        file_path = os.path.join(folder, fn)\n",
    "        fre_list = []\n",
    "        z_list = []\n",
    "        with open(file_path, 'r') as file:\n",
    "            for line in file.readlines():\n",
    "                line_str_list = line.strip().split('\\t')\n",
    "                fre = float(line_str_list[0])\n",
    "                z = float(line_str_list[1]) + float(line_str_list[-1]) * 1j\n",
    "                fre_list.append(fre)\n",
    "                z_list.append(z)\n",
    "        raw_eis_dict[key] = {'fre':fre_list, 'z':z_list}\n",
    "    return raw_eis_dict\n",
    "\n",
    "def normed_lai_eis(folder, sample_area = 1.01 * 1e-6):\n",
    "    \"\"\"\n",
    "    function\n",
    "        将raw-EIS数据 乘以 实验区域面积 得到 单位面积（cm * cm）上的阻抗数据\n",
    "    :param\n",
    "        folder:\n",
    "        sample_area: 1.01 * 1e-6 cm^2\n",
    "    :return:\n",
    "    \"\"\"\n",
    "    raw_eis_dict = read_raw_lai_eis(folder)\n",
    "    normed_eis_dict = {}\n",
    "    for k in raw_eis_dict.keys():\n",
    "        normed_eis_dict[k] = {'fre': raw_eis_dict, 'z':[z * sample_area for z in raw_eis_dict[k]['z']]}\n",
    "    return normed_eis_dict"
   ]
  },
  {
   "cell_type": "code",
   "execution_count": 8,
   "metadata": {
    "ExecuteTime": {
     "end_time": "2020-05-18T08:53:13.720827Z",
     "start_time": "2020-05-18T08:53:13.643063Z"
    }
   },
   "outputs": [],
   "source": [
    "normed_eis_dict = normed_lai_eis(folder='../../../datasets/experiement_data/lai/eis/exp_data_txt')"
   ]
  },
  {
   "cell_type": "markdown",
   "metadata": {},
   "source": [
    "# Exam Lai's raw and fitted-EIS results"
   ]
  },
  {
   "cell_type": "markdown",
   "metadata": {},
   "source": [
    "## Group-1"
   ]
  },
  {
   "cell_type": "markdown",
   "metadata": {},
   "source": [
    "### 1-1 ECM-9"
   ]
  },
  {
   "cell_type": "code",
   "execution_count": 44,
   "metadata": {
    "ExecuteTime": {
     "end_time": "2020-05-18T10:08:35.984085Z",
     "start_time": "2020-05-18T10:08:35.979417Z"
    }
   },
   "outputs": [],
   "source": [
    "z_1_1_normed_list = normed_eis_dict['1-1']['z']"
   ]
  },
  {
   "cell_type": "code",
   "execution_count": 45,
   "metadata": {
    "ExecuteTime": {
     "end_time": "2020-05-18T10:08:36.605747Z",
     "start_time": "2020-05-18T10:08:36.601720Z"
    }
   },
   "outputs": [],
   "source": [
    "R0 = 0.003457\n",
    "Q0_pair = [0.0005343, 0.898]\n",
    "R1 = 103.2\n",
    "Q1_pair = [0.001162, 0.737]\n",
    "R2 = 3593\n",
    "z_1_1_fit_list = [RaQaRaQRbbb(w, R0, Q0_pair, R1, Q1_pair, R2) for w in w_list]"
   ]
  },
  {
   "cell_type": "code",
   "execution_count": 46,
   "metadata": {
    "ExecuteTime": {
     "end_time": "2020-05-18T10:08:37.308182Z",
     "start_time": "2020-05-18T10:08:37.180594Z"
    }
   },
   "outputs": [
    {
     "data": {
      "image/png": "[encoded data removed]",
      "text/plain": [
       "<Figure size 432x288 with 1 Axes>"
      ]
     },
     "metadata": {
      "needs_background": "light"
     },
     "output_type": "display_data"
    }
   ],
   "source": [
    "raw_fitted_nyquist_plot(raw_z_list = z_1_1_normed_list, fitted_z_list = z_1_1_fit_list,\\\n",
    "                        x_lim=[-50, 500], y_lim=[-50, 800])"
   ]
  },
  {
   "cell_type": "code",
   "execution_count": 50,
   "metadata": {
    "ExecuteTime": {
     "end_time": "2020-05-18T10:09:38.852069Z",
     "start_time": "2020-05-18T10:09:38.715391Z"
    }
   },
   "outputs": [
    {
     "data": {
      "image/png": "[encoded data removed]",
      "text/plain": [
       "<Figure size 432x288 with 1 Axes>"
      ]
     },
     "metadata": {
      "needs_background": "light"
     },
     "output_type": "display_data"
    }
   ],
   "source": [
    "raw_fitted_nyquist_plot(raw_z_list = z_1_1_normed_list, fitted_z_list = z_1_1_fit_list,\\\n",
    "                        x_lim=[-5, 40], y_lim=[-5, 60])"
   ]
  },
  {
   "cell_type": "markdown",
   "metadata": {},
   "source": [
    "### 1-2 ECM-9"
   ]
  },
  {
   "cell_type": "code",
   "execution_count": 51,
   "metadata": {
    "ExecuteTime": {
     "end_time": "2020-05-18T10:22:33.384789Z",
     "start_time": "2020-05-18T10:22:33.250680Z"
    },
    "scrolled": true
   },
   "outputs": [
    {
     "data": {
      "image/png": "[encoded data removed]",
      "text/plain": [
       "<Figure size 432x288 with 1 Axes>"
      ]
     },
     "metadata": {
      "needs_background": "light"
     },
     "output_type": "display_data"
    }
   ],
   "source": [
    "z_1_2_normed_list = normed_eis_dict['1-2']['z']\n",
    "R0 = 0.006298\n",
    "Q0_pair = [0.000397, 0.9433]\n",
    "R1 = 0.07029\n",
    "Q1_pair = [0.001723, 0.8321]\n",
    "R2 = 823.9\n",
    "z_1_2_fit_list = [RaQaRaQRbbb(w, R0, Q0_pair, R1, Q1_pair, R2) for w in w_list]\n",
    "raw_fitted_nyquist_plot(raw_z_list = z_1_2_normed_list, fitted_z_list = z_1_2_fit_list, x_lim=[-50, 500], y_lim=[-50, 800])"
   ]
  },
  {
   "cell_type": "code",
   "execution_count": 57,
   "metadata": {
    "ExecuteTime": {
     "end_time": "2020-05-18T10:25:02.131893Z",
     "start_time": "2020-05-18T10:25:02.005363Z"
    }
   },
   "outputs": [
    {
     "data": {
      "image/png": "[encoded data removed]",
      "text/plain": [
       "<Figure size 432x288 with 1 Axes>"
      ]
     },
     "metadata": {
      "needs_background": "light"
     },
     "output_type": "display_data"
    }
   ],
   "source": [
    "raw_fitted_nyquist_plot(raw_z_list = z_1_2_normed_list, fitted_z_list = z_1_2_fit_list, x_lim=[-0.05, 0.2], y_lim=[-0.05, 0.2])"
   ]
  },
  {
   "cell_type": "markdown",
   "metadata": {},
   "source": [
    "## Group-2"
   ]
  },
  {
   "cell_type": "markdown",
   "metadata": {},
   "source": [
    "### 2-15 ECM-2"
   ]
  },
  {
   "cell_type": "code",
   "execution_count": 23,
   "metadata": {
    "ExecuteTime": {
     "end_time": "2020-05-18T09:29:20.475901Z",
     "start_time": "2020-05-18T09:29:20.471877Z"
    }
   },
   "outputs": [],
   "source": [
    "z_2_15_normed_list = normed_eis_dict['2-15']['z']"
   ]
  },
  {
   "cell_type": "code",
   "execution_count": 25,
   "metadata": {
    "ExecuteTime": {
     "end_time": "2020-05-18T09:32:45.818849Z",
     "start_time": "2020-05-18T09:32:45.812478Z"
    }
   },
   "outputs": [],
   "source": [
    "R0 = 0.02232\n",
    "Q0_pair = [0.01353, 0.5403]\n",
    "R1 = 0.1453\n",
    "Q1_pair = [0.1365, 0.6659]\n",
    "R2 = 6.537\n",
    "z_2_15_fit_list = [RaQRbaQRb(w, R0, Q0_pair, R1, Q1_pair, R2) for w in w_list]"
   ]
  },
  {
   "cell_type": "code",
   "execution_count": 32,
   "metadata": {
    "ExecuteTime": {
     "end_time": "2020-05-18T09:34:32.410865Z",
     "start_time": "2020-05-18T09:34:32.279948Z"
    }
   },
   "outputs": [
    {
     "data": {
      "image/png": "[encoded data removed]",
      "text/plain": [
       "<Figure size 432x288 with 1 Axes>"
      ]
     },
     "metadata": {
      "needs_background": "light"
     },
     "output_type": "display_data"
    }
   ],
   "source": [
    "raw_fitted_nyquist_plot(raw_z_list = z_2_15_normed_list, fitted_z_list = z_2_15_fit_list, x_lim=[-0.1, 4.2], y_lim=[-0.1, 2.5])"
   ]
  },
  {
   "cell_type": "code",
   "execution_count": 36,
   "metadata": {
    "ExecuteTime": {
     "end_time": "2020-05-18T09:37:08.941508Z",
     "start_time": "2020-05-18T09:37:08.802991Z"
    }
   },
   "outputs": [
    {
     "data": {
      "image/png": "[encoded data removed]",
      "text/plain": [
       "<Figure size 432x288 with 1 Axes>"
      ]
     },
     "metadata": {
      "needs_background": "light"
     },
     "output_type": "display_data"
    }
   ],
   "source": [
    "raw_fitted_nyquist_plot(raw_z_list = z_2_15_normed_list, fitted_z_list = z_2_15_fit_list, x_lim=[-0.0, 0.3], y_lim=[-0.1, 0.3])"
   ]
  },
  {
   "cell_type": "code",
   "execution_count": null,
   "metadata": {},
   "outputs": [],
   "source": []
  },
  {
   "cell_type": "code",
   "execution_count": null,
   "metadata": {},
   "outputs": [],
   "source": []
  },
  {
   "cell_type": "code",
   "execution_count": null,
   "metadata": {},
   "outputs": [],
   "source": []
  },
  {
   "cell_type": "code",
   "execution_count": null,
   "metadata": {},
   "outputs": [],
   "source": []
  },
  {
   "cell_type": "code",
   "execution_count": null,
   "metadata": {},
   "outputs": [],
   "source": []
  },
  {
   "cell_type": "code",
   "execution_count": null,
   "metadata": {},
   "outputs": [],
   "source": []
  },
  {
   "cell_type": "code",
   "execution_count": null,
   "metadata": {},
   "outputs": [],
   "source": []
  },
  {
   "cell_type": "code",
   "execution_count": null,
   "metadata": {},
   "outputs": [],
   "source": []
  },
  {
   "cell_type": "code",
   "execution_count": null,
   "metadata": {},
   "outputs": [],
   "source": []
  },
  {
   "cell_type": "code",
   "execution_count": null,
   "metadata": {},
   "outputs": [],
   "source": []
  },
  {
   "cell_type": "code",
   "execution_count": null,
   "metadata": {},
   "outputs": [],
   "source": []
  }
 ],
 "metadata": {
  "kernelspec": {
   "display_name": "Python 3",
   "language": "python",
   "name": "python3"
  },
  "language_info": {
   "codemirror_mode": {
    "name": "ipython",
    "version": 3
   },
   "file_extension": ".py",
   "mimetype": "text/x-python",
   "name": "python",
   "nbconvert_exporter": "python",
   "pygments_lexer": "ipython3",
   "version": "3.8.2"
  },
  "toc": {
   "base_numbering": 1,
   "nav_menu": {},
   "number_sections": true,
   "sideBar": true,
   "skip_h1_title": false,
   "title_cell": "Table of Contents",
   "title_sidebar": "Contents",
   "toc_cell": false,
   "toc_position": {
    "height": "569.6px",
    "left": "24px",
    "top": "51.2px",
    "width": "218px"
   },
   "toc_section_display": true,
   "toc_window_display": true
  },
  "varInspector": {
   "cols": {
    "lenName": 16,
    "lenType": 16,
    "lenVar": 40
   },
   "kernels_config": {
    "python": {
     "delete_cmd_postfix": "",
     "delete_cmd_prefix": "del ",
     "library": "var_list.py",
     "varRefreshCmd": "print(var_dic_list())"
    },
    "r": {
     "delete_cmd_postfix": ") ",
     "delete_cmd_prefix": "rm(",
     "library": "var_list.r",
     "varRefreshCmd": "cat(var_dic_list()) "
    }
   },
   "types_to_exclude": [
    "module",
    "function",
    "builtin_function_or_method",
    "instance",
    "_Feature"
   ],
   "window_display": false
  }
 },
 "nbformat": 4,
 "nbformat_minor": 4
}
