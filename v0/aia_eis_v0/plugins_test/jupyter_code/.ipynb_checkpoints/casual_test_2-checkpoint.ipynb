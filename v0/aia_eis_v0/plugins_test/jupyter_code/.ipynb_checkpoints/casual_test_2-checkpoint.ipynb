{
 "cells": [
  {
   "cell_type": "code",
   "execution_count": 3,
   "metadata": {
    "ExecuteTime": {
     "end_time": "2020-06-25T09:24:06.248631Z",
     "start_time": "2020-06-25T09:24:05.989050Z"
    }
   },
   "outputs": [],
   "source": [
    "import numpy as np\n",
    "import pandas as pd\n",
    "\n",
    "data_arr = np.array([[1, 2, 3], [4, 5, 6], [7, 8, 9]])\n",
    "col_names = ['a', 'b', 'c']\n",
    "df = pd.DataFrame(data=data_arr, columns=col_names)"
   ]
  },
  {
   "cell_type": "code",
   "execution_count": 4,
   "metadata": {
    "ExecuteTime": {
     "end_time": "2020-06-25T09:24:18.598334Z",
     "start_time": "2020-06-25T09:24:18.585901Z"
    }
   },
   "outputs": [
    {
     "data": {
      "text/html": [
       "<div>\n",
       "<style scoped>\n",
       "    .dataframe tbody tr th:only-of-type {\n",
       "        vertical-align: middle;\n",
       "    }\n",
       "\n",
       "    .dataframe tbody tr th {\n",
       "        vertical-align: top;\n",
       "    }\n",
       "\n",
       "    .dataframe thead th {\n",
       "        text-align: right;\n",
       "    }\n",
       "</style>\n",
       "<table border=\"1\" class=\"dataframe\">\n",
       "  <thead>\n",
       "    <tr style=\"text-align: right;\">\n",
       "      <th></th>\n",
       "      <th>a</th>\n",
       "      <th>b</th>\n",
       "      <th>c</th>\n",
       "    </tr>\n",
       "  </thead>\n",
       "  <tbody>\n",
       "    <tr>\n",
       "      <th>0</th>\n",
       "      <td>1</td>\n",
       "      <td>2</td>\n",
       "      <td>3</td>\n",
       "    </tr>\n",
       "    <tr>\n",
       "      <th>1</th>\n",
       "      <td>4</td>\n",
       "      <td>5</td>\n",
       "      <td>6</td>\n",
       "    </tr>\n",
       "    <tr>\n",
       "      <th>2</th>\n",
       "      <td>7</td>\n",
       "      <td>8</td>\n",
       "      <td>9</td>\n",
       "    </tr>\n",
       "  </tbody>\n",
       "</table>\n",
       "</div>"
      ],
      "text/plain": [
       "   a  b  c\n",
       "0  1  2  3\n",
       "1  4  5  6\n",
       "2  7  8  9"
      ]
     },
     "execution_count": 4,
     "metadata": {},
     "output_type": "execute_result"
    }
   ],
   "source": [
    "df.head()"
   ]
  },
  {
   "cell_type": "code",
   "execution_count": 7,
   "metadata": {
    "ExecuteTime": {
     "end_time": "2020-06-25T09:25:21.872962Z",
     "start_time": "2020-06-25T09:25:21.869961Z"
    }
   },
   "outputs": [
    {
     "data": {
      "text/plain": [
       "1"
      ]
     },
     "execution_count": 7,
     "metadata": {},
     "output_type": "execute_result"
    }
   ],
   "source": [
    "df.iat[0,0]"
   ]
  },
  {
   "cell_type": "code",
   "execution_count": 8,
   "metadata": {
    "ExecuteTime": {
     "end_time": "2020-06-25T09:25:36.640104Z",
     "start_time": "2020-06-25T09:25:36.637104Z"
    }
   },
   "outputs": [
    {
     "data": {
      "text/plain": [
       "numpy.int32"
      ]
     },
     "execution_count": 8,
     "metadata": {},
     "output_type": "execute_result"
    }
   ],
   "source": [
    "type(df.iat[0,0])"
   ]
  },
  {
   "cell_type": "code",
   "execution_count": 9,
   "metadata": {
    "ExecuteTime": {
     "end_time": "2020-06-25T15:54:20.660076Z",
     "start_time": "2020-06-25T15:54:20.656072Z"
    }
   },
   "outputs": [
    {
     "data": {
      "text/plain": [
       "7"
      ]
     },
     "execution_count": 9,
     "metadata": {},
     "output_type": "execute_result"
    }
   ],
   "source": [
    "df['a'].max()"
   ]
  },
  {
   "cell_type": "code",
   "execution_count": null,
   "metadata": {},
   "outputs": [],
   "source": [
    "df['a'].min()"
   ]
  },
  {
   "cell_type": "code",
   "execution_count": null,
   "metadata": {},
   "outputs": [],
   "source": []
  },
  {
   "cell_type": "code",
   "execution_count": null,
   "metadata": {},
   "outputs": [],
   "source": []
  },
  {
   "cell_type": "code",
   "execution_count": 2,
   "metadata": {
    "ExecuteTime": {
     "end_time": "2020-06-24T02:51:48.751715Z",
     "start_time": "2020-06-24T02:51:48.745713Z"
    }
   },
   "outputs": [
    {
     "data": {
      "text/plain": [
       "[0, 1, 2, 3, 4, 5, 6, 7, 8]"
      ]
     },
     "execution_count": 2,
     "metadata": {},
     "output_type": "execute_result"
    }
   ],
   "source": [
    "a[:-1]"
   ]
  },
  {
   "cell_type": "code",
   "execution_count": 1,
   "metadata": {
    "ExecuteTime": {
     "end_time": "2020-06-24T02:51:43.217350Z",
     "start_time": "2020-06-24T02:51:43.214845Z"
    }
   },
   "outputs": [],
   "source": [
    "a  = list(range(10))"
   ]
  },
  {
   "cell_type": "code",
   "execution_count": 1,
   "metadata": {
    "ExecuteTime": {
     "end_time": "2020-06-23T15:24:29.694863Z",
     "start_time": "2020-06-23T15:24:29.552777Z"
    }
   },
   "outputs": [
    {
     "ename": "TypeError",
     "evalue": "sequence item 0: expected str instance, int found",
     "output_type": "error",
     "traceback": [
      "\u001b[1;31m---------------------------------------------------------------------------\u001b[0m",
      "\u001b[1;31mTypeError\u001b[0m                                 Traceback (most recent call last)",
      "\u001b[1;32m<ipython-input-1-4b2749885d4c>\u001b[0m in \u001b[0;36m<module>\u001b[1;34m\u001b[0m\n\u001b[1;32m----> 1\u001b[1;33m \u001b[1;34m','\u001b[0m\u001b[1;33m.\u001b[0m\u001b[0mjoin\u001b[0m\u001b[1;33m(\u001b[0m\u001b[1;33m[\u001b[0m\u001b[1;36m1\u001b[0m\u001b[1;33m,\u001b[0m\u001b[1;36m2\u001b[0m\u001b[1;33m]\u001b[0m\u001b[1;33m)\u001b[0m\u001b[1;33m\u001b[0m\u001b[1;33m\u001b[0m\u001b[0m\n\u001b[0m",
      "\u001b[1;31mTypeError\u001b[0m: sequence item 0: expected str instance, int found"
     ]
    }
   ],
   "source": [
    "','.join([1,2])"
   ]
  },
  {
   "cell_type": "code",
   "execution_count": 89,
   "metadata": {
    "ExecuteTime": {
     "end_time": "2020-06-21T08:24:07.842322Z",
     "start_time": "2020-06-21T08:24:07.838321Z"
    }
   },
   "outputs": [
    {
     "data": {
      "text/plain": [
       "mpf('-1.3057974394695485e-4253992')"
      ]
     },
     "execution_count": 89,
     "metadata": {},
     "output_type": "execute_result"
    }
   ],
   "source": [
    "c.imag"
   ]
  },
  {
   "cell_type": "code",
   "execution_count": 88,
   "metadata": {
    "ExecuteTime": {
     "end_time": "2020-06-21T08:23:55.370809Z",
     "start_time": "2020-06-21T08:23:55.367808Z"
    }
   },
   "outputs": [
    {
     "data": {
      "text/plain": [
       "mpf('1.0')"
      ]
     },
     "execution_count": 88,
     "metadata": {},
     "output_type": "execute_result"
    }
   ],
   "source": [
    "c.real"
   ]
  },
  {
   "cell_type": "code",
   "execution_count": 87,
   "metadata": {
    "ExecuteTime": {
     "end_time": "2020-06-21T08:23:48.719111Z",
     "start_time": "2020-06-21T08:23:48.715189Z"
    }
   },
   "outputs": [
    {
     "name": "stdout",
     "output_type": "stream",
     "text": [
      "(4897589.307396488+15073229.983219722j) is too big to be handled\n",
      "Mpmath coth: (1.0 - 1.30579743946955e-4253992j)\n"
     ]
    }
   ],
   "source": [
    "a = 1000000000\n",
    "z = (1j * a) ** 0.8\n",
    "c = t(z)"
   ]
  },
  {
   "cell_type": "code",
   "execution_count": 82,
   "metadata": {
    "ExecuteTime": {
     "end_time": "2020-06-21T08:19:12.680757Z",
     "start_time": "2020-06-21T08:19:12.677756Z"
    }
   },
   "outputs": [
    {
     "name": "stdout",
     "output_type": "stream",
     "text": [
      "(22360.679774997898+22360.679774997898j) is too big to be handled\n",
      "Mpmath coth: (1.0 + 8.1662137743141e-19423j)\n"
     ]
    }
   ],
   "source": [
    "a = 1000000000\n",
    "z = (1j * a) ** 0.5\n",
    "t(z)"
   ]
  },
  {
   "cell_type": "code",
   "execution_count": 78,
   "metadata": {
    "ExecuteTime": {
     "end_time": "2020-06-21T08:18:21.194014Z",
     "start_time": "2020-06-21T08:18:21.190712Z"
    }
   },
   "outputs": [
    {
     "name": "stdout",
     "output_type": "stream",
     "text": [
      "My coth: (1-5.819910607951597e-17j)\n",
      "Mpmath coth: (1.0 - 4.03837422388002e-34j)\n"
     ]
    }
   ],
   "source": [
    "a = 3000\n",
    "z = (1j * a) ** 0.5\n",
    "t(z)"
   ]
  },
  {
   "cell_type": "code",
   "execution_count": 77,
   "metadata": {
    "ExecuteTime": {
     "end_time": "2020-06-21T08:18:13.346192Z",
     "start_time": "2020-06-21T08:18:13.343192Z"
    }
   },
   "outputs": [
    {
     "name": "stdout",
     "output_type": "stream",
     "text": [
      "My coth: (1.0000000000369789+2.7408613444045012e-11j)\n",
      "Mpmath coth: (1.00000000003698 + 2.74086180441298e-11j)\n"
     ]
    }
   ],
   "source": [
    "a = 300\n",
    "z = (1j * a) ** 0.5\n",
    "t(z)"
   ]
  },
  {
   "cell_type": "code",
   "execution_count": 76,
   "metadata": {
    "ExecuteTime": {
     "end_time": "2020-06-21T08:18:05.471351Z",
     "start_time": "2020-06-21T08:18:05.467190Z"
    }
   },
   "outputs": [
    {
     "name": "stdout",
     "output_type": "stream",
     "text": [
      "My coth: (0.9999999928306292-1.4426904864358586e-06j)\n",
      "Mpmath coth: (0.999999992830629 - 1.44269048643586e-6j)\n"
     ]
    }
   ],
   "source": [
    "a = 100\n",
    "z = (1j * a) ** 0.5\n",
    "t(z)"
   ]
  },
  {
   "cell_type": "code",
   "execution_count": 75,
   "metadata": {
    "ExecuteTime": {
     "end_time": "2020-06-21T08:15:08.204503Z",
     "start_time": "2020-06-21T08:15:08.201502Z"
    }
   },
   "outputs": [
    {
     "name": "stdout",
     "output_type": "stream",
     "text": [
      "(10000+10000j) is too big to be handled\n",
      "Mpmath coth: (1.0 - 1.50073338672507e-8686j)\n"
     ]
    }
   ],
   "source": [
    "a = 10000\n",
    "z = a + a * 1j\n",
    "t(z)"
   ]
  },
  {
   "cell_type": "code",
   "execution_count": 73,
   "metadata": {
    "ExecuteTime": {
     "end_time": "2020-06-21T08:14:28.839976Z",
     "start_time": "2020-06-21T08:14:28.836975Z"
    }
   },
   "outputs": [
    {
     "name": "stdout",
     "output_type": "stream",
     "text": [
      "My coth: (1-0j)\n",
      "Mpmath coth: (1.0 - 2.34202017524176e-262j)\n"
     ]
    }
   ],
   "source": [
    "a = 300\n",
    "z = a + a * 1j\n",
    "t(z)"
   ]
  },
  {
   "cell_type": "code",
   "execution_count": 72,
   "metadata": {
    "ExecuteTime": {
     "end_time": "2020-06-21T08:13:58.052439Z",
     "start_time": "2020-06-21T08:13:58.049437Z"
    }
   },
   "outputs": [
    {
     "name": "stdout",
     "output_type": "stream",
     "text": [
      "My coth: (1-0j)\n",
      "Mpmath coth: (1.0 + 2.41710619284605e-87j)\n"
     ]
    }
   ],
   "source": [
    "a = 100\n",
    "z = a + a * 1j\n",
    "t(z)"
   ]
  },
  {
   "cell_type": "code",
   "execution_count": 71,
   "metadata": {
    "ExecuteTime": {
     "end_time": "2020-06-21T08:13:17.983507Z",
     "start_time": "2020-06-21T08:13:17.981001Z"
    }
   },
   "outputs": [
    {
     "name": "stdout",
     "output_type": "stream",
     "text": [
      "200000000 is too big to be handled\n",
      "Mpmath coth: 1.0\n"
     ]
    }
   ],
   "source": [
    "t(200000000)"
   ]
  },
  {
   "cell_type": "code",
   "execution_count": 67,
   "metadata": {
    "ExecuteTime": {
     "end_time": "2020-06-21T08:12:55.753941Z",
     "start_time": "2020-06-21T08:12:55.750941Z"
    }
   },
   "outputs": [
    {
     "name": "stdout",
     "output_type": "stream",
     "text": [
      "500 is too big to be handled\n",
      "Mpmath coth: 1.0\n"
     ]
    }
   ],
   "source": [
    "t(500)"
   ]
  },
  {
   "cell_type": "code",
   "execution_count": 64,
   "metadata": {
    "ExecuteTime": {
     "end_time": "2020-06-21T08:11:57.265844Z",
     "start_time": "2020-06-21T08:11:57.262842Z"
    }
   },
   "outputs": [
    {
     "name": "stdout",
     "output_type": "stream",
     "text": [
      "My coth: 1.0\n",
      "Mpmath coth: 1.0\n"
     ]
    }
   ],
   "source": [
    "t(300)"
   ]
  },
  {
   "cell_type": "code",
   "execution_count": 63,
   "metadata": {
    "ExecuteTime": {
     "end_time": "2020-06-21T08:11:33.533987Z",
     "start_time": "2020-06-21T08:11:33.530986Z"
    }
   },
   "outputs": [
    {
     "name": "stdout",
     "output_type": "stream",
     "text": [
      "My coth: 1.0\n",
      "Mpmath coth: 1.0\n"
     ]
    }
   ],
   "source": [
    "t(100)"
   ]
  },
  {
   "cell_type": "code",
   "execution_count": 85,
   "metadata": {
    "ExecuteTime": {
     "end_time": "2020-06-21T08:23:39.256533Z",
     "start_time": "2020-06-21T08:23:39.252999Z"
    }
   },
   "outputs": [],
   "source": [
    "def t(z):\n",
    "    try:\n",
    "        print('My coth:', coth(z))\n",
    "    except OverflowError as e:\n",
    "        print(z,'is too big to be handled')\n",
    "    print('Mpmath coth:', mp.coth(z))\n",
    "    return mp.coth(z)"
   ]
  },
  {
   "cell_type": "code",
   "execution_count": 59,
   "metadata": {
    "ExecuteTime": {
     "end_time": "2020-06-21T08:08:32.725888Z",
     "start_time": "2020-06-21T08:08:32.721845Z"
    }
   },
   "outputs": [],
   "source": [
    "def coth(z):\n",
    "    c = (math.e ** (2 * z) + 1) / (math.e ** (2 * z) - 1)\n",
    "    return c"
   ]
  },
  {
   "cell_type": "code",
   "execution_count": 58,
   "metadata": {
    "ExecuteTime": {
     "end_time": "2020-06-21T07:52:03.370865Z",
     "start_time": "2020-06-21T07:52:03.341860Z"
    }
   },
   "outputs": [],
   "source": [
    "import mpmath as mp\n",
    "mp.coth?"
   ]
  },
  {
   "cell_type": "code",
   "execution_count": 35,
   "metadata": {
    "ExecuteTime": {
     "end_time": "2020-06-20T15:34:17.703665Z",
     "start_time": "2020-06-20T15:34:17.700664Z"
    }
   },
   "outputs": [
    {
     "data": {
      "text/plain": [
       "(0.5403023058681398+0.8414709848078965j)"
      ]
     },
     "execution_count": 35,
     "metadata": {},
     "output_type": "execute_result"
    }
   ],
   "source": [
    "math.e ** 1j"
   ]
  },
  {
   "cell_type": "code",
   "execution_count": 34,
   "metadata": {
    "ExecuteTime": {
     "end_time": "2020-06-20T15:31:37.393361Z",
     "start_time": "2020-06-20T15:31:37.164271Z"
    }
   },
   "outputs": [
    {
     "data": {
      "image/png": "[encoded data removed]",
      "text/plain": [
       "<Figure size 432x288 with 1 Axes>"
      ]
     },
     "metadata": {
      "needs_background": "light"
     },
     "output_type": "display_data"
    }
   ],
   "source": [
    "q = [i / 100.0 for i in range(100)]\n",
    "z = [(1j) ** i for i in q]\n",
    "z_real_list = [i.real for i in z]\n",
    "z_imag_list = [i.imag for i in z]\n",
    "\n",
    "import matplotlib.pyplot as plt\n",
    "fig, ax = plt.subplots()\n",
    "line1, = ax.plot(q, z_real_list, label='Real part')\n",
    "line1.set_dashes([2, 2, 10, 2])  # 2pt line, 2pt break, 10pt line, 2pt break\n",
    "\n",
    "line2, = ax.plot(q, z_imag_list, label='Imag part')\n",
    "line2.set_dashes([2, 2, 10, 2])  # 2pt line, 2pt break, 10pt line, 2pt break\n",
    "ax.legend()\n",
    "plt.xlabel('power exponent')\n",
    "plt.ylabel('')\n",
    "plt.title('')\n",
    "plt.show()"
   ]
  },
  {
   "cell_type": "code",
   "execution_count": 44,
   "metadata": {
    "ExecuteTime": {
     "end_time": "2020-06-20T15:46:35.511263Z",
     "start_time": "2020-06-20T15:46:35.417719Z"
    }
   },
   "outputs": [
    {
     "data": {
      "image/png": "[encoded data removed]",
      "text/plain": [
       "<Figure size 432x288 with 1 Axes>"
      ]
     },
     "metadata": {
      "needs_background": "light"
     },
     "output_type": "display_data"
    }
   ],
   "source": [
    "e_z = [math.e ** i for i in z]\n",
    "e_z_real_list = [i.real for i in e_z]\n",
    "e_z_imag_list = [i.imag for i in e_z]\n",
    "\n",
    "import matplotlib.pyplot as plt\n",
    "fig, ax = plt.subplots()\n",
    "line1, = ax.plot(q, e_z_real_list, label='Real part')\n",
    "line1.set_dashes([2, 2, 10, 2])  # 2pt line, 2pt break, 10pt line, 2pt break\n",
    "\n",
    "line2, = ax.plot(q, e_z_imag_list, label='Imag part')\n",
    "line2.set_dashes([2, 2, 10, 2])  # 2pt line, 2pt break, 10pt line, 2pt break\n",
    "ax.legend()\n",
    "plt.xlabel('power exponent')\n",
    "plt.ylabel('')\n",
    "plt.title('')\n",
    "plt.show()"
   ]
  },
  {
   "cell_type": "code",
   "execution_count": 27,
   "metadata": {
    "ExecuteTime": {
     "end_time": "2020-06-20T14:46:30.825871Z",
     "start_time": "2020-06-20T14:46:30.822346Z"
    }
   },
   "outputs": [
    {
     "data": {
      "text/plain": [
       "-6.565608656815825e+216"
      ]
     },
     "execution_count": 27,
     "metadata": {},
     "output_type": "execute_result"
    }
   ],
   "source": [
    "c.imag"
   ]
  },
  {
   "cell_type": "code",
   "execution_count": 26,
   "metadata": {
    "ExecuteTime": {
     "end_time": "2020-06-20T14:46:20.637161Z",
     "start_time": "2020-06-20T14:46:20.633161Z"
    }
   },
   "outputs": [
    {
     "data": {
      "text/plain": [
       "-1.2405639619432742e+217"
      ]
     },
     "execution_count": 26,
     "metadata": {},
     "output_type": "execute_result"
    }
   ],
   "source": [
    "c.real"
   ]
  },
  {
   "cell_type": "code",
   "execution_count": 25,
   "metadata": {
    "ExecuteTime": {
     "end_time": "2020-06-20T14:46:08.731848Z",
     "start_time": "2020-06-20T14:46:08.728871Z"
    }
   },
   "outputs": [
    {
     "data": {
      "text/plain": [
       "(-1.2405639619432742e+217-6.565608656815825e+216j)"
      ]
     },
     "execution_count": 25,
     "metadata": {},
     "output_type": "execute_result"
    }
   ],
   "source": [
    "c = math.e ** (500 + 500j)\n",
    "c"
   ]
  },
  {
   "cell_type": "code",
   "execution_count": 40,
   "metadata": {
    "ExecuteTime": {
     "end_time": "2020-06-20T15:37:46.031876Z",
     "start_time": "2020-06-20T15:37:46.028875Z"
    }
   },
   "outputs": [
    {
     "data": {
      "text/plain": [
       "(-1.2405639619432742e+217-6.565608656815825e+216j)"
      ]
     },
     "execution_count": 40,
     "metadata": {},
     "output_type": "execute_result"
    }
   ],
   "source": [
    "(math.e ** 500) * (math.e ** 500j)"
   ]
  },
  {
   "cell_type": "code",
   "execution_count": 43,
   "metadata": {
    "ExecuteTime": {
     "end_time": "2020-06-20T15:38:16.469685Z",
     "start_time": "2020-06-20T15:38:16.464685Z"
    }
   },
   "outputs": [
    {
     "data": {
      "text/plain": [
       "3.7730203009298195e+260"
      ]
     },
     "execution_count": 43,
     "metadata": {},
     "output_type": "execute_result"
    }
   ],
   "source": [
    "math.e ** 600"
   ]
  },
  {
   "cell_type": "code",
   "execution_count": 53,
   "metadata": {
    "ExecuteTime": {
     "end_time": "2020-06-20T16:22:13.600503Z",
     "start_time": "2020-06-20T16:22:13.506623Z"
    }
   },
   "outputs": [
    {
     "data": {
      "image/png": "[encoded data removed]",
      "text/plain": [
       "<Figure size 432x288 with 1 Axes>"
      ]
     },
     "metadata": {
      "needs_background": "light"
     },
     "output_type": "display_data"
    }
   ],
   "source": [
    "iter_num = 100\n",
    "a = [i for i in range(iter_num)]\n",
    "e_a = [math.e ** ((b * 1j) ** 0.5) for b in a]\n",
    "e_a_real_list = [i.real for i in e_a]\n",
    "e_a_imag_list = [i.imag for i in e_a]\n",
    "\n",
    "import matplotlib.pyplot as plt\n",
    "fig, ax = plt.subplots()\n",
    "line1, = ax.plot(a, e_a_real_list, label='Real part')\n",
    "line1.set_dashes([2, 2, 10, 2])  # 2pt line, 2pt break, 10pt line, 2pt break\n",
    "\n",
    "line2, = ax.plot(a, e_a_imag_list, label='Imag part')\n",
    "line2.set_dashes([2, 2, 10, 2])  # 2pt line, 2pt break, 10pt line, 2pt break\n",
    "\n",
    "line3, = ax.plot(a, [0 for i in range(iter_num)], label='y = 0')\n",
    "line3.set_dashes([2, 2, 10, 2])  # 2pt line, 2pt break, 10pt line, 2pt break\n",
    "\n",
    "ax.legend()\n",
    "plt.xlabel('power exponent')\n",
    "plt.ylabel('')\n",
    "plt.title('A = {}'.format(iter_num))\n",
    "plt.show()"
   ]
  },
  {
   "cell_type": "code",
   "execution_count": 54,
   "metadata": {
    "ExecuteTime": {
     "end_time": "2020-06-20T16:22:25.790259Z",
     "start_time": "2020-06-20T16:22:25.691656Z"
    }
   },
   "outputs": [
    {
     "data": {
      "image/png": "[encoded data removed]",
      "text/plain": [
       "<Figure size 432x288 with 1 Axes>"
      ]
     },
     "metadata": {
      "needs_background": "light"
     },
     "output_type": "display_data"
    }
   ],
   "source": [
    "iter_num = 200\n",
    "a = [i for i in range(iter_num)]\n",
    "e_a = [math.e ** ((b * 1j) ** 0.5) for b in a]\n",
    "e_a_real_list = [i.real for i in e_a]\n",
    "e_a_imag_list = [i.imag for i in e_a]\n",
    "\n",
    "import matplotlib.pyplot as plt\n",
    "fig, ax = plt.subplots()\n",
    "line1, = ax.plot(a, e_a_real_list, label='Real part')\n",
    "line1.set_dashes([2, 2, 10, 2])  # 2pt line, 2pt break, 10pt line, 2pt break\n",
    "\n",
    "line2, = ax.plot(a, e_a_imag_list, label='Imag part')\n",
    "line2.set_dashes([2, 2, 10, 2])  # 2pt line, 2pt break, 10pt line, 2pt break\n",
    "\n",
    "line3, = ax.plot(a, [0 for i in range(iter_num)], label='y = 0')\n",
    "line3.set_dashes([2, 2, 10, 2])  # 2pt line, 2pt break, 10pt line, 2pt break\n",
    "\n",
    "ax.legend()\n",
    "plt.xlabel('power exponent')\n",
    "plt.ylabel('')\n",
    "plt.title('A = {}'.format(iter_num))\n",
    "plt.show()"
   ]
  },
  {
   "cell_type": "code",
   "execution_count": 55,
   "metadata": {
    "ExecuteTime": {
     "end_time": "2020-06-20T16:22:42.890078Z",
     "start_time": "2020-06-20T16:22:42.791270Z"
    }
   },
   "outputs": [
    {
     "data": {
      "image/png": "[encoded data removed]",
      "text/plain": [
       "<Figure size 432x288 with 1 Axes>"
      ]
     },
     "metadata": {
      "needs_background": "light"
     },
     "output_type": "display_data"
    }
   ],
   "source": [
    "iter_num = 300\n",
    "a = [i for i in range(iter_num)]\n",
    "e_a = [math.e ** ((b * 1j) ** 0.5) for b in a]\n",
    "e_a_real_list = [i.real for i in e_a]\n",
    "e_a_imag_list = [i.imag for i in e_a]\n",
    "\n",
    "import matplotlib.pyplot as plt\n",
    "fig, ax = plt.subplots()\n",
    "line1, = ax.plot(a, e_a_real_list, label='Real part')\n",
    "line1.set_dashes([2, 2, 10, 2])  # 2pt line, 2pt break, 10pt line, 2pt break\n",
    "\n",
    "line2, = ax.plot(a, e_a_imag_list, label='Imag part')\n",
    "line2.set_dashes([2, 2, 10, 2])  # 2pt line, 2pt break, 10pt line, 2pt break\n",
    "\n",
    "line3, = ax.plot(a, [0 for i in range(iter_num)], label='y = 0')\n",
    "line3.set_dashes([2, 2, 10, 2])  # 2pt line, 2pt break, 10pt line, 2pt break\n",
    "\n",
    "ax.legend()\n",
    "plt.xlabel('power exponent')\n",
    "plt.ylabel('')\n",
    "plt.title('A = {}'.format(iter_num))\n",
    "plt.show()"
   ]
  },
  {
   "cell_type": "code",
   "execution_count": 56,
   "metadata": {
    "ExecuteTime": {
     "end_time": "2020-06-20T16:22:57.000525Z",
     "start_time": "2020-06-20T16:22:56.897220Z"
    }
   },
   "outputs": [
    {
     "data": {
      "image/png": "[encoded data removed]",
      "text/plain": [
       "<Figure size 432x288 with 1 Axes>"
      ]
     },
     "metadata": {
      "needs_background": "light"
     },
     "output_type": "display_data"
    }
   ],
   "source": [
    "iter_num = 400\n",
    "a = [i for i in range(iter_num)]\n",
    "e_a = [math.e ** ((b * 1j) ** 0.5) for b in a]\n",
    "e_a_real_list = [i.real for i in e_a]\n",
    "e_a_imag_list = [i.imag for i in e_a]\n",
    "\n",
    "import matplotlib.pyplot as plt\n",
    "fig, ax = plt.subplots()\n",
    "line1, = ax.plot(a, e_a_real_list, label='Real part')\n",
    "line1.set_dashes([2, 2, 10, 2])  # 2pt line, 2pt break, 10pt line, 2pt break\n",
    "\n",
    "line2, = ax.plot(a, e_a_imag_list, label='Imag part')\n",
    "line2.set_dashes([2, 2, 10, 2])  # 2pt line, 2pt break, 10pt line, 2pt break\n",
    "\n",
    "line3, = ax.plot(a, [0 for i in range(iter_num)], label='y = 0')\n",
    "line3.set_dashes([2, 2, 10, 2])  # 2pt line, 2pt break, 10pt line, 2pt break\n",
    "\n",
    "ax.legend()\n",
    "plt.xlabel('power exponent')\n",
    "plt.ylabel('')\n",
    "plt.title('A = {}'.format(iter_num))\n",
    "plt.show()"
   ]
  },
  {
   "cell_type": "code",
   "execution_count": 57,
   "metadata": {
    "ExecuteTime": {
     "end_time": "2020-06-20T16:23:09.182251Z",
     "start_time": "2020-06-20T16:23:09.090503Z"
    }
   },
   "outputs": [
    {
     "data": {
      "image/png": "[encoded data removed]",
      "text/plain": [
       "<Figure size 432x288 with 1 Axes>"
      ]
     },
     "metadata": {
      "needs_background": "light"
     },
     "output_type": "display_data"
    }
   ],
   "source": [
    "iter_num = 500\n",
    "a = [i for i in range(iter_num)]\n",
    "e_a = [math.e ** ((b * 1j) ** 0.5) for b in a]\n",
    "e_a_real_list = [i.real for i in e_a]\n",
    "e_a_imag_list = [i.imag for i in e_a]\n",
    "\n",
    "import matplotlib.pyplot as plt\n",
    "fig, ax = plt.subplots()\n",
    "line1, = ax.plot(a, e_a_real_list, label='Real part')\n",
    "line1.set_dashes([2, 2, 10, 2])  # 2pt line, 2pt break, 10pt line, 2pt break\n",
    "\n",
    "line2, = ax.plot(a, e_a_imag_list, label='Imag part')\n",
    "line2.set_dashes([2, 2, 10, 2])  # 2pt line, 2pt break, 10pt line, 2pt break\n",
    "\n",
    "line3, = ax.plot(a, [0 for i in range(iter_num)], label='y = 0')\n",
    "line3.set_dashes([2, 2, 10, 2])  # 2pt line, 2pt break, 10pt line, 2pt break\n",
    "\n",
    "ax.legend()\n",
    "plt.xlabel('power exponent')\n",
    "plt.ylabel('')\n",
    "plt.title('A = {}'.format(iter_num))\n",
    "plt.show()"
   ]
  },
  {
   "cell_type": "code",
   "execution_count": 38,
   "metadata": {
    "ExecuteTime": {
     "end_time": "2020-06-20T15:36:12.015852Z",
     "start_time": "2020-06-20T15:36:12.012651Z"
    }
   },
   "outputs": [
    {
     "data": {
      "text/plain": [
       "-4794763309.500756"
      ]
     },
     "execution_count": 38,
     "metadata": {},
     "output_type": "execute_result"
    }
   ],
   "source": [
    "import math\n",
    "b = math.e ** a\n",
    "b.real"
   ]
  },
  {
   "cell_type": "code",
   "execution_count": 36,
   "metadata": {
    "ExecuteTime": {
     "end_time": "2020-06-20T15:36:05.647877Z",
     "start_time": "2020-06-20T15:36:05.644877Z"
    }
   },
   "outputs": [
    {
     "data": {
      "text/plain": [
       "(22.360679774997898+22.360679774997898j)"
      ]
     },
     "execution_count": 36,
     "metadata": {},
     "output_type": "execute_result"
    }
   ],
   "source": [
    "a = 1000j ** 0.5\n",
    "a"
   ]
  },
  {
   "cell_type": "code",
   "execution_count": 9,
   "metadata": {
    "ExecuteTime": {
     "end_time": "2020-06-20T10:08:30.114027Z",
     "start_time": "2020-06-20T10:08:30.111027Z"
    }
   },
   "outputs": [
    {
     "data": {
      "text/plain": [
       "[2, 3]"
      ]
     },
     "execution_count": 9,
     "metadata": {},
     "output_type": "execute_result"
    }
   ],
   "source": [
    "a = [1,2,3]\n",
    "del a[0]\n",
    "a"
   ]
  },
  {
   "cell_type": "code",
   "execution_count": 4,
   "metadata": {
    "ExecuteTime": {
     "end_time": "2020-06-20T09:50:04.277100Z",
     "start_time": "2020-06-20T09:50:04.239102Z"
    }
   },
   "outputs": [],
   "source": [
    "reversed?"
   ]
  },
  {
   "cell_type": "code",
   "execution_count": 8,
   "metadata": {
    "ExecuteTime": {
     "end_time": "2020-06-20T10:08:20.038495Z",
     "start_time": "2020-06-20T10:08:20.032489Z"
    }
   },
   "outputs": [
    {
     "ename": "TypeError",
     "evalue": "'list_reverseiterator' object is not subscriptable",
     "output_type": "error",
     "traceback": [
      "\u001b[1;31m---------------------------------------------------------------------------\u001b[0m",
      "\u001b[1;31mTypeError\u001b[0m                                 Traceback (most recent call last)",
      "\u001b[1;32m<ipython-input-8-361ad26a2630>\u001b[0m in \u001b[0;36m<module>\u001b[1;34m\u001b[0m\n\u001b[0;32m      1\u001b[0m \u001b[0ma\u001b[0m \u001b[1;33m=\u001b[0m \u001b[1;33m[\u001b[0m\u001b[1;36m1\u001b[0m\u001b[1;33m,\u001b[0m\u001b[1;36m2\u001b[0m\u001b[1;33m,\u001b[0m\u001b[1;36m3\u001b[0m\u001b[1;33m]\u001b[0m\u001b[1;33m\u001b[0m\u001b[1;33m\u001b[0m\u001b[0m\n\u001b[0;32m      2\u001b[0m \u001b[0mb\u001b[0m \u001b[1;33m=\u001b[0m \u001b[0mreversed\u001b[0m\u001b[1;33m(\u001b[0m\u001b[0ma\u001b[0m\u001b[1;33m)\u001b[0m\u001b[1;33m\u001b[0m\u001b[1;33m\u001b[0m\u001b[0m\n\u001b[1;32m----> 3\u001b[1;33m \u001b[0mb\u001b[0m\u001b[1;33m[\u001b[0m\u001b[1;36m0\u001b[0m\u001b[1;33m]\u001b[0m\u001b[1;33m\u001b[0m\u001b[1;33m\u001b[0m\u001b[0m\n\u001b[0m",
      "\u001b[1;31mTypeError\u001b[0m: 'list_reverseiterator' object is not subscriptable"
     ]
    }
   ],
   "source": [
    "a = [1,2,3]\n",
    "b = reversed(a)\n",
    "b[0]"
   ]
  },
  {
   "cell_type": "code",
   "execution_count": 5,
   "metadata": {
    "ExecuteTime": {
     "end_time": "2020-06-19T05:07:09.323439Z",
     "start_time": "2020-06-19T05:07:09.320367Z"
    }
   },
   "outputs": [
    {
     "data": {
      "text/plain": [
       "{1}"
      ]
     },
     "execution_count": 5,
     "metadata": {},
     "output_type": "execute_result"
    }
   ],
   "source": [
    "a.add(1)\n",
    "a"
   ]
  },
  {
   "cell_type": "code",
   "execution_count": 4,
   "metadata": {
    "ExecuteTime": {
     "end_time": "2020-06-19T05:03:39.109790Z",
     "start_time": "2020-06-19T05:03:39.105790Z"
    }
   },
   "outputs": [
    {
     "data": {
      "text/plain": [
       "set"
      ]
     },
     "execution_count": 4,
     "metadata": {},
     "output_type": "execute_result"
    }
   ],
   "source": [
    "a = set()\n",
    "type(a)"
   ]
  },
  {
   "cell_type": "code",
   "execution_count": 17,
   "metadata": {
    "ExecuteTime": {
     "end_time": "2020-06-16T16:28:41.150818Z",
     "start_time": "2020-06-16T16:28:41.145817Z"
    }
   },
   "outputs": [
    {
     "data": {
      "text/plain": [
       "1"
      ]
     },
     "execution_count": 17,
     "metadata": {},
     "output_type": "execute_result"
    }
   ],
   "source": [
    "a,b,c = [1,2,3]\n",
    "a"
   ]
  },
  {
   "cell_type": "code",
   "execution_count": 16,
   "metadata": {
    "ExecuteTime": {
     "end_time": "2020-06-16T16:09:32.038948Z",
     "start_time": "2020-06-16T16:09:32.035946Z"
    }
   },
   "outputs": [],
   "source": [
    "random.sample?"
   ]
  },
  {
   "cell_type": "code",
   "execution_count": 15,
   "metadata": {
    "ExecuteTime": {
     "end_time": "2020-06-16T16:09:04.663541Z",
     "start_time": "2020-06-16T16:09:04.659541Z"
    }
   },
   "outputs": [],
   "source": [
    "import random\n",
    "random.choice?"
   ]
  },
  {
   "cell_type": "code",
   "execution_count": 13,
   "metadata": {
    "ExecuteTime": {
     "end_time": "2020-06-16T14:26:29.308676Z",
     "start_time": "2020-06-16T14:26:29.304184Z"
    }
   },
   "outputs": [],
   "source": [
    "round?"
   ]
  },
  {
   "cell_type": "code",
   "execution_count": 9,
   "metadata": {
    "ExecuteTime": {
     "end_time": "2020-06-15T08:54:43.516443Z",
     "start_time": "2020-06-15T08:54:43.373197Z"
    }
   },
   "outputs": [
    {
     "ename": "TypeError",
     "evalue": "'float' object cannot be interpreted as an integer",
     "output_type": "error",
     "traceback": [
      "\u001b[1;31m---------------------------------------------------------------------------\u001b[0m",
      "\u001b[1;31mTypeError\u001b[0m                                 Traceback (most recent call last)",
      "\u001b[1;32m<ipython-input-9-dd8bd5c4fcaf>\u001b[0m in \u001b[0;36m<module>\u001b[1;34m\u001b[0m\n\u001b[0;32m      1\u001b[0m \u001b[0ma\u001b[0m \u001b[1;33m=\u001b[0m \u001b[1;36m12.1\u001b[0m \u001b[1;33m//\u001b[0m \u001b[1;36m3\u001b[0m\u001b[1;33m\u001b[0m\u001b[1;33m\u001b[0m\u001b[0m\n\u001b[1;32m----> 2\u001b[1;33m \u001b[0mlist\u001b[0m\u001b[1;33m(\u001b[0m\u001b[0mrange\u001b[0m\u001b[1;33m(\u001b[0m\u001b[0ma\u001b[0m\u001b[1;33m)\u001b[0m\u001b[1;33m)\u001b[0m\u001b[1;33m\u001b[0m\u001b[1;33m\u001b[0m\u001b[0m\n\u001b[0m",
      "\u001b[1;31mTypeError\u001b[0m: 'float' object cannot be interpreted as an integer"
     ]
    }
   ],
   "source": [
    "a = 12.1 // 3\n",
    "list(range(a))"
   ]
  },
  {
   "cell_type": "code",
   "execution_count": 7,
   "metadata": {
    "ExecuteTime": {
     "end_time": "2020-06-15T08:54:09.746571Z",
     "start_time": "2020-06-15T08:54:09.741571Z"
    }
   },
   "outputs": [
    {
     "data": {
      "text/plain": [
       "4.033333333333333"
      ]
     },
     "execution_count": 7,
     "metadata": {},
     "output_type": "execute_result"
    }
   ],
   "source": [
    "12.1 / 3"
   ]
  },
  {
   "cell_type": "code",
   "execution_count": 2,
   "metadata": {
    "ExecuteTime": {
     "end_time": "2020-06-15T07:45:16.015869Z",
     "start_time": "2020-06-15T07:45:16.008867Z"
    }
   },
   "outputs": [
    {
     "data": {
      "text/plain": [
       "2"
      ]
     },
     "execution_count": 2,
     "metadata": {},
     "output_type": "execute_result"
    }
   ],
   "source": [
    "round(2.356566)"
   ]
  },
  {
   "cell_type": "code",
   "execution_count": 3,
   "metadata": {
    "ExecuteTime": {
     "end_time": "2020-06-15T07:45:25.931298Z",
     "start_time": "2020-06-15T07:45:25.927298Z"
    }
   },
   "outputs": [
    {
     "data": {
      "text/plain": [
       "2.4"
      ]
     },
     "execution_count": 3,
     "metadata": {},
     "output_type": "execute_result"
    }
   ],
   "source": [
    "round(2.356566, 1)"
   ]
  },
  {
   "cell_type": "code",
   "execution_count": 4,
   "metadata": {
    "ExecuteTime": {
     "end_time": "2020-06-15T07:45:36.222967Z",
     "start_time": "2020-06-15T07:45:36.219966Z"
    }
   },
   "outputs": [
    {
     "data": {
      "text/plain": [
       "2.357"
      ]
     },
     "execution_count": 4,
     "metadata": {},
     "output_type": "execute_result"
    }
   ],
   "source": [
    "round(2.356566, 3)"
   ]
  },
  {
   "cell_type": "code",
   "execution_count": 5,
   "metadata": {
    "ExecuteTime": {
     "end_time": "2020-06-15T07:45:36.672471Z",
     "start_time": "2020-06-15T07:45:36.668949Z"
    }
   },
   "outputs": [
    {
     "data": {
      "text/plain": [
       "2.35657"
      ]
     },
     "execution_count": 5,
     "metadata": {},
     "output_type": "execute_result"
    }
   ],
   "source": [
    "round(2.356566, 5)"
   ]
  },
  {
   "cell_type": "code",
   "execution_count": 1,
   "metadata": {
    "ExecuteTime": {
     "end_time": "2020-06-15T07:44:26.281308Z",
     "start_time": "2020-06-15T07:44:26.278611Z"
    }
   },
   "outputs": [
    {
     "name": "stdout",
     "output_type": "stream",
     "text": [
      "Help on built-in function round in module builtins:\n",
      "\n",
      "round(number, ndigits=None)\n",
      "    Round a number to a given precision in decimal digits.\n",
      "    \n",
      "    The return value is an integer if ndigits is omitted or None.  Otherwise\n",
      "    the return value has the same type as the number.  ndigits may be negative.\n",
      "\n"
     ]
    }
   ],
   "source": [
    "help(round)"
   ]
  },
  {
   "cell_type": "code",
   "execution_count": 3,
   "metadata": {
    "ExecuteTime": {
     "end_time": "2020-06-13T15:28:45.753729Z",
     "start_time": "2020-06-13T15:28:45.749728Z"
    }
   },
   "outputs": [
    {
     "name": "stdout",
     "output_type": "stream",
     "text": [
      "[11, 2, 3]\n",
      "[14, 5, 6]\n"
     ]
    }
   ],
   "source": [
    "a = [1,2,3]\n",
    "b = [4,5,6]\n",
    "for i in [a, b]:\n",
    "    i[0] += 10\n",
    "print(a)\n",
    "print(b)"
   ]
  },
  {
   "cell_type": "code",
   "execution_count": 2,
   "metadata": {
    "ExecuteTime": {
     "end_time": "2020-06-13T14:50:22.356870Z",
     "start_time": "2020-06-13T14:50:22.353121Z"
    }
   },
   "outputs": [
    {
     "name": "stdout",
     "output_type": "stream",
     "text": [
      "Help on method randint in module random:\n",
      "\n",
      "randint(a, b) method of random.Random instance\n",
      "    Return random integer in range [a, b], including both end points.\n",
      "\n"
     ]
    }
   ],
   "source": [
    "import random\n",
    "help(random.randint)"
   ]
  },
  {
   "cell_type": "code",
   "execution_count": 1,
   "metadata": {
    "ExecuteTime": {
     "end_time": "2020-06-13T08:10:49.693753Z",
     "start_time": "2020-06-13T08:10:49.687751Z"
    }
   },
   "outputs": [
    {
     "data": {
      "text/plain": [
       "[1]"
      ]
     },
     "execution_count": 1,
     "metadata": {},
     "output_type": "execute_result"
    }
   ],
   "source": [
    "a = [] + [1]\n",
    "a"
   ]
  },
  {
   "cell_type": "code",
   "execution_count": 18,
   "metadata": {
    "ExecuteTime": {
     "end_time": "2020-06-09T09:52:27.578194Z",
     "start_time": "2020-06-09T09:52:27.575726Z"
    }
   },
   "outputs": [],
   "source": [
    "a = [1,2,3]\n",
    "b = a.remove(2)\n",
    "b"
   ]
  },
  {
   "cell_type": "code",
   "execution_count": 15,
   "metadata": {
    "ExecuteTime": {
     "end_time": "2020-06-09T09:51:36.407886Z",
     "start_time": "2020-06-09T09:51:36.404882Z"
    }
   },
   "outputs": [
    {
     "name": "stdout",
     "output_type": "stream",
     "text": [
      "Help on method_descriptor:\n",
      "\n",
      "remove(self, value, /)\n",
      "    Remove first occurrence of value.\n",
      "    \n",
      "    Raises ValueError if the value is not present.\n",
      "\n"
     ]
    }
   ],
   "source": [
    "help(list.remove)"
   ]
  },
  {
   "cell_type": "code",
   "execution_count": 7,
   "metadata": {
    "ExecuteTime": {
     "end_time": "2020-06-08T02:18:29.709769Z",
     "start_time": "2020-06-08T02:18:29.707768Z"
    }
   },
   "outputs": [
    {
     "name": "stdout",
     "output_type": "stream",
     "text": [
      "Help on method sample in module random:\n",
      "\n",
      "sample(population, k) method of random.Random instance\n",
      "    Chooses k unique random elements from a population sequence or set.\n",
      "    \n",
      "    Returns a new list containing elements from the population while\n",
      "    leaving the original population unchanged.  The resulting list is\n",
      "    in selection order so that all sub-slices will also be valid random\n",
      "    samples.  This allows raffle winners (the sample) to be partitioned\n",
      "    into grand prize and second place winners (the subslices).\n",
      "    \n",
      "    Members of the population need not be hashable or unique.  If the\n",
      "    population contains repeats, then each occurrence is a possible\n",
      "    selection in the sample.\n",
      "    \n",
      "    To choose a sample in a range of integers, use range as an argument.\n",
      "    This is especially fast and space efficient for sampling from a\n",
      "    large population:   sample(range(10000000), 60)\n",
      "\n"
     ]
    }
   ],
   "source": [
    "import random\n",
    "help(random.sample)\n",
    "\"\"\"\n",
    "random.choice()  # 一次随机选出一个\n",
    "random.choices()  # 抽一个列表出来，但是这是有放回抽样，即抽出的数据可能会重复\n",
    "random.sample()  # 无放回抽取一个列表出来，即抽出的数据不会重复\n",
    "\"\"\""
   ]
  },
  {
   "cell_type": "code",
   "execution_count": 5,
   "metadata": {
    "ExecuteTime": {
     "end_time": "2020-06-07T03:32:22.919233Z",
     "start_time": "2020-06-07T03:32:22.915724Z"
    }
   },
   "outputs": [
    {
     "data": {
      "text/plain": [
       "0.6123724356957945"
      ]
     },
     "execution_count": 5,
     "metadata": {},
     "output_type": "execute_result"
    }
   ],
   "source": [
    "math.sqrt(6) / 4"
   ]
  },
  {
   "cell_type": "code",
   "execution_count": 4,
   "metadata": {
    "ExecuteTime": {
     "end_time": "2020-06-07T02:53:12.945338Z",
     "start_time": "2020-06-07T02:53:12.939336Z"
    }
   },
   "outputs": [
    {
     "data": {
      "text/plain": [
       "[0, 1, 2]"
      ]
     },
     "execution_count": 4,
     "metadata": {},
     "output_type": "execute_result"
    }
   ],
   "source": [
    "[0] + [1,2]"
   ]
  },
  {
   "cell_type": "code",
   "execution_count": 2,
   "metadata": {
    "ExecuteTime": {
     "end_time": "2020-06-07T02:16:41.025943Z",
     "start_time": "2020-06-07T02:16:41.023941Z"
    }
   },
   "outputs": [
    {
     "name": "stdout",
     "output_type": "stream",
     "text": [
      "Help on built-in function radians in module math:\n",
      "\n",
      "radians(x, /)\n",
      "    Convert angle x from degrees to radians.\n",
      "\n"
     ]
    }
   ],
   "source": [
    "help(math.radians)"
   ]
  },
  {
   "cell_type": "code",
   "execution_count": 4,
   "metadata": {
    "ExecuteTime": {
     "end_time": "2020-06-05T02:27:11.856536Z",
     "start_time": "2020-06-05T02:27:11.852522Z"
    }
   },
   "outputs": [
    {
     "data": {
      "text/plain": [
       "1"
      ]
     },
     "execution_count": 4,
     "metadata": {},
     "output_type": "execute_result"
    }
   ],
   "source": [
    "math.ceil(0.1)"
   ]
  },
  {
   "cell_type": "code",
   "execution_count": 2,
   "metadata": {
    "ExecuteTime": {
     "end_time": "2020-06-05T02:26:37.099817Z",
     "start_time": "2020-06-05T02:26:37.089259Z"
    }
   },
   "outputs": [
    {
     "name": "stdout",
     "output_type": "stream",
     "text": [
      "Help on built-in function ceil in module math:\n",
      "\n",
      "ceil(x, /)\n",
      "    Return the ceiling of x as an Integral.\n",
      "    \n",
      "    This is the smallest integer >= x.\n",
      "\n"
     ]
    }
   ],
   "source": [
    "help(math.ceil)"
   ]
  },
  {
   "cell_type": "code",
   "execution_count": 1,
   "metadata": {
    "ExecuteTime": {
     "end_time": "2020-06-07T02:15:45.196111Z",
     "start_time": "2020-06-07T02:15:45.192110Z"
    }
   },
   "outputs": [
    {
     "name": "stdout",
     "output_type": "stream",
     "text": [
      "Help on built-in function floor in module math:\n",
      "\n",
      "floor(x, /)\n",
      "    Return the floor of x as an Integral.\n",
      "    \n",
      "    This is the largest integer <= x.\n",
      "\n"
     ]
    }
   ],
   "source": [
    "import math\n",
    "help(math.floor)"
   ]
  },
  {
   "cell_type": "code",
   "execution_count": 18,
   "metadata": {
    "ExecuteTime": {
     "end_time": "2020-06-04T14:48:11.897459Z",
     "start_time": "2020-06-04T14:48:11.893801Z"
    }
   },
   "outputs": [
    {
     "data": {
      "text/plain": [
       "262.5"
      ]
     },
     "execution_count": 18,
     "metadata": {},
     "output_type": "execute_result"
    }
   ],
   "source": [
    "350*0.75"
   ]
  },
  {
   "cell_type": "code",
   "execution_count": 17,
   "metadata": {
    "ExecuteTime": {
     "end_time": "2020-06-04T14:47:15.740738Z",
     "start_time": "2020-06-04T14:47:15.737726Z"
    }
   },
   "outputs": [
    {
     "data": {
      "text/plain": [
       "306.6666666666667"
      ]
     },
     "execution_count": 17,
     "metadata": {},
     "output_type": "execute_result"
    }
   ],
   "source": [
    "230/0.75"
   ]
  },
  {
   "cell_type": "code",
   "execution_count": 15,
   "metadata": {
    "ExecuteTime": {
     "end_time": "2020-06-04T07:30:03.431257Z",
     "start_time": "2020-06-04T07:30:03.427480Z"
    }
   },
   "outputs": [
    {
     "data": {
      "text/plain": [
       "[5]"
      ]
     },
     "execution_count": 15,
     "metadata": {},
     "output_type": "execute_result"
    }
   ],
   "source": [
    "q[0].x_list"
   ]
  },
  {
   "cell_type": "code",
   "execution_count": 14,
   "metadata": {
    "ExecuteTime": {
     "end_time": "2020-06-04T07:29:55.908438Z",
     "start_time": "2020-06-04T07:29:55.905174Z"
    }
   },
   "outputs": [],
   "source": [
    "q0.x_list[0] = 5"
   ]
  },
  {
   "cell_type": "code",
   "execution_count": 13,
   "metadata": {
    "ExecuteTime": {
     "end_time": "2020-06-04T07:27:52.135392Z",
     "start_time": "2020-06-04T07:27:52.132392Z"
    }
   },
   "outputs": [
    {
     "data": {
      "text/plain": [
       "2"
      ]
     },
     "execution_count": 13,
     "metadata": {},
     "output_type": "execute_result"
    }
   ],
   "source": [
    "q[0].a"
   ]
  },
  {
   "cell_type": "code",
   "execution_count": 12,
   "metadata": {
    "ExecuteTime": {
     "end_time": "2020-06-04T07:27:45.713508Z",
     "start_time": "2020-06-04T07:27:45.711507Z"
    }
   },
   "outputs": [],
   "source": [
    "q0.a = 2"
   ]
  },
  {
   "cell_type": "code",
   "execution_count": 11,
   "metadata": {
    "ExecuteTime": {
     "end_time": "2020-06-04T07:27:44.423463Z",
     "start_time": "2020-06-04T07:27:44.420959Z"
    }
   },
   "outputs": [],
   "source": [
    "q0 = q[0]"
   ]
  },
  {
   "cell_type": "code",
   "execution_count": 8,
   "metadata": {
    "ExecuteTime": {
     "end_time": "2020-06-08T02:23:33.661609Z",
     "start_time": "2020-06-08T02:23:33.658608Z"
    }
   },
   "outputs": [],
   "source": [
    "class qw:\n",
    "    def __init__(self, a):\n",
    "        self.a = a\n",
    "        self.x_list = [a]"
   ]
  },
  {
   "cell_type": "code",
   "execution_count": 13,
   "metadata": {
    "ExecuteTime": {
     "end_time": "2020-06-08T02:24:18.541043Z",
     "start_time": "2020-06-08T02:24:18.537042Z"
    }
   },
   "outputs": [
    {
     "data": {
      "text/plain": [
       "[<__main__.qw at 0x27f9ca96160>, <__main__.qw at 0x27f9ca96190>]"
      ]
     },
     "execution_count": 13,
     "metadata": {},
     "output_type": "execute_result"
    }
   ],
   "source": [
    "q = [qw(0), qw(1)]\n",
    "q"
   ]
  },
  {
   "cell_type": "code",
   "execution_count": 14,
   "metadata": {
    "ExecuteTime": {
     "end_time": "2020-06-08T02:24:18.996099Z",
     "start_time": "2020-06-08T02:24:18.993099Z"
    }
   },
   "outputs": [
    {
     "data": {
      "text/plain": [
       "[<__main__.qw at 0x27f9ca96160>, <__main__.qw at 0x27f9ca96190>]"
      ]
     },
     "execution_count": 14,
     "metadata": {},
     "output_type": "execute_result"
    }
   ],
   "source": [
    "w = [q[0], q[1]]\n",
    "w"
   ]
  },
  {
   "cell_type": "code",
   "execution_count": 2,
   "metadata": {},
   "outputs": [
    {
     "data": {
      "text/plain": [
       "inf"
      ]
     },
     "execution_count": 2,
     "metadata": {},
     "output_type": "execute_result"
    }
   ],
   "source": [
    "float('inf')"
   ]
  },
  {
   "cell_type": "code",
   "execution_count": 1,
   "metadata": {},
   "outputs": [
    {
     "data": {
      "text/plain": [
       "NoneType"
      ]
     },
     "execution_count": 1,
     "metadata": {},
     "output_type": "execute_result"
    }
   ],
   "source": [
    "type(None)"
   ]
  },
  {
   "cell_type": "code",
   "execution_count": 8,
   "metadata": {
    "ExecuteTime": {
     "end_time": "2020-05-30T09:32:27.205783Z",
     "start_time": "2020-05-30T09:32:27.201783Z"
    }
   },
   "outputs": [
    {
     "data": {
      "text/plain": [
       "['1Aq', '1Aw', '1Ae', '1Bq', '1Bw', '1Be', '1Cq', '1Cw', '1Ce']"
      ]
     },
     "execution_count": 8,
     "metadata": {},
     "output_type": "execute_result"
    }
   ],
   "source": [
    "a = (1, 2, 3)\n",
    "b = ('A', 'B', 'C')\n",
    "c = ('q','w','e')\n",
    "d = [str(i)+j+k for i in a for j in b for k in c if i == 1]\n",
    "d"
   ]
  },
  {
   "cell_type": "code",
   "execution_count": 6,
   "metadata": {
    "ExecuteTime": {
     "end_time": "2020-05-30T06:04:15.203277Z",
     "start_time": "2020-05-30T06:04:15.199437Z"
    }
   },
   "outputs": [
    {
     "name": "stdout",
     "output_type": "stream",
     "text": [
      "Help on built-in function random:\n",
      "\n",
      "random() method of random.Random instance\n",
      "    random() -> x in the interval [0, 1).\n",
      "\n"
     ]
    }
   ],
   "source": [
    "import random\n",
    "help(random.random)"
   ]
  },
  {
   "cell_type": "code",
   "execution_count": 4,
   "metadata": {
    "ExecuteTime": {
     "end_time": "2020-05-30T06:03:40.875875Z",
     "start_time": "2020-05-30T06:03:40.872685Z"
    }
   },
   "outputs": [
    {
     "data": {
      "text/plain": [
       "3.4"
      ]
     },
     "execution_count": 4,
     "metadata": {},
     "output_type": "execute_result"
    }
   ],
   "source": [
    "2.0*1.7"
   ]
  },
  {
   "cell_type": "code",
   "execution_count": 5,
   "metadata": {
    "ExecuteTime": {
     "end_time": "2020-05-30T06:03:42.482939Z",
     "start_time": "2020-05-30T06:03:42.478939Z"
    }
   },
   "outputs": [
    {
     "data": {
      "text/plain": [
       "3.4"
      ]
     },
     "execution_count": 5,
     "metadata": {},
     "output_type": "execute_result"
    }
   ],
   "source": [
    "2 * 1.7"
   ]
  },
  {
   "cell_type": "code",
   "execution_count": 1,
   "metadata": {
    "ExecuteTime": {
     "end_time": "2020-05-30T03:45:16.885253Z",
     "start_time": "2020-05-30T03:45:16.878314Z"
    },
    "collapsed": true
   },
   "outputs": [
    {
     "data": {
      "text/plain": [
       "[100,\n",
       " 101,\n",
       " 102,\n",
       " 103,\n",
       " 104,\n",
       " 105,\n",
       " 106,\n",
       " 107,\n",
       " 108,\n",
       " 109,\n",
       " 101,\n",
       " 102,\n",
       " 103,\n",
       " 104,\n",
       " 105,\n",
       " 106,\n",
       " 107,\n",
       " 108,\n",
       " 109,\n",
       " 110,\n",
       " 102,\n",
       " 103,\n",
       " 104,\n",
       " 105,\n",
       " 106,\n",
       " 107,\n",
       " 108,\n",
       " 109,\n",
       " 110,\n",
       " 111,\n",
       " 103,\n",
       " 104,\n",
       " 105,\n",
       " 106,\n",
       " 107,\n",
       " 108,\n",
       " 109,\n",
       " 110,\n",
       " 111,\n",
       " 112,\n",
       " 104,\n",
       " 105,\n",
       " 106,\n",
       " 107,\n",
       " 108,\n",
       " 109,\n",
       " 110,\n",
       " 111,\n",
       " 112,\n",
       " 113,\n",
       " 105,\n",
       " 106,\n",
       " 107,\n",
       " 108,\n",
       " 109,\n",
       " 110,\n",
       " 111,\n",
       " 112,\n",
       " 113,\n",
       " 114,\n",
       " 106,\n",
       " 107,\n",
       " 108,\n",
       " 109,\n",
       " 110,\n",
       " 111,\n",
       " 112,\n",
       " 113,\n",
       " 114,\n",
       " 115,\n",
       " 107,\n",
       " 108,\n",
       " 109,\n",
       " 110,\n",
       " 111,\n",
       " 112,\n",
       " 113,\n",
       " 114,\n",
       " 115,\n",
       " 116,\n",
       " 108,\n",
       " 109,\n",
       " 110,\n",
       " 111,\n",
       " 112,\n",
       " 113,\n",
       " 114,\n",
       " 115,\n",
       " 116,\n",
       " 117,\n",
       " 109,\n",
       " 110,\n",
       " 111,\n",
       " 112,\n",
       " 113,\n",
       " 114,\n",
       " 115,\n",
       " 116,\n",
       " 117,\n",
       " 118]"
      ]
     },
     "execution_count": 1,
     "metadata": {},
     "output_type": "execute_result"
    }
   ],
   "source": [
    "a = [i + j for i in range(10) for j in range(100, 110)]\n",
    "a"
   ]
  },
  {
   "cell_type": "code",
   "execution_count": 10,
   "metadata": {
    "ExecuteTime": {
     "end_time": "2020-05-23T08:24:11.654376Z",
     "start_time": "2020-05-23T08:24:11.650316Z"
    }
   },
   "outputs": [
    {
     "data": {
      "text/plain": [
       "9.999999999999999e+29"
      ]
     },
     "execution_count": 10,
     "metadata": {},
     "output_type": "execute_result"
    }
   ],
   "source": [
    "1.0 / 1e-30"
   ]
  },
  {
   "cell_type": "code",
   "execution_count": 9,
   "metadata": {
    "ExecuteTime": {
     "end_time": "2020-05-23T08:24:04.946295Z",
     "start_time": "2020-05-23T08:24:04.943480Z"
    }
   },
   "outputs": [
    {
     "data": {
      "text/plain": [
       "1e+20"
      ]
     },
     "execution_count": 9,
     "metadata": {},
     "output_type": "execute_result"
    }
   ],
   "source": [
    "1.0 / 1e-20"
   ]
  },
  {
   "cell_type": "code",
   "execution_count": 7,
   "metadata": {
    "ExecuteTime": {
     "end_time": "2020-05-23T08:23:52.970098Z",
     "start_time": "2020-05-23T08:23:52.965379Z"
    }
   },
   "outputs": [
    {
     "data": {
      "text/plain": [
       "999999999999999.9"
      ]
     },
     "execution_count": 7,
     "metadata": {},
     "output_type": "execute_result"
    }
   ],
   "source": [
    "1 / 1e-15"
   ]
  },
  {
   "cell_type": "code",
   "execution_count": 5,
   "metadata": {
    "ExecuteTime": {
     "end_time": "2020-05-23T08:14:20.284889Z",
     "start_time": "2020-05-23T08:14:20.276983Z"
    }
   },
   "outputs": [
    {
     "data": {
      "text/plain": [
       "float"
      ]
     },
     "execution_count": 5,
     "metadata": {},
     "output_type": "execute_result"
    }
   ],
   "source": [
    "type(b)"
   ]
  },
  {
   "cell_type": "code",
   "execution_count": 6,
   "metadata": {
    "ExecuteTime": {
     "end_time": "2020-05-23T08:14:26.168144Z",
     "start_time": "2020-05-23T08:14:26.164481Z"
    }
   },
   "outputs": [
    {
     "data": {
      "text/plain": [
       "0.5"
      ]
     },
     "execution_count": 6,
     "metadata": {},
     "output_type": "execute_result"
    }
   ],
   "source": [
    "b = 1.0 / a()\n",
    "b"
   ]
  },
  {
   "cell_type": "code",
   "execution_count": 1,
   "metadata": {
    "ExecuteTime": {
     "end_time": "2020-05-23T08:13:50.613900Z",
     "start_time": "2020-05-23T08:13:50.610331Z"
    }
   },
   "outputs": [],
   "source": [
    "def a():\n",
    "    return 2"
   ]
  },
  {
   "cell_type": "code",
   "execution_count": 5,
   "metadata": {
    "ExecuteTime": {
     "end_time": "2020-05-19T05:30:45.482939Z",
     "start_time": "2020-05-19T05:30:45.476990Z"
    }
   },
   "outputs": [
    {
     "data": {
      "text/plain": [
       "2.0"
      ]
     },
     "execution_count": 5,
     "metadata": {},
     "output_type": "execute_result"
    }
   ],
   "source": [
    "a.imag"
   ]
  },
  {
   "cell_type": "code",
   "execution_count": 4,
   "metadata": {
    "ExecuteTime": {
     "end_time": "2020-05-19T05:30:27.315738Z",
     "start_time": "2020-05-19T05:30:27.310483Z"
    }
   },
   "outputs": [
    {
     "data": {
      "text/plain": [
       "9.0"
      ]
     },
     "execution_count": 4,
     "metadata": {},
     "output_type": "execute_result"
    }
   ],
   "source": [
    "(a.imag - b.imag) ** 2"
   ]
  },
  {
   "cell_type": "code",
   "execution_count": 3,
   "metadata": {
    "ExecuteTime": {
     "end_time": "2020-05-19T05:30:17.063696Z",
     "start_time": "2020-05-19T05:30:17.054211Z"
    }
   },
   "outputs": [
    {
     "data": {
      "text/plain": [
       "4.0"
      ]
     },
     "execution_count": 3,
     "metadata": {},
     "output_type": "execute_result"
    }
   ],
   "source": [
    "(a.real - b.real) ** 2"
   ]
  },
  {
   "cell_type": "code",
   "execution_count": 1,
   "metadata": {
    "ExecuteTime": {
     "end_time": "2020-05-19T05:29:54.944996Z",
     "start_time": "2020-05-19T05:29:54.941020Z"
    }
   },
   "outputs": [],
   "source": [
    "b = 3 + 5j"
   ]
  },
  {
   "cell_type": "code",
   "execution_count": 2,
   "metadata": {
    "ExecuteTime": {
     "end_time": "2020-05-19T05:30:00.410276Z",
     "start_time": "2020-05-19T05:30:00.407249Z"
    }
   },
   "outputs": [],
   "source": [
    "a = 1 + 2j"
   ]
  },
  {
   "cell_type": "code",
   "execution_count": 18,
   "metadata": {
    "ExecuteTime": {
     "end_time": "2020-05-18T07:48:50.271635Z",
     "start_time": "2020-05-18T07:48:50.267126Z"
    }
   },
   "outputs": [
    {
     "data": {
      "text/plain": [
       "0.011202273600000002"
      ]
     },
     "execution_count": 18,
     "metadata": {},
     "output_type": "execute_result"
    }
   ],
   "source": [
    "11091.36 * 0.00000101"
   ]
  },
  {
   "cell_type": "code",
   "execution_count": 17,
   "metadata": {
    "ExecuteTime": {
     "end_time": "2020-05-18T07:48:40.477026Z",
     "start_time": "2020-05-18T07:48:40.472626Z"
    }
   },
   "outputs": [
    {
     "data": {
      "text/plain": [
       "0.00556665843"
      ]
     },
     "execution_count": 17,
     "metadata": {},
     "output_type": "execute_result"
    }
   ],
   "source": [
    "5511.543 * 0.00000101"
   ]
  },
  {
   "cell_type": "code",
   "execution_count": 16,
   "metadata": {
    "ExecuteTime": {
     "end_time": "2020-05-18T07:48:27.247824Z",
     "start_time": "2020-05-18T07:48:27.242778Z"
    }
   },
   "outputs": [
    {
     "data": {
      "text/plain": [
       "0.017232498800000003"
      ]
     },
     "execution_count": 16,
     "metadata": {},
     "output_type": "execute_result"
    }
   ],
   "source": [
    "17061.88 * 0.00000101"
   ]
  },
  {
   "cell_type": "code",
   "execution_count": 15,
   "metadata": {
    "ExecuteTime": {
     "end_time": "2020-05-18T07:48:15.523643Z",
     "start_time": "2020-05-18T07:48:15.518481Z"
    }
   },
   "outputs": [
    {
     "data": {
      "text/plain": [
       "0.00621494713"
      ]
     },
     "execution_count": 15,
     "metadata": {},
     "output_type": "execute_result"
    }
   ],
   "source": [
    "6153.413 * 0.00000101"
   ]
  },
  {
   "cell_type": "code",
   "execution_count": 14,
   "metadata": {
    "ExecuteTime": {
     "end_time": "2020-05-18T07:48:03.579902Z",
     "start_time": "2020-05-18T07:48:03.574892Z"
    }
   },
   "outputs": [
    {
     "data": {
      "text/plain": [
       "0.0261227511"
      ]
     },
     "execution_count": 14,
     "metadata": {},
     "output_type": "execute_result"
    }
   ],
   "source": [
    "25864.11 * 0.00000101"
   ]
  },
  {
   "cell_type": "code",
   "execution_count": 13,
   "metadata": {
    "ExecuteTime": {
     "end_time": "2020-05-18T07:47:53.922957Z",
     "start_time": "2020-05-18T07:47:53.916870Z"
    }
   },
   "outputs": [
    {
     "data": {
      "text/plain": [
       "0.0073685358"
      ]
     },
     "execution_count": 13,
     "metadata": {},
     "output_type": "execute_result"
    }
   ],
   "source": [
    "7295.58 * 0.00000101"
   ]
  },
  {
   "cell_type": "code",
   "execution_count": 12,
   "metadata": {
    "ExecuteTime": {
     "end_time": "2020-05-18T07:47:43.489180Z",
     "start_time": "2020-05-18T07:47:43.483671Z"
    }
   },
   "outputs": [
    {
     "data": {
      "text/plain": [
       "0.0402155134"
      ]
     },
     "execution_count": 12,
     "metadata": {},
     "output_type": "execute_result"
    }
   ],
   "source": [
    "39817.34 * 0.00000101"
   ]
  },
  {
   "cell_type": "code",
   "execution_count": 11,
   "metadata": {
    "ExecuteTime": {
     "end_time": "2020-05-18T07:47:31.336027Z",
     "start_time": "2020-05-18T07:47:31.330007Z"
    }
   },
   "outputs": [
    {
     "data": {
      "text/plain": [
       "0.0090561347"
      ]
     },
     "execution_count": 11,
     "metadata": {},
     "output_type": "execute_result"
    }
   ],
   "source": [
    "8966.47 * 0.00000101"
   ]
  },
  {
   "cell_type": "code",
   "execution_count": 10,
   "metadata": {
    "ExecuteTime": {
     "end_time": "2020-05-18T07:47:19.904503Z",
     "start_time": "2020-05-18T07:47:19.898932Z"
    }
   },
   "outputs": [
    {
     "data": {
      "text/plain": [
       "264.15944"
      ]
     },
     "execution_count": 10,
     "metadata": {},
     "output_type": "execute_result"
    }
   ],
   "source": [
    "261544000 * 0.00000101"
   ]
  },
  {
   "cell_type": "code",
   "execution_count": 9,
   "metadata": {
    "ExecuteTime": {
     "end_time": "2020-05-18T07:47:07.814699Z",
     "start_time": "2020-05-18T07:47:07.810195Z"
    }
   },
   "outputs": [
    {
     "data": {
      "text/plain": [
       "161.74786400000002"
      ]
     },
     "execution_count": 9,
     "metadata": {},
     "output_type": "execute_result"
    }
   ],
   "source": [
    "160146400 * 0.00000101"
   ]
  },
  {
   "cell_type": "code",
   "execution_count": 8,
   "metadata": {
    "ExecuteTime": {
     "end_time": "2020-05-18T07:46:54.518972Z",
     "start_time": "2020-05-18T07:46:54.513956Z"
    }
   },
   "outputs": [
    {
     "data": {
      "text/plain": [
       "357.86057400000004"
      ]
     },
     "execution_count": 8,
     "metadata": {},
     "output_type": "execute_result"
    }
   ],
   "source": [
    "354317400 * 0.00000101"
   ]
  },
  {
   "cell_type": "code",
   "execution_count": 7,
   "metadata": {
    "ExecuteTime": {
     "end_time": "2020-05-18T07:46:41.071733Z",
     "start_time": "2020-05-18T07:46:41.066712Z"
    }
   },
   "outputs": [
    {
     "data": {
      "text/plain": [
       "215.8067"
      ]
     },
     "execution_count": 7,
     "metadata": {},
     "output_type": "execute_result"
    }
   ],
   "source": [
    "213670000 * 0.00000101"
   ]
  },
  {
   "cell_type": "code",
   "execution_count": 6,
   "metadata": {
    "ExecuteTime": {
     "end_time": "2020-05-18T07:45:46.766519Z",
     "start_time": "2020-05-18T07:45:46.761360Z"
    }
   },
   "outputs": [
    {
     "data": {
      "text/plain": [
       "486.43912900000004"
      ]
     },
     "execution_count": 6,
     "metadata": {},
     "output_type": "execute_result"
    }
   ],
   "source": [
    "481622900 * 0.00000101"
   ]
  },
  {
   "cell_type": "code",
   "execution_count": 5,
   "metadata": {
    "ExecuteTime": {
     "end_time": "2020-05-18T07:45:33.706238Z",
     "start_time": "2020-05-18T07:45:33.701250Z"
    }
   },
   "outputs": [
    {
     "data": {
      "text/plain": [
       "285.528818"
      ]
     },
     "execution_count": 5,
     "metadata": {},
     "output_type": "execute_result"
    }
   ],
   "source": [
    "282701800 * 0.00000101"
   ]
  },
  {
   "cell_type": "code",
   "execution_count": 4,
   "metadata": {
    "ExecuteTime": {
     "end_time": "2020-05-18T07:42:45.215038Z",
     "start_time": "2020-05-18T07:42:45.208500Z"
    }
   },
   "outputs": [
    {
     "data": {
      "text/plain": [
       "661.2599280000001"
      ]
     },
     "execution_count": 4,
     "metadata": {},
     "output_type": "execute_result"
    }
   ],
   "source": [
    "654712800 * 0.00000101"
   ]
  },
  {
   "cell_type": "code",
   "execution_count": 3,
   "metadata": {
    "ExecuteTime": {
     "end_time": "2020-05-18T07:41:40.987211Z",
     "start_time": "2020-05-18T07:41:40.971559Z"
    }
   },
   "outputs": [
    {
     "data": {
      "text/plain": [
       "370.642427"
      ]
     },
     "execution_count": 3,
     "metadata": {},
     "output_type": "execute_result"
    }
   ],
   "source": [
    "366972700 * 0.00000101"
   ]
  },
  {
   "cell_type": "code",
   "execution_count": 2,
   "metadata": {
    "ExecuteTime": {
     "end_time": "2020-05-18T07:05:15.888208Z",
     "start_time": "2020-05-18T07:05:15.881210Z"
    }
   },
   "outputs": [
    {
     "data": {
      "text/plain": [
       "(1+2j)"
      ]
     },
     "execution_count": 2,
     "metadata": {},
     "output_type": "execute_result"
    }
   ],
   "source": [
    "1 + 2 * 1j"
   ]
  },
  {
   "cell_type": "code",
   "execution_count": 7,
   "metadata": {
    "ExecuteTime": {
     "end_time": "2020-05-15T15:13:37.613046Z",
     "start_time": "2020-05-15T15:13:37.608747Z"
    }
   },
   "outputs": [
    {
     "data": {
      "text/plain": [
       "1.1996785964480592"
      ]
     },
     "execution_count": 7,
     "metadata": {},
     "output_type": "execute_result"
    }
   ],
   "source": [
    "u = 1.19967874\n",
    "c = coth(u)\n",
    "c"
   ]
  },
  {
   "cell_type": "code",
   "execution_count": 6,
   "metadata": {
    "ExecuteTime": {
     "end_time": "2020-05-15T15:13:03.277266Z",
     "start_time": "2020-05-15T15:13:03.273886Z"
    }
   },
   "outputs": [],
   "source": [
    "def coth(z):\n",
    "    c = (math.e ** (2 * z) + 1) / (math.e ** (2 * z) - 1)\n",
    "    return c"
   ]
  },
  {
   "cell_type": "code",
   "execution_count": 4,
   "metadata": {
    "ExecuteTime": {
     "end_time": "2020-05-15T15:04:47.453985Z",
     "start_time": "2020-05-15T15:04:47.450520Z"
    }
   },
   "outputs": [
    {
     "data": {
      "text/plain": [
       "7.3890560989306495"
      ]
     },
     "execution_count": 4,
     "metadata": {},
     "output_type": "execute_result"
    }
   ],
   "source": [
    "m.e ** 2"
   ]
  },
  {
   "cell_type": "code",
   "execution_count": 5,
   "metadata": {
    "ExecuteTime": {
     "end_time": "2020-05-15T15:04:54.130919Z",
     "start_time": "2020-05-15T15:04:54.127629Z"
    }
   },
   "outputs": [
    {
     "data": {
      "text/plain": [
       "7.3890560989306495"
      ]
     },
     "execution_count": 5,
     "metadata": {},
     "output_type": "execute_result"
    }
   ],
   "source": [
    "m.e * m.e"
   ]
  },
  {
   "cell_type": "code",
   "execution_count": 2,
   "metadata": {
    "ExecuteTime": {
     "end_time": "2020-05-15T10:55:23.406353Z",
     "start_time": "2020-05-15T10:55:23.403354Z"
    }
   },
   "outputs": [],
   "source": [
    "import math as m"
   ]
  },
  {
   "cell_type": "code",
   "execution_count": 19,
   "metadata": {
    "ExecuteTime": {
     "end_time": "2020-05-03T14:52:11.196644Z",
     "start_time": "2020-05-03T14:52:11.169533Z"
    }
   },
   "outputs": [
    {
     "data": {
      "text/plain": [
       "['', '1000', 'alpha', 'init=0.1', 'classifer', 'dict', 'pickle', '4.file']"
      ]
     },
     "execution_count": 19,
     "metadata": {},
     "output_type": "execute_result"
    }
   ],
   "source": [
    "a = '2020_04_18_lrc_ovr_linear_alpha_iter_1000_alpha_init=0.1_classifer_dict_pickle_4.file'\n",
    "a_s = a.split('iter')[1]\n",
    "b = a_s.split('_')\n",
    "b"
   ]
  },
  {
   "cell_type": "code",
   "execution_count": 16,
   "metadata": {
    "ExecuteTime": {
     "end_time": "2020-05-03T13:16:36.274267Z",
     "start_time": "2020-05-03T13:16:36.249939Z"
    }
   },
   "outputs": [
    {
     "name": "stdout",
     "output_type": "stream",
     "text": [
      "Object `r.randomint` not found.\n"
     ]
    }
   ],
   "source": [
    "import random as r\n",
    "r.randomint?"
   ]
  },
  {
   "cell_type": "code",
   "execution_count": 15,
   "metadata": {
    "ExecuteTime": {
     "end_time": "2020-05-03T09:38:07.017191Z",
     "start_time": "2020-05-03T09:38:07.002225Z"
    }
   },
   "outputs": [
    {
     "data": {
      "text/plain": [
       "1e-22"
      ]
     },
     "execution_count": 15,
     "metadata": {},
     "output_type": "execute_result"
    }
   ],
   "source": [
    "1e-25 * 1000"
   ]
  },
  {
   "cell_type": "code",
   "execution_count": 13,
   "metadata": {
    "ExecuteTime": {
     "end_time": "2020-05-03T09:36:52.947834Z",
     "start_time": "2020-05-03T09:36:52.930978Z"
    }
   },
   "outputs": [
    {
     "data": {
      "text/plain": [
       "1e-20"
      ]
     },
     "execution_count": 13,
     "metadata": {},
     "output_type": "execute_result"
    }
   ],
   "source": [
    "1e-20"
   ]
  },
  {
   "cell_type": "code",
   "execution_count": 12,
   "metadata": {
    "ExecuteTime": {
     "end_time": "2020-05-03T08:53:51.689195Z",
     "start_time": "2020-05-03T08:53:51.669054Z"
    }
   },
   "outputs": [
    {
     "data": {
      "text/plain": [
       "10850"
      ]
     },
     "execution_count": 12,
     "metadata": {},
     "output_type": "execute_result"
    }
   ],
   "source": [
    "172+8837+1841"
   ]
  },
  {
   "cell_type": "code",
   "execution_count": 11,
   "metadata": {
    "ExecuteTime": {
     "end_time": "2020-05-03T08:51:12.951045Z",
     "start_time": "2020-05-03T08:51:12.928023Z"
    }
   },
   "outputs": [
    {
     "data": {
      "text/plain": [
       "10850"
      ]
     },
     "execution_count": 11,
     "metadata": {},
     "output_type": "execute_result"
    }
   ],
   "source": [
    "550+6050+9000-1449-2708-593"
   ]
  },
  {
   "cell_type": "code",
   "execution_count": 10,
   "metadata": {
    "ExecuteTime": {
     "end_time": "2020-05-03T07:56:59.308561Z",
     "start_time": "2020-05-03T07:56:59.287341Z"
    }
   },
   "outputs": [
    {
     "data": {
      "text/plain": [
       "['', 'C=1', 'iter=3000', 'sigma=100', 'pickle', '1.file']"
      ]
     },
     "execution_count": 10,
     "metadata": {},
     "output_type": "execute_result"
    }
   ],
   "source": [
    "pickle_model_name = '2020_05_01_svm_rbf_C=1_iter=3000_sigma=100_pickle_1.file'\n",
    "para_str_list = pickle_model_name.split('rbf')[1].split('_')\n",
    "para_str_list"
   ]
  },
  {
   "cell_type": "code",
   "execution_count": 8,
   "metadata": {
    "ExecuteTime": {
     "end_time": "2020-05-03T07:46:10.749758Z",
     "start_time": "2020-05-03T07:46:10.741981Z"
    }
   },
   "outputs": [
    {
     "data": {
      "text/plain": [
       "['', 'C=0.01', 'iter=1000', 'P=2', 'q=1', 'pickle', '0.file']"
      ]
     },
     "execution_count": 8,
     "metadata": {},
     "output_type": "execute_result"
    }
   ],
   "source": [
    "pickle_model_name ='2020_05_01_svm_poly_C=0.01_iter=1000_P=2_q=1_pickle_0.file'\n",
    "pickle_model_name.split('poly')[1].split('_')"
   ]
  },
  {
   "cell_type": "code",
   "execution_count": 7,
   "metadata": {
    "ExecuteTime": {
     "end_time": "2020-05-03T06:02:09.082091Z",
     "start_time": "2020-05-03T06:02:09.074037Z"
    }
   },
   "outputs": [
    {
     "data": {
      "text/plain": [
       "['', 'C=0.0001', 'iter=5000', 'pickle', '1.file']"
      ]
     },
     "execution_count": 7,
     "metadata": {},
     "output_type": "execute_result"
    }
   ],
   "source": [
    "c = b[1].split('_')\n",
    "c"
   ]
  },
  {
   "cell_type": "code",
   "execution_count": 5,
   "metadata": {
    "ExecuteTime": {
     "end_time": "2020-05-03T06:01:26.200819Z",
     "start_time": "2020-05-03T06:01:26.193369Z"
    }
   },
   "outputs": [
    {
     "data": {
      "text/plain": [
       "['2020_05_01_svm_', '_C=0.0001_iter=5000_pickle_1.file']"
      ]
     },
     "execution_count": 5,
     "metadata": {},
     "output_type": "execute_result"
    }
   ],
   "source": [
    "a =  '2020_05_01_svm_linear_C=0.0001_iter=5000_pickle_1.file'\n",
    "b = a.split('linear')\n",
    "b"
   ]
  },
  {
   "cell_type": "code",
   "execution_count": 2,
   "metadata": {
    "ExecuteTime": {
     "end_time": "2020-05-03T05:47:23.878937Z",
     "start_time": "2020-05-03T05:47:23.874430Z"
    }
   },
   "outputs": [
    {
     "data": {
      "text/plain": [
       "True"
      ]
     },
     "execution_count": 2,
     "metadata": {},
     "output_type": "execute_result"
    }
   ],
   "source": [
    "'linear' in '2020_05_01_svm_linear_C=0.0001_iter=5000_pickle_1.file'"
   ]
  },
  {
   "cell_type": "code",
   "execution_count": 1,
   "metadata": {
    "ExecuteTime": {
     "end_time": "2020-05-03T05:45:55.532861Z",
     "start_time": "2020-05-03T05:45:55.520779Z"
    }
   },
   "outputs": [
    {
     "data": {
      "text/plain": [
       "True"
      ]
     },
     "execution_count": 1,
     "metadata": {},
     "output_type": "execute_result"
    }
   ],
   "source": [
    "'rbf' in '2020_05_01_svm_rbf_C=0.01_iter=7000_sigma=100000_pickle_2.file'"
   ]
  },
  {
   "cell_type": "code",
   "execution_count": 11,
   "metadata": {
    "ExecuteTime": {
     "end_time": "2020-05-01T11:05:46.026238Z",
     "start_time": "2020-05-01T11:05:46.020075Z"
    }
   },
   "outputs": [
    {
     "data": {
      "text/plain": [
       "1095"
      ]
     },
     "execution_count": 11,
     "metadata": {},
     "output_type": "execute_result"
    }
   ],
   "source": [
    "100+30+40+60+70+100+15+40+30+80+200+160+40+180+180+200+40+100+100+40+60+40+50+60+40+50+60+90+320+50+190+190+500+50+30+500+190+40+500-3720"
   ]
  },
  {
   "cell_type": "code",
   "execution_count": 10,
   "metadata": {
    "ExecuteTime": {
     "end_time": "2020-05-01T11:05:26.114708Z",
     "start_time": "2020-05-01T11:05:26.109684Z"
    }
   },
   "outputs": [
    {
     "data": {
      "text/plain": [
       "-459"
      ]
     },
     "execution_count": 10,
     "metadata": {},
     "output_type": "execute_result"
    }
   ],
   "source": [
    "50+80+80+46+85+60+50+50+80+100+100+120+20+200+50+50+200+100+50+60+100+100+110+70+440+340+50+70+50+50+50+50+50+100-3720"
   ]
  },
  {
   "cell_type": "code",
   "execution_count": 8,
   "metadata": {
    "ExecuteTime": {
     "end_time": "2020-05-01T11:04:53.045801Z",
     "start_time": "2020-05-01T11:04:53.040233Z"
    }
   },
   "outputs": [
    {
     "data": {
      "text/plain": [
       "-1357"
      ]
     },
     "execution_count": 8,
     "metadata": {},
     "output_type": "execute_result"
    }
   ],
   "source": [
    "90+30+20+20+40+30+23+15+60+40+200+220+20+30+180+30+20+50++40+20+40+40+40+30+20+40+30+200+180+35+50+30+50+50+50+200+50+50-3720"
   ]
  },
  {
   "cell_type": "code",
   "execution_count": 7,
   "metadata": {
    "ExecuteTime": {
     "end_time": "2020-05-01T11:04:29.874279Z",
     "start_time": "2020-05-01T11:04:29.870715Z"
    }
   },
   "outputs": [
    {
     "data": {
      "text/plain": [
       "3720"
      ]
     },
     "execution_count": 7,
     "metadata": {},
     "output_type": "execute_result"
    }
   ],
   "source": [
    "31*120"
   ]
  },
  {
   "cell_type": "code",
   "execution_count": 6,
   "metadata": {
    "ExecuteTime": {
     "end_time": "2020-05-01T10:21:46.244896Z",
     "start_time": "2020-05-01T10:21:46.240501Z"
    }
   },
   "outputs": [
    {
     "data": {
      "text/plain": [
       "numpy.int32"
      ]
     },
     "execution_count": 6,
     "metadata": {},
     "output_type": "execute_result"
    }
   ],
   "source": [
    "a = np.arange(10)\n",
    "a0 = a[0]\n",
    "type(a0)\n",
    "# len(a)"
   ]
  },
  {
   "cell_type": "code",
   "execution_count": 21,
   "metadata": {
    "ExecuteTime": {
     "end_time": "2020-04-30T14:20:30.911607Z",
     "start_time": "2020-04-30T14:20:30.908582Z"
    }
   },
   "outputs": [
    {
     "data": {
      "text/plain": [
       "[2, 4, 6, 8, 10]"
      ]
     },
     "execution_count": 21,
     "metadata": {},
     "output_type": "execute_result"
    }
   ],
   "source": [
    "b = list(range(2,11,2))\n",
    "b"
   ]
  },
  {
   "cell_type": "code",
   "execution_count": 20,
   "metadata": {
    "ExecuteTime": {
     "end_time": "2020-04-30T09:07:10.670174Z",
     "start_time": "2020-04-30T09:07:10.663857Z"
    }
   },
   "outputs": [
    {
     "data": {
      "text/plain": [
       "1e-05"
      ]
     },
     "execution_count": 20,
     "metadata": {},
     "output_type": "execute_result"
    }
   ],
   "source": [
    "10 ** -5"
   ]
  },
  {
   "cell_type": "code",
   "execution_count": 19,
   "metadata": {
    "ExecuteTime": {
     "end_time": "2020-04-30T09:05:43.717182Z",
     "start_time": "2020-04-30T09:05:43.713236Z"
    }
   },
   "outputs": [
    {
     "data": {
      "text/plain": [
       "[-5, -4, -3, -2, -1, 0, 1, 2, 3, 4]"
      ]
     },
     "execution_count": 19,
     "metadata": {},
     "output_type": "execute_result"
    }
   ],
   "source": [
    "a = list(range(-5,5))\n",
    "a"
   ]
  },
  {
   "cell_type": "code",
   "execution_count": 17,
   "metadata": {
    "ExecuteTime": {
     "end_time": "2020-04-30T08:43:46.538104Z",
     "start_time": "2020-04-30T08:43:46.532738Z"
    }
   },
   "outputs": [
    {
     "data": {
      "text/plain": [
       "2e-15"
      ]
     },
     "execution_count": 17,
     "metadata": {},
     "output_type": "execute_result"
    }
   ],
   "source": [
    "0.000000000000002"
   ]
  },
  {
   "cell_type": "code",
   "execution_count": 16,
   "metadata": {
    "ExecuteTime": {
     "end_time": "2020-04-30T03:39:52.921637Z",
     "start_time": "2020-04-30T03:39:52.917841Z"
    }
   },
   "outputs": [
    {
     "data": {
      "text/plain": [
       "array([1.        , 2.71828183])"
      ]
     },
     "execution_count": 16,
     "metadata": {},
     "output_type": "execute_result"
    }
   ],
   "source": [
    "np.exp(b)"
   ]
  },
  {
   "cell_type": "code",
   "execution_count": 15,
   "metadata": {
    "ExecuteTime": {
     "end_time": "2020-04-30T03:38:32.455381Z",
     "start_time": "2020-04-30T03:38:32.452353Z"
    }
   },
   "outputs": [
    {
     "data": {
      "text/plain": [
       "array([  1,   9,  25,  49,  81, 121, 169, 225, 289, 361], dtype=int32)"
      ]
     },
     "execution_count": 15,
     "metadata": {},
     "output_type": "execute_result"
    }
   ],
   "source": [
    "a_b = np.dot(a,b)\n",
    "a_b ** 2"
   ]
  },
  {
   "cell_type": "code",
   "execution_count": 13,
   "metadata": {
    "ExecuteTime": {
     "end_time": "2020-04-30T03:18:57.215728Z",
     "start_time": "2020-04-30T03:18:57.211725Z"
    }
   },
   "outputs": [
    {
     "data": {
      "text/plain": [
       "array([[ 0,  0],\n",
       "       [ 2,  2],\n",
       "       [ 4,  4],\n",
       "       [ 6,  6],\n",
       "       [ 8,  8],\n",
       "       [10, 10],\n",
       "       [12, 12],\n",
       "       [14, 14],\n",
       "       [16, 16],\n",
       "       [18, 18]])"
      ]
     },
     "execution_count": 13,
     "metadata": {},
     "output_type": "execute_result"
    }
   ],
   "source": [
    "a - b"
   ]
  },
  {
   "cell_type": "code",
   "execution_count": 12,
   "metadata": {
    "ExecuteTime": {
     "end_time": "2020-04-30T03:18:52.708148Z",
     "start_time": "2020-04-30T03:18:52.705150Z"
    }
   },
   "outputs": [
    {
     "data": {
      "text/plain": [
       "array([0, 1])"
      ]
     },
     "execution_count": 12,
     "metadata": {},
     "output_type": "execute_result"
    }
   ],
   "source": [
    "b = np.arange(2)\n",
    "b"
   ]
  },
  {
   "cell_type": "code",
   "execution_count": 11,
   "metadata": {
    "ExecuteTime": {
     "end_time": "2020-04-30T03:18:26.471609Z",
     "start_time": "2020-04-30T03:18:26.467212Z"
    }
   },
   "outputs": [
    {
     "data": {
      "text/plain": [
       "array([[ 0,  1],\n",
       "       [ 2,  3],\n",
       "       [ 4,  5],\n",
       "       [ 6,  7],\n",
       "       [ 8,  9],\n",
       "       [10, 11],\n",
       "       [12, 13],\n",
       "       [14, 15],\n",
       "       [16, 17],\n",
       "       [18, 19]])"
      ]
     },
     "execution_count": 11,
     "metadata": {},
     "output_type": "execute_result"
    }
   ],
   "source": [
    "a = np.arange(20).reshape(10,2)\n",
    "a"
   ]
  },
  {
   "cell_type": "code",
   "execution_count": 9,
   "metadata": {
    "ExecuteTime": {
     "end_time": "2020-04-30T02:31:08.541514Z",
     "start_time": "2020-04-30T02:31:08.538513Z"
    }
   },
   "outputs": [
    {
     "data": {
      "text/plain": [
       "array([ 0,  7, 16, 27, 40])"
      ]
     },
     "execution_count": 9,
     "metadata": {},
     "output_type": "execute_result"
    }
   ],
   "source": [
    "ab2 = np.multiply(a,b)\n",
    "ab2"
   ]
  },
  {
   "cell_type": "code",
   "execution_count": 7,
   "metadata": {
    "ExecuteTime": {
     "end_time": "2020-04-30T02:30:48.861270Z",
     "start_time": "2020-04-30T02:30:48.856246Z"
    }
   },
   "outputs": [
    {
     "data": {
      "text/plain": [
       "90"
      ]
     },
     "execution_count": 7,
     "metadata": {},
     "output_type": "execute_result"
    }
   ],
   "source": [
    "ab1 =  np.dot(a, b)\n",
    "ab1"
   ]
  },
  {
   "cell_type": "code",
   "execution_count": 4,
   "metadata": {
    "ExecuteTime": {
     "end_time": "2020-04-30T02:30:25.446908Z",
     "start_time": "2020-04-30T02:30:25.443590Z"
    }
   },
   "outputs": [
    {
     "data": {
      "text/plain": [
       "array([ 6,  7,  8,  9, 10])"
      ]
     },
     "execution_count": 4,
     "metadata": {},
     "output_type": "execute_result"
    }
   ],
   "source": [
    "b = np.arange(6, 11)\n",
    "b"
   ]
  },
  {
   "cell_type": "code",
   "execution_count": 1,
   "metadata": {
    "ExecuteTime": {
     "end_time": "2020-04-30T02:29:56.398825Z",
     "start_time": "2020-04-30T02:29:56.384260Z"
    }
   },
   "outputs": [
    {
     "data": {
      "text/plain": [
       "array([0, 1, 2, 3, 4])"
      ]
     },
     "execution_count": 1,
     "metadata": {},
     "output_type": "execute_result"
    }
   ],
   "source": [
    "import numpy as np\n",
    "a = np.arange(5)\n",
    "a"
   ]
  },
  {
   "cell_type": "code",
   "execution_count": 4,
   "metadata": {
    "ExecuteTime": {
     "end_time": "2020-04-29T15:01:00.235160Z",
     "start_time": "2020-04-29T15:01:00.215526Z"
    }
   },
   "outputs": [
    {
     "data": {
      "text/plain": [
       "{1, 2, 3}"
      ]
     },
     "execution_count": 4,
     "metadata": {},
     "output_type": "execute_result"
    }
   ],
   "source": [
    "q = [1,2,3]\n",
    "qs = set(q)\n",
    "qs"
   ]
  },
  {
   "cell_type": "code",
   "execution_count": 6,
   "metadata": {
    "ExecuteTime": {
     "end_time": "2020-04-29T15:01:45.486657Z",
     "start_time": "2020-04-29T15:01:45.472587Z"
    }
   },
   "outputs": [
    {
     "data": {
      "text/plain": [
       "[1, 2, 3, [123], [123]]"
      ]
     },
     "execution_count": 6,
     "metadata": {},
     "output_type": "execute_result"
    }
   ],
   "source": [
    "q = q + [[123]]\n",
    "q"
   ]
  },
  {
   "cell_type": "code",
   "execution_count": 8,
   "metadata": {
    "ExecuteTime": {
     "end_time": "2020-04-29T15:02:13.860211Z",
     "start_time": "2020-04-29T15:02:13.018074Z"
    }
   },
   "outputs": [
    {
     "ename": "TypeError",
     "evalue": "unhashable type: 'list'",
     "output_type": "error",
     "traceback": [
      "\u001b[1;31m---------------------------------------------------------------------------\u001b[0m",
      "\u001b[1;31mTypeError\u001b[0m                                 Traceback (most recent call last)",
      "\u001b[1;32m<ipython-input-8-640ef5073037>\u001b[0m in \u001b[0;36m<module>\u001b[1;34m\u001b[0m\n\u001b[1;32m----> 1\u001b[1;33m \u001b[0mqss\u001b[0m \u001b[1;33m=\u001b[0m \u001b[0mset\u001b[0m\u001b[1;33m(\u001b[0m\u001b[0mq\u001b[0m\u001b[1;33m)\u001b[0m\u001b[1;33m\u001b[0m\u001b[1;33m\u001b[0m\u001b[0m\n\u001b[0m",
      "\u001b[1;31mTypeError\u001b[0m: unhashable type: 'list'"
     ]
    }
   ],
   "source": [
    "qss = set(q)"
   ]
  },
  {
   "cell_type": "code",
   "execution_count": 3,
   "metadata": {
    "ExecuteTime": {
     "end_time": "2020-04-29T08:35:46.660359Z",
     "start_time": "2020-04-29T08:35:46.645473Z"
    }
   },
   "outputs": [
    {
     "name": "stdout",
     "output_type": "stream",
     "text": [
      "0 0\n",
      "1 1\n",
      "2 2\n",
      "3 3\n",
      "4 4\n",
      "5 5\n",
      "6 6\n",
      "7 7\n",
      "8 8\n",
      "9 9\n"
     ]
    }
   ],
   "source": [
    "for i, b in enumerate(a):\n",
    "    print(i, b)"
   ]
  },
  {
   "cell_type": "code",
   "execution_count": 1,
   "metadata": {
    "ExecuteTime": {
     "end_time": "2020-04-29T08:17:39.379719Z",
     "start_time": "2020-04-29T08:17:39.328606Z"
    }
   },
   "outputs": [
    {
     "data": {
      "text/plain": [
       "0.5"
      ]
     },
     "execution_count": 1,
     "metadata": {},
     "output_type": "execute_result"
    }
   ],
   "source": [
    "import numpy as np\n",
    "a = np.arange(10)\n",
    "a[1] * 0.5"
   ]
  },
  {
   "cell_type": "code",
   "execution_count": 2,
   "metadata": {
    "ExecuteTime": {
     "end_time": "2020-04-29T08:18:06.151831Z",
     "start_time": "2020-04-29T08:18:06.138389Z"
    }
   },
   "outputs": [
    {
     "data": {
      "text/plain": [
       "10"
      ]
     },
     "execution_count": 2,
     "metadata": {},
     "output_type": "execute_result"
    }
   ],
   "source": [
    "len(a)"
   ]
  },
  {
   "cell_type": "code",
   "execution_count": 5,
   "metadata": {
    "ExecuteTime": {
     "end_time": "2020-04-29T05:44:33.507520Z",
     "start_time": "2020-04-29T05:44:33.501499Z"
    }
   },
   "outputs": [
    {
     "data": {
      "text/plain": [
       "array([0.78687195, 0.85981758, 0.5002268 , 0.69038768, 0.54238388])"
      ]
     },
     "execution_count": 5,
     "metadata": {},
     "output_type": "execute_result"
    }
   ],
   "source": [
    "b = np.random.random(5)\n",
    "b"
   ]
  },
  {
   "cell_type": "code",
   "execution_count": 7,
   "metadata": {
    "ExecuteTime": {
     "end_time": "2020-04-29T05:44:48.155360Z",
     "start_time": "2020-04-29T05:44:48.150874Z"
    }
   },
   "outputs": [
    {
     "data": {
      "text/plain": [
       "array([7.86871946, 8.59817578, 5.00226796, 6.90387684, 5.42383877])"
      ]
     },
     "execution_count": 7,
     "metadata": {},
     "output_type": "execute_result"
    }
   ],
   "source": [
    "bb = 10 * b\n",
    "bb"
   ]
  },
  {
   "cell_type": "code",
   "execution_count": null,
   "metadata": {},
   "outputs": [],
   "source": []
  },
  {
   "cell_type": "code",
   "execution_count": 2,
   "metadata": {
    "ExecuteTime": {
     "end_time": "2020-04-23T08:20:14.779236Z",
     "start_time": "2020-04-23T08:20:14.771894Z"
    }
   },
   "outputs": [
    {
     "data": {
      "text/plain": [
       "True"
      ]
     },
     "execution_count": 2,
     "metadata": {},
     "output_type": "execute_result"
    }
   ],
   "source": [
    "type(True) == bool"
   ]
  },
  {
   "cell_type": "code",
   "execution_count": 3,
   "metadata": {
    "ExecuteTime": {
     "end_time": "2020-04-23T08:21:25.217925Z",
     "start_time": "2020-04-23T08:21:25.213905Z"
    }
   },
   "outputs": [
    {
     "data": {
      "text/plain": [
       "True"
      ]
     },
     "execution_count": 3,
     "metadata": {},
     "output_type": "execute_result"
    }
   ],
   "source": [
    "not False"
   ]
  },
  {
   "cell_type": "code",
   "execution_count": 2,
   "metadata": {
    "ExecuteTime": {
     "end_time": "2020-04-29T05:31:54.403929Z",
     "start_time": "2020-04-29T05:31:54.400184Z"
    }
   },
   "outputs": [
    {
     "data": {
      "text/plain": [
       "0.0"
      ]
     },
     "execution_count": 2,
     "metadata": {},
     "output_type": "execute_result"
    }
   ],
   "source": [
    "int(0) * 0.05"
   ]
  },
  {
   "cell_type": "code",
   "execution_count": null,
   "metadata": {},
   "outputs": [],
   "source": [
    "[-0.017612 14.053064]"
   ]
  },
  {
   "cell_type": "code",
   "execution_count": 7,
   "metadata": {
    "ExecuteTime": {
     "end_time": "2020-04-28T08:36:02.928205Z",
     "start_time": "2020-04-28T08:36:02.924220Z"
    }
   },
   "outputs": [
    {
     "data": {
      "text/plain": [
       "2"
      ]
     },
     "execution_count": 7,
     "metadata": {},
     "output_type": "execute_result"
    }
   ],
   "source": [
    "min(2,3)"
   ]
  },
  {
   "cell_type": "code",
   "execution_count": 5,
   "metadata": {
    "ExecuteTime": {
     "end_time": "2020-04-25T06:17:15.711154Z",
     "start_time": "2020-04-25T06:17:15.673985Z"
    }
   },
   "outputs": [
    {
     "ename": "NameError",
     "evalue": "name 'NoneType' is not defined",
     "output_type": "error",
     "traceback": [
      "\u001b[1;31m---------------------------------------------------------------------------\u001b[0m",
      "\u001b[1;31mNameError\u001b[0m                                 Traceback (most recent call last)",
      "\u001b[1;32m<ipython-input-5-292307f7b890>\u001b[0m in \u001b[0;36m<module>\u001b[1;34m\u001b[0m\n\u001b[1;32m----> 1\u001b[1;33m \u001b[0mtype\u001b[0m\u001b[1;33m(\u001b[0m\u001b[1;32mNone\u001b[0m\u001b[1;33m)\u001b[0m \u001b[1;33m==\u001b[0m \u001b[0mNoneType\u001b[0m\u001b[1;33m\u001b[0m\u001b[1;33m\u001b[0m\u001b[0m\n\u001b[0m",
      "\u001b[1;31mNameError\u001b[0m: name 'NoneType' is not defined"
     ]
    }
   ],
   "source": [
    "type(None) == NoneType"
   ]
  },
  {
   "cell_type": "code",
   "execution_count": 4,
   "metadata": {
    "ExecuteTime": {
     "end_time": "2020-04-22T04:31:57.931072Z",
     "start_time": "2020-04-22T04:31:57.920044Z"
    }
   },
   "outputs": [],
   "source": [
    "import pandas as pd\n",
    "data_list = []\n",
    "titles = ['name','iter','alpha', 'index', 'acc', 'kappa']\n",
    "with open('1.txt', 'r') as file:\n",
    "    for line in file.readlines():\n",
    "        line_str_list = line.strip().split(',')\n",
    "        data = [line_str_list[0], int(line_str_list[1]), float(line_str_list[2]), int(line_str_list[3]), float(line_str_list[4]), \\\n",
    "               float(line_str_list[5]), line]\n",
    "        data_list.append(data)\n",
    "# sort by iteration time, alpha, index\n",
    "data_dict = {}\n",
    "data_dict['name'] = [d[0] for d in data_list]\n",
    "data_dict['iter'] = [d[1] for d in data_list]\n",
    "data_dict['alpha'] = [d[2] for d in data_list]\n",
    "data_dict['index'] = [d[3] for d in data_list]\n",
    "data_dict['acc'] = [d[4] for d in data_list]\n",
    "data_dict['kappa'] = [d[5] for d in data_list]\n",
    "data_dict['line'] = [d[6] for d in data_list]\n",
    "df = pd.DataFrame(data=data_dict)"
   ]
  },
  {
   "cell_type": "code",
   "execution_count": 6,
   "metadata": {
    "ExecuteTime": {
     "end_time": "2020-04-22T04:32:12.832715Z",
     "start_time": "2020-04-22T04:32:12.822691Z"
    }
   },
   "outputs": [
    {
     "data": {
      "text/html": [
       "<div>\n",
       "<style scoped>\n",
       "    .dataframe tbody tr th:only-of-type {\n",
       "        vertical-align: middle;\n",
       "    }\n",
       "\n",
       "    .dataframe tbody tr th {\n",
       "        vertical-align: top;\n",
       "    }\n",
       "\n",
       "    .dataframe thead th {\n",
       "        text-align: right;\n",
       "    }\n",
       "</style>\n",
       "<table border=\"1\" class=\"dataframe\">\n",
       "  <thead>\n",
       "    <tr style=\"text-align: right;\">\n",
       "      <th></th>\n",
       "      <th>name</th>\n",
       "      <th>iter</th>\n",
       "      <th>alpha</th>\n",
       "      <th>index</th>\n",
       "      <th>acc</th>\n",
       "      <th>kappa</th>\n",
       "      <th>line</th>\n",
       "    </tr>\n",
       "  </thead>\n",
       "  <tbody>\n",
       "    <tr>\n",
       "      <th>0</th>\n",
       "      <td>2020_04_21_lrc_ovo_linear_alpha_iter_13000_alp...</td>\n",
       "      <td>13000</td>\n",
       "      <td>10.0000</td>\n",
       "      <td>0</td>\n",
       "      <td>0.468085</td>\n",
       "      <td>0.351545</td>\n",
       "      <td>2020_04_21_lrc_ovo_linear_alpha_iter_13000_alp...</td>\n",
       "    </tr>\n",
       "    <tr>\n",
       "      <th>1</th>\n",
       "      <td>2020_04_21_lrc_ovo_linear_alpha_iter_13000_alp...</td>\n",
       "      <td>13000</td>\n",
       "      <td>0.0010</td>\n",
       "      <td>6</td>\n",
       "      <td>0.361702</td>\n",
       "      <td>0.201359</td>\n",
       "      <td>2020_04_21_lrc_ovo_linear_alpha_iter_13000_alp...</td>\n",
       "    </tr>\n",
       "    <tr>\n",
       "      <th>2</th>\n",
       "      <td>2020_04_21_lrc_ovo_linear_alpha_iter_13000_alp...</td>\n",
       "      <td>13000</td>\n",
       "      <td>0.0001</td>\n",
       "      <td>8</td>\n",
       "      <td>0.170213</td>\n",
       "      <td>0.000000</td>\n",
       "      <td>2020_04_21_lrc_ovo_linear_alpha_iter_13000_alp...</td>\n",
       "    </tr>\n",
       "    <tr>\n",
       "      <th>3</th>\n",
       "      <td>2020_04_21_lrc_ovo_linear_alpha_iter_13000_alp...</td>\n",
       "      <td>13000</td>\n",
       "      <td>1000.0000</td>\n",
       "      <td>4</td>\n",
       "      <td>0.446809</td>\n",
       "      <td>0.327278</td>\n",
       "      <td>2020_04_21_lrc_ovo_linear_alpha_iter_13000_alp...</td>\n",
       "    </tr>\n",
       "    <tr>\n",
       "      <th>4</th>\n",
       "      <td>2020_04_21_lrc_ovo_linear_alpha_iter_13000_alp...</td>\n",
       "      <td>13000</td>\n",
       "      <td>0.0100</td>\n",
       "      <td>4</td>\n",
       "      <td>0.351064</td>\n",
       "      <td>0.216774</td>\n",
       "      <td>2020_04_21_lrc_ovo_linear_alpha_iter_13000_alp...</td>\n",
       "    </tr>\n",
       "  </tbody>\n",
       "</table>\n",
       "</div>"
      ],
      "text/plain": [
       "                                                name   iter      alpha  index  \\\n",
       "0  2020_04_21_lrc_ovo_linear_alpha_iter_13000_alp...  13000    10.0000      0   \n",
       "1  2020_04_21_lrc_ovo_linear_alpha_iter_13000_alp...  13000     0.0010      6   \n",
       "2  2020_04_21_lrc_ovo_linear_alpha_iter_13000_alp...  13000     0.0001      8   \n",
       "3  2020_04_21_lrc_ovo_linear_alpha_iter_13000_alp...  13000  1000.0000      4   \n",
       "4  2020_04_21_lrc_ovo_linear_alpha_iter_13000_alp...  13000     0.0100      4   \n",
       "\n",
       "        acc     kappa                                               line  \n",
       "0  0.468085  0.351545  2020_04_21_lrc_ovo_linear_alpha_iter_13000_alp...  \n",
       "1  0.361702  0.201359  2020_04_21_lrc_ovo_linear_alpha_iter_13000_alp...  \n",
       "2  0.170213  0.000000  2020_04_21_lrc_ovo_linear_alpha_iter_13000_alp...  \n",
       "3  0.446809  0.327278  2020_04_21_lrc_ovo_linear_alpha_iter_13000_alp...  \n",
       "4  0.351064  0.216774  2020_04_21_lrc_ovo_linear_alpha_iter_13000_alp...  "
      ]
     },
     "execution_count": 6,
     "metadata": {},
     "output_type": "execute_result"
    }
   ],
   "source": [
    "df.head()"
   ]
  },
  {
   "cell_type": "code",
   "execution_count": 7,
   "metadata": {
    "ExecuteTime": {
     "end_time": "2020-04-22T04:32:15.193845Z",
     "start_time": "2020-04-22T04:32:15.180675Z"
    }
   },
   "outputs": [
    {
     "data": {
      "text/html": [
       "<div>\n",
       "<style scoped>\n",
       "    .dataframe tbody tr th:only-of-type {\n",
       "        vertical-align: middle;\n",
       "    }\n",
       "\n",
       "    .dataframe tbody tr th {\n",
       "        vertical-align: top;\n",
       "    }\n",
       "\n",
       "    .dataframe thead th {\n",
       "        text-align: right;\n",
       "    }\n",
       "</style>\n",
       "<table border=\"1\" class=\"dataframe\">\n",
       "  <thead>\n",
       "    <tr style=\"text-align: right;\">\n",
       "      <th></th>\n",
       "      <th>name</th>\n",
       "      <th>iter</th>\n",
       "      <th>alpha</th>\n",
       "      <th>index</th>\n",
       "      <th>acc</th>\n",
       "      <th>kappa</th>\n",
       "      <th>line</th>\n",
       "    </tr>\n",
       "  </thead>\n",
       "  <tbody>\n",
       "    <tr>\n",
       "      <th>32</th>\n",
       "      <td>2020_04_22_lrc_ovo_linear_alpha_iter_13000_alp...</td>\n",
       "      <td>13000</td>\n",
       "      <td>0.00001</td>\n",
       "      <td>0</td>\n",
       "      <td>0.170213</td>\n",
       "      <td>0.0</td>\n",
       "      <td>2020_04_22_lrc_ovo_linear_alpha_iter_13000_alp...</td>\n",
       "    </tr>\n",
       "    <tr>\n",
       "      <th>47</th>\n",
       "      <td>2020_04_22_lrc_ovo_linear_alpha_iter_13000_alp...</td>\n",
       "      <td>13000</td>\n",
       "      <td>0.00001</td>\n",
       "      <td>1</td>\n",
       "      <td>0.170213</td>\n",
       "      <td>0.0</td>\n",
       "      <td>2020_04_22_lrc_ovo_linear_alpha_iter_13000_alp...</td>\n",
       "    </tr>\n",
       "    <tr>\n",
       "      <th>62</th>\n",
       "      <td>2020_04_22_lrc_ovo_linear_alpha_iter_13000_alp...</td>\n",
       "      <td>13000</td>\n",
       "      <td>0.00001</td>\n",
       "      <td>2</td>\n",
       "      <td>0.170213</td>\n",
       "      <td>0.0</td>\n",
       "      <td>2020_04_22_lrc_ovo_linear_alpha_iter_13000_alp...</td>\n",
       "    </tr>\n",
       "    <tr>\n",
       "      <th>77</th>\n",
       "      <td>2020_04_22_lrc_ovo_linear_alpha_iter_13000_alp...</td>\n",
       "      <td>13000</td>\n",
       "      <td>0.00001</td>\n",
       "      <td>3</td>\n",
       "      <td>0.170213</td>\n",
       "      <td>0.0</td>\n",
       "      <td>2020_04_22_lrc_ovo_linear_alpha_iter_13000_alp...</td>\n",
       "    </tr>\n",
       "    <tr>\n",
       "      <th>88</th>\n",
       "      <td>2020_04_22_lrc_ovo_linear_alpha_iter_13000_alp...</td>\n",
       "      <td>13000</td>\n",
       "      <td>0.00001</td>\n",
       "      <td>4</td>\n",
       "      <td>0.170213</td>\n",
       "      <td>0.0</td>\n",
       "      <td>2020_04_22_lrc_ovo_linear_alpha_iter_13000_alp...</td>\n",
       "    </tr>\n",
       "    <tr>\n",
       "      <th>100</th>\n",
       "      <td>2020_04_22_lrc_ovo_linear_alpha_iter_13000_alp...</td>\n",
       "      <td>13000</td>\n",
       "      <td>0.00001</td>\n",
       "      <td>5</td>\n",
       "      <td>0.170213</td>\n",
       "      <td>0.0</td>\n",
       "      <td>2020_04_22_lrc_ovo_linear_alpha_iter_13000_alp...</td>\n",
       "    </tr>\n",
       "    <tr>\n",
       "      <th>114</th>\n",
       "      <td>2020_04_22_lrc_ovo_linear_alpha_iter_13000_alp...</td>\n",
       "      <td>13000</td>\n",
       "      <td>0.00001</td>\n",
       "      <td>6</td>\n",
       "      <td>0.170213</td>\n",
       "      <td>0.0</td>\n",
       "      <td>2020_04_22_lrc_ovo_linear_alpha_iter_13000_alp...</td>\n",
       "    </tr>\n",
       "    <tr>\n",
       "      <th>129</th>\n",
       "      <td>2020_04_22_lrc_ovo_linear_alpha_iter_13000_alp...</td>\n",
       "      <td>13000</td>\n",
       "      <td>0.00001</td>\n",
       "      <td>7</td>\n",
       "      <td>0.170213</td>\n",
       "      <td>0.0</td>\n",
       "      <td>2020_04_22_lrc_ovo_linear_alpha_iter_13000_alp...</td>\n",
       "    </tr>\n",
       "    <tr>\n",
       "      <th>145</th>\n",
       "      <td>2020_04_22_lrc_ovo_linear_alpha_iter_13000_alp...</td>\n",
       "      <td>13000</td>\n",
       "      <td>0.00001</td>\n",
       "      <td>8</td>\n",
       "      <td>0.170213</td>\n",
       "      <td>0.0</td>\n",
       "      <td>2020_04_22_lrc_ovo_linear_alpha_iter_13000_alp...</td>\n",
       "    </tr>\n",
       "    <tr>\n",
       "      <th>160</th>\n",
       "      <td>2020_04_22_lrc_ovo_linear_alpha_iter_13000_alp...</td>\n",
       "      <td>13000</td>\n",
       "      <td>0.00001</td>\n",
       "      <td>9</td>\n",
       "      <td>0.170213</td>\n",
       "      <td>0.0</td>\n",
       "      <td>2020_04_22_lrc_ovo_linear_alpha_iter_13000_alp...</td>\n",
       "    </tr>\n",
       "  </tbody>\n",
       "</table>\n",
       "</div>"
      ],
      "text/plain": [
       "                                                  name   iter    alpha  index  \\\n",
       "32   2020_04_22_lrc_ovo_linear_alpha_iter_13000_alp...  13000  0.00001      0   \n",
       "47   2020_04_22_lrc_ovo_linear_alpha_iter_13000_alp...  13000  0.00001      1   \n",
       "62   2020_04_22_lrc_ovo_linear_alpha_iter_13000_alp...  13000  0.00001      2   \n",
       "77   2020_04_22_lrc_ovo_linear_alpha_iter_13000_alp...  13000  0.00001      3   \n",
       "88   2020_04_22_lrc_ovo_linear_alpha_iter_13000_alp...  13000  0.00001      4   \n",
       "100  2020_04_22_lrc_ovo_linear_alpha_iter_13000_alp...  13000  0.00001      5   \n",
       "114  2020_04_22_lrc_ovo_linear_alpha_iter_13000_alp...  13000  0.00001      6   \n",
       "129  2020_04_22_lrc_ovo_linear_alpha_iter_13000_alp...  13000  0.00001      7   \n",
       "145  2020_04_22_lrc_ovo_linear_alpha_iter_13000_alp...  13000  0.00001      8   \n",
       "160  2020_04_22_lrc_ovo_linear_alpha_iter_13000_alp...  13000  0.00001      9   \n",
       "\n",
       "          acc  kappa                                               line  \n",
       "32   0.170213    0.0  2020_04_22_lrc_ovo_linear_alpha_iter_13000_alp...  \n",
       "47   0.170213    0.0  2020_04_22_lrc_ovo_linear_alpha_iter_13000_alp...  \n",
       "62   0.170213    0.0  2020_04_22_lrc_ovo_linear_alpha_iter_13000_alp...  \n",
       "77   0.170213    0.0  2020_04_22_lrc_ovo_linear_alpha_iter_13000_alp...  \n",
       "88   0.170213    0.0  2020_04_22_lrc_ovo_linear_alpha_iter_13000_alp...  \n",
       "100  0.170213    0.0  2020_04_22_lrc_ovo_linear_alpha_iter_13000_alp...  \n",
       "114  0.170213    0.0  2020_04_22_lrc_ovo_linear_alpha_iter_13000_alp...  \n",
       "129  0.170213    0.0  2020_04_22_lrc_ovo_linear_alpha_iter_13000_alp...  \n",
       "145  0.170213    0.0  2020_04_22_lrc_ovo_linear_alpha_iter_13000_alp...  \n",
       "160  0.170213    0.0  2020_04_22_lrc_ovo_linear_alpha_iter_13000_alp...  "
      ]
     },
     "execution_count": 7,
     "metadata": {},
     "output_type": "execute_result"
    }
   ],
   "source": [
    "sorted_df = df.sort_values(by=['iter', 'alpha', 'index'], ascending=[True, True, True])\n",
    "sorted_df.head(10)"
   ]
  },
  {
   "cell_type": "code",
   "execution_count": 8,
   "metadata": {
    "ExecuteTime": {
     "end_time": "2020-04-22T04:33:54.786470Z",
     "start_time": "2020-04-22T04:33:54.771415Z"
    }
   },
   "outputs": [],
   "source": [
    "sorted_df.to_csv('1.csv')"
   ]
  },
  {
   "cell_type": "code",
   "execution_count": 21,
   "metadata": {
    "ExecuteTime": {
     "end_time": "2020-04-22T06:05:55.470082Z",
     "start_time": "2020-04-22T06:05:55.226861Z"
    }
   },
   "outputs": [
    {
     "name": "stdout",
     "output_type": "stream",
     "text": [
      "2020_04_22_lrc_ovo_linear_alpha_iter_13000_alpha_init_1e-05_classifer_dict_pickle_0.file,13000,1e-05,0,0.1702127659574468,0.0\n",
      "\n",
      "2020_04_22_lrc_ovo_linear_alpha_iter_13000_alpha_init_1e-05_classifer_dict_pickle_1.file,13000,1e-05,1,0.1702127659574468,0.0\n",
      "\n",
      "2020_04_22_lrc_ovo_linear_alpha_iter_13000_alpha_init_1e-05_classifer_dict_pickle_2.file,13000,1e-05,2,0.1702127659574468,0.0\n",
      "\n",
      "2020_04_22_lrc_ovo_linear_alpha_iter_13000_alpha_init_1e-05_classifer_dict_pickle_3.file,13000,1e-05,3,0.1702127659574468,0.0\n",
      "\n",
      "2020_04_22_lrc_ovo_linear_alpha_iter_13000_alpha_init_1e-05_classifer_dict_pickle_4.file,13000,1e-05,4,0.1702127659574468,0.0\n",
      "\n",
      "2020_04_22_lrc_ovo_linear_alpha_iter_13000_alpha_init_1e-05_classifer_dict_pickle_5.file,13000,1e-05,5,0.1702127659574468,0.0\n",
      "\n",
      "2020_04_22_lrc_ovo_linear_alpha_iter_13000_alpha_init_1e-05_classifer_dict_pickle_6.file,13000,1e-05,6,0.1702127659574468,0.0\n",
      "\n",
      "2020_04_22_lrc_ovo_linear_alpha_iter_13000_alpha_init_1e-05_classifer_dict_pickle_7.file,13000,1e-05,7,0.1702127659574468,0.0\n",
      "\n",
      "2020_04_22_lrc_ovo_linear_alpha_iter_13000_alpha_init_1e-05_classifer_dict_pickle_8.file,13000,1e-05,8,0.1702127659574468,0.0\n",
      "\n",
      "2020_04_22_lrc_ovo_linear_alpha_iter_13000_alpha_init_1e-05_classifer_dict_pickle_9.file,13000,1e-05,9,0.1702127659574468,0.0\n",
      "\n",
      "2020_04_22_lrc_ovo_linear_alpha_iter_13000_alpha_init_0.0001_classifer_dict_pickle_0.file,13000,0.0001,0,0.1702127659574468,0.0\n",
      "\n",
      "2020_04_22_lrc_ovo_linear_alpha_iter_13000_alpha_init_0.0001_classifer_dict_pickle_1.file,13000,0.0001,1,0.1702127659574468,0.0\n",
      "\n",
      "2020_04_22_lrc_ovo_linear_alpha_iter_13000_alpha_init_0.0001_classifer_dict_pickle_2.file,13000,0.0001,2,0.1702127659574468,0.0\n",
      "\n",
      "2020_04_22_lrc_ovo_linear_alpha_iter_13000_alpha_init_0.0001_classifer_dict_pickle_3.file,13000,0.0001,3,0.1702127659574468,0.0\n",
      "\n",
      "2020_04_22_lrc_ovo_linear_alpha_iter_13000_alpha_init_0.0001_classifer_dict_pickle_4.file,13000,0.0001,4,0.1702127659574468,0.0\n",
      "\n",
      "2020_04_22_lrc_ovo_linear_alpha_iter_13000_alpha_init_0.0001_classifer_dict_pickle_5.file,13000,0.0001,5,0.1702127659574468,0.0\n",
      "\n",
      "2020_04_22_lrc_ovo_linear_alpha_iter_13000_alpha_init_0.0001_classifer_dict_pickle_6.file,13000,0.0001,6,0.1702127659574468,0.0\n",
      "\n",
      "2020_04_22_lrc_ovo_linear_alpha_iter_13000_alpha_init_0.0001_classifer_dict_pickle_7.file,13000,0.0001,7,0.1702127659574468,0.0\n",
      "\n",
      "2020_04_21_lrc_ovo_linear_alpha_iter_13000_alpha_init_0.0001_classifer_dict_pickle_8.file,13000,0.0001,8,0.1702127659574468,0.0\n",
      "\n",
      "2020_04_22_lrc_ovo_linear_alpha_iter_13000_alpha_init_0.0001_classifer_dict_pickle_9.file,13000,0.0001,9,0.1702127659574468,0.0\n",
      "\n",
      "2020_04_22_lrc_ovo_linear_alpha_iter_13000_alpha_init_0.001_classifer_dict_pickle_0.file,13000,0.001,0,0.425531914893617,0.2806122448979591\n",
      "\n",
      "2020_04_22_lrc_ovo_linear_alpha_iter_13000_alpha_init_0.001_classifer_dict_pickle_1.file,13000,0.001,1,0.30851063829787234,0.14748151248779126\n",
      "\n",
      "2020_04_22_lrc_ovo_linear_alpha_iter_13000_alpha_init_0.001_classifer_dict_pickle_2.file,13000,0.001,2,0.3617021276595745,0.19874982241795713\n",
      "\n",
      "2020_04_22_lrc_ovo_linear_alpha_iter_13000_alpha_init_0.001_classifer_dict_pickle_3.file,13000,0.001,3,0.35106382978723405,0.19079875811459215\n",
      "\n",
      "2020_04_22_lrc_ovo_linear_alpha_iter_13000_alpha_init_0.001_classifer_dict_pickle_4.file,13000,0.001,4,0.39361702127659576,0.24778885301137163\n",
      "\n",
      "2020_04_22_lrc_ovo_linear_alpha_iter_13000_alpha_init_0.001_classifer_dict_pickle_5.file,13000,0.001,5,0.30851063829787234,0.13443830570902393\n",
      "\n",
      "2020_04_21_lrc_ovo_linear_alpha_iter_13000_alpha_init_0.001_classifer_dict_pickle_6.file,13000,0.001,6,0.3617021276595745,0.2013593882752761\n",
      "\n",
      "2020_04_22_lrc_ovo_linear_alpha_iter_13000_alpha_init_0.001_classifer_dict_pickle_7.file,13000,0.001,7,0.40425531914893614,0.25417965429300077\n",
      "\n",
      "2020_04_22_lrc_ovo_linear_alpha_iter_13000_alpha_init_0.001_classifer_dict_pickle_8.file,13000,0.001,8,0.2765957446808511,0.10262529832935562\n",
      "\n",
      "2020_04_22_lrc_ovo_linear_alpha_iter_13000_alpha_init_0.001_classifer_dict_pickle_9.file,13000,0.001,9,0.3829787234042553,0.23351609728665823\n",
      "\n",
      "2020_04_22_lrc_ovo_linear_alpha_iter_13000_alpha_init_0.01_classifer_dict_pickle_0.file,13000,0.01,0,0.3191489361702128,0.18105091206098559\n",
      "\n",
      "2020_04_22_lrc_ovo_linear_alpha_iter_13000_alpha_init_0.01_classifer_dict_pickle_1.file,13000,0.01,1,0.3404255319148936,0.2086897488119484\n",
      "\n",
      "2020_04_22_lrc_ovo_linear_alpha_iter_13000_alpha_init_0.01_classifer_dict_pickle_2.file,13000,0.01,2,0.30851063829787234,0.16961130742049468\n",
      "\n",
      "2020_04_22_lrc_ovo_linear_alpha_iter_13000_alpha_init_0.01_classifer_dict_pickle_3.file,13000,0.01,3,0.3191489361702128,0.17634173055859806\n",
      "\n",
      "2020_04_21_lrc_ovo_linear_alpha_iter_13000_alpha_init_0.01_classifer_dict_pickle_4.file,13000,0.01,4,0.35106382978723405,0.21677366479989074\n",
      "\n",
      "2020_04_22_lrc_ovo_linear_alpha_iter_13000_alpha_init_0.01_classifer_dict_pickle_5.file,13000,0.01,5,0.2978723404255319,0.15786615990226685\n",
      "\n",
      "2020_04_22_lrc_ovo_linear_alpha_iter_13000_alpha_init_0.01_classifer_dict_pickle_6.file,13000,0.01,6,0.3404255319148936,0.20588636053958306\n",
      "\n",
      "2020_04_22_lrc_ovo_linear_alpha_iter_13000_alpha_init_0.01_classifer_dict_pickle_7.file,13000,0.01,7,0.30851063829787234,0.17219888903942554\n",
      "\n",
      "2020_04_22_lrc_ovo_linear_alpha_iter_13000_alpha_init_0.01_classifer_dict_pickle_8.file,13000,0.01,8,0.35106382978723405,0.22060622536359928\n",
      "\n",
      "2020_04_22_lrc_ovo_linear_alpha_iter_13000_alpha_init_0.01_classifer_dict_pickle_9.file,13000,0.01,9,0.3404255319148936,0.2082597473169406\n",
      "\n",
      "2020_04_22_lrc_ovo_linear_alpha_iter_13000_alpha_init_0.1_classifer_dict_pickle_0.file,13000,0.1,0,0.3723404255319149,0.24656975954354024\n",
      "\n",
      "2020_04_22_lrc_ovo_linear_alpha_iter_13000_alpha_init_0.1_classifer_dict_pickle_1.file,13000,0.1,1,0.3723404255319149,0.24482570806100218\n",
      "\n",
      "2020_04_21_lrc_ovo_linear_alpha_iter_13000_alpha_init_0.1_classifer_dict_pickle_2.file,13000,0.1,2,0.35106382978723405,0.22303523035230355\n",
      "\n",
      "2020_04_22_lrc_ovo_linear_alpha_iter_13000_alpha_init_0.1_classifer_dict_pickle_3.file,13000,0.1,3,0.3617021276595745,0.23463156466277654\n",
      "\n",
      "2020_04_22_lrc_ovo_linear_alpha_iter_13000_alpha_init_0.1_classifer_dict_pickle_4.file,13000,0.1,4,0.35106382978723405,0.218907505789402\n",
      "\n",
      "2020_04_22_lrc_ovo_linear_alpha_iter_13000_alpha_init_0.1_classifer_dict_pickle_5.file,13000,0.1,5,0.35106382978723405,0.22544914223963256\n",
      "\n",
      "2020_04_22_lrc_ovo_linear_alpha_iter_13000_alpha_init_0.1_classifer_dict_pickle_6.file,13000,0.1,6,0.35106382978723405,0.22155851208254143\n",
      "\n",
      "2020_04_22_lrc_ovo_linear_alpha_iter_13000_alpha_init_0.1_classifer_dict_pickle_7.file,13000,0.1,7,0.3617021276595745,0.2356687898089172\n",
      "\n",
      "2020_04_22_lrc_ovo_linear_alpha_iter_13000_alpha_init_0.1_classifer_dict_pickle_8.file,13000,0.1,8,0.35106382978723405,0.22102975139247386\n",
      "\n",
      "2020_04_22_lrc_ovo_linear_alpha_iter_13000_alpha_init_0.1_classifer_dict_pickle_9.file,13000,0.1,9,0.35106382978723405,0.22250847457627118\n",
      "\n",
      "2020_04_21_lrc_ovo_linear_alpha_iter_13000_alpha_init_1.0_classifer_dict_pickle_0.file,13000,1.0,0,0.44680851063829785,0.3240215737795602\n",
      "\n",
      "2020_04_22_lrc_ovo_linear_alpha_iter_13000_alpha_init_1.0_classifer_dict_pickle_1.file,13000,1.0,1,0.43617021276595747,0.3093026479966727\n",
      "\n",
      "2020_04_22_lrc_ovo_linear_alpha_iter_13000_alpha_init_1.0_classifer_dict_pickle_2.file,13000,1.0,2,0.44680851063829785,0.3237410071942446\n",
      "\n",
      "2020_04_22_lrc_ovo_linear_alpha_iter_13000_alpha_init_1.0_classifer_dict_pickle_3.file,13000,1.0,3,0.43617021276595747,0.3094941094941095\n",
      "\n",
      "2020_04_22_lrc_ovo_linear_alpha_iter_13000_alpha_init_1.0_classifer_dict_pickle_4.file,13000,1.0,4,0.43617021276595747,0.310258895195902\n",
      "\n",
      "2020_04_22_lrc_ovo_linear_alpha_iter_13000_alpha_init_1.0_classifer_dict_pickle_5.file,13000,1.0,5,0.4574468085106383,0.3358270989193682\n",
      "\n",
      "2020_04_22_lrc_ovo_linear_alpha_iter_13000_alpha_init_1.0_classifer_dict_pickle_6.file,13000,1.0,6,0.44680851063829785,0.32486187845303865\n",
      "\n",
      "2020_04_22_lrc_ovo_linear_alpha_iter_13000_alpha_init_1.0_classifer_dict_pickle_7.file,13000,1.0,7,0.44680851063829785,0.32486187845303865\n",
      "\n",
      "2020_04_22_lrc_ovo_linear_alpha_iter_13000_alpha_init_1.0_classifer_dict_pickle_8.file,13000,1.0,8,0.43617021276595747,0.30978110279855914\n",
      "\n",
      "2020_04_22_lrc_ovo_linear_alpha_iter_13000_alpha_init_1.0_classifer_dict_pickle_9.file,13000,1.0,9,0.44680851063829785,0.324582009119801\n",
      "\n",
      "2020_04_21_lrc_ovo_linear_alpha_iter_13000_alpha_init_10_classifer_dict_pickle_0.file,13000,10,0,0.46808510638297873,0.35154525386313473\n",
      "\n",
      "2020_04_22_lrc_ovo_linear_alpha_iter_13000_alpha_init_10_classifer_dict_pickle_1.file,13000,10,1,0.46808510638297873,0.35154525386313473\n",
      "\n",
      "2020_04_22_lrc_ovo_linear_alpha_iter_13000_alpha_init_10_classifer_dict_pickle_2.file,13000,10,2,0.46808510638297873,0.3519029233314948\n",
      "\n",
      "2020_04_22_lrc_ovo_linear_alpha_iter_13000_alpha_init_10_classifer_dict_pickle_3.file,13000,10,3,0.46808510638297873,0.3519029233314948\n",
      "\n",
      "2020_04_22_lrc_ovo_linear_alpha_iter_13000_alpha_init_10_classifer_dict_pickle_4.file,13000,10,4,0.46808510638297873,0.3495709936340991\n",
      "\n",
      "2020_04_22_lrc_ovo_linear_alpha_iter_13000_alpha_init_10_classifer_dict_pickle_5.file,13000,10,5,0.46808510638297873,0.3495709936340991\n",
      "\n",
      "2020_04_22_lrc_ovo_linear_alpha_iter_13000_alpha_init_10_classifer_dict_pickle_6.file,13000,10,6,0.46808510638297873,0.3495709936340991\n",
      "\n",
      "2020_04_22_lrc_ovo_linear_alpha_iter_13000_alpha_init_10_classifer_dict_pickle_7.file,13000,10,7,0.46808510638297873,0.3519029233314948\n",
      "\n",
      "2020_04_22_lrc_ovo_linear_alpha_iter_13000_alpha_init_10_classifer_dict_pickle_8.file,13000,10,8,0.46808510638297873,0.35217091660923505\n",
      "\n",
      "2020_04_22_lrc_ovo_linear_alpha_iter_13000_alpha_init_10_classifer_dict_pickle_9.file,13000,10,9,0.46808510638297873,0.35109761148695295\n",
      "\n",
      "2020_04_22_lrc_ovo_linear_alpha_iter_13000_alpha_init_100_classifer_dict_pickle_0.file,13000,100,0,0.44680851063829785,0.32681448836248445\n",
      "\n",
      "2020_04_22_lrc_ovo_linear_alpha_iter_13000_alpha_init_100_classifer_dict_pickle_1.file,13000,100,1,0.43617021276595747,0.31594123300837573\n",
      "\n",
      "2020_04_21_lrc_ovo_linear_alpha_iter_13000_alpha_init_100_classifer_dict_pickle_2.file,13000,100,2,0.44680851063829785,0.32681448836248445\n",
      "\n",
      "2020_04_22_lrc_ovo_linear_alpha_iter_13000_alpha_init_100_classifer_dict_pickle_3.file,13000,100,3,0.4574468085106383,0.34103092783505157\n",
      "\n",
      "2020_04_22_lrc_ovo_linear_alpha_iter_13000_alpha_init_100_classifer_dict_pickle_4.file,13000,100,4,0.44680851063829785,0.32681448836248445\n",
      "\n",
      "2020_04_22_lrc_ovo_linear_alpha_iter_13000_alpha_init_100_classifer_dict_pickle_5.file,13000,100,5,0.43617021276595747,0.31547128331959334\n",
      "\n",
      "2020_04_22_lrc_ovo_linear_alpha_iter_13000_alpha_init_100_classifer_dict_pickle_6.file,13000,100,6,0.44680851063829785,0.32681448836248445\n",
      "\n",
      "2020_04_22_lrc_ovo_linear_alpha_iter_13000_alpha_init_100_classifer_dict_pickle_7.file,13000,100,7,0.43617021276595747,0.31547128331959334\n",
      "\n",
      "2020_04_22_lrc_ovo_linear_alpha_iter_13000_alpha_init_100_classifer_dict_pickle_8.file,13000,100,8,0.4574468085106383,0.34148351648351644\n",
      "\n",
      "2020_04_22_lrc_ovo_linear_alpha_iter_13000_alpha_init_100_classifer_dict_pickle_9.file,13000,100,9,0.44680851063829785,0.3296763576522216\n",
      "\n",
      "2020_04_22_lrc_ovo_linear_alpha_iter_13000_alpha_init_1000_classifer_dict_pickle_0.file,13000,1000,0,0.44680851063829785,0.32681448836248445\n",
      "\n",
      "2020_04_22_lrc_ovo_linear_alpha_iter_13000_alpha_init_1000_classifer_dict_pickle_1.file,13000,1000,1,0.4574468085106383,0.34103092783505157\n",
      "\n",
      "2020_04_22_lrc_ovo_linear_alpha_iter_13000_alpha_init_1000_classifer_dict_pickle_2.file,13000,1000,2,0.44680851063829785,0.32681448836248445\n",
      "\n",
      "2020_04_22_lrc_ovo_linear_alpha_iter_13000_alpha_init_1000_classifer_dict_pickle_3.file,13000,1000,3,0.44680851063829785,0.32681448836248445\n",
      "\n",
      "2020_04_21_lrc_ovo_linear_alpha_iter_13000_alpha_init_1000_classifer_dict_pickle_4.file,13000,1000,4,0.44680851063829785,0.3272777319020093\n",
      "\n",
      "2020_04_22_lrc_ovo_linear_alpha_iter_13000_alpha_init_1000_classifer_dict_pickle_5.file,13000,1000,5,0.44680851063829785,0.32681448836248445\n",
      "\n",
      "2020_04_22_lrc_ovo_linear_alpha_iter_13000_alpha_init_1000_classifer_dict_pickle_6.file,13000,1000,6,0.44680851063829785,0.3272777319020093\n",
      "\n",
      "2020_04_22_lrc_ovo_linear_alpha_iter_13000_alpha_init_1000_classifer_dict_pickle_7.file,13000,1000,7,0.4574468085106383,0.34103092783505157\n",
      "\n",
      "2020_04_22_lrc_ovo_linear_alpha_iter_13000_alpha_init_1000_classifer_dict_pickle_8.file,13000,1000,8,0.44680851063829785,0.3272777319020093\n",
      "\n",
      "2020_04_22_lrc_ovo_linear_alpha_iter_13000_alpha_init_1000_classifer_dict_pickle_9.file,13000,1000,9,0.4574468085106383,0.34103092783505157\n",
      "\n",
      "2020_04_22_lrc_ovo_linear_alpha_iter_15000_alpha_init_1e-05_classifer_dict_pickle_0.file,15000,1e-05,0,0.1702127659574468,0.0\n",
      "\n",
      "2020_04_22_lrc_ovo_linear_alpha_iter_15000_alpha_init_1e-05_classifer_dict_pickle_1.file,15000,1e-05,1,0.1702127659574468,0.0\n",
      "\n",
      "2020_04_22_lrc_ovo_linear_alpha_iter_15000_alpha_init_1e-05_classifer_dict_pickle_2.file,15000,1e-05,2,0.1702127659574468,0.0\n",
      "\n",
      "2020_04_22_lrc_ovo_linear_alpha_iter_15000_alpha_init_1e-05_classifer_dict_pickle_3.file,15000,1e-05,3,0.1702127659574468,0.0\n",
      "\n",
      "2020_04_21_lrc_ovo_linear_alpha_iter_15000_alpha_init_1e-05_classifer_dict_pickle_4.file,15000,1e-05,4,0.1702127659574468,0.0\n",
      "\n",
      "2020_04_22_lrc_ovo_linear_alpha_iter_15000_alpha_init_1e-05_classifer_dict_pickle_5.file,15000,1e-05,5,0.1702127659574468,0.0\n",
      "\n",
      "2020_04_22_lrc_ovo_linear_alpha_iter_15000_alpha_init_1e-05_classifer_dict_pickle_6.file,15000,1e-05,6,0.1702127659574468,0.0\n",
      "\n",
      "2020_04_22_lrc_ovo_linear_alpha_iter_15000_alpha_init_1e-05_classifer_dict_pickle_7.file,15000,1e-05,7,0.1702127659574468,0.0\n",
      "\n",
      "2020_04_22_lrc_ovo_linear_alpha_iter_15000_alpha_init_1e-05_classifer_dict_pickle_8.file,15000,1e-05,8,0.1702127659574468,0.0\n",
      "\n",
      "2020_04_22_lrc_ovo_linear_alpha_iter_15000_alpha_init_1e-05_classifer_dict_pickle_9.file,15000,1e-05,9,0.1702127659574468,0.0\n",
      "\n",
      "2020_04_22_lrc_ovo_linear_alpha_iter_15000_alpha_init_0.0001_classifer_dict_pickle_0.file,15000,0.0001,0,0.1702127659574468,0.0\n",
      "\n",
      "2020_04_22_lrc_ovo_linear_alpha_iter_15000_alpha_init_0.0001_classifer_dict_pickle_1.file,15000,0.0001,1,0.1702127659574468,0.0\n",
      "\n",
      "2020_04_21_lrc_ovo_linear_alpha_iter_15000_alpha_init_0.0001_classifer_dict_pickle_2.file,15000,0.0001,2,0.1702127659574468,0.0\n",
      "\n",
      "2020_04_22_lrc_ovo_linear_alpha_iter_15000_alpha_init_0.0001_classifer_dict_pickle_3.file,15000,0.0001,3,0.1702127659574468,0.0\n",
      "\n",
      "2020_04_22_lrc_ovo_linear_alpha_iter_15000_alpha_init_0.0001_classifer_dict_pickle_4.file,15000,0.0001,4,0.1702127659574468,0.0\n",
      "\n",
      "2020_04_22_lrc_ovo_linear_alpha_iter_15000_alpha_init_0.0001_classifer_dict_pickle_5.file,15000,0.0001,5,0.1702127659574468,0.0\n",
      "\n",
      "2020_04_22_lrc_ovo_linear_alpha_iter_15000_alpha_init_0.0001_classifer_dict_pickle_6.file,15000,0.0001,6,0.1702127659574468,0.0\n",
      "\n",
      "2020_04_22_lrc_ovo_linear_alpha_iter_15000_alpha_init_0.0001_classifer_dict_pickle_7.file,15000,0.0001,7,0.1702127659574468,0.0\n",
      "\n",
      "2020_04_22_lrc_ovo_linear_alpha_iter_15000_alpha_init_0.0001_classifer_dict_pickle_8.file,15000,0.0001,8,0.1702127659574468,0.0\n",
      "\n",
      "2020_04_22_lrc_ovo_linear_alpha_iter_15000_alpha_init_0.0001_classifer_dict_pickle_9.file,15000,0.0001,9,0.1702127659574468,0.0\n",
      "\n",
      "2020_04_21_lrc_ovo_linear_alpha_iter_15000_alpha_init_0.001_classifer_dict_pickle_0.file,15000,0.001,0,0.35106382978723405,0.1934167956111971\n",
      "\n",
      "2020_04_22_lrc_ovo_linear_alpha_iter_15000_alpha_init_0.001_classifer_dict_pickle_1.file,15000,0.001,1,0.35106382978723405,0.20427421593116843\n",
      "\n",
      "2020_04_22_lrc_ovo_linear_alpha_iter_15000_alpha_init_0.001_classifer_dict_pickle_2.file,15000,0.001,2,0.35106382978723405,0.19960915689558908\n",
      "\n",
      "2020_04_22_lrc_ovo_linear_alpha_iter_15000_alpha_init_0.001_classifer_dict_pickle_3.file,15000,0.001,3,0.4148936170212766,0.27883944762170454\n",
      "\n",
      "2020_04_22_lrc_ovo_linear_alpha_iter_15000_alpha_init_0.001_classifer_dict_pickle_4.file,15000,0.001,4,0.3723404255319149,0.22368421052631576\n",
      "\n",
      "2020_04_22_lrc_ovo_linear_alpha_iter_15000_alpha_init_0.001_classifer_dict_pickle_5.file,15000,0.001,5,0.3617021276595745,0.2253811289658014\n",
      "\n",
      "2020_04_22_lrc_ovo_linear_alpha_iter_15000_alpha_init_0.001_classifer_dict_pickle_6.file,15000,0.001,6,0.32978723404255317,0.1864267069652424\n",
      "\n",
      "2020_04_22_lrc_ovo_linear_alpha_iter_15000_alpha_init_0.001_classifer_dict_pickle_7.file,15000,0.001,7,0.35106382978723405,0.2088852097130243\n",
      "\n",
      "2020_04_22_lrc_ovo_linear_alpha_iter_15000_alpha_init_0.001_classifer_dict_pickle_8.file,15000,0.001,8,0.3829787234042553,0.24372312387293657\n",
      "\n",
      "2020_04_22_lrc_ovo_linear_alpha_iter_15000_alpha_init_0.001_classifer_dict_pickle_9.file,15000,0.001,9,0.40425531914893614,0.27332965212589727\n",
      "\n",
      "2020_04_22_lrc_ovo_linear_alpha_iter_15000_alpha_init_0.01_classifer_dict_pickle_0.file,15000,0.01,0,0.30851063829787234,0.16700749829584183\n",
      "\n",
      "2020_04_22_lrc_ovo_linear_alpha_iter_15000_alpha_init_0.01_classifer_dict_pickle_1.file,15000,0.01,1,0.3404255319148936,0.21168673069119437\n",
      "\n",
      "2020_04_22_lrc_ovo_linear_alpha_iter_15000_alpha_init_0.01_classifer_dict_pickle_2.file,15000,0.01,2,0.3191489361702128,0.18338536717795575\n",
      "\n",
      "2020_04_22_lrc_ovo_linear_alpha_iter_15000_alpha_init_0.01_classifer_dict_pickle_3.file,15000,0.01,3,0.2872340425531915,0.14324581689566046\n",
      "\n",
      "2020_04_22_lrc_ovo_linear_alpha_iter_15000_alpha_init_0.01_classifer_dict_pickle_4.file,15000,0.01,4,0.32978723404255317,0.19766969245359703\n",
      "\n",
      "2020_04_22_lrc_ovo_linear_alpha_iter_15000_alpha_init_0.01_classifer_dict_pickle_5.file,15000,0.01,5,0.2978723404255319,0.16037352821762077\n",
      "\n",
      "2020_04_22_lrc_ovo_linear_alpha_iter_15000_alpha_init_0.01_classifer_dict_pickle_6.file,15000,0.01,6,0.2872340425531915,0.1446421295667527\n",
      "\n",
      "2020_04_22_lrc_ovo_linear_alpha_iter_15000_alpha_init_0.01_classifer_dict_pickle_7.file,15000,0.01,7,0.3191489361702128,0.17870307167235497\n",
      "\n",
      "2020_04_22_lrc_ovo_linear_alpha_iter_15000_alpha_init_0.01_classifer_dict_pickle_8.file,15000,0.01,8,0.32978723404255317,0.1954897432414074\n",
      "\n",
      "2020_04_22_lrc_ovo_linear_alpha_iter_15000_alpha_init_0.01_classifer_dict_pickle_9.file,15000,0.01,9,0.32978723404255317,0.19777837984286098\n",
      "\n",
      "2020_04_22_lrc_ovo_linear_alpha_iter_15000_alpha_init_0.1_classifer_dict_pickle_0.file,15000,0.1,0,0.3404255319148936,0.2084748064647562\n",
      "\n",
      "2020_04_22_lrc_ovo_linear_alpha_iter_15000_alpha_init_0.1_classifer_dict_pickle_1.file,15000,0.1,1,0.3404255319148936,0.20664307105907975\n",
      "\n",
      "2020_04_22_lrc_ovo_linear_alpha_iter_15000_alpha_init_0.1_classifer_dict_pickle_2.file,15000,0.1,2,0.32978723404255317,0.19929691725256896\n",
      "\n"
     ]
    },
    {
     "name": "stdout",
     "output_type": "stream",
     "text": [
      "2020_04_22_lrc_ovo_linear_alpha_iter_15000_alpha_init_0.1_classifer_dict_pickle_3.file,15000,0.1,3,0.35106382978723405,0.22303523035230355\n",
      "\n",
      "2020_04_22_lrc_ovo_linear_alpha_iter_15000_alpha_init_0.1_classifer_dict_pickle_4.file,15000,0.1,4,0.3723404255319149,0.24656975954354024\n",
      "\n",
      "2020_04_22_lrc_ovo_linear_alpha_iter_15000_alpha_init_0.1_classifer_dict_pickle_5.file,15000,0.1,5,0.3617021276595745,0.23431984795004077\n",
      "\n",
      "2020_04_22_lrc_ovo_linear_alpha_iter_15000_alpha_init_0.1_classifer_dict_pickle_6.file,15000,0.1,6,0.3723404255319149,0.24482570806100218\n",
      "\n",
      "2020_04_22_lrc_ovo_linear_alpha_iter_15000_alpha_init_0.1_classifer_dict_pickle_7.file,15000,0.1,7,0.3617021276595745,0.23348736069584128\n",
      "\n",
      "2020_04_21_lrc_ovo_linear_alpha_iter_15000_alpha_init_0.1_classifer_dict_pickle_8.file,15000,0.1,8,0.35106382978723405,0.21975779017553412\n",
      "\n",
      "2020_04_22_lrc_ovo_linear_alpha_iter_15000_alpha_init_0.1_classifer_dict_pickle_9.file,15000,0.1,9,0.32978723404255317,0.19788703778951644\n",
      "\n",
      "2020_04_22_lrc_ovo_linear_alpha_iter_15000_alpha_init_1.0_classifer_dict_pickle_0.file,15000,1.0,0,0.44680851063829785,0.32504832919083126\n",
      "\n",
      "2020_04_22_lrc_ovo_linear_alpha_iter_15000_alpha_init_1.0_classifer_dict_pickle_1.file,15000,1.0,1,0.4574468085106383,0.3378453038674033\n",
      "\n",
      "2020_04_22_lrc_ovo_linear_alpha_iter_15000_alpha_init_1.0_classifer_dict_pickle_2.file,15000,1.0,2,0.46808510638297873,0.3500207440188079\n",
      "\n",
      "2020_04_22_lrc_ovo_linear_alpha_iter_15000_alpha_init_1.0_classifer_dict_pickle_3.file,15000,1.0,3,0.46808510638297873,0.34975096845600445\n",
      "\n",
      "2020_04_22_lrc_ovo_linear_alpha_iter_15000_alpha_init_1.0_classifer_dict_pickle_4.file,15000,1.0,4,0.4787234042553192,0.36695986805937325\n",
      "\n",
      "2020_04_22_lrc_ovo_linear_alpha_iter_15000_alpha_init_1.0_classifer_dict_pickle_5.file,15000,1.0,5,0.4574468085106383,0.33472106577851785\n",
      "\n",
      "2020_04_21_lrc_ovo_linear_alpha_iter_15000_alpha_init_1.0_classifer_dict_pickle_6.file,15000,1.0,6,0.46808510638297873,0.35109761148695295\n",
      "\n",
      "2020_04_22_lrc_ovo_linear_alpha_iter_15000_alpha_init_1.0_classifer_dict_pickle_7.file,15000,1.0,7,0.46808510638297873,0.34975096845600445\n",
      "\n",
      "2020_04_22_lrc_ovo_linear_alpha_iter_15000_alpha_init_1.0_classifer_dict_pickle_8.file,15000,1.0,8,0.48936170212765956,0.37679558011049724\n",
      "\n",
      "2020_04_22_lrc_ovo_linear_alpha_iter_15000_alpha_init_1.0_classifer_dict_pickle_9.file,15000,1.0,9,0.4574468085106383,0.3351823602829011\n",
      "\n",
      "2020_04_22_lrc_ovo_linear_alpha_iter_15000_alpha_init_10_classifer_dict_pickle_0.file,15000,10,0,0.4574468085106383,0.3365624135067811\n",
      "\n",
      "2020_04_22_lrc_ovo_linear_alpha_iter_15000_alpha_init_10_classifer_dict_pickle_1.file,15000,10,1,0.4574468085106383,0.33966942148760326\n",
      "\n",
      "2020_04_22_lrc_ovo_linear_alpha_iter_15000_alpha_init_10_classifer_dict_pickle_2.file,15000,10,2,0.4574468085106383,0.3365624135067811\n",
      "\n",
      "2020_04_22_lrc_ovo_linear_alpha_iter_15000_alpha_init_10_classifer_dict_pickle_3.file,15000,10,3,0.4574468085106383,0.33857615894039733\n",
      "\n",
      "2020_04_22_lrc_ovo_linear_alpha_iter_15000_alpha_init_10_classifer_dict_pickle_4.file,15000,10,4,0.4574468085106383,0.33848489029943424\n",
      "\n",
      "2020_04_22_lrc_ovo_linear_alpha_iter_15000_alpha_init_10_classifer_dict_pickle_5.file,15000,10,5,0.4574468085106383,0.3365624135067811\"\n",
      "2020_04_21_lrc_ovo_linear_alpha_iter_15000_alpha_init_10_classifer_dict_pickle_6.file,15000,10,6,0.4574468085106383,0.33857615894039733\n",
      "\n",
      "2020_04_22_lrc_ovo_linear_alpha_iter_15000_alpha_init_10_classifer_dict_pickle_7.file,15000,10,7,0.4574468085106383,0.33894098179812465\n",
      "\n",
      "2020_04_22_lrc_ovo_linear_alpha_iter_15000_alpha_init_10_classifer_dict_pickle_8.file,15000,10,8,0.4574468085106383,0.34048699958728845\n",
      "\n",
      "2020_04_22_lrc_ovo_linear_alpha_iter_15000_alpha_init_10_classifer_dict_pickle_9.file,15000,10,9,0.4574468085106383,0.34048699958728845\n",
      "\n",
      "2020_04_22_lrc_ovo_linear_alpha_iter_15000_alpha_init_100_classifer_dict_pickle_0.file,15000,100,0,0.425531914893617,0.30408554976693175\n",
      "\n",
      "2020_04_22_lrc_ovo_linear_alpha_iter_15000_alpha_init_100_classifer_dict_pickle_1.file,15000,100,1,0.43617021276595747,0.319863481228669\n",
      "\n",
      "2020_04_22_lrc_ovo_linear_alpha_iter_15000_alpha_init_100_classifer_dict_pickle_2.file,15000,100,2,0.425531914893617,0.3057037340993024\n",
      "\n",
      "2020_04_22_lrc_ovo_linear_alpha_iter_15000_alpha_init_100_classifer_dict_pickle_3.file,15000,100,3,0.43617021276595747,0.3178145967410653\n",
      "\n",
      "2020_04_22_lrc_ovo_linear_alpha_iter_15000_alpha_init_100_classifer_dict_pickle_4.file,15000,100,4,0.425531914893617,0.30617823947512296\n",
      "\n",
      "2020_04_22_lrc_ovo_linear_alpha_iter_15000_alpha_init_100_classifer_dict_pickle_5.file,15000,100,5,0.425531914893617,0.30408554976693175\n",
      "\n",
      "2020_04_22_lrc_ovo_linear_alpha_iter_15000_alpha_init_100_classifer_dict_pickle_6.file,15000,100,6,0.425531914893617,0.3057037340993024\n",
      "\n",
      "2020_04_22_lrc_ovo_linear_alpha_iter_15000_alpha_init_100_classifer_dict_pickle_7.file,15000,100,7,0.425531914893617,0.3057037340993024\n",
      "\n",
      "2020_04_21_lrc_ovo_linear_alpha_iter_15000_alpha_init_100_classifer_dict_pickle_8.file,15000,100,8,0.425531914893617,0.3057037340993024\n",
      "\n",
      "2020_04_22_lrc_ovo_linear_alpha_iter_15000_alpha_init_100_classifer_dict_pickle_9.file,15000,100,9,0.44680851063829785,0.33041095890410954\n",
      "\n",
      "2020_04_22_lrc_ovo_linear_alpha_iter_15000_alpha_init_1000_classifer_dict_pickle_0.file,15000,1000,0,0.425531914893617,0.30408554976693175\n",
      "\n",
      "2020_04_22_lrc_ovo_linear_alpha_iter_15000_alpha_init_1000_classifer_dict_pickle_1.file,15000,1000,1,0.425531914893617,0.30408554976693175\n",
      "\n",
      "2020_04_22_lrc_ovo_linear_alpha_iter_15000_alpha_init_1000_classifer_dict_pickle_2.file,15000,1000,2,0.425531914893617,0.30408554976693175\n",
      "\n",
      "2020_04_22_lrc_ovo_linear_alpha_iter_15000_alpha_init_1000_classifer_dict_pickle_3.file,15000,1000,3,0.425531914893617,0.30408554976693175\n",
      "\n",
      "2020_04_22_lrc_ovo_linear_alpha_iter_15000_alpha_init_1000_classifer_dict_pickle_4.file,15000,1000,4,0.425531914893617,0.3036081767046234\n",
      "\n",
      "2020_04_22_lrc_ovo_linear_alpha_iter_15000_alpha_init_1000_classifer_dict_pickle_5.file,15000,1000,5,0.425531914893617,0.30408554976693175\n",
      "\n",
      "2020_04_22_lrc_ovo_linear_alpha_iter_15000_alpha_init_1000_classifer_dict_pickle_6.file,15000,1000,6,0.425531914893617,0.30408554976693175\n",
      "\n",
      "2020_04_22_lrc_ovo_linear_alpha_iter_15000_alpha_init_1000_classifer_dict_pickle_7.file,15000,1000,7,0.425531914893617,0.30408554976693175\n",
      "\n",
      "2020_04_22_lrc_ovo_linear_alpha_iter_15000_alpha_init_1000_classifer_dict_pickle_8.file,15000,1000,8,0.425531914893617,0.30408554976693175\n",
      "\n",
      "2020_04_22_lrc_ovo_linear_alpha_iter_15000_alpha_init_1000_classifer_dict_pickle_9.file,15000,1000,9,0.425531914893617,0.30408554976693175\n",
      "\n"
     ]
    }
   ],
   "source": [
    "with open('2.txt', 'r') as file:\n",
    "    for line in file.readlines():\n",
    "#         line_str_list = line.strip().split('\"')\n",
    "#         print(line_str_list)\n",
    "        \n",
    "#         line = line.strip()\n",
    "        line_str1_list = line[1 : len(line)-1]\n",
    "        print(line_str1_list)\n",
    "        f = open('5.txt', 'a+')\n",
    "#         line_str1_list += '\\n'\n",
    "        f.write(line_str1_list)\n",
    "        f.close()"
   ]
  },
  {
   "cell_type": "code",
   "execution_count": 11,
   "metadata": {
    "ExecuteTime": {
     "end_time": "2020-04-22T06:00:12.910179Z",
     "start_time": "2020-04-22T06:00:12.907328Z"
    }
   },
   "outputs": [
    {
     "data": {
      "text/plain": [
       "1"
      ]
     },
     "execution_count": 11,
     "metadata": {},
     "output_type": "execute_result"
    }
   ],
   "source": [
    "len(['asdf'])"
   ]
  },
  {
   "cell_type": "code",
   "execution_count": 12,
   "metadata": {
    "ExecuteTime": {
     "end_time": "2020-04-22T06:00:28.783495Z",
     "start_time": "2020-04-22T06:00:28.780494Z"
    }
   },
   "outputs": [
    {
     "data": {
      "text/plain": [
       "4"
      ]
     },
     "execution_count": 12,
     "metadata": {},
     "output_type": "execute_result"
    }
   ],
   "source": [
    "len('asdf')"
   ]
  },
  {
   "cell_type": "code",
   "execution_count": 4,
   "metadata": {
    "ExecuteTime": {
     "end_time": "2020-04-20T09:53:05.402652Z",
     "start_time": "2020-04-20T09:53:05.391775Z"
    }
   },
   "outputs": [
    {
     "name": "stdout",
     "output_type": "stream",
     "text": [
      "22026.465794806718\n"
     ]
    }
   ],
   "source": [
    "import math as m\n",
    "print(m.exp(10))"
   ]
  },
  {
   "cell_type": "code",
   "execution_count": 5,
   "metadata": {
    "ExecuteTime": {
     "end_time": "2020-04-20T09:53:35.613027Z",
     "start_time": "2020-04-20T09:53:35.611044Z"
    }
   },
   "outputs": [
    {
     "name": "stdout",
     "output_type": "stream",
     "text": [
      "2.6881171418161356e+43\n"
     ]
    }
   ],
   "source": [
    "print(m.exp(100))"
   ]
  },
  {
   "cell_type": "code",
   "execution_count": 7,
   "metadata": {
    "ExecuteTime": {
     "end_time": "2020-04-20T09:54:11.215689Z",
     "start_time": "2020-04-20T09:54:11.213183Z"
    }
   },
   "outputs": [
    {
     "name": "stdout",
     "output_type": "stream",
     "text": [
      "7.225973768125749e+86\n"
     ]
    }
   ],
   "source": [
    "print(m.exp(200))"
   ]
  },
  {
   "cell_type": "code",
   "execution_count": 8,
   "metadata": {
    "ExecuteTime": {
     "end_time": "2020-04-20T09:54:12.371376Z",
     "start_time": "2020-04-20T09:54:12.368871Z"
    }
   },
   "outputs": [
    {
     "name": "stdout",
     "output_type": "stream",
     "text": [
      "1.9424263952412558e+130\n"
     ]
    }
   ],
   "source": [
    "print(m.exp(300))"
   ]
  },
  {
   "cell_type": "code",
   "execution_count": 9,
   "metadata": {
    "ExecuteTime": {
     "end_time": "2020-04-20T09:54:25.854570Z",
     "start_time": "2020-04-20T09:54:25.851534Z"
    }
   },
   "outputs": [
    {
     "name": "stdout",
     "output_type": "stream",
     "text": [
      "5.221469689764144e+173\n"
     ]
    }
   ],
   "source": [
    "print(m.exp(400))"
   ]
  },
  {
   "cell_type": "code",
   "execution_count": 10,
   "metadata": {
    "ExecuteTime": {
     "end_time": "2020-04-20T09:54:27.162723Z",
     "start_time": "2020-04-20T09:54:27.160731Z"
    }
   },
   "outputs": [
    {
     "name": "stdout",
     "output_type": "stream",
     "text": [
      "1.4035922178528375e+217\n"
     ]
    }
   ],
   "source": [
    "print(m.exp(500))"
   ]
  },
  {
   "cell_type": "code",
   "execution_count": 11,
   "metadata": {
    "ExecuteTime": {
     "end_time": "2020-04-20T09:54:41.149691Z",
     "start_time": "2020-04-20T09:54:41.147690Z"
    }
   },
   "outputs": [
    {
     "name": "stdout",
     "output_type": "stream",
     "text": [
      "3.7730203009299397e+260\n"
     ]
    }
   ],
   "source": [
    "print(m.exp(600))"
   ]
  },
  {
   "cell_type": "code",
   "execution_count": 12,
   "metadata": {
    "ExecuteTime": {
     "end_time": "2020-04-20T09:54:42.345450Z",
     "start_time": "2020-04-20T09:54:42.343450Z"
    }
   },
   "outputs": [
    {
     "name": "stdout",
     "output_type": "stream",
     "text": [
      "1.0142320547350045e+304\n"
     ]
    }
   ],
   "source": [
    "print(m.exp(700))"
   ]
  },
  {
   "cell_type": "code",
   "execution_count": 13,
   "metadata": {
    "ExecuteTime": {
     "end_time": "2020-04-20T09:54:46.578784Z",
     "start_time": "2020-04-20T09:54:46.574027Z"
    }
   },
   "outputs": [
    {
     "ename": "OverflowError",
     "evalue": "math range error",
     "output_type": "error",
     "traceback": [
      "\u001b[1;31m---------------------------------------------------------------------------\u001b[0m",
      "\u001b[1;31mOverflowError\u001b[0m                             Traceback (most recent call last)",
      "\u001b[1;32m<ipython-input-13-3937f402ed54>\u001b[0m in \u001b[0;36m<module>\u001b[1;34m\u001b[0m\n\u001b[1;32m----> 1\u001b[1;33m \u001b[0mprint\u001b[0m\u001b[1;33m(\u001b[0m\u001b[0mm\u001b[0m\u001b[1;33m.\u001b[0m\u001b[0mexp\u001b[0m\u001b[1;33m(\u001b[0m\u001b[1;36m800\u001b[0m\u001b[1;33m)\u001b[0m\u001b[1;33m)\u001b[0m\u001b[1;33m\u001b[0m\u001b[1;33m\u001b[0m\u001b[0m\n\u001b[0m",
      "\u001b[1;31mOverflowError\u001b[0m: math range error"
     ]
    }
   ],
   "source": [
    "print(m.exp(800))"
   ]
  },
  {
   "cell_type": "code",
   "execution_count": 14,
   "metadata": {
    "ExecuteTime": {
     "end_time": "2020-04-20T10:00:29.782918Z",
     "start_time": "2020-04-20T10:00:29.778393Z"
    }
   },
   "outputs": [
    {
     "name": "stdout",
     "output_type": "stream",
     "text": [
      "4.5399929762484854e-05\n"
     ]
    }
   ],
   "source": [
    "print(m.exp(-10))"
   ]
  },
  {
   "cell_type": "code",
   "execution_count": 15,
   "metadata": {
    "ExecuteTime": {
     "end_time": "2020-04-20T10:00:30.538948Z",
     "start_time": "2020-04-20T10:00:30.535393Z"
    }
   },
   "outputs": [
    {
     "name": "stdout",
     "output_type": "stream",
     "text": [
      "3.720075976020836e-44\n"
     ]
    }
   ],
   "source": [
    "print(m.exp(-100))"
   ]
  },
  {
   "cell_type": "code",
   "execution_count": 16,
   "metadata": {
    "ExecuteTime": {
     "end_time": "2020-04-20T10:00:31.129801Z",
     "start_time": "2020-04-20T10:00:31.127294Z"
    }
   },
   "outputs": [
    {
     "name": "stdout",
     "output_type": "stream",
     "text": [
      "1.3838965267367376e-87\n"
     ]
    }
   ],
   "source": [
    "print(m.exp(-200))"
   ]
  },
  {
   "cell_type": "code",
   "execution_count": 17,
   "metadata": {
    "ExecuteTime": {
     "end_time": "2020-04-20T10:00:31.664644Z",
     "start_time": "2020-04-20T10:00:31.661367Z"
    }
   },
   "outputs": [
    {
     "name": "stdout",
     "output_type": "stream",
     "text": [
      "5.148200222412013e-131\n"
     ]
    }
   ],
   "source": [
    "print(m.exp(-300))"
   ]
  },
  {
   "cell_type": "code",
   "execution_count": 18,
   "metadata": {
    "ExecuteTime": {
     "end_time": "2020-04-20T10:00:32.230654Z",
     "start_time": "2020-04-20T10:00:32.227148Z"
    }
   },
   "outputs": [
    {
     "name": "stdout",
     "output_type": "stream",
     "text": [
      "1.9151695967140057e-174\n"
     ]
    }
   ],
   "source": [
    "print(m.exp(-400))"
   ]
  },
  {
   "cell_type": "code",
   "execution_count": 19,
   "metadata": {
    "ExecuteTime": {
     "end_time": "2020-04-20T10:00:33.264561Z",
     "start_time": "2020-04-20T10:00:33.262560Z"
    }
   },
   "outputs": [
    {
     "name": "stdout",
     "output_type": "stream",
     "text": [
      "7.124576406741286e-218\n"
     ]
    }
   ],
   "source": [
    "print(m.exp(-500))"
   ]
  },
  {
   "cell_type": "code",
   "execution_count": 20,
   "metadata": {
    "ExecuteTime": {
     "end_time": "2020-04-20T10:00:34.405649Z",
     "start_time": "2020-04-20T10:00:34.402932Z"
    }
   },
   "outputs": [
    {
     "name": "stdout",
     "output_type": "stream",
     "text": [
      "2.6503965530043108e-261\n"
     ]
    }
   ],
   "source": [
    "print(m.exp(-600))"
   ]
  },
  {
   "cell_type": "code",
   "execution_count": 21,
   "metadata": {
    "ExecuteTime": {
     "end_time": "2020-04-20T10:00:48.473361Z",
     "start_time": "2020-04-20T10:00:48.469856Z"
    }
   },
   "outputs": [
    {
     "name": "stdout",
     "output_type": "stream",
     "text": [
      "9.85967654375977e-305\n"
     ]
    }
   ],
   "source": [
    "print(m.exp(-700))"
   ]
  },
  {
   "cell_type": "code",
   "execution_count": 22,
   "metadata": {
    "ExecuteTime": {
     "end_time": "2020-04-20T10:00:49.726600Z",
     "start_time": "2020-04-20T10:00:49.724615Z"
    }
   },
   "outputs": [
    {
     "name": "stdout",
     "output_type": "stream",
     "text": [
      "0.0\n"
     ]
    }
   ],
   "source": [
    "print(m.exp(-800))"
   ]
  },
  {
   "cell_type": "code",
   "execution_count": 23,
   "metadata": {
    "ExecuteTime": {
     "end_time": "2020-04-20T10:00:52.308664Z",
     "start_time": "2020-04-20T10:00:52.306662Z"
    }
   },
   "outputs": [
    {
     "name": "stdout",
     "output_type": "stream",
     "text": [
      "0.0\n"
     ]
    }
   ],
   "source": [
    "print(m.exp(-900))"
   ]
  },
  {
   "cell_type": "code",
   "execution_count": 24,
   "metadata": {
    "ExecuteTime": {
     "end_time": "2020-04-20T10:01:00.773609Z",
     "start_time": "2020-04-20T10:01:00.770624Z"
    }
   },
   "outputs": [
    {
     "name": "stdout",
     "output_type": "stream",
     "text": [
      "0.0\n"
     ]
    }
   ],
   "source": [
    "print(m.exp(-1000))"
   ]
  },
  {
   "cell_type": "code",
   "execution_count": 3,
   "metadata": {
    "ExecuteTime": {
     "end_time": "2020-04-20T03:43:36.550289Z",
     "start_time": "2020-04-20T03:43:36.195895Z"
    },
    "code_folding": [
     7,
     9
    ]
   },
   "outputs": [
    {
     "name": "stdout",
     "output_type": "stream",
     "text": [
      "a: 10030\n",
      "b: 30006\n",
      "c: 59964\n"
     ]
    }
   ],
   "source": [
    "# Test: resampling by weight\n",
    "import random\n",
    "def cal_resample_score(w):\n",
    "    \"\"\"\n",
    "    :param\n",
    "        w:\n",
    "            the weight of a sample\n",
    "    :return:\n",
    "        s\n",
    "            score for the sample with the weight (w)\n",
    "    refer:\n",
    "        机器学习-加权采样算法简介\n",
    "            https://blog.csdn.net/xiao2cai3niao/article/details/80587471\n",
    "    \"\"\"\n",
    "    R = random.uniform(0,1)\n",
    "    s = R ** (1/w)\n",
    "    return s\n",
    "a = ['a','b','c']\n",
    "w_list = [0.1, 0.3, 0.6]\n",
    "b = []\n",
    "for i in range(100000):\n",
    "    s_list = [cal_resample_score(w) for w in w_list]\n",
    "    max_s_index = s_list.index(max(s_list))\n",
    "    b.append(a[max_s_index])\n",
    "\n",
    "a_num = 0\n",
    "b_num =0\n",
    "c_num = 0\n",
    "for j in b:\n",
    "    if j == 'a':\n",
    "        a_num += 1\n",
    "    elif j == 'b':\n",
    "        b_num += 1\n",
    "    elif j == 'c':\n",
    "        c_num += 1\n",
    "print('a:',a_num)\n",
    "print('b:',b_num)\n",
    "print('c:',c_num)"
   ]
  },
  {
   "cell_type": "code",
   "execution_count": 3,
   "metadata": {
    "ExecuteTime": {
     "end_time": "2020-04-11T16:00:58.194561Z",
     "start_time": "2020-04-11T16:00:58.182551Z"
    }
   },
   "outputs": [
    {
     "data": {
      "text/plain": [
       "1"
      ]
     },
     "execution_count": 3,
     "metadata": {},
     "output_type": "execute_result"
    }
   ],
   "source": [
    "3%2"
   ]
  },
  {
   "cell_type": "code",
   "execution_count": 2,
   "metadata": {
    "ExecuteTime": {
     "end_time": "2020-04-11T16:00:51.728107Z",
     "start_time": "2020-04-11T16:00:51.709105Z"
    }
   },
   "outputs": [
    {
     "data": {
      "text/plain": [
       "0"
      ]
     },
     "execution_count": 2,
     "metadata": {},
     "output_type": "execute_result"
    }
   ],
   "source": [
    "2%2"
   ]
  },
  {
   "cell_type": "code",
   "execution_count": 1,
   "metadata": {
    "ExecuteTime": {
     "end_time": "2020-04-11T16:00:41.165066Z",
     "start_time": "2020-04-11T16:00:41.110065Z"
    }
   },
   "outputs": [
    {
     "data": {
      "text/plain": [
       "1"
      ]
     },
     "execution_count": 1,
     "metadata": {},
     "output_type": "execute_result"
    }
   ],
   "source": [
    "1%2"
   ]
  },
  {
   "cell_type": "code",
   "execution_count": 7,
   "metadata": {},
   "outputs": [],
   "source": [
    "year_str = datetime.datetime.now().year\n",
    "m = datetime.datetime.now().month\n",
    "d = datetime.datetime.now().day"
   ]
  },
  {
   "cell_type": "code",
   "execution_count": 3,
   "metadata": {
    "code_folding": []
   },
   "outputs": [
    {
     "data": {
      "text/plain": [
       "2020"
      ]
     },
     "execution_count": 3,
     "metadata": {},
     "output_type": "execute_result"
    }
   ],
   "source": [
    "year_str\n",
    "\"\"\"\n",
    "sdcsdcsdc\n",
    "    csdcsdcsdc\n",
    "    sdvsdvsdv\n",
    "    s\n",
    "\"\"\""
   ]
  },
  {
   "cell_type": "code",
   "execution_count": 5,
   "metadata": {},
   "outputs": [
    {
     "data": {
      "text/plain": [
       "int"
      ]
     },
     "execution_count": 5,
     "metadata": {},
     "output_type": "execute_result"
    }
   ],
   "source": [
    "type(year_str)"
   ]
  },
  {
   "cell_type": "code",
   "execution_count": 9,
   "metadata": {},
   "outputs": [
    {
     "data": {
      "text/plain": [
       "3"
      ]
     },
     "execution_count": 9,
     "metadata": {},
     "output_type": "execute_result"
    }
   ],
   "source": [
    "type(m)\n",
    "m"
   ]
  },
  {
   "cell_type": "code",
   "execution_count": 10,
   "metadata": {},
   "outputs": [
    {
     "data": {
      "text/plain": [
       "3.949e-26"
      ]
     },
     "execution_count": 10,
     "metadata": {},
     "output_type": "execute_result"
    }
   ],
   "source": [
    "3.949E-26"
   ]
  },
  {
   "cell_type": "code",
   "execution_count": 17,
   "metadata": {
    "ExecuteTime": {
     "end_time": "2020-04-01T05:35:37.453709Z",
     "start_time": "2020-04-01T05:35:37.430708Z"
    }
   },
   "outputs": [
    {
     "data": {
      "text/plain": [
       "1361"
      ]
     },
     "execution_count": 17,
     "metadata": {},
     "output_type": "execute_result"
    }
   ],
   "source": [
    "40+30+30+30+20+10+10+30+20+30+50+80+30+50+45+40+25+25+25+101+20+20+60+30+30+20+40+10+40+70+50+60+30+15+30+20+25+70"
   ]
  },
  {
   "cell_type": "code",
   "execution_count": 18,
   "metadata": {
    "ExecuteTime": {
     "end_time": "2020-04-01T05:35:54.745708Z",
     "start_time": "2020-04-01T05:35:54.725700Z"
    }
   },
   "outputs": [
    {
     "data": {
      "text/plain": [
       "1830"
      ]
     },
     "execution_count": 18,
     "metadata": {},
     "output_type": "execute_result"
    }
   ],
   "source": [
    "30+60+100+50+50+70+90+60+50+100+90+100+30+50+100+20+50+90+100+20+60+100+60+100+50+50+50+50"
   ]
  },
  {
   "cell_type": "code",
   "execution_count": 19,
   "metadata": {
    "ExecuteTime": {
     "end_time": "2020-04-01T05:36:15.459249Z",
     "start_time": "2020-04-01T05:36:15.437247Z"
    }
   },
   "outputs": [
    {
     "data": {
      "text/plain": [
       "4875"
      ]
     },
     "execution_count": 19,
     "metadata": {},
     "output_type": "execute_result"
    }
   ],
   "source": [
    "100+75+60+70+40+60+60+20+40+30+100+40+100+60+120+3000+20+80 + 20+110+120+60+30+60+180+120+100"
   ]
  },
  {
   "cell_type": "code",
   "execution_count": 21,
   "metadata": {
    "ExecuteTime": {
     "end_time": "2020-04-01T05:39:50.142319Z",
     "start_time": "2020-04-01T05:39:50.127312Z"
    }
   },
   "outputs": [
    {
     "data": {
      "text/plain": [
       "-4919"
      ]
     },
     "execution_count": 21,
     "metadata": {},
     "output_type": "execute_result"
    }
   ],
   "source": [
    "1361-1755+255+260-2520*2"
   ]
  },
  {
   "cell_type": "code",
   "execution_count": 22,
   "metadata": {
    "ExecuteTime": {
     "end_time": "2020-04-01T05:39:54.463321Z",
     "start_time": "2020-04-01T05:39:54.449316Z"
    }
   },
   "outputs": [
    {
     "data": {
      "text/plain": [
       "-3255"
      ]
     },
     "execution_count": 22,
     "metadata": {},
     "output_type": "execute_result"
    }
   ],
   "source": [
    "1830-505+460-2520*2"
   ]
  },
  {
   "cell_type": "code",
   "execution_count": 23,
   "metadata": {
    "ExecuteTime": {
     "end_time": "2020-04-01T05:40:15.820390Z",
     "start_time": "2020-04-01T05:40:15.807387Z"
    }
   },
   "outputs": [
    {
     "data": {
      "text/plain": [
       "1005"
      ]
     },
     "execution_count": 23,
     "metadata": {},
     "output_type": "execute_result"
    }
   ],
   "source": [
    "4875+70+450+650-2520*2"
   ]
  },
  {
   "cell_type": "code",
   "execution_count": 24,
   "metadata": {
    "ExecuteTime": {
     "end_time": "2020-04-01T05:40:38.377543Z",
     "start_time": "2020-04-01T05:40:38.365534Z"
    }
   },
   "outputs": [
    {
     "data": {
      "text/plain": [
       "-7169"
      ]
     },
     "execution_count": 24,
     "metadata": {},
     "output_type": "execute_result"
    }
   ],
   "source": [
    "1005-3255-4919"
   ]
  },
  {
   "cell_type": "code",
   "execution_count": 27,
   "metadata": {
    "ExecuteTime": {
     "end_time": "2020-04-01T09:34:15.650776Z",
     "start_time": "2020-04-01T09:34:15.635775Z"
    }
   },
   "outputs": [
    {
     "data": {
      "text/plain": [
       "[1, 0.1, 0.01, 0.001, 0.0001, 1e-05]"
      ]
     },
     "execution_count": 27,
     "metadata": {},
     "output_type": "execute_result"
    }
   ],
   "source": [
    "alpha_init_list = [10 ** (-i) for i in range(6)]\n",
    "alpha_init_list"
   ]
  },
  {
   "cell_type": "code",
   "execution_count": 28,
   "metadata": {
    "ExecuteTime": {
     "end_time": "2020-04-01T10:14:26.723592Z",
     "start_time": "2020-04-01T10:14:26.706062Z"
    }
   },
   "outputs": [
    {
     "data": {
      "text/plain": [
       "[0.7567148542000278,\n",
       " 0.15577665709378397,\n",
       " 0.7566111869485133,\n",
       " 0.3006339724224314,\n",
       " 0.19227369558338459,\n",
       " 0.6207933901640761,\n",
       " 0.6958730530382243,\n",
       " 0.4456396136715861,\n",
       " 0.4360296713902412,\n",
       " 0.38681243391737385]"
      ]
     },
     "execution_count": 28,
     "metadata": {},
     "output_type": "execute_result"
    }
   ],
   "source": [
    "import random\n",
    "[random.random() for i in range(10)]"
   ]
  },
  {
   "cell_type": "code",
   "execution_count": 29,
   "metadata": {
    "ExecuteTime": {
     "end_time": "2020-04-01T10:37:11.320994Z",
     "start_time": "2020-04-01T10:37:11.306989Z"
    }
   },
   "outputs": [
    {
     "data": {
      "text/plain": [
       "630"
      ]
     },
     "execution_count": 29,
     "metadata": {},
     "output_type": "execute_result"
    }
   ],
   "source": [
    "91+445+94"
   ]
  },
  {
   "cell_type": "code",
   "execution_count": 30,
   "metadata": {
    "ExecuteTime": {
     "end_time": "2020-04-02T09:32:27.201040Z",
     "start_time": "2020-04-02T09:32:27.187037Z"
    }
   },
   "outputs": [
    {
     "data": {
      "text/plain": [
       "0.35936312603200005"
      ]
     },
     "execution_count": 30,
     "metadata": {},
     "output_type": "execute_result"
    }
   ],
   "source": [
    "0.1666864*0.74963+0.23441"
   ]
  },
  {
   "cell_type": "code",
   "execution_count": 31,
   "metadata": {
    "ExecuteTime": {
     "end_time": "2020-04-02T13:08:22.375806Z",
     "start_time": "2020-04-02T13:08:22.362802Z"
    }
   },
   "outputs": [
    {
     "data": {
      "text/plain": [
       "0.2857142857142857"
      ]
     },
     "execution_count": 31,
     "metadata": {},
     "output_type": "execute_result"
    }
   ],
   "source": [
    "6/21"
   ]
  },
  {
   "cell_type": "code",
   "execution_count": 32,
   "metadata": {
    "ExecuteTime": {
     "end_time": "2020-04-02T13:23:09.975518Z",
     "start_time": "2020-04-02T13:23:09.963517Z"
    }
   },
   "outputs": [
    {
     "data": {
      "text/plain": [
       "0.047619047619047616"
      ]
     },
     "execution_count": 32,
     "metadata": {},
     "output_type": "execute_result"
    }
   ],
   "source": [
    "1/21"
   ]
  },
  {
   "cell_type": "code",
   "execution_count": 33,
   "metadata": {
    "ExecuteTime": {
     "end_time": "2020-04-02T13:47:17.815437Z",
     "start_time": "2020-04-02T13:47:17.800405Z"
    }
   },
   "outputs": [
    {
     "data": {
      "text/plain": [
       "264"
      ]
     },
     "execution_count": 33,
     "metadata": {},
     "output_type": "execute_result"
    }
   ],
   "source": [
    "72+61+131 # 11 * 24 = 264"
   ]
  },
  {
   "cell_type": "code",
   "execution_count": 34,
   "metadata": {
    "ExecuteTime": {
     "end_time": "2020-04-02T14:24:51.981514Z",
     "start_time": "2020-04-02T14:24:51.968512Z"
    }
   },
   "outputs": [
    {
     "data": {
      "text/plain": [
       "1.0"
      ]
     },
     "execution_count": 34,
     "metadata": {},
     "output_type": "execute_result"
    }
   ],
   "source": [
    "10 / (7-2) / 2"
   ]
  },
  {
   "cell_type": "code",
   "execution_count": 35,
   "metadata": {
    "ExecuteTime": {
     "end_time": "2020-04-03T09:21:21.290416Z",
     "start_time": "2020-04-03T09:21:21.274414Z"
    }
   },
   "outputs": [
    {
     "data": {
      "text/plain": [
       "[1, 2, 3, 4, 5, 6]"
      ]
     },
     "execution_count": 35,
     "metadata": {},
     "output_type": "execute_result"
    }
   ],
   "source": [
    "[1,2,3] + [4,5,6]"
   ]
  },
  {
   "cell_type": "code",
   "execution_count": 36,
   "metadata": {
    "ExecuteTime": {
     "end_time": "2020-04-03T09:46:41.118694Z",
     "start_time": "2020-04-03T09:46:41.094686Z"
    }
   },
   "outputs": [],
   "source": [
    "import numpy as np\n",
    "a = [(1,2), (4,5)]\n",
    "aa = np.array(a)"
   ]
  },
  {
   "cell_type": "code",
   "execution_count": 37,
   "metadata": {
    "ExecuteTime": {
     "end_time": "2020-04-03T09:46:56.486682Z",
     "start_time": "2020-04-03T09:46:56.471684Z"
    }
   },
   "outputs": [
    {
     "data": {
      "text/plain": [
       "numpy.ndarray"
      ]
     },
     "execution_count": 37,
     "metadata": {},
     "output_type": "execute_result"
    }
   ],
   "source": [
    "type(aa)"
   ]
  },
  {
   "cell_type": "code",
   "execution_count": 38,
   "metadata": {
    "ExecuteTime": {
     "end_time": "2020-04-03T09:47:05.780504Z",
     "start_time": "2020-04-03T09:47:05.765504Z"
    }
   },
   "outputs": [
    {
     "data": {
      "text/plain": [
       "array([[1, 2],\n",
       "       [4, 5]])"
      ]
     },
     "execution_count": 38,
     "metadata": {},
     "output_type": "execute_result"
    }
   ],
   "source": [
    "aa"
   ]
  },
  {
   "cell_type": "code",
   "execution_count": 39,
   "metadata": {
    "ExecuteTime": {
     "end_time": "2020-04-04T05:48:11.315205Z",
     "start_time": "2020-04-04T05:48:11.224203Z"
    }
   },
   "outputs": [],
   "source": [
    "import numpy as np"
   ]
  },
  {
   "cell_type": "code",
   "execution_count": 40,
   "metadata": {
    "ExecuteTime": {
     "end_time": "2020-04-04T05:48:11.804203Z",
     "start_time": "2020-04-04T05:48:11.788203Z"
    }
   },
   "outputs": [
    {
     "data": {
      "text/plain": [
       "(3,)"
      ]
     },
     "execution_count": 40,
     "metadata": {},
     "output_type": "execute_result"
    }
   ],
   "source": [
    "a = np.array([1, 2, 3])\n",
    "a.shape"
   ]
  },
  {
   "cell_type": "code",
   "execution_count": 41,
   "metadata": {
    "ExecuteTime": {
     "end_time": "2020-04-04T05:48:12.441207Z",
     "start_time": "2020-04-04T05:48:12.425204Z"
    }
   },
   "outputs": [
    {
     "data": {
      "text/plain": [
       "(3,)"
      ]
     },
     "execution_count": 41,
     "metadata": {},
     "output_type": "execute_result"
    }
   ],
   "source": [
    "b = np.array([4, 5, 6])\n",
    "b.shape"
   ]
  },
  {
   "cell_type": "code",
   "execution_count": 43,
   "metadata": {
    "ExecuteTime": {
     "end_time": "2020-04-04T05:48:22.184107Z",
     "start_time": "2020-04-04T05:48:22.150107Z"
    }
   },
   "outputs": [
    {
     "data": {
      "text/plain": [
       "array([[1, 4],\n",
       "       [2, 5],\n",
       "       [3, 6]])"
      ]
     },
     "execution_count": 43,
     "metadata": {},
     "output_type": "execute_result"
    }
   ],
   "source": [
    "c = np.c_[a,b]\n",
    "c"
   ]
  },
  {
   "cell_type": "code",
   "execution_count": 44,
   "metadata": {
    "ExecuteTime": {
     "end_time": "2020-04-04T05:49:42.792140Z",
     "start_time": "2020-04-04T05:49:42.779143Z"
    }
   },
   "outputs": [
    {
     "data": {
      "text/plain": [
       "array([1, 2, 3])"
      ]
     },
     "execution_count": 44,
     "metadata": {},
     "output_type": "execute_result"
    }
   ],
   "source": [
    "a"
   ]
  },
  {
   "cell_type": "code",
   "execution_count": 46,
   "metadata": {
    "ExecuteTime": {
     "end_time": "2020-04-04T05:50:19.844406Z",
     "start_time": "2020-04-04T05:50:19.827399Z"
    }
   },
   "outputs": [
    {
     "data": {
      "text/plain": [
       "array([1, 2, 3, 4, 5, 6])"
      ]
     },
     "execution_count": 46,
     "metadata": {},
     "output_type": "execute_result"
    }
   ],
   "source": [
    "d = np.r_[a,b]\n",
    "d"
   ]
  },
  {
   "cell_type": "code",
   "execution_count": 47,
   "metadata": {
    "ExecuteTime": {
     "end_time": "2020-04-04T05:50:31.340767Z",
     "start_time": "2020-04-04T05:50:31.328765Z"
    }
   },
   "outputs": [
    {
     "data": {
      "text/plain": [
       "(6,)"
      ]
     },
     "execution_count": 47,
     "metadata": {},
     "output_type": "execute_result"
    }
   ],
   "source": [
    "d.shape"
   ]
  },
  {
   "cell_type": "code",
   "execution_count": 49,
   "metadata": {
    "ExecuteTime": {
     "end_time": "2020-04-04T07:45:15.035638Z",
     "start_time": "2020-04-04T07:45:15.020633Z"
    }
   },
   "outputs": [
    {
     "data": {
      "text/plain": [
       "array([[0, 1, 2],\n",
       "       [3, 4, 5]])"
      ]
     },
     "execution_count": 49,
     "metadata": {},
     "output_type": "execute_result"
    }
   ],
   "source": [
    "a = np.arange(6).reshape(2,3)\n",
    "a"
   ]
  },
  {
   "cell_type": "code",
   "execution_count": 50,
   "metadata": {
    "ExecuteTime": {
     "end_time": "2020-04-04T07:45:49.333689Z",
     "start_time": "2020-04-04T07:45:49.315689Z"
    }
   },
   "outputs": [
    {
     "data": {
      "text/plain": [
       "array([[3, 4, 5],\n",
       "       [6, 7, 8]])"
      ]
     },
     "execution_count": 50,
     "metadata": {},
     "output_type": "execute_result"
    }
   ],
   "source": [
    "b = np.arange(3,9).reshape(2,3)\n",
    "b"
   ]
  },
  {
   "cell_type": "code",
   "execution_count": 52,
   "metadata": {
    "ExecuteTime": {
     "end_time": "2020-04-04T07:58:12.237273Z",
     "start_time": "2020-04-04T07:58:12.222276Z"
    }
   },
   "outputs": [
    {
     "data": {
      "text/plain": [
       "array([[0, 1, 2, 3, 4, 5],\n",
       "       [3, 4, 5, 6, 7, 8]])"
      ]
     },
     "execution_count": 52,
     "metadata": {},
     "output_type": "execute_result"
    }
   ],
   "source": [
    "c = np.c_[a,b]\n",
    "c"
   ]
  },
  {
   "cell_type": "code",
   "execution_count": 56,
   "metadata": {
    "ExecuteTime": {
     "end_time": "2020-04-04T07:59:55.520182Z",
     "start_time": "2020-04-04T07:59:55.506180Z"
    }
   },
   "outputs": [
    {
     "data": {
      "text/plain": [
       "array([0, 1, 2, 3, 4, 5])"
      ]
     },
     "execution_count": 56,
     "metadata": {},
     "output_type": "execute_result"
    }
   ],
   "source": [
    "ar = a.ravel()\n",
    "ar"
   ]
  },
  {
   "cell_type": "code",
   "execution_count": 58,
   "metadata": {
    "ExecuteTime": {
     "end_time": "2020-04-04T08:00:04.491607Z",
     "start_time": "2020-04-04T08:00:04.478602Z"
    }
   },
   "outputs": [
    {
     "data": {
      "text/plain": [
       "(6,)"
      ]
     },
     "execution_count": 58,
     "metadata": {},
     "output_type": "execute_result"
    }
   ],
   "source": [
    "ar.shape"
   ]
  },
  {
   "cell_type": "code",
   "execution_count": 59,
   "metadata": {
    "ExecuteTime": {
     "end_time": "2020-04-04T08:00:13.989106Z",
     "start_time": "2020-04-04T08:00:13.976104Z"
    }
   },
   "outputs": [
    {
     "data": {
      "text/plain": [
       "array([[0, 1, 2],\n",
       "       [3, 4, 5]])"
      ]
     },
     "execution_count": 59,
     "metadata": {},
     "output_type": "execute_result"
    }
   ],
   "source": [
    "a"
   ]
  },
  {
   "cell_type": "code",
   "execution_count": 61,
   "metadata": {
    "ExecuteTime": {
     "end_time": "2020-04-04T08:03:29.505548Z",
     "start_time": "2020-04-04T08:03:29.491543Z"
    }
   },
   "outputs": [
    {
     "data": {
      "text/plain": [
       "array([   0,    1,    2, 1000,    4,    5])"
      ]
     },
     "execution_count": 61,
     "metadata": {},
     "output_type": "execute_result"
    }
   ],
   "source": [
    "ar[3] = 1000\n",
    "ar"
   ]
  },
  {
   "cell_type": "code",
   "execution_count": 62,
   "metadata": {
    "ExecuteTime": {
     "end_time": "2020-04-04T08:03:33.666356Z",
     "start_time": "2020-04-04T08:03:33.653353Z"
    }
   },
   "outputs": [
    {
     "data": {
      "text/plain": [
       "array([[   0,    1,    2],\n",
       "       [1000,    4,    5]])"
      ]
     },
     "execution_count": 62,
     "metadata": {},
     "output_type": "execute_result"
    }
   ],
   "source": [
    "a"
   ]
  },
  {
   "cell_type": "code",
   "execution_count": 1,
   "metadata": {
    "ExecuteTime": {
     "end_time": "2020-04-05T10:52:26.791168Z",
     "start_time": "2020-04-05T10:52:24.847436Z"
    }
   },
   "outputs": [],
   "source": [
    "import numpy as np\n",
    "import time"
   ]
  },
  {
   "cell_type": "code",
   "execution_count": 2,
   "metadata": {
    "ExecuteTime": {
     "end_time": "2020-04-05T10:52:56.231344Z",
     "start_time": "2020-04-05T10:52:56.216222Z"
    }
   },
   "outputs": [],
   "source": [
    "a = np.arange(10)\n",
    "b = np.arange(2,12)"
   ]
  },
  {
   "cell_type": "code",
   "execution_count": 7,
   "metadata": {
    "ExecuteTime": {
     "end_time": "2020-04-05T10:54:46.326386Z",
     "start_time": "2020-04-05T10:54:46.313378Z"
    }
   },
   "outputs": [
    {
     "data": {
      "text/plain": [
       "False"
      ]
     },
     "execution_count": 7,
     "metadata": {},
     "output_type": "execute_result"
    }
   ],
   "source": [
    "r1 = (a == b).all()\n",
    "r1"
   ]
  },
  {
   "cell_type": "code",
   "execution_count": 5,
   "metadata": {
    "ExecuteTime": {
     "end_time": "2020-04-05T10:54:27.827430Z",
     "start_time": "2020-04-05T10:54:27.794430Z"
    }
   },
   "outputs": [
    {
     "data": {
      "text/plain": [
       "False"
      ]
     },
     "execution_count": 5,
     "metadata": {},
     "output_type": "execute_result"
    }
   ],
   "source": [
    "r2 = np.array_equal(a, b)\n",
    "r2"
   ]
  },
  {
   "cell_type": "code",
   "execution_count": 8,
   "metadata": {
    "ExecuteTime": {
     "end_time": "2020-04-05T10:55:11.455314Z",
     "start_time": "2020-04-05T10:55:11.435307Z"
    }
   },
   "outputs": [
    {
     "data": {
      "text/plain": [
       "False"
      ]
     },
     "execution_count": 8,
     "metadata": {},
     "output_type": "execute_result"
    }
   ],
   "source": [
    "r3 = np.array_equiv(a, b)\n",
    "r3"
   ]
  },
  {
   "cell_type": "code",
   "execution_count": 2,
   "metadata": {
    "ExecuteTime": {
     "end_time": "2020-04-06T09:35:00.939701Z",
     "start_time": "2020-04-06T09:35:00.927702Z"
    }
   },
   "outputs": [
    {
     "data": {
      "text/plain": [
       "1.0"
      ]
     },
     "execution_count": 2,
     "metadata": {},
     "output_type": "execute_result"
    }
   ],
   "source": [
    "0.6435643564356436 + 0.3564356435643564"
   ]
  },
  {
   "cell_type": "code",
   "execution_count": 1,
   "metadata": {
    "ExecuteTime": {
     "end_time": "2020-04-06T09:34:58.492984Z",
     "start_time": "2020-04-06T09:34:58.450981Z"
    }
   },
   "outputs": [
    {
     "data": {
      "text/plain": [
       "2"
      ]
     },
     "execution_count": 1,
     "metadata": {},
     "output_type": "execute_result"
    }
   ],
   "source": [
    "1+1"
   ]
  },
  {
   "cell_type": "code",
   "execution_count": 3,
   "metadata": {
    "ExecuteTime": {
     "end_time": "2020-04-06T09:39:08.986636Z",
     "start_time": "2020-04-06T09:39:08.972632Z"
    }
   },
   "outputs": [
    {
     "data": {
      "text/plain": [
       "1.0"
      ]
     },
     "execution_count": 3,
     "metadata": {},
     "output_type": "execute_result"
    }
   ],
   "source": [
    "0.9069767441860465 + 0.09302325581395349"
   ]
  },
  {
   "cell_type": "code",
   "execution_count": 5,
   "metadata": {
    "ExecuteTime": {
     "end_time": "2020-04-06T14:30:55.439270Z",
     "start_time": "2020-04-06T14:30:55.426264Z"
    }
   },
   "outputs": [
    {
     "data": {
      "text/plain": [
       "float"
      ]
     },
     "execution_count": 5,
     "metadata": {},
     "output_type": "execute_result"
    }
   ],
   "source": [
    "type(10 ** (-0) + 0.0)"
   ]
  },
  {
   "cell_type": "code",
   "execution_count": 6,
   "metadata": {
    "ExecuteTime": {
     "end_time": "2020-04-07T05:24:26.522151Z",
     "start_time": "2020-04-07T05:24:26.492151Z"
    }
   },
   "outputs": [
    {
     "data": {
      "text/plain": [
       "dict_values([1, 0, 0, 3, 2])"
      ]
     },
     "execution_count": 6,
     "metadata": {},
     "output_type": "execute_result"
    }
   ],
   "source": [
    "d = {1:1, 2:0, 3:0, 4:3, 5:2}\n",
    "d.values()"
   ]
  },
  {
   "cell_type": "code",
   "execution_count": 8,
   "metadata": {
    "ExecuteTime": {
     "end_time": "2020-04-07T05:25:24.622153Z",
     "start_time": "2020-04-07T05:25:24.607149Z"
    }
   },
   "outputs": [
    {
     "data": {
      "text/plain": [
       "6"
      ]
     },
     "execution_count": 8,
     "metadata": {},
     "output_type": "execute_result"
    }
   ],
   "source": [
    "dv = sum(d.values())\n",
    "dv"
   ]
  },
  {
   "cell_type": "code",
   "execution_count": 9,
   "metadata": {
    "ExecuteTime": {
     "end_time": "2020-04-07T05:30:55.519742Z",
     "start_time": "2020-04-07T05:30:55.507740Z"
    }
   },
   "outputs": [
    {
     "data": {
      "text/plain": [
       "True"
      ]
     },
     "execution_count": 9,
     "metadata": {},
     "output_type": "execute_result"
    }
   ],
   "source": [
    "1 == 1.0"
   ]
  },
  {
   "cell_type": "code",
   "execution_count": 10,
   "metadata": {
    "ExecuteTime": {
     "end_time": "2020-04-07T06:14:05.569713Z",
     "start_time": "2020-04-07T06:14:05.545711Z"
    }
   },
   "outputs": [
    {
     "data": {
      "text/plain": [
       "[3]"
      ]
     },
     "execution_count": 10,
     "metadata": {},
     "output_type": "execute_result"
    }
   ],
   "source": [
    "a = [1,2,3]\n",
    "a[2:]"
   ]
  },
  {
   "cell_type": "code",
   "execution_count": 12,
   "metadata": {
    "ExecuteTime": {
     "end_time": "2020-04-07T06:15:31.374711Z",
     "start_time": "2020-04-07T06:15:31.360704Z"
    },
    "scrolled": true
   },
   "outputs": [
    {
     "name": "stdout",
     "output_type": "stream",
     "text": [
      "i-j 1 2\n",
      "i-j 1 3\n",
      "i-j 2 3\n"
     ]
    }
   ],
   "source": [
    "for i, ii in enumerate(a):\n",
    "    for j in a[i+1:]:\n",
    "        print('i-j',ii,j)"
   ]
  }
 ],
 "metadata": {
  "kernelspec": {
   "display_name": "Python 3",
   "language": "python",
   "name": "python3"
  },
  "language_info": {
   "codemirror_mode": {
    "name": "ipython",
    "version": 3
   },
   "file_extension": ".py",
   "mimetype": "text/x-python",
   "name": "python",
   "nbconvert_exporter": "python",
   "pygments_lexer": "ipython3",
   "version": "3.8.2"
  },
  "toc": {
   "base_numbering": 1,
   "nav_menu": {},
   "number_sections": true,
   "sideBar": true,
   "skip_h1_title": false,
   "title_cell": "Table of Contents",
   "title_sidebar": "Contents",
   "toc_cell": false,
   "toc_position": {},
   "toc_section_display": true,
   "toc_window_display": false
  },
  "varInspector": {
   "cols": {
    "lenName": 16,
    "lenType": 16,
    "lenVar": 40
   },
   "kernels_config": {
    "python": {
     "delete_cmd_postfix": "",
     "delete_cmd_prefix": "del ",
     "library": "var_list.py",
     "varRefreshCmd": "print(var_dic_list())"
    },
    "r": {
     "delete_cmd_postfix": ") ",
     "delete_cmd_prefix": "rm(",
     "library": "var_list.r",
     "varRefreshCmd": "cat(var_dic_list()) "
    }
   },
   "types_to_exclude": [
    "module",
    "function",
    "builtin_function_or_method",
    "instance",
    "_Feature"
   ],
   "window_display": false
  }
 },
 "nbformat": 4,
 "nbformat_minor": 2
}
