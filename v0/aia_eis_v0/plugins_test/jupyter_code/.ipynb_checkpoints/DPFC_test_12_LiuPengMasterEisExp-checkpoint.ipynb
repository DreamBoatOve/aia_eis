{
 "cells": [
  {
   "cell_type": "code",
   "execution_count": 3,
   "id": "c70efb33",
   "metadata": {
    "ExecuteTime": {
     "end_time": "2021-05-31T05:33:33.627857Z",
     "start_time": "2021-05-31T05:33:33.615798Z"
    }
   },
   "outputs": [],
   "source": [
    "import os\n",
    "import sys\n",
    "sys.path.append('../../')\n",
    "\n",
    "# EIS Simulation Related Functions\n",
    "import math\n",
    "\n",
    "# Import ECM-2 R(QR)(QR)\n",
    "from circuits.circuit_pack import RaQRbaQRb\n",
    "\n",
    "# Import ECM-9 R(Q(R(QR)))\n",
    "from circuits.circuit_pack import RaQaRaQRbbb"
   ]
  },
  {
   "cell_type": "code",
   "execution_count": 4,
   "id": "46c70a04",
   "metadata": {
    "ExecuteTime": {
     "end_time": "2021-05-31T05:33:34.695582Z",
     "start_time": "2021-05-31T05:33:34.687575Z"
    }
   },
   "outputs": [],
   "source": [
    "from utils.visualize_utils.impedance_plots import nyquist_plot\n",
    "from utils.file_utils.exp_data_readers import read_folder, DTA_reader"
   ]
  },
  {
   "cell_type": "code",
   "execution_count": 37,
   "id": "e3707077",
   "metadata": {
    "ExecuteTime": {
     "end_time": "2021-05-31T06:19:07.177636Z",
     "start_time": "2021-05-31T06:19:07.166636Z"
    }
   },
   "outputs": [],
   "source": [
    "import matplotlib.pyplot as plt\n",
    "def nyquist_raw_sim_plot(z_raw_list, z_sim_list,x_lim=[0, 50000], y_lim=[0, 50000], grid_flag=False):\n",
    "    z_raw_real_list = [z.real for z in z_raw_list]\n",
    "    z_raw_imag_list = [z.imag for z in z_raw_list]\n",
    "    z_raw_inv_imag_list = [-1 * z_imag for z_imag in z_raw_imag_list]\n",
    "\n",
    "    fig = plt.figure()\n",
    "#     print(len(z_raw_real_list), z_raw_real_list)\n",
    "#     print(len(z_raw_inv_imag_list), z_raw_inv_imag_list)\n",
    "    plt.scatter(z_raw_real_list, z_raw_inv_imag_list,label='Raw EIS')\n",
    "    \n",
    "    z_sim_real_list = [z.real for z in z_sim_list]\n",
    "    z_sim_imag_list = [z.imag for z in z_sim_list]\n",
    "    z_sim_inv_imag_list = [-1 * z_imag for z_imag in z_sim_imag_list]\n",
    "\n",
    "    plt.plot(z_sim_real_list, z_sim_inv_imag_list, '^--', color='red', label='Fitted EIS')\n",
    "\n",
    "    plt.xlim(x_lim)\n",
    "    plt.ylim(y_lim)\n",
    "    plt.xlabel('Z$_{real}$ [$\\Omega$]')\n",
    "    plt.ylabel('-Z$_{imag}$ [$\\Omega$]')\n",
    "    plt.grid(grid_flag)\n",
    "    plt.legend()\n",
    "    plt.show()"
   ]
  },
  {
   "cell_type": "code",
   "execution_count": 25,
   "id": "f1e47783",
   "metadata": {
    "ExecuteTime": {
     "end_time": "2021-05-31T06:14:20.171753Z",
     "start_time": "2021-05-31T06:14:20.151982Z"
    }
   },
   "outputs": [],
   "source": [
    "# read raw data\n",
    "def read_Zraw(folder, file_no = '14-15'):\n",
    "    # 这个路径是给刘鹏处理论文中的数据路径\n",
    "    #     eis_fp = os.path.join('../../../people/liupeng/eis_on_ni_fe', file_no,'EISPOT-R01-C01.DTA')\n",
    "\n",
    "    # 这个路径是dpfc论文图12中相关数据的路径\n",
    "#     eis_fp = os.path.join('../../playground/liuPeng/eis_data_removed/R13', file_no,'EISPOT-R01-C01.DTA')\n",
    "    \n",
    "    eis_fp = os.path.join(folder, file_no,'EISPOT-R01-C01.DTA')\n",
    "\n",
    "    print(eis_fp)\n",
    "    exp_area = 1.2566370614359172e-05\n",
    "    dta_reader = DTA_reader(file_path=eis_fp, data_type_selection=True)\n",
    "    eis_dict = dta_reader.reader()\n",
    "\n",
    "    z_real_list = eis_dict['z_real']\n",
    "    z_img_list = eis_dict['z_img']\n",
    "    \n",
    "    normed_z_list = [zr * exp_area + 1j * zi * exp_area for zr, zi in zip(z_real_list, z_img_list)]\n",
    "    \n",
    "#     fre_list = eis_dict['fre']\n",
    "    fre_list = eis_dict['f']\n",
    "    return normed_z_list, fre_list\n",
    "    \n",
    "# simulate fitted data\n",
    "import math\n",
    "\n",
    "def sim_ecm2_Z(fre_list, ecm2_para):\n",
    "    R0 = ecm2_para[0]\n",
    "    Q0_pair = ecm2_para[1:3]\n",
    "    R1 = ecm2_para[3]\n",
    "    Q1_pair = ecm2_para[4:6]\n",
    "    R2 = ecm2_para[6]\n",
    "    w_list = [2 * math.pi * f for f in fre_list]\n",
    "    z_sim_list = [RaQRbaQRb(w, R0, Q0_pair, R1, Q1_pair, R2) for w in w_list]\n",
    "    return z_sim_list\n",
    "\n",
    "def sim_ecm9_Z(fre_list, ecm9_para):\n",
    "    R0 = ecm9_para[0]\n",
    "    Q0_pair = ecm9_para[1:3]\n",
    "    R1 = ecm9_para[3]\n",
    "    Q1_pair = ecm9_para[4:6]\n",
    "    R2 = ecm9_para[6]\n",
    "    w_list = [2 * math.pi * f for f in fre_list]\n",
    "    z_sim_list = [RaQaRaQRbbb(w, R0, Q0_pair, R1, Q1_pair, R2) for w in w_list]\n",
    "    return z_sim_list"
   ]
  },
  {
   "cell_type": "code",
   "execution_count": 26,
   "id": "65f5dfbc",
   "metadata": {
    "ExecuteTime": {
     "end_time": "2021-05-31T06:14:20.838566Z",
     "start_time": "2021-05-31T06:14:20.824071Z"
    }
   },
   "outputs": [
    {
     "name": "stdout",
     "output_type": "stream",
     "text": [
      "../../playground/liuPeng/eis_data_removed/R13\\13-11\\EISPOT-R01-C01.DTA\n"
     ]
    }
   ],
   "source": [
    "folder = '../../playground/liuPeng/eis_data_removed/R13'\n",
    "normed_z_raw_list, fre_list = read_Zraw(folder, file_no = '13-11')"
   ]
  },
  {
   "cell_type": "code",
   "execution_count": 27,
   "id": "2fcccfa7",
   "metadata": {
    "ExecuteTime": {
     "end_time": "2021-05-31T06:14:21.756000Z",
     "start_time": "2021-05-31T06:14:21.745995Z"
    },
    "collapsed": true
   },
   "outputs": [
    {
     "data": {
      "text/plain": [
       "[100078.1,\n",
       " 63140.62,\n",
       " 39890.62,\n",
       " 25171.88,\n",
       " 15890.62,\n",
       " 10078.13,\n",
       " 6328.125,\n",
       " 3984.375,\n",
       " 2527.573,\n",
       " 1577.524,\n",
       " 998.264,\n",
       " 627.7902,\n",
       " 397.9953,\n",
       " 252.4038,\n",
       " 158.3615,\n",
       " 100.4464,\n",
       " 63.3446,\n",
       " 38.42213,\n",
       " 24.93351,\n",
       " 15.625,\n",
       " 9.93114,\n",
       " 6.317385,\n",
       " 3.945707,\n",
       " 2.504006,\n",
       " 1.584686,\n",
       " 0.999041,\n",
       " 0.633446,\n",
       " 0.400641,\n",
       " 0.2520161,\n",
       " 0.1588983,\n",
       " 0.1001603]"
      ]
     },
     "execution_count": 27,
     "metadata": {},
     "output_type": "execute_result"
    }
   ],
   "source": [
    "fre_list"
   ]
  },
  {
   "cell_type": "code",
   "execution_count": 28,
   "id": "c36269ac",
   "metadata": {
    "ExecuteTime": {
     "end_time": "2021-05-31T06:14:22.550239Z",
     "start_time": "2021-05-31T06:14:22.546563Z"
    }
   },
   "outputs": [],
   "source": [
    "ecm2_para = [1e-10,6.975046101173382e-05,1.0,214075.72923919684,0.0003142555249340953,0.6981341767395142,10000000000.0]\n",
    "z_sim_list = sim_ecm2_Z(fre_list, ecm2_para)"
   ]
  },
  {
   "cell_type": "code",
   "execution_count": 29,
   "id": "ded1aabf",
   "metadata": {
    "ExecuteTime": {
     "end_time": "2021-05-31T06:14:23.309589Z",
     "start_time": "2021-05-31T06:14:23.302884Z"
    }
   },
   "outputs": [
    {
     "data": {
      "text/plain": [
       "[(0.13004950333094065-0.27619775089183757j),\n",
       " (0.17937281761943513-0.3856408870899409j),\n",
       " (0.24716738624521345-0.5387994931360266j),\n",
       " (0.34086836669992654-0.754820179424667j),\n",
       " (0.4699550952104878-1.0592867492837008j),\n",
       " (0.6458327556824981-1.4847951879995287j),\n",
       " (0.8937510085869254-2.1020245073562216j),\n",
       " (1.2344750224763377-2.9780179727204734j),\n",
       " (1.6961861008164902-4.207717336840275j),\n",
       " (2.357228877785339-6.039403983569159j),\n",
       " (3.244470420339295-8.607456089675392j),\n",
       " (4.485101829370089-12.373590400578601j),\n",
       " (6.165431051043247-17.746043607613842j),\n",
       " (8.473261487129964-25.54934953960314j),\n",
       " (11.732798432045263-37.267793015715924j),\n",
       " (16.123614417480763-54.1280683575483j),\n",
       " (22.24843999479473-79.36028562952364j),\n",
       " (31.54951330769266-120.82826448376252j),\n",
       " (42.684702459861654-174.60813810276267j),\n",
       " (59.19720162003617-261.18358637062965j),\n",
       " (81.33842935886976-387.7646403822396j),\n",
       " (111.81683185142674-577.873502230234j),\n",
       " (156.03110473251547-879.2675257828555j),\n",
       " (216.06414195353324-1324.6708723265301j),\n",
       " (301.71550472848975-2008.840883756753j),\n",
       " (427.36681300195835-3068.9445591415206j),\n",
       " (614.5182845573066-4680.447871356768j),\n",
       " (914.0992193771858-7177.359451900997j),\n",
       " (1436.3922240241513-11091.890422780001j),\n",
       " (2413.5337814184754-17129.891784209285j),\n",
       " (4404.703248636082-26437.785119660573j)]"
      ]
     },
     "execution_count": 29,
     "metadata": {},
     "output_type": "execute_result"
    }
   ],
   "source": [
    "z_sim_list"
   ]
  },
  {
   "cell_type": "code",
   "execution_count": 30,
   "id": "6779a705",
   "metadata": {
    "ExecuteTime": {
     "end_time": "2021-05-31T06:14:24.035011Z",
     "start_time": "2021-05-31T06:14:24.020961Z"
    }
   },
   "outputs": [
    {
     "name": "stdout",
     "output_type": "stream",
     "text": [
      "[0.13004950333094065, 0.17937281761943513, 0.24716738624521345, 0.34086836669992654, 0.4699550952104878, 0.6458327556824981, 0.8937510085869254, 1.2344750224763377, 1.6961861008164902, 2.357228877785339, 3.244470420339295, 4.485101829370089, 6.165431051043247, 8.473261487129964, 11.732798432045263, 16.123614417480763, 22.24843999479473, 31.54951330769266, 42.684702459861654, 59.19720162003617, 81.33842935886976, 111.81683185142674, 156.03110473251547, 216.06414195353324, 301.71550472848975, 427.36681300195835, 614.5182845573066, 914.0992193771858, 1436.3922240241513, 2413.5337814184754, 4404.703248636082]\n"
     ]
    }
   ],
   "source": [
    "z_sim_real_list = [z.real for z in z_sim_list]\n",
    "print(z_sim_real_list)"
   ]
  },
  {
   "cell_type": "code",
   "execution_count": 31,
   "id": "aaacbcd5",
   "metadata": {
    "ExecuteTime": {
     "end_time": "2021-05-31T06:14:25.291836Z",
     "start_time": "2021-05-31T06:14:25.278308Z"
    }
   },
   "outputs": [
    {
     "name": "stdout",
     "output_type": "stream",
     "text": [
      "[-0.27619775089183757, -0.3856408870899409, -0.5387994931360266, -0.754820179424667, -1.0592867492837008, -1.4847951879995287, -2.1020245073562216, -2.9780179727204734, -4.207717336840275, -6.039403983569159, -8.607456089675392, -12.373590400578601, -17.746043607613842, -25.54934953960314, -37.267793015715924, -54.1280683575483, -79.36028562952364, -120.82826448376252, -174.60813810276267, -261.18358637062965, -387.7646403822396, -577.873502230234, -879.2675257828555, -1324.6708723265301, -2008.840883756753, -3068.9445591415206, -4680.447871356768, -7177.359451900997, -11091.890422780001, -17129.891784209285, -26437.785119660573]\n"
     ]
    }
   ],
   "source": [
    "z_sim_imag_list = [z.imag for z in z_sim_list]\n",
    "print(z_sim_imag_list)"
   ]
  },
  {
   "cell_type": "code",
   "execution_count": 38,
   "id": "f40406a0",
   "metadata": {
    "ExecuteTime": {
     "end_time": "2021-05-31T06:19:11.898382Z",
     "start_time": "2021-05-31T06:19:11.781846Z"
    }
   },
   "outputs": [
    {
     "name": "stdout",
     "output_type": "stream",
     "text": [
      "../../../people/liupeng/eis_on_ni_fe\\14-15\\EISPOT-R01-C01.DTA\n",
      "line: 53 b'\\t#\\ts\\tHz\\tohm\\tohm\\tV\\tohm\\t\\xb0\\tA\\tV\\t#\\r\\n' occured UnicodeDecodeError\n"
     ]
    },
    {
     "data": {
      "image/png": "[encoded data removed]",
      "text/plain": [
       "<Figure size 432x288 with 1 Axes>"
      ]
     },
     "metadata": {
      "needs_background": "light"
     },
     "output_type": "display_data"
    }
   ],
   "source": [
    "folder = '../../../people/liupeng/eis_on_ni_fe'\n",
    "z_raw_list, fre_list = read_Zraw(folder,file_no = '14-15')\n",
    "ecm9_para = [0.15397170479976346,0.0016925147452155503,0.6879551686438369,237904535452301.78,0.03904648512690728,0.6784022866336672,651538565698248.2]\n",
    "z_sim_list = sim_ecm9_Z(fre_list, ecm9_para)\n",
    "\n",
    "nyquist_raw_sim_plot(z_raw_list, z_sim_list,x_lim=[0, 50], y_lim=[0, 50], grid_flag=False)"
   ]
  },
  {
   "cell_type": "code",
   "execution_count": 40,
   "id": "2b7c3f11",
   "metadata": {
    "ExecuteTime": {
     "end_time": "2021-05-31T06:19:47.201573Z",
     "start_time": "2021-05-31T06:19:47.073795Z"
    }
   },
   "outputs": [
    {
     "name": "stdout",
     "output_type": "stream",
     "text": [
      "../../../people/liupeng/eis_on_ni_fe\\15-14\\EISPOT-R01-C01.DTA\n",
      "line: 53 b'\\t#\\ts\\tHz\\tohm\\tohm\\tV\\tohm\\t\\xb0\\tA\\tV\\t#\\r\\n' occured UnicodeDecodeError\n"
     ]
    },
    {
     "data": {
      "image/png": "[encoded data removed]",
      "text/plain": [
       "<Figure size 432x288 with 1 Axes>"
      ]
     },
     "metadata": {
      "needs_background": "light"
     },
     "output_type": "display_data"
    }
   ],
   "source": [
    "z_raw_list, fre_list = read_Zraw(folder, file_no = '15-14')\n",
    "ecm9_para = [0.14048947232020456,0.0010220734166856717,0.6984203787702006,75837023797.51007,0.027887497220869632,0.963992626188234,2735226088314.324]\n",
    "z_sim_list = sim_ecm9_Z(fre_list, ecm9_para)\n",
    "\n",
    "nyquist_raw_sim_plot(z_raw_list, z_sim_list,x_lim=[0, 50], y_lim=[0, 50], grid_flag=False)"
   ]
  },
  {
   "cell_type": "code",
   "execution_count": null,
   "id": "1d265292",
   "metadata": {},
   "outputs": [],
   "source": []
  }
 ],
 "metadata": {
  "kernelspec": {
   "display_name": "Python 3",
   "language": "python",
   "name": "python3"
  },
  "language_info": {
   "codemirror_mode": {
    "name": "ipython",
    "version": 3
   },
   "file_extension": ".py",
   "mimetype": "text/x-python",
   "name": "python",
   "nbconvert_exporter": "python",
   "pygments_lexer": "ipython3",
   "version": "3.8.2"
  },
  "toc": {
   "base_numbering": 1,
   "nav_menu": {},
   "number_sections": true,
   "sideBar": true,
   "skip_h1_title": false,
   "title_cell": "Table of Contents",
   "title_sidebar": "Contents",
   "toc_cell": false,
   "toc_position": {
    "height": "calc(100% - 180px)",
    "left": "10px",
    "top": "150px",
    "width": "229.475px"
   },
   "toc_section_display": true,
   "toc_window_display": false
  },
  "varInspector": {
   "cols": {
    "lenName": 16,
    "lenType": 16,
    "lenVar": 40
   },
   "kernels_config": {
    "python": {
     "delete_cmd_postfix": "",
     "delete_cmd_prefix": "del ",
     "library": "var_list.py",
     "varRefreshCmd": "print(var_dic_list())"
    },
    "r": {
     "delete_cmd_postfix": ") ",
     "delete_cmd_prefix": "rm(",
     "library": "var_list.r",
     "varRefreshCmd": "cat(var_dic_list()) "
    }
   },
   "types_to_exclude": [
    "module",
    "function",
    "builtin_function_or_method",
    "instance",
    "_Feature"
   ],
   "window_display": false
  }
 },
 "nbformat": 4,
 "nbformat_minor": 5
}
