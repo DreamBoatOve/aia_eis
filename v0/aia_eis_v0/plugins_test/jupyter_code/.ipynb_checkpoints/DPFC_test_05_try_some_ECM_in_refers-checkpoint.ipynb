{
 "cells": [
  {
   "cell_type": "markdown",
   "metadata": {},
   "source": [
    "# Preparation of circuit elements and plot utils"
   ]
  },
  {
   "cell_type": "code",
   "execution_count": 10,
   "metadata": {
    "ExecuteTime": {
     "end_time": "2020-07-01T08:07:57.349790Z",
     "start_time": "2020-07-01T08:07:57.346790Z"
    }
   },
   "outputs": [],
   "source": [
    "import sys\n",
    "\"\"\"\n",
    "python解释器会把当前文件（模块）当作项目的根目录，以此来寻找其他的模块\n",
    "使用sys.path调整解释器的寻找路径，以此文件为起点，调整路径到项目的真实根目录\n",
    "\"\"\"\n",
    "sys.path.append('../../')"
   ]
  },
  {
   "cell_type": "markdown",
   "metadata": {},
   "source": [
    "## Preparation of circuit elements"
   ]
  },
  {
   "cell_type": "code",
   "execution_count": 11,
   "metadata": {
    "ExecuteTime": {
     "end_time": "2020-07-01T08:07:58.253054Z",
     "start_time": "2020-07-01T08:07:58.247052Z"
    },
    "code_folding": [
     7
    ]
   },
   "outputs": [],
   "source": [
    "from circuits.elements import ele_C, ele_L\n",
    "C = ele_C\n",
    "L = ele_L\n",
    "\n",
    "# Warburg and CPE might need frequent adjustment, so we define them here in order to avoid reboot the jupyter again and again\n",
    "def ele_Warburg(w, sigma):\n",
    "    def coth(z):\n",
    "        import mpmath as mp\n",
    "        c = mp.coth(z)\n",
    "        return c\n",
    "\n",
    "    if (type(sigma) == int) or (type(sigma) == float):\n",
    "        Zwar = sigma * (w ** (-0.5)) * (1 - 1j)\n",
    "    \n",
    "    # Finite Lenght Warburg, Short\n",
    "    elif len(sigma) == 3:\n",
    "        Wr, Wt, Wp = sigma\n",
    "        # z = (1j * W_T * w)^W_P\n",
    "        z = (1j * Wt * w) ** Wp\n",
    "        Zwar = Wr * coth(z) / z\n",
    "    else:\n",
    "        print(\"There is something wrong in your Warburg parameters, check it\")\n",
    "        sys.exit(0)\n",
    "    return Zwar\n",
    "\n",
    "def ele_Q(w, q, n):\n",
    "    z = 1 / (q * ((1j * w) ** n))\n",
    "    return z\n",
    "\n",
    "WB = ele_Warburg\n",
    "Q = ele_Q"
   ]
  },
  {
   "cell_type": "code",
   "execution_count": 12,
   "metadata": {
    "ExecuteTime": {
     "end_time": "2020-07-01T08:07:59.874846Z",
     "start_time": "2020-07-01T08:07:59.871845Z"
    },
    "code_folding": [
     1
    ]
   },
   "outputs": [],
   "source": [
    "import math\n",
    "def fre_generator(f_start, f_end, pts_decade):\n",
    "    \"\"\"\n",
    "    :param\n",
    "        f_start:\n",
    "            int\n",
    "            High frequency\n",
    "            Ex: 7, == 1e7\n",
    "        f_end:\n",
    "            int\n",
    "            Low frequency\n",
    "            Ex: 7, == 1e-7\n",
    "        pts_decade:\n",
    "    :return:\n",
    "    \"\"\"\n",
    "    points_num = (f_start - f_end) * pts_decade\n",
    "    fre_list = [10 ** (f_start - i * (f_start - f_end) / points_num) for i in range(points_num)]\n",
    "    w_list = [2 * math.pi * f for f in fre_list]\n",
    "    return fre_list, w_list\n",
    "\n",
    "# fre_list, w_list = fre_generator(f_start = 7, f_end = -6, pts_decade = 10)"
   ]
  },
  {
   "cell_type": "markdown",
   "metadata": {},
   "source": [
    "## Preparation of plot utils"
   ]
  },
  {
   "cell_type": "code",
   "execution_count": 14,
   "metadata": {
    "ExecuteTime": {
     "end_time": "2020-07-01T08:08:28.922567Z",
     "start_time": "2020-07-01T08:08:28.911565Z"
    },
    "code_folding": [
     20,
     54
    ]
   },
   "outputs": [],
   "source": [
    "import math\n",
    "import matplotlib.pyplot as plt\n",
    "\n",
    "def nyquist_plot(z_list, x_lim=[0, 50000], y_lim=[0, 50000], grid_flag=False, plot_label=''):\n",
    "    z_real_list = [z.real for z in z_list]\n",
    "    z_imag_list = [z.imag for z in z_list]\n",
    "    z_inv_imag_list = [-z_imag for z_imag in z_imag_list]\n",
    "\n",
    "    fig = plt.figure()\n",
    "    plt.plot(z_real_list, z_inv_imag_list, 'o--', label=plot_label)\n",
    "\n",
    "    plt.xlim(x_lim)\n",
    "    plt.ylim(y_lim)\n",
    "    plt.xlabel('Z$_{real}$ [$\\Omega$]')\n",
    "    plt.ylabel('-Z$_{imag}$ [$\\Omega$]')\n",
    "#     plt.axis('equal')\n",
    "#     plt.axis('scaled')\n",
    "    plt.grid(grid_flag)\n",
    "    plt.legend()\n",
    "    plt.show()\n",
    "\n",
    "def impedance_vs_fre_plot(fre_list, z_list, y_axis_stat='log10', x_axis_stat='log10'):\n",
    "    \"\"\"\n",
    "    :param\n",
    "        fre_list\n",
    "        z_list\n",
    "        x_axis_stat (Frequency)\n",
    "            str\n",
    "                'none':     normal\n",
    "                'log10':    in log10\n",
    "        y_axis_stat (Z, Z.real, Z.imag, Z.real + Z.imag)\n",
    "            str\n",
    "                'none':         Z normal\n",
    "                'log10':        Z in log10\n",
    "                'real':         Z.real in normal\n",
    "                'real-log10':   Z.real in log10\n",
    "                'imag':         Z.imag normal\n",
    "                'imag-log10':   Z.imag in log10\n",
    "    :return:\n",
    "        x and y-axis are both in log(base=10) mode\n",
    "    \"\"\"\n",
    "    fre_log10_list = [math.log(f, 10) for f in fre_list]\n",
    "\n",
    "    z_norm_list = [math.sqrt(z.real ** 2 + z.imag ** 2) for z in z_list]\n",
    "    z_norm_log10_list = [math.log(z, 10) for z in z_norm_list]\n",
    "\n",
    "    if y_axis_stat == 'log10' and x_axis_stat == 'log10':\n",
    "        fig = plt.figure()\n",
    "        plt.plot(fre_log10_list, z_norm_log10_list, 'o--', label='Impedance - Frequency (log10 mode)')\n",
    "\n",
    "        plt.xlabel('Log$_{10}$(Frequency) [Hz]')\n",
    "        plt.ylabel('Log$_{10}$(Z) [$\\Omega$]')\n",
    "        plt.legend()\n",
    "        plt.show()\n",
    "\n",
    "def bode_two_plot(fre_list, z_list, fig_title='Bode-'):\n",
    "    \"\"\"\n",
    "    Draw Impedance and Phase in two plot\n",
    "\n",
    "    参考教程\n",
    "        Creating multiple subplots using plt.subplots\n",
    "        https://matplotlib.org/devdocs/gallery/subplots_axes_and_figures/subplots_demo.html\n",
    "    \"\"\"\n",
    "    fre_log10_list = [math.log(f, 10) for f in fre_list]\n",
    "\n",
    "    z_norm_list = [math.sqrt(z.real ** 2 + z.imag ** 2) for z in z_list]\n",
    "    z_norm_log10_list = [math.log(z, 10) for z in z_norm_list]\n",
    "\n",
    "    # tan_list = [z.imag / z.real for z in z_list] # z.real might be zero\n",
    "    tan_list = []\n",
    "    for z in z_list:\n",
    "        if z.real == 0:\n",
    "            tan_list.append(float('inf'))\n",
    "        else:\n",
    "            tan_list.append(z.imag / z.real)\n",
    "    t_list = [math.atan(tan) * 180 / math.pi for tan in tan_list]\n",
    "\n",
    "    fig, (ax1, ax2) = plt.subplots(2)\n",
    "    fig.suptitle(fig_title)\n",
    "\n",
    "    ax1.plot(fre_log10_list, z_norm_log10_list, 'o--', label='Impedance - Frequency (log10 mode)')\n",
    "\n",
    "    ax1.set_xlabel(xlabel='Log$_{10}$(Frequency) [Hz]')\n",
    "    ax1.set_ylabel(ylabel='Log$_{10}$(Z) [$\\Omega$]')\n",
    "    ax1.legend()\n",
    "\n",
    "    ax2.plot(fre_log10_list, t_list, 'o--', label='Phase - Frequency')\n",
    "\n",
    "    ax2.set_xlabel(xlabel='Log$_{10}$(Frequency) [Hz]')\n",
    "    ax2.set_ylabel(ylabel='Phase (deg)')\n",
    "    ax2.legend()\n",
    "\n",
    "    plt.show()"
   ]
  },
  {
   "cell_type": "markdown",
   "metadata": {},
   "source": [
    "# Use my ECM to plot some circuits in referernces"
   ]
  },
  {
   "cell_type": "markdown",
   "metadata": {},
   "source": [
    "Load basic element"
   ]
  },
  {
   "cell_type": "markdown",
   "metadata": {},
   "source": [
    "Generate frequency"
   ]
  },
  {
   "cell_type": "markdown",
   "metadata": {},
   "source": [
    "Prepare Plot utils"
   ]
  },
  {
   "cell_type": "markdown",
   "metadata": {},
   "source": [
    "## ECM.1-R0(Q0, R1) examples"
   ]
  },
  {
   "cell_type": "markdown",
   "metadata": {},
   "source": [
    "### Exp-1"
   ]
  },
  {
   "cell_type": "markdown",
   "metadata": {},
   "source": [
    "source: Lai's second paper: <Local electrochemical properties of fusion boundary region in SA508-309L/308L overlay welded joint>"
   ]
  },
  {
   "cell_type": "markdown",
   "metadata": {},
   "source": [
    "paras are as following"
   ]
  },
  {
   "cell_type": "markdown",
   "metadata": {},
   "source": [
    "![eis_para_img](./dpfc_files/imgs/0.png)"
   ]
  },
  {
   "cell_type": "markdown",
   "metadata": {},
   "source": [
    "EIS-Nyquist plot"
   ]
  },
  {
   "cell_type": "markdown",
   "metadata": {},
   "source": [
    "![nyquist-plot](././dpfc_files/imgs/1.png)"
   ]
  },
  {
   "cell_type": "code",
   "execution_count": 7,
   "metadata": {
    "ExecuteTime": {
     "end_time": "2020-05-18T14:17:49.673626Z",
     "start_time": "2020-05-18T14:17:49.670118Z"
    }
   },
   "outputs": [],
   "source": [
    "# ECM-1 R(QR)\n",
    "def RaQRb(w, R0, Q0_pair, R1):\n",
    "    z = R0 + 1 / ((1 / R1) + (1 / Q(w, q = Q0_pair[0], n = Q0_pair[1])))\n",
    "    return z"
   ]
  },
  {
   "cell_type": "code",
   "execution_count": 8,
   "metadata": {
    "ExecuteTime": {
     "end_time": "2020-05-18T14:17:50.205930Z",
     "start_time": "2020-05-18T14:17:50.201919Z"
    }
   },
   "outputs": [],
   "source": [
    "# frequency range = 100 kHz ~ 100 mHz = 10^5 ~ 0.1\n",
    "# five points per decade\n",
    "fre11_list, w11_list = fre_generator(f_start = 5, f_end = -3, pts_decade = 5)"
   ]
  },
  {
   "cell_type": "code",
   "execution_count": 9,
   "metadata": {
    "ExecuteTime": {
     "end_time": "2020-05-18T14:17:51.070101Z",
     "start_time": "2020-05-18T14:17:51.065593Z"
    }
   },
   "outputs": [],
   "source": [
    "# Rs = R0 = 0.02 ohm*cm^2\n",
    "# Rf = R1 = 5.3 * 10^4 ohm*cm^2\n",
    "R0 = 0.02\n",
    "R1 = 5.3 * 10000\n",
    "Qf = 1.8 * 1e-4\n",
    "n = 0.8\n",
    "Q0_pair = [Qf, n]\n",
    "z11_list = [RaQRb(w, R0, Q0_pair, R1) for w in w11_list]"
   ]
  },
  {
   "cell_type": "code",
   "execution_count": 18,
   "metadata": {
    "ExecuteTime": {
     "end_time": "2020-05-18T14:25:40.841826Z",
     "start_time": "2020-05-18T14:25:40.712312Z"
    },
    "scrolled": true
   },
   "outputs": [
    {
     "name": "stderr",
     "output_type": "stream",
     "text": [
      "No handles with labels found to put in legend.\n"
     ]
    },
    {
     "data": {
      "image/png": "[encoded data removed]",
      "text/plain": [
       "<Figure size 432x288 with 1 Axes>"
      ]
     },
     "metadata": {
      "needs_background": "light"
     },
     "output_type": "display_data"
    }
   ],
   "source": [
    "nyquist_plot(z_list=z11_list, x_lim=[-500, 8000], y_lim=[-500, 8000], plot_label='')"
   ]
  },
  {
   "cell_type": "code",
   "execution_count": 17,
   "metadata": {
    "ExecuteTime": {
     "end_time": "2020-05-18T14:18:36.107602Z",
     "start_time": "2020-05-18T14:18:35.985996Z"
    }
   },
   "outputs": [
    {
     "name": "stderr",
     "output_type": "stream",
     "text": [
      "No handles with labels found to put in legend.\n"
     ]
    },
    {
     "data": {
      "image/png": "[encoded data removed]",
      "text/plain": [
       "<Figure size 432x288 with 1 Axes>"
      ]
     },
     "metadata": {
      "needs_background": "light"
     },
     "output_type": "display_data"
    }
   ],
   "source": [
    "# %matplotlib auto\n",
    "# %matplotlib inline\n",
    "# %matplotlib qt5\n",
    "nyquist_plot(z_list=z11_list, x_lim=[-500, 50000], y_lim=[-500, 25000], plot_label='')"
   ]
  },
  {
   "cell_type": "markdown",
   "metadata": {},
   "source": [
    "## ECM.2- R0(Q0, R1)-(Q1, R2) examples"
   ]
  },
  {
   "cell_type": "markdown",
   "metadata": {},
   "source": [
    "### Exp-1"
   ]
  },
  {
   "cell_type": "markdown",
   "metadata": {},
   "source": [
    "source: Lai's second paper: <Local electrochemical properties of fusion boundary region in SA508-309L/308L overlay welded joint>"
   ]
  },
  {
   "cell_type": "markdown",
   "metadata": {},
   "source": [
    "paras are as following"
   ]
  },
  {
   "cell_type": "markdown",
   "metadata": {},
   "source": [
    "![para-img](./dpfc_files/imgs/6.png)"
   ]
  },
  {
   "cell_type": "markdown",
   "metadata": {},
   "source": [
    "EIS-Nyquist plot"
   ]
  },
  {
   "cell_type": "markdown",
   "metadata": {},
   "source": [
    "![para-img](./dpfc_files/imgs/7.png)"
   ]
  },
  {
   "cell_type": "code",
   "execution_count": 51,
   "metadata": {
    "ExecuteTime": {
     "end_time": "2020-05-12T01:57:48.525344Z",
     "start_time": "2020-05-12T01:57:48.520124Z"
    }
   },
   "outputs": [],
   "source": [
    "# ECM-2 R(QR)(QR)\n",
    "def RaQRbaQRb(w, R0, Q0_pair, R1, Q1_pair, R2):\n",
    "    z = R0 \\\n",
    "        + 1 / ((1 / R1) + (1 / Q(w, q = Q0_pair[0], n = Q0_pair[1])))\\\n",
    "        + 1 / ((1 / R2) + (1 / Q(w, q = Q1_pair[0], n = Q1_pair[1])))\n",
    "    return z"
   ]
  },
  {
   "cell_type": "code",
   "execution_count": 52,
   "metadata": {
    "ExecuteTime": {
     "end_time": "2020-05-12T02:00:31.955099Z",
     "start_time": "2020-05-12T02:00:31.950526Z"
    }
   },
   "outputs": [],
   "source": [
    "# frequency range = 100 kHz ~ 100 mHz = 10^5 ~ 0.1\n",
    "# five points per decade\n",
    "fre2_list, w2_list = fre_generator(f_start = 5, f_end = -1, pts_decade = 5)"
   ]
  },
  {
   "cell_type": "code",
   "execution_count": 56,
   "metadata": {
    "ExecuteTime": {
     "end_time": "2020-05-12T02:30:39.972443Z",
     "start_time": "2020-05-12T02:30:39.966214Z"
    }
   },
   "outputs": [],
   "source": [
    "Rs = 1e-2\n",
    "Rf = 35\n",
    "\n",
    "Qf = 1.6 * 1e-2\n",
    "n1 = 0.6\n",
    "Q0_pair = [Qf, n1]\n",
    "\n",
    "Qdl = 4 * 1e-5\n",
    "n2 = 0.91\n",
    "Q1_pair = [Qdl, n2]\n",
    "\n",
    "Rct = 0.39\n",
    "\n",
    "z21_list = [RaQRbaQRb(w, R0=Rs, Q0_pair=Q0_pair, R1=Rf, Q1_pair=Q1_pair, R2=Rct) for w in w2_list]"
   ]
  },
  {
   "cell_type": "code",
   "execution_count": 59,
   "metadata": {
    "ExecuteTime": {
     "end_time": "2020-05-12T02:31:50.976590Z",
     "start_time": "2020-05-12T02:31:50.804515Z"
    },
    "scrolled": true
   },
   "outputs": [
    {
     "name": "stderr",
     "output_type": "stream",
     "text": [
      "No handles with labels found to put in legend.\n"
     ]
    },
    {
     "data": {
      "image/png": "[encoded data removed]",
      "text/plain": [
       "<Figure size 432x288 with 1 Axes>"
      ]
     },
     "metadata": {
      "needs_background": "light"
     },
     "output_type": "display_data"
    }
   ],
   "source": [
    "nyquist_plot(z_list=z21_list, x_lim=[-3, 30], y_lim=[-3, 30], plot_label='')"
   ]
  },
  {
   "cell_type": "code",
   "execution_count": 58,
   "metadata": {
    "ExecuteTime": {
     "end_time": "2020-05-12T02:30:43.309626Z",
     "start_time": "2020-05-12T02:30:43.158716Z"
    }
   },
   "outputs": [
    {
     "name": "stderr",
     "output_type": "stream",
     "text": [
      "No handles with labels found to put in legend.\n"
     ]
    },
    {
     "data": {
      "image/png": "[encoded data removed]",
      "text/plain": [
       "<Figure size 432x288 with 1 Axes>"
      ]
     },
     "metadata": {
      "needs_background": "light"
     },
     "output_type": "display_data"
    }
   ],
   "source": [
    "# Replot the inset in the original img\n",
    "nyquist_plot(z_list=z21_list, x_lim=[0, 1], y_lim=[0, 1], plot_label='')"
   ]
  },
  {
   "cell_type": "markdown",
   "metadata": {},
   "source": [
    "## ECM.3-R0(Q0, R1, L0-R1) examples"
   ]
  },
  {
   "cell_type": "markdown",
   "metadata": {},
   "source": [
    "### Exp-1"
   ]
  },
  {
   "cell_type": "markdown",
   "metadata": {},
   "source": [
    "source: Lai's second paper: <Local electrochemical properties of fusion boundary region in SA508-309L/308L overlay welded joint>"
   ]
  },
  {
   "cell_type": "markdown",
   "metadata": {},
   "source": [
    "paras are as following"
   ]
  },
  {
   "cell_type": "markdown",
   "metadata": {
    "ExecuteTime": {
     "end_time": "2020-05-11T14:28:00.211511Z",
     "start_time": "2020-05-11T14:28:00.142784Z"
    }
   },
   "source": [
    "![para_img](./dpfc_files/imgs/2.png)"
   ]
  },
  {
   "cell_type": "markdown",
   "metadata": {},
   "source": [
    "EIS-Nyquist plot"
   ]
  },
  {
   "cell_type": "markdown",
   "metadata": {
    "ExecuteTime": {
     "end_time": "2020-05-11T14:28:50.642568Z",
     "start_time": "2020-05-11T14:28:50.558045Z"
    }
   },
   "source": [
    "![nyquist-plot](./dpfc_files/imgs/3.png)"
   ]
  },
  {
   "cell_type": "code",
   "execution_count": 31,
   "metadata": {
    "ExecuteTime": {
     "end_time": "2020-05-12T01:41:20.545528Z",
     "start_time": "2020-05-12T01:41:20.539501Z"
    },
    "code_folding": []
   },
   "outputs": [],
   "source": [
    "# ECM-3 R(QR(LR))\n",
    "def RaQRaLRbb(w, R0, Q0_pair, R1, L0, R2):\n",
    "    z = R0 + 1 / ((1 / Q(w, q=Q0_pair[0], n=Q0_pair[1])) + (1 / R1) + (1 / (L(w, L0) + R2)))\n",
    "    return z"
   ]
  },
  {
   "cell_type": "code",
   "execution_count": 35,
   "metadata": {
    "ExecuteTime": {
     "end_time": "2020-05-12T01:44:55.771564Z",
     "start_time": "2020-05-12T01:44:55.767425Z"
    }
   },
   "outputs": [],
   "source": [
    "# frequency range = 100 kHz ~ 100 mHz = 10^5 ~ 0.1\n",
    "# five points per decade\n",
    "fre3_list, w3_list = fre_generator(f_start = 5, f_end = -1, pts_decade = 5)"
   ]
  },
  {
   "cell_type": "code",
   "execution_count": 36,
   "metadata": {
    "ExecuteTime": {
     "end_time": "2020-05-12T01:44:56.976893Z",
     "start_time": "2020-05-12T01:44:56.972386Z"
    }
   },
   "outputs": [],
   "source": [
    "Rs = R0 = 0.03\n",
    "Rct = R1 = 110\n",
    "Qdl = 1.3 * 1e-2\n",
    "n = 0.72\n",
    "Q0_pair = [Qdl, n]\n",
    "RL = R2 = 1.2 * 1e2\n",
    "L0 = 97\n",
    "Ceff = 6.1 * 1e-4\n",
    "z31_list = [RaQRaLRbb(w, R0, Q0_pair, R1, L0, R2) for w in w3_list]"
   ]
  },
  {
   "cell_type": "code",
   "execution_count": 37,
   "metadata": {
    "ExecuteTime": {
     "end_time": "2020-05-12T01:44:58.764143Z",
     "start_time": "2020-05-12T01:44:58.583869Z"
    },
    "scrolled": true
   },
   "outputs": [
    {
     "name": "stderr",
     "output_type": "stream",
     "text": [
      "No handles with labels found to put in legend.\n"
     ]
    },
    {
     "data": {
      "image/png": "[encoded data removed]",
      "text/plain": [
       "<Figure size 432x288 with 1 Axes>"
      ]
     },
     "metadata": {
      "needs_background": "light"
     },
     "output_type": "display_data"
    }
   ],
   "source": [
    "nyquist_plot(z_list=z31_list, x_lim=[-5, 50], y_lim=[-5, 50], plot_label='')"
   ]
  },
  {
   "cell_type": "markdown",
   "metadata": {},
   "source": [
    "### Exp-2"
   ]
  },
  {
   "cell_type": "markdown",
   "metadata": {},
   "source": [
    "source: Lai's second paper: <Local electrochemical properties of fusion boundary region in SA508-309L/308L overlay welded joint>"
   ]
  },
  {
   "cell_type": "markdown",
   "metadata": {},
   "source": [
    "paras are as following"
   ]
  },
  {
   "cell_type": "markdown",
   "metadata": {
    "ExecuteTime": {
     "end_time": "2020-05-12T01:37:56.471467Z",
     "start_time": "2020-05-12T01:37:56.398522Z"
    }
   },
   "source": [
    "![para-img](./dpfc_files/imgs/4.png)"
   ]
  },
  {
   "cell_type": "markdown",
   "metadata": {},
   "source": [
    "EIS-Nyquist plot"
   ]
  },
  {
   "cell_type": "markdown",
   "metadata": {},
   "source": [
    "![para-img](./dpfc_files/imgs/5.png)"
   ]
  },
  {
   "cell_type": "code",
   "execution_count": 39,
   "metadata": {
    "ExecuteTime": {
     "end_time": "2020-05-12T01:45:25.596214Z",
     "start_time": "2020-05-12T01:45:25.591054Z"
    }
   },
   "outputs": [],
   "source": [
    "Rs = R0 = 0.01\n",
    "Rct = R1 = 41\n",
    "Qdl = 3.3 * 1e-4\n",
    "n = 0.92\n",
    "Q0_pair = [Qdl, n]\n",
    "RL = R2 = 50\n",
    "L0 = 110\n",
    "Ceff = 1.1 * 1e-4\n",
    "z32_list = [RaQRaLRbb(w, R0, Q0_pair, R1, L0, R2) for w in w3_list]"
   ]
  },
  {
   "cell_type": "code",
   "execution_count": 49,
   "metadata": {
    "ExecuteTime": {
     "end_time": "2020-05-12T01:50:51.594168Z",
     "start_time": "2020-05-12T01:50:51.407174Z"
    }
   },
   "outputs": [
    {
     "name": "stderr",
     "output_type": "stream",
     "text": [
      "No handles with labels found to put in legend.\n"
     ]
    },
    {
     "data": {
      "image/png": "[encoded data removed]",
      "text/plain": [
       "<Figure size 432x288 with 1 Axes>"
      ]
     },
     "metadata": {
      "needs_background": "light"
     },
     "output_type": "display_data"
    }
   ],
   "source": [
    "nyquist_plot(z_list=z32_list, x_lim=[-5, 55], y_lim=[-15, 50], plot_label='')"
   ]
  },
  {
   "cell_type": "markdown",
   "metadata": {},
   "source": [
    "## ECM.4- R0-(Q0, R1)-(Q1, R2-W0) examples"
   ]
  },
  {
   "cell_type": "markdown",
   "metadata": {},
   "source": [
    "### Exp-1 (Unfinished)"
   ]
  },
  {
   "cell_type": "markdown",
   "metadata": {},
   "source": [
    "source: <025-Enhancement of electrochemical properties of platinumdoped LiFePO4/C cathode material synthesized using hydrothermal method>"
   ]
  },
  {
   "cell_type": "markdown",
   "metadata": {},
   "source": [
    "paras are as following"
   ]
  },
  {
   "cell_type": "markdown",
   "metadata": {},
   "source": [
    "![-plot](dpfc_files/imgs/13.png)"
   ]
  },
  {
   "cell_type": "markdown",
   "metadata": {},
   "source": [
    "EIS-Nyquist plot"
   ]
  },
  {
   "cell_type": "markdown",
   "metadata": {},
   "source": [
    "![-plot](dpfc_files/imgs/14.png)"
   ]
  },
  {
   "cell_type": "code",
   "execution_count": 5,
   "metadata": {
    "ExecuteTime": {
     "end_time": "2020-07-01T07:59:54.326999Z",
     "start_time": "2020-07-01T07:59:54.323998Z"
    }
   },
   "outputs": [],
   "source": [
    "# ECM-4 R(Q(RW))\n",
    "def RaQaRWbb(w, R0, Q0_pair, R1, W0):\n",
    "    z = R0 + 1 / ((1 / Q(w, q=Q0_pair[0], n=Q0_pair[1])) + (1 / (R1 + WB(w, sigma=W0))))\n",
    "    return z"
   ]
  },
  {
   "cell_type": "code",
   "execution_count": 87,
   "metadata": {
    "ExecuteTime": {
     "end_time": "2020-05-13T07:14:21.431393Z",
     "start_time": "2020-05-13T07:14:21.426611Z"
    }
   },
   "outputs": [],
   "source": [
    "# frequency range = 0.01 Hz ~ 1 MHz = 1e-2 ~ 1e6\n",
    "# five points per decade\n",
    "fre4_list, w4_list = fre_generator(f_start = 6, f_end = -2, pts_decade = 5)"
   ]
  },
  {
   "cell_type": "code",
   "execution_count": null,
   "metadata": {},
   "outputs": [],
   "source": [
    "Re = 4.51\n",
    "Rct = 74.67\n",
    "cpe_q = 0.59\n",
    "W0 = 29.8\n",
    "z4_1_list = [RaQaRWbb(w, R0, Q0_pair, R1, W0) for w in w4_list]\n",
    "# CPE中缺少系数n的值，无法绘图"
   ]
  },
  {
   "cell_type": "markdown",
   "metadata": {},
   "source": [
    "### Exp-2 (Unfinished)"
   ]
  },
  {
   "cell_type": "markdown",
   "metadata": {
    "ExecuteTime": {
     "end_time": "2020-05-13T07:21:03.009161Z",
     "start_time": "2020-05-13T07:21:03.001205Z"
    }
   },
   "source": [
    "source: <025-Enhancement of elec\"trochemical properties of platinumdoped LiFePO4/C cathode material synthesized using hydrothermal method>"
   ]
  },
  {
   "cell_type": "markdown",
   "metadata": {
    "ExecuteTime": {
     "end_time": "2020-05-13T07:21:18.202570Z",
     "start_time": "2020-05-13T07:21:18.196340Z"
    }
   },
   "source": [
    "paras are as following"
   ]
  },
  {
   "cell_type": "markdown",
   "metadata": {},
   "source": [
    "![para-plot](dpfc_files/imgs/15.png)"
   ]
  },
  {
   "cell_type": "markdown",
   "metadata": {},
   "source": [
    "EIS-Nyquist plot"
   ]
  },
  {
   "cell_type": "markdown",
   "metadata": {},
   "source": [
    "![Nyquist-plot](dpfc_files/imgs/16.png)"
   ]
  },
  {
   "cell_type": "markdown",
   "metadata": {
    "ExecuteTime": {
     "end_time": "2020-05-13T07:22:15.863688Z",
     "start_time": "2020-05-13T07:22:15.858014Z"
    }
   },
   "source": [
    "<font color=red size=4>CPE中缺少系数n的值，无法绘图</font>"
   ]
  },
  {
   "cell_type": "markdown",
   "metadata": {},
   "source": [
    "### Exp-3"
   ]
  },
  {
   "cell_type": "markdown",
   "metadata": {
    "ExecuteTime": {
     "end_time": "2020-05-13T09:16:47.827238Z",
     "start_time": "2020-05-13T09:16:47.818102Z"
    }
   },
   "source": [
    "source: <037-Investigation of the intercalation of polyvalent cations (Mg2+, Zn2+)into \u0002-MnO2for rechargeable aqueous battery>"
   ]
  },
  {
   "cell_type": "markdown",
   "metadata": {},
   "source": [
    "paras are as following"
   ]
  },
  {
   "cell_type": "markdown",
   "metadata": {},
   "source": [
    "![para-plot](dpfc_files/imgs/17.png)"
   ]
  },
  {
   "cell_type": "markdown",
   "metadata": {},
   "source": [
    "EIS-Nyquist plot"
   ]
  },
  {
   "cell_type": "markdown",
   "metadata": {},
   "source": [
    "![para-plot](dpfc_files/imgs/18.png)"
   ]
  },
  {
   "cell_type": "code",
   "execution_count": 12,
   "metadata": {
    "ExecuteTime": {
     "end_time": "2020-05-20T13:57:10.895456Z",
     "start_time": "2020-05-20T13:57:10.890447Z"
    }
   },
   "outputs": [],
   "source": [
    "fre4_3_list, w4_3_list = fre_generator(f_start = 6, f_end = -3, pts_decade = 10)"
   ]
  },
  {
   "cell_type": "code",
   "execution_count": 13,
   "metadata": {
    "ExecuteTime": {
     "end_time": "2020-05-20T13:57:11.650524Z",
     "start_time": "2020-05-20T13:57:11.644507Z"
    }
   },
   "outputs": [],
   "source": [
    "# EIS-1-para-MgSO4\n",
    "Rs = 2.575\n",
    "cpe_q = 7.198 * 1e-5\n",
    "cpe_n = 0.82302\n",
    "Q0_pair = [cpe_q, cpe_n]\n",
    "Rct = 5.103\n",
    "W0 = 3.637\n",
    "z4_3_1_list = [RaQaRWbb(w, R0=Rs, Q0_pair=Q0_pair, R1=Rct, W0=W0) for w in w4_3_list]"
   ]
  },
  {
   "cell_type": "code",
   "execution_count": 15,
   "metadata": {
    "ExecuteTime": {
     "end_time": "2020-05-20T13:57:21.213662Z",
     "start_time": "2020-05-20T13:57:21.079412Z"
    }
   },
   "outputs": [
    {
     "name": "stderr",
     "output_type": "stream",
     "text": [
      "No handles with labels found to put in legend.\n"
     ]
    },
    {
     "data": {
      "image/png": "[encoded data removed]",
      "text/plain": [
       "<Figure size 432x288 with 1 Axes>"
      ]
     },
     "metadata": {
      "needs_background": "light"
     },
     "output_type": "display_data"
    }
   ],
   "source": [
    "nyquist_plot(z_list=z4_3_1_list, x_lim=[-5, 160], y_lim=[-5, 160], plot_label='')"
   ]
  },
  {
   "cell_type": "code",
   "execution_count": 16,
   "metadata": {
    "ExecuteTime": {
     "end_time": "2020-05-20T13:57:28.630024Z",
     "start_time": "2020-05-20T13:57:28.625840Z"
    }
   },
   "outputs": [],
   "source": [
    "# EIS-2-para-Mg(NO3)2\n",
    "Rs = 1.108\n",
    "cpe_q = 4.21 * 1e-5\n",
    "cpe_n = 0.91528\n",
    "Q0_pair = [cpe_q, cpe_n]\n",
    "Rct = 3.555\n",
    "W0 = 1.382\n",
    "z4_3_2_list = [RaQaRWbb(w, R0=Rs, Q0_pair=Q0_pair, R1=Rct, W0=W0) for w in w4_3_list]"
   ]
  },
  {
   "cell_type": "code",
   "execution_count": 17,
   "metadata": {
    "ExecuteTime": {
     "end_time": "2020-05-20T13:57:35.429714Z",
     "start_time": "2020-05-20T13:57:35.296064Z"
    }
   },
   "outputs": [
    {
     "name": "stderr",
     "output_type": "stream",
     "text": [
      "No handles with labels found to put in legend.\n"
     ]
    },
    {
     "data": {
      "image/png": "[encoded data removed]",
      "text/plain": [
       "<Figure size 432x288 with 1 Axes>"
      ]
     },
     "metadata": {
      "needs_background": "light"
     },
     "output_type": "display_data"
    }
   ],
   "source": [
    "nyquist_plot(z_list=z4_3_2_list, x_lim=[-5, 160], y_lim=[-5, 160], plot_label='')"
   ]
  },
  {
   "cell_type": "code",
   "execution_count": 19,
   "metadata": {
    "ExecuteTime": {
     "end_time": "2020-05-20T13:57:50.270267Z",
     "start_time": "2020-05-20T13:57:50.265603Z"
    }
   },
   "outputs": [],
   "source": [
    "# EIS-3-para-MgCl2\n",
    "Rs = 0.863\n",
    "cpe_q = 4.034 * 1e-5\n",
    "cpe_n = 0.93046\n",
    "Q0_pair = [cpe_q, cpe_n]\n",
    "Rct = 3.897\n",
    "W0 = 1.347\n",
    "z4_3_3_list = [RaQaRWbb(w, R0=Rs, Q0_pair=Q0_pair, R1=Rct, W0=W0) for w in w4_3_list]"
   ]
  },
  {
   "cell_type": "code",
   "execution_count": 20,
   "metadata": {
    "ExecuteTime": {
     "end_time": "2020-05-20T13:57:51.422152Z",
     "start_time": "2020-05-20T13:57:51.291327Z"
    }
   },
   "outputs": [
    {
     "name": "stderr",
     "output_type": "stream",
     "text": [
      "No handles with labels found to put in legend.\n"
     ]
    },
    {
     "data": {
      "image/png": "[encoded data removed]",
      "text/plain": [
       "<Figure size 432x288 with 1 Axes>"
      ]
     },
     "metadata": {
      "needs_background": "light"
     },
     "output_type": "display_data"
    }
   ],
   "source": [
    "nyquist_plot(z_list=z4_3_3_list, x_lim=[-5, 160], y_lim=[-5, 160], plot_label='')"
   ]
  },
  {
   "cell_type": "markdown",
   "metadata": {},
   "source": [
    "### Exp-4"
   ]
  },
  {
   "cell_type": "markdown",
   "metadata": {},
   "source": [
    "source: <042-Structure and electrochemical performances of co-substituted LiSmxLa0.2-xMn1.80O4 cathode materials for rechargeable lithium-ion batteries>"
   ]
  },
  {
   "cell_type": "markdown",
   "metadata": {},
   "source": [
    "paras are as following"
   ]
  },
  {
   "cell_type": "markdown",
   "metadata": {},
   "source": [
    "![para-plot](dpfc_files/imgs/20.png)"
   ]
  },
  {
   "cell_type": "markdown",
   "metadata": {
    "ExecuteTime": {
     "end_time": "2020-05-13T14:19:42.372353Z",
     "start_time": "2020-05-13T14:19:42.363830Z"
    }
   },
   "source": [
    "<font color=black size=3 face=雅黑>In the last column of table 2, it is Warburg impedance, and it is a </font> <font color=red size=5 face=雅黑>**CONSTANT**</font>"
   ]
  },
  {
   "cell_type": "markdown",
   "metadata": {},
   "source": [
    "<font color=black size=3 face=雅黑>**The setting for Warburg impedance is obviously wrong, So I replace their values as σ(Warburg factor). The value of σ is the slope of Zre Vs. w^(-0.5).</font> <font color=red size=5 face=雅黑>According to the below figure Fig.11, the σ for LiSmLaMnO is around 100, and the another σ for LiMnO is around 400**</font>"
   ]
  },
  {
   "cell_type": "markdown",
   "metadata": {},
   "source": [
    "EIS-Nyquist plot"
   ]
  },
  {
   "cell_type": "markdown",
   "metadata": {},
   "source": [
    "![Nyquist-plot](dpfc_files/imgs/19.png)"
   ]
  },
  {
   "cell_type": "code",
   "execution_count": 119,
   "metadata": {
    "ExecuteTime": {
     "end_time": "2020-05-13T13:36:53.122242Z",
     "start_time": "2020-05-13T13:36:53.116130Z"
    }
   },
   "outputs": [],
   "source": [
    "# The frequency employed was between 1e4 and 0.1 Hz with 10 mV sinusoidal perturbation.\n",
    "fre4_4_list, w4_4_list = fre_generator(f_start = 4, f_end = -1, pts_decade = 10)"
   ]
  },
  {
   "cell_type": "code",
   "execution_count": 122,
   "metadata": {
    "ExecuteTime": {
     "end_time": "2020-05-13T13:58:00.033495Z",
     "start_time": "2020-05-13T13:58:00.027383Z"
    }
   },
   "outputs": [],
   "source": [
    "# EIS-1-LiMn2O4\n",
    "Rs = 27.04\n",
    "cpe_q = 9.209 * 1e-5\n",
    "cpe_n = 0.4865\n",
    "Q0_pair = [cpe_q, cpe_n]\n",
    "Rct = 336.5\n",
    "W0 = 400\n",
    "z4_4_1_list = [RaQaRWbb(w, R0=Rs, Q0_pair=Q0_pair, R1=Rct, W0=W0) for w in w4_4_list]"
   ]
  },
  {
   "cell_type": "code",
   "execution_count": 129,
   "metadata": {
    "ExecuteTime": {
     "end_time": "2020-05-13T14:31:21.460706Z",
     "start_time": "2020-05-13T14:31:21.204082Z"
    }
   },
   "outputs": [
    {
     "name": "stderr",
     "output_type": "stream",
     "text": [
      "No handles with labels found to put in legend.\n"
     ]
    },
    {
     "data": {
      "image/png": "[encoded data removed]",
      "text/plain": [
       "<Figure size 432x288 with 1 Axes>"
      ]
     },
     "metadata": {
      "needs_background": "light"
     },
     "output_type": "display_data"
    }
   ],
   "source": [
    "nyquist_plot(z_list=z4_4_1_list, x_lim=[-5, 800], y_lim=[-5, 500], plot_label='')"
   ]
  },
  {
   "cell_type": "code",
   "execution_count": 130,
   "metadata": {
    "ExecuteTime": {
     "end_time": "2020-05-13T14:31:27.437480Z",
     "start_time": "2020-05-13T14:31:27.431121Z"
    }
   },
   "outputs": [],
   "source": [
    "# EIS-1-LiMn2O4\n",
    "Rs = 7.047\n",
    "cpe_q = 1.01 * 1e-4\n",
    "cpe_n = 0.8\n",
    "Q0_pair = [cpe_q, cpe_n]\n",
    "Rct = 71.7\n",
    "W0 = 100\n",
    "z4_4_2_list = [RaQaRWbb(w, R0=Rs, Q0_pair=Q0_pair, R1=Rct, W0=W0) for w in w4_4_list]"
   ]
  },
  {
   "cell_type": "code",
   "execution_count": 132,
   "metadata": {
    "ExecuteTime": {
     "end_time": "2020-05-13T14:31:40.424376Z",
     "start_time": "2020-05-13T14:31:40.225140Z"
    }
   },
   "outputs": [
    {
     "name": "stderr",
     "output_type": "stream",
     "text": [
      "No handles with labels found to put in legend.\n"
     ]
    },
    {
     "data": {
      "image/png": "[encoded data removed]",
      "text/plain": [
       "<Figure size 432x288 with 1 Axes>"
      ]
     },
     "metadata": {
      "needs_background": "light"
     },
     "output_type": "display_data"
    }
   ],
   "source": [
    "nyquist_plot(z_list=z4_4_2_list, x_lim=[-5, 220], y_lim=[-5, 125], plot_label='')"
   ]
  },
  {
   "cell_type": "markdown",
   "metadata": {},
   "source": [
    "### Exp-5 (Selected)"
   ]
  },
  {
   "cell_type": "markdown",
   "metadata": {},
   "source": [
    "source: <049-Effects of phosphate additives on the stability of positive electrolytes for vanadium flow batteries>"
   ]
  },
  {
   "cell_type": "markdown",
   "metadata": {},
   "source": [
    "paras are as following"
   ]
  },
  {
   "cell_type": "markdown",
   "metadata": {},
   "source": [
    "![para-plot](dpfc_files/imgs/22.png)"
   ]
  },
  {
   "cell_type": "markdown",
   "metadata": {},
   "source": [
    "EIS-Nyquist plot"
   ]
  },
  {
   "cell_type": "markdown",
   "metadata": {},
   "source": [
    "![Nyquist-plot](dpfc_files/imgs/21.png)"
   ]
  },
  {
   "cell_type": "code",
   "execution_count": 6,
   "metadata": {
    "ExecuteTime": {
     "end_time": "2020-07-01T08:00:01.879466Z",
     "start_time": "2020-07-01T08:00:01.877465Z"
    }
   },
   "outputs": [],
   "source": [
    "# a frequency range in between 0.01 Hz and 100 kHz\n",
    "# The sinusoidal excitation voltage applied to the cells was 5 mV\n",
    "fre4_5_list, w4_5_list = fre_generator(f_start = 5, f_end = -2, pts_decade = 10)"
   ]
  },
  {
   "cell_type": "markdown",
   "metadata": {},
   "source": [
    "<font size=4 color=red>Wrong</font>"
   ]
  },
  {
   "cell_type": "code",
   "execution_count": 7,
   "metadata": {
    "ExecuteTime": {
     "end_time": "2020-07-01T08:00:02.871003Z",
     "start_time": "2020-07-01T08:00:02.560363Z"
    },
    "scrolled": true
   },
   "outputs": [
    {
     "name": "stderr",
     "output_type": "stream",
     "text": [
      "No handles with labels found to put in legend.\n"
     ]
    },
    {
     "data": {
      "image/png": "[encoded data removed]",
      "text/plain": [
       "<Figure size 432x288 with 1 Axes>"
      ]
     },
     "metadata": {
      "needs_background": "light"
     },
     "output_type": "display_data"
    }
   ],
   "source": [
    "# EIS-blank\n",
    "R1 = 1.004\n",
    "cpe_q = 1.101 * 1e-3\n",
    "cpe_n = 1\n",
    "Q0_pair = [cpe_q, cpe_n]\n",
    "R2 = 2.827\n",
    "W0 = 0.3276\n",
    "z_4_5_1_list = [RaQaRWbb(w, R0=R1, Q0_pair=Q0_pair, R1=R2, W0=W0) for w in w4_5_list]\n",
    "nyquist_plot(z_list=z_4_5_1_list, x_lim=[0, 5.5], y_lim=[0, 3], plot_label='')"
   ]
  },
  {
   "cell_type": "markdown",
   "metadata": {},
   "source": [
    "<font size=5 color=blue>Right</font>\n",
    "+ <font size=4 color=blue>Warburg type: Standard</font>"
   ]
  },
  {
   "cell_type": "code",
   "execution_count": 9,
   "metadata": {
    "ExecuteTime": {
     "end_time": "2020-07-01T08:00:41.319984Z",
     "start_time": "2020-07-01T08:00:41.207953Z"
    }
   },
   "outputs": [
    {
     "name": "stderr",
     "output_type": "stream",
     "text": [
      "No handles with labels found to put in legend.\n"
     ]
    },
    {
     "data": {
      "image/png": "[encoded data removed]",
      "text/plain": [
       "<Figure size 432x288 with 1 Axes>"
      ]
     },
     "metadata": {
      "needs_background": "light"
     },
     "output_type": "display_data"
    }
   ],
   "source": [
    "# EIS-blank\n",
    "R1 = 1.004\n",
    "cpe_q = 1.101 * 1e-3\n",
    "cpe_n = 1\n",
    "Q0_pair = [cpe_q, cpe_n]\n",
    "R2 = 2.827\n",
    "W0 = 1 / 0.3276\n",
    "z_4_5_1_list = [RaQaRWbb(w, R0=R1, Q0_pair=Q0_pair, R1=R2, W0=W0) for w in w4_5_list]\n",
    "nyquist_plot(z_list=z_4_5_1_list, x_lim=[0, 7], y_lim=[0, 7], plot_label='')"
   ]
  },
  {
   "cell_type": "code",
   "execution_count": 142,
   "metadata": {
    "ExecuteTime": {
     "end_time": "2020-05-14T02:49:36.053287Z",
     "start_time": "2020-05-14T02:49:35.886328Z"
    }
   },
   "outputs": [
    {
     "name": "stderr",
     "output_type": "stream",
     "text": [
      "No handles with labels found to put in legend.\n"
     ]
    },
    {
     "data": {
      "image/png": "[encoded data removed]",
      "text/plain": [
       "<Figure size 432x288 with 1 Axes>"
      ]
     },
     "metadata": {
      "needs_background": "light"
     },
     "output_type": "display_data"
    }
   ],
   "source": [
    "# EIS-Na2HPO4\n",
    "R1 = 1.046\n",
    "cpe_q = 1.163 * 1e-3\n",
    "cpe_n = 1\n",
    "Q0_pair = [cpe_q, cpe_n]\n",
    "R2 = 1.833\n",
    "W0 = 0.1994\n",
    "z_4_5_2_list = [RaQaRWbb(w, R0=R1, Q0_pair=Q0_pair, R1=R2, W0=W0) for w in w4_5_list]\n",
    "nyquist_plot(z_list=z_4_5_2_list, x_lim=[0, 4], y_lim=[0, 3], plot_label='')"
   ]
  },
  {
   "cell_type": "code",
   "execution_count": 143,
   "metadata": {
    "ExecuteTime": {
     "end_time": "2020-05-14T02:51:02.589719Z",
     "start_time": "2020-05-14T02:51:02.417253Z"
    }
   },
   "outputs": [
    {
     "name": "stderr",
     "output_type": "stream",
     "text": [
      "No handles with labels found to put in legend.\n"
     ]
    },
    {
     "data": {
      "image/png": "[encoded data removed]",
      "text/plain": [
       "<Figure size 432x288 with 1 Axes>"
      ]
     },
     "metadata": {
      "needs_background": "light"
     },
     "output_type": "display_data"
    }
   ],
   "source": [
    "# EIS-NH4H2HPO4\n",
    "R1 = 0.9676\n",
    "cpe_q = 1.116 * 1e-3\n",
    "cpe_n = 1\n",
    "Q0_pair = [cpe_q, cpe_n]\n",
    "R2 = 1.406\n",
    "W0 = 0.2595\n",
    "z_4_5_3_list = [RaQaRWbb(w, R0=R1, Q0_pair=Q0_pair, R1=R2, W0=W0) for w in w4_5_list]\n",
    "nyquist_plot(z_list=z_4_5_3_list, x_lim=[0, 4], y_lim=[0, 3], plot_label='')"
   ]
  },
  {
   "cell_type": "markdown",
   "metadata": {},
   "source": [
    "## ECM.5- R0-(Q0, R1)-(Q1, R2)-W0 examples"
   ]
  },
  {
   "cell_type": "markdown",
   "metadata": {},
   "source": [
    "### Exp-1 (Selected + Doubted)"
   ]
  },
  {
   "cell_type": "markdown",
   "metadata": {},
   "source": [
    "source: <080-Electrochemical and Thermal Studies of LiNi0.8Co0.15Al0.015O2 under Fluorinated Electrolytes>"
   ]
  },
  {
   "cell_type": "markdown",
   "metadata": {},
   "source": [
    "paras are as following\n",
    "![paras-plot](dpfc_files/imgs/23.png)"
   ]
  },
  {
   "cell_type": "markdown",
   "metadata": {},
   "source": [
    "<font size=4 color=blue>Warburg type: Standard</font>"
   ]
  },
  {
   "cell_type": "markdown",
   "metadata": {},
   "source": [
    "EIS-Nyquist plot\n",
    "![Nyquist-plot](dpfc_files/imgs/24.png)"
   ]
  },
  {
   "cell_type": "code",
   "execution_count": 156,
   "metadata": {
    "ExecuteTime": {
     "end_time": "2020-07-03T09:17:56.970566Z",
     "start_time": "2020-07-03T09:17:56.967098Z"
    },
    "code_folding": [
     1
    ]
   },
   "outputs": [],
   "source": [
    "# ECM-5 R(QR)(QR)W\n",
    "def RaQRbaQRbW(w, R0, Q0_pair, R1, Q1_pair, R2, W0):\n",
    "    z = R0 + 1 / ((1 / Q(w, q=Q0_pair[0], n=Q0_pair[1])) + (1/R1)) \\\n",
    "           + 1 / ((1 / Q(w, q=Q1_pair[0], n=Q1_pair[1])) + (1/R2)) \\\n",
    "           + WB(w, sigma=W0)\n",
    "    return z"
   ]
  },
  {
   "cell_type": "code",
   "execution_count": 154,
   "metadata": {
    "ExecuteTime": {
     "end_time": "2020-07-03T08:51:28.281048Z",
     "start_time": "2020-07-03T08:51:28.278543Z"
    },
    "code_folding": []
   },
   "outputs": [],
   "source": [
    "# The EIS measurement was performed by scanning the sample from 1 MHz to 1 Hz\n",
    "# with a voltage perturbation amplitudeof 5 mV at room temperature.\n",
    "fre5_1_list, w5_1_list = fre_generator(f_start = 6, f_end = -1, pts_decade = 5)"
   ]
  },
  {
   "cell_type": "markdown",
   "metadata": {},
   "source": [
    "#### FE"
   ]
  },
  {
   "cell_type": "code",
   "execution_count": 155,
   "metadata": {
    "ExecuteTime": {
     "end_time": "2020-07-03T08:51:31.703042Z",
     "start_time": "2020-07-03T08:51:31.586522Z"
    },
    "code_folding": []
   },
   "outputs": [
    {
     "name": "stderr",
     "output_type": "stream",
     "text": [
      "No handles with labels found to put in legend.\n"
     ]
    },
    {
     "data": {
      "image/png": "[encoded data removed]",
      "text/plain": [
       "<Figure size 432x288 with 1 Axes>"
      ]
     },
     "metadata": {
      "needs_background": "light"
     },
     "output_type": "display_data"
    }
   ],
   "source": [
    "# EIS-FE-para\n",
    "Re = 5.6\n",
    "Rf = 5.3\n",
    "\n",
    "cpe1_q = 486 * 1e-6\n",
    "cpe1_n = 0.65\n",
    "Q0_pair = [cpe1_q, cpe1_n]\n",
    "\n",
    "Rct = 8.1\n",
    "\n",
    "cpe2_q = 5977 * 1e-6\n",
    "cpe2_n = 0.6\n",
    "Q1_pair = [cpe2_q, cpe2_n]\n",
    "\n",
    "W0 = 11.3\n",
    "\n",
    "z_5_1_1_list = [RaQRbaQRbW(w, R0=Re, Q0_pair=Q0_pair, R1=Rf, Q1_pair=Q1_pair, R2=Rct, W0=W0) for w in w5_1_list]\n",
    "nyquist_plot(z_list=z_5_1_1_list, x_lim=[0, 25], y_lim=[0, 10], grid_flag=True, plot_label='')"
   ]
  },
  {
   "cell_type": "markdown",
   "metadata": {},
   "source": [
    "#### NFE"
   ]
  },
  {
   "cell_type": "code",
   "execution_count": 38,
   "metadata": {
    "ExecuteTime": {
     "end_time": "2020-07-01T10:58:54.668405Z",
     "start_time": "2020-07-01T10:58:54.564231Z"
    },
    "scrolled": true
   },
   "outputs": [
    {
     "name": "stderr",
     "output_type": "stream",
     "text": [
      "No handles with labels found to put in legend.\n"
     ]
    },
    {
     "data": {
      "image/png": "[encoded data removed]",
      "text/plain": [
       "<Figure size 432x288 with 1 Axes>"
      ]
     },
     "metadata": {
      "needs_background": "light"
     },
     "output_type": "display_data"
    }
   ],
   "source": [
    "# EIS-NFE-para\n",
    "Re = 2.8\n",
    "Rf = 2\n",
    "\n",
    "cpe1_q = 276 * 1e-6\n",
    "cpe1_n = 0.77\n",
    "Q0_pair = [cpe1_q, cpe1_n]\n",
    "\n",
    "Rct = 3.3\n",
    "\n",
    "cpe2_q = 9384 * 1e-6\n",
    "cpe2_n = 0.6\n",
    "Q1_pair = [cpe2_q, cpe2_n]\n",
    "\n",
    "W0 = 9\n",
    "\n",
    "z_5_1_2_list = [RaQRbaQRbW(w, R0=Re, Q0_pair=Q0_pair, R1=Rf, Q1_pair=Q1_pair, R2=Rct, W0=W0) for w in w5_1_list]\n",
    "nyquist_plot(z_list=z_5_1_2_list, x_lim=[0, 25], y_lim=[0, 10], grid_flag=True, plot_label='')"
   ]
  },
  {
   "cell_type": "markdown",
   "metadata": {},
   "source": [
    "### Exp-2"
   ]
  },
  {
   "cell_type": "markdown",
   "metadata": {},
   "source": [
    "source: <ECM-005-002-Electrochemical Impedance Spectroscopy Illuminating Performance Evolution of Porous Core–Shell Structured Nickel/Nickel Oxide Anode Materials>"
   ]
  },
  {
   "cell_type": "markdown",
   "metadata": {},
   "source": [
    "paras are as following"
   ]
  },
  {
   "cell_type": "markdown",
   "metadata": {},
   "source": [
    "![paras-plot](dpfc_files/imgs/38.png)"
   ]
  },
  {
   "cell_type": "markdown",
   "metadata": {},
   "source": [
    "EIS-Nyquist plot"
   ]
  },
  {
   "cell_type": "markdown",
   "metadata": {},
   "source": [
    "![Nyquist-plot](dpfc_files/imgs/37.png)"
   ]
  },
  {
   "cell_type": "markdown",
   "metadata": {},
   "source": [
    "ECM-plot\n",
    "![ECM-plot](dpfc_files/imgs/39.png)"
   ]
  },
  {
   "cell_type": "code",
   "execution_count": 35,
   "metadata": {
    "ExecuteTime": {
     "end_time": "2020-07-01T08:41:06.359298Z",
     "start_time": "2020-07-01T08:41:06.357298Z"
    }
   },
   "outputs": [],
   "source": [
    "# frequency ranging from 100 kHz to 5 mHz\n",
    "# AC signal of 5 mV in amplitude as the perturbation\n",
    "fre5_2_list, w5_2_list = fre_generator(f_start = 5, f_end = -3, pts_decade = 5)"
   ]
  },
  {
   "cell_type": "code",
   "execution_count": 39,
   "metadata": {
    "ExecuteTime": {
     "end_time": "2020-07-01T11:54:39.617813Z",
     "start_time": "2020-07-01T11:54:39.500224Z"
    }
   },
   "outputs": [
    {
     "name": "stderr",
     "output_type": "stream",
     "text": [
      "No handles with labels found to put in legend.\n"
     ]
    },
    {
     "data": {
      "image/png": "[encoded data removed]",
      "text/plain": [
       "<Figure size 432x288 with 1 Axes>"
      ]
     },
     "metadata": {
      "needs_background": "light"
     },
     "output_type": "display_data"
    }
   ],
   "source": [
    "# EIS-para-Whole Frame\n",
    "Rs = 8.581\n",
    "\n",
    "Rsf = 5.29\n",
    "\n",
    "CPE_sf_T = 1.4 * 1e-6\n",
    "CPE_sf_P = 1.001\n",
    "Q0_pair = [CPE_sf_T, CPE_sf_P]\n",
    "\n",
    "Rct = 29.54\n",
    "\n",
    "CPE_ct_T = 5.68 * 1e-5\n",
    "CPE_ct_P = 0.7964\n",
    "Q1_pair = [CPE_ct_T, CPE_ct_P]\n",
    "\n",
    "WB_R = 182.5\n",
    "WB_T = 1.333\n",
    "# WB_P = 0.4526\n",
    "WB_P = 0.5\n",
    "W0 = [WB_R,WB_T,WB_P]\n",
    "\n",
    "z5_2_list = [RaQRbaQRbW(w, R0=Rs, Q0_pair=Q0_pair, R1=Rsf, Q1_pair=Q1_pair, R2=Rct, W0=W0) for w in w5_2_list]\n",
    "nyquist_plot(z_list=z5_2_list, x_lim=[0, 200], y_lim=[0, 200], grid_flag=True, plot_label='')"
   ]
  },
  {
   "cell_type": "code",
   "execution_count": 41,
   "metadata": {
    "ExecuteTime": {
     "end_time": "2020-07-01T11:54:55.559990Z",
     "start_time": "2020-07-01T11:54:55.454203Z"
    }
   },
   "outputs": [
    {
     "name": "stderr",
     "output_type": "stream",
     "text": [
      "No handles with labels found to put in legend.\n"
     ]
    },
    {
     "data": {
      "image/png": "[encoded data removed]",
      "text/plain": [
       "<Figure size 432x288 with 1 Axes>"
      ]
     },
     "metadata": {
      "needs_background": "light"
     },
     "output_type": "display_data"
    }
   ],
   "source": [
    "# EIS-para-Partial Frame\n",
    "Rs = 8.581\n",
    "\n",
    "Rsf = 5.29\n",
    "CPE_sf_T = 1.4 * 1e-6\n",
    "CPE_sf_P = 1.001\n",
    "Q0_pair = [CPE_sf_T, CPE_sf_P]\n",
    "\n",
    "Rct = 29.54\n",
    "CPE_ct_T = 5.68 * 1e-5\n",
    "CPE_ct_P = 0.7964\n",
    "Q1_pair = [CPE_ct_T, CPE_ct_P]\n",
    "\n",
    "WB_R = 182.5\n",
    "WB_T = 1.333\n",
    "WB_P = 0.4526\n",
    "W0 = [WB_R,WB_T,WB_P]\n",
    "z5_2_list = [RaQRbaQRbW(w, R0=Rs, Q0_pair=Q0_pair, R1=Rsf, Q1_pair=Q1_pair, R2=Rct, W0=W0) for w in w5_2_list]\n",
    "nyquist_plot(z_list=z5_2_list, x_lim=[0, 50], y_lim=[0, 50], grid_flag=True, plot_label='')"
   ]
  },
  {
   "cell_type": "code",
   "execution_count": 42,
   "metadata": {
    "ExecuteTime": {
     "end_time": "2020-07-01T11:55:17.438257Z",
     "start_time": "2020-07-01T11:55:17.302140Z"
    }
   },
   "outputs": [
    {
     "name": "stderr",
     "output_type": "stream",
     "text": [
      "No handles with labels found to put in legend.\n"
     ]
    },
    {
     "data": {
      "image/png": "[encoded data removed]",
      "text/plain": [
       "<Figure size 432x288 with 1 Axes>"
      ]
     },
     "metadata": {
      "needs_background": "light"
     },
     "output_type": "display_data"
    }
   ],
   "source": [
    "# EIS-para-Partial Frame\n",
    "Rs = 8.581\n",
    "\n",
    "Rsf = 5.29\n",
    "CPE_sf_T = 1.4 * 1e-6\n",
    "CPE_sf_P = 1.001\n",
    "Q0_pair = [CPE_sf_T, CPE_sf_P]\n",
    "\n",
    "Rct = 29.54\n",
    "CPE_ct_T = 5.68 * 1e-5\n",
    "CPE_ct_P = 0.7964\n",
    "Q1_pair = [CPE_ct_T, CPE_ct_P]\n",
    "\n",
    "WB_R = 182.5\n",
    "WB_T = 1.333\n",
    "WB_P = 0.5\n",
    "W0 = [WB_R,WB_T,WB_P]\n",
    "z5_2_list = [RaQRbaQRbW(w, R0=Rs, Q0_pair=Q0_pair, R1=Rsf, Q1_pair=Q1_pair, R2=Rct, W0=W0) for w in w5_2_list]\n",
    "nyquist_plot(z_list=z5_2_list, x_lim=[0, 50], y_lim=[0, 50], grid_flag=True, plot_label='')"
   ]
  },
  {
   "cell_type": "markdown",
   "metadata": {},
   "source": [
    "## ECM.6- R0-(Q0, R1)-(Q1, R2-W0) examples"
   ]
  },
  {
   "cell_type": "markdown",
   "metadata": {},
   "source": [
    "### Exp-1 (Selected)"
   ]
  },
  {
   "cell_type": "markdown",
   "metadata": {},
   "source": [
    "source: <ecm-006-001-In-situ electrochemical study of plasma electrolytic oxidation treated Zr3Al based alloy in 300°C/14 MPa lithium borate buffer solution>"
   ]
  },
  {
   "cell_type": "markdown",
   "metadata": {},
   "source": [
    "<font size=4 color=blue>Warburg type: Standard</font>"
   ]
  },
  {
   "cell_type": "markdown",
   "metadata": {
    "ExecuteTime": {
     "end_time": "2020-06-21T09:44:03.185842Z",
     "start_time": "2020-06-21T09:44:03.182841Z"
    }
   },
   "source": [
    "paras are as following\n",
    "![paras-plot](dpfc_files/imgs/41.png)"
   ]
  },
  {
   "cell_type": "markdown",
   "metadata": {},
   "source": [
    "EIS-Nyquist plot\n",
    "![Nyquist-plot](dpfc_files/imgs/40.png)"
   ]
  },
  {
   "cell_type": "markdown",
   "metadata": {},
   "source": [
    "ECM-plot\n",
    "![ECM-plot](dpfc_files/imgs/42.png)"
   ]
  },
  {
   "cell_type": "code",
   "execution_count": 44,
   "metadata": {
    "ExecuteTime": {
     "end_time": "2020-07-01T15:48:58.063426Z",
     "start_time": "2020-07-01T15:48:58.058995Z"
    }
   },
   "outputs": [],
   "source": [
    "# ECM-6 R(QR)(Q(RW))\n",
    "def RaQRbaQaRWbb(w, R0, Q0_pair, R1, Q1_pair, R2, W0):\n",
    "    z = R0 + 1 / ((1 / Q(w, q=Q0_pair[0], n =Q0_pair[1])) + (1/R1)) \\\n",
    "           + 1 / ((1 / Q(w, q=Q1_pair[0], n =Q1_pair[1])) + (1/(R2 + WB(w, sigma=W0))))\n",
    "    return z"
   ]
  },
  {
   "cell_type": "code",
   "execution_count": 52,
   "metadata": {
    "ExecuteTime": {
     "end_time": "2020-07-01T15:52:13.870999Z",
     "start_time": "2020-07-01T15:52:13.867476Z"
    }
   },
   "outputs": [],
   "source": [
    "# an AC amplitude of 10 mV over the frequency range from 1 MHz to 0.01 Hz.\n",
    "fre6_1_1_list, w6_1_1_list = fre_generator(f_start = 6, f_end = -3, pts_decade = 5)"
   ]
  },
  {
   "cell_type": "markdown",
   "metadata": {
    "ExecuteTime": {
     "end_time": "2020-07-01T16:03:50.152193Z",
     "start_time": "2020-07-01T16:03:50.149192Z"
    }
   },
   "source": [
    "<font size=6 color=red>Wrong</font>"
   ]
  },
  {
   "cell_type": "code",
   "execution_count": 58,
   "metadata": {
    "ExecuteTime": {
     "end_time": "2020-07-01T16:05:30.853988Z",
     "start_time": "2020-07-01T16:05:30.748548Z"
    }
   },
   "outputs": [
    {
     "name": "stderr",
     "output_type": "stream",
     "text": [
      "No handles with labels found to put in legend.\n"
     ]
    },
    {
     "data": {
      "image/png": "[encoded data removed]",
      "text/plain": [
       "<Figure size 432x288 with 1 Axes>"
      ]
     },
     "metadata": {
      "needs_background": "light"
     },
     "output_type": "display_data"
    }
   ],
   "source": [
    "# EIS-pare Whole Frame\n",
    "# The data after 240h immersion are all avaliable, i just choose the last one, 768h, to make sure this one has unique ECM-6's feature\n",
    "Rs = 150.8\n",
    "\n",
    "Cm = 1.657 * 1e-6\n",
    "Q0_pair = [Cm, 1.0]\n",
    "\n",
    "Rc = 120.5\n",
    "\n",
    "CPE_q = 1.972 * 1e-3\n",
    "CPE_n = 0.389\n",
    "Q1_pair = [CPE_q, CPE_n]\n",
    "\n",
    "Ro = 4688\n",
    "W0 = 1.555 * 1e-4\n",
    "z6_1_1_list = [RaQRbaQaRWbb(w, R0=Rs, Q0_pair=Q0_pair, R1=Rc, Q1_pair=Q1_pair, R2=Ro, W0=W0) for w in w6_1_1_list]\n",
    "nyquist_plot(z_list = z6_1_1_list, x_lim = [0, 2500], y_lim = [0, 2500], grid_flag=True, plot_label='')"
   ]
  },
  {
   "cell_type": "markdown",
   "metadata": {
    "ExecuteTime": {
     "end_time": "2020-07-01T16:02:49.657569Z",
     "start_time": "2020-07-01T16:02:49.652568Z"
    }
   },
   "source": [
    "+ <font size=5 color=red>In Table 1, The expression of Warburg is its Induction (= 1 / Impedance) form.</font>\n",
    "+ <font size=5 color=red>In order to take it into calculation, its induction value should be reversed as the following: Z = 1 / Y </font>"
   ]
  },
  {
   "cell_type": "markdown",
   "metadata": {},
   "source": [
    "<font size=6 color=blue>Right</font>"
   ]
  },
  {
   "cell_type": "code",
   "execution_count": 54,
   "metadata": {
    "ExecuteTime": {
     "end_time": "2020-07-01T15:52:39.515171Z",
     "start_time": "2020-07-01T15:52:39.411845Z"
    }
   },
   "outputs": [
    {
     "name": "stderr",
     "output_type": "stream",
     "text": [
      "No handles with labels found to put in legend.\n"
     ]
    },
    {
     "data": {
      "image/png": "[encoded data removed]",
      "text/plain": [
       "<Figure size 432x288 with 1 Axes>"
      ]
     },
     "metadata": {
      "needs_background": "light"
     },
     "output_type": "display_data"
    }
   ],
   "source": [
    "# EIS-pare Whole Frame\n",
    "# The data after 240h immersion are all avaliable, i just choose the last one, 768h, to make sure this one has unique ECM-6's feature\n",
    "Rs = 150.8\n",
    "\n",
    "Cm = 1.657 * 1e-6\n",
    "Q0_pair = [Cm, 1.0]\n",
    "\n",
    "Rc = 120.5\n",
    "\n",
    "CPE_q = 1.972 * 1e-3\n",
    "CPE_n = 0.389\n",
    "Q1_pair = [CPE_q, CPE_n]\n",
    "\n",
    "Ro = 4688\n",
    "# W0 = 1.555 * 1e-4\n",
    "W0 = 1 / (1.555 * 1e-4)\n",
    "z6_1_1_list = [RaQRbaQaRWbb(w, R0=Rs, Q0_pair=Q0_pair, R1=Rc, Q1_pair=Q1_pair, R2=Ro, W0=W0) for w in w6_1_1_list]\n",
    "nyquist_plot(z_list = z6_1_1_list, x_lim = [0, 2500], y_lim = [0, 2500], grid_flag=True, plot_label='')"
   ]
  },
  {
   "cell_type": "markdown",
   "metadata": {},
   "source": [
    "### Exp-2 (Unfinished)"
   ]
  },
  {
   "cell_type": "markdown",
   "metadata": {},
   "source": [
    "source: ecm-006-002-Investigation of a Li-O2 cell featuring a binder-free cathode via impedance spectroscopy and equivalent circuit model analysis"
   ]
  },
  {
   "cell_type": "markdown",
   "metadata": {},
   "source": [
    "paras are as following\n",
    "![paras-plot](dpfc_files/imgs/43.png)"
   ]
  },
  {
   "cell_type": "markdown",
   "metadata": {},
   "source": [
    "EIS-Nyquist plot\n",
    "![Nyquist-plot](dpfc_files/imgs/44.png)"
   ]
  },
  {
   "cell_type": "markdown",
   "metadata": {},
   "source": [
    "ECM-plot\n",
    "![ECM-plot](dpfc_files/imgs/45.png)"
   ]
  },
  {
   "cell_type": "code",
   "execution_count": 6,
   "metadata": {
    "ExecuteTime": {
     "end_time": "2020-06-22T02:27:28.878650Z",
     "start_time": "2020-06-22T02:27:28.874647Z"
    }
   },
   "outputs": [],
   "source": [
    "# Throughout the cycling schedule, breaks were taken to measure EIS data from 1 MHz to 1 Hz on the Gamry Reference 3000\n",
    "fre6_2_1_list, w6_2_1_list = fre_generator(f_start = 6, f_end = 0, pts_decade = 5)"
   ]
  },
  {
   "cell_type": "markdown",
   "metadata": {},
   "source": [
    "<font size=5 color=red>No Warburg parameter in Table 1</font>"
   ]
  },
  {
   "cell_type": "code",
   "execution_count": 8,
   "metadata": {
    "ExecuteTime": {
     "end_time": "2020-06-22T02:27:48.871882Z",
     "start_time": "2020-06-22T02:27:48.861370Z"
    }
   },
   "outputs": [
    {
     "ename": "NameError",
     "evalue": "name 'W0' is not defined",
     "output_type": "error",
     "traceback": [
      "\u001b[1;31m---------------------------------------------------------------------------\u001b[0m",
      "\u001b[1;31mNameError\u001b[0m                                 Traceback (most recent call last)",
      "\u001b[1;32m<ipython-input-8-d9bd4e51e4c6>\u001b[0m in \u001b[0;36m<module>\u001b[1;34m\u001b[0m\n\u001b[0;32m     14\u001b[0m \u001b[0mQ1_pair\u001b[0m \u001b[1;33m=\u001b[0m \u001b[1;33m[\u001b[0m\u001b[0mCPE2_T\u001b[0m\u001b[1;33m,\u001b[0m \u001b[0mCPE2_P\u001b[0m\u001b[1;33m]\u001b[0m\u001b[1;33m\u001b[0m\u001b[1;33m\u001b[0m\u001b[0m\n\u001b[0;32m     15\u001b[0m \u001b[1;33m\u001b[0m\u001b[0m\n\u001b[1;32m---> 16\u001b[1;33m \u001b[0mz6_2_1_list\u001b[0m \u001b[1;33m=\u001b[0m \u001b[1;33m[\u001b[0m\u001b[0mRaQRbaQaRWbb\u001b[0m\u001b[1;33m(\u001b[0m\u001b[0mw\u001b[0m\u001b[1;33m,\u001b[0m \u001b[0mR0\u001b[0m\u001b[1;33m=\u001b[0m\u001b[0mRs\u001b[0m\u001b[1;33m,\u001b[0m \u001b[0mQ0_pair\u001b[0m\u001b[1;33m=\u001b[0m\u001b[0mQ0_pair\u001b[0m\u001b[1;33m,\u001b[0m \u001b[0mR1\u001b[0m\u001b[1;33m=\u001b[0m\u001b[0mRint\u001b[0m\u001b[1;33m,\u001b[0m \u001b[0mQ1_pair\u001b[0m\u001b[1;33m=\u001b[0m\u001b[0mQ1_pair\u001b[0m\u001b[1;33m,\u001b[0m \u001b[0mR2\u001b[0m\u001b[1;33m=\u001b[0m\u001b[0mRct\u001b[0m\u001b[1;33m,\u001b[0m \u001b[0mW0\u001b[0m\u001b[1;33m=\u001b[0m\u001b[0mW0\u001b[0m\u001b[1;33m)\u001b[0m \u001b[1;32mfor\u001b[0m \u001b[0mw\u001b[0m \u001b[1;32min\u001b[0m \u001b[0mw6_2_1_list\u001b[0m\u001b[1;33m]\u001b[0m\u001b[1;33m\u001b[0m\u001b[1;33m\u001b[0m\u001b[0m\n\u001b[0m\u001b[0;32m     17\u001b[0m \u001b[0mnyquist_plot\u001b[0m\u001b[1;33m(\u001b[0m\u001b[0mz_list\u001b[0m \u001b[1;33m=\u001b[0m \u001b[0mz6_2_1_list\u001b[0m\u001b[1;33m,\u001b[0m \u001b[0mx_lim\u001b[0m \u001b[1;33m=\u001b[0m \u001b[1;33m[\u001b[0m\u001b[1;36m0\u001b[0m\u001b[1;33m,\u001b[0m \u001b[1;36m500\u001b[0m\u001b[1;33m]\u001b[0m\u001b[1;33m,\u001b[0m \u001b[0my_lim\u001b[0m \u001b[1;33m=\u001b[0m \u001b[1;33m[\u001b[0m\u001b[1;36m0\u001b[0m\u001b[1;33m,\u001b[0m \u001b[1;36m300\u001b[0m\u001b[1;33m]\u001b[0m\u001b[1;33m,\u001b[0m \u001b[0mplot_label\u001b[0m\u001b[1;33m=\u001b[0m\u001b[1;34m''\u001b[0m\u001b[1;33m)\u001b[0m\u001b[1;33m\u001b[0m\u001b[1;33m\u001b[0m\u001b[0m\n",
      "\u001b[1;32m<ipython-input-8-d9bd4e51e4c6>\u001b[0m in \u001b[0;36m<listcomp>\u001b[1;34m(.0)\u001b[0m\n\u001b[0;32m     14\u001b[0m \u001b[0mQ1_pair\u001b[0m \u001b[1;33m=\u001b[0m \u001b[1;33m[\u001b[0m\u001b[0mCPE2_T\u001b[0m\u001b[1;33m,\u001b[0m \u001b[0mCPE2_P\u001b[0m\u001b[1;33m]\u001b[0m\u001b[1;33m\u001b[0m\u001b[1;33m\u001b[0m\u001b[0m\n\u001b[0;32m     15\u001b[0m \u001b[1;33m\u001b[0m\u001b[0m\n\u001b[1;32m---> 16\u001b[1;33m \u001b[0mz6_2_1_list\u001b[0m \u001b[1;33m=\u001b[0m \u001b[1;33m[\u001b[0m\u001b[0mRaQRbaQaRWbb\u001b[0m\u001b[1;33m(\u001b[0m\u001b[0mw\u001b[0m\u001b[1;33m,\u001b[0m \u001b[0mR0\u001b[0m\u001b[1;33m=\u001b[0m\u001b[0mRs\u001b[0m\u001b[1;33m,\u001b[0m \u001b[0mQ0_pair\u001b[0m\u001b[1;33m=\u001b[0m\u001b[0mQ0_pair\u001b[0m\u001b[1;33m,\u001b[0m \u001b[0mR1\u001b[0m\u001b[1;33m=\u001b[0m\u001b[0mRint\u001b[0m\u001b[1;33m,\u001b[0m \u001b[0mQ1_pair\u001b[0m\u001b[1;33m=\u001b[0m\u001b[0mQ1_pair\u001b[0m\u001b[1;33m,\u001b[0m \u001b[0mR2\u001b[0m\u001b[1;33m=\u001b[0m\u001b[0mRct\u001b[0m\u001b[1;33m,\u001b[0m \u001b[0mW0\u001b[0m\u001b[1;33m=\u001b[0m\u001b[0mW0\u001b[0m\u001b[1;33m)\u001b[0m \u001b[1;32mfor\u001b[0m \u001b[0mw\u001b[0m \u001b[1;32min\u001b[0m \u001b[0mw6_2_1_list\u001b[0m\u001b[1;33m]\u001b[0m\u001b[1;33m\u001b[0m\u001b[1;33m\u001b[0m\u001b[0m\n\u001b[0m\u001b[0;32m     17\u001b[0m \u001b[0mnyquist_plot\u001b[0m\u001b[1;33m(\u001b[0m\u001b[0mz_list\u001b[0m \u001b[1;33m=\u001b[0m \u001b[0mz6_2_1_list\u001b[0m\u001b[1;33m,\u001b[0m \u001b[0mx_lim\u001b[0m \u001b[1;33m=\u001b[0m \u001b[1;33m[\u001b[0m\u001b[1;36m0\u001b[0m\u001b[1;33m,\u001b[0m \u001b[1;36m500\u001b[0m\u001b[1;33m]\u001b[0m\u001b[1;33m,\u001b[0m \u001b[0my_lim\u001b[0m \u001b[1;33m=\u001b[0m \u001b[1;33m[\u001b[0m\u001b[1;36m0\u001b[0m\u001b[1;33m,\u001b[0m \u001b[1;36m300\u001b[0m\u001b[1;33m]\u001b[0m\u001b[1;33m,\u001b[0m \u001b[0mplot_label\u001b[0m\u001b[1;33m=\u001b[0m\u001b[1;34m''\u001b[0m\u001b[1;33m)\u001b[0m\u001b[1;33m\u001b[0m\u001b[1;33m\u001b[0m\u001b[0m\n",
      "\u001b[1;31mNameError\u001b[0m: name 'W0' is not defined"
     ]
    }
   ],
   "source": [
    "# EIS-para Pre-Discharge, para_discharge = 0 in Table 1\n",
    "Rs = 24.71\n",
    "\n",
    "Rint = 14.2\n",
    "\n",
    "CPE1_T = 11.3 * 1e-5\n",
    "CPE1_P = 0.5402\n",
    "Q0_pair = [CPE1_T, CPE1_P]\n",
    "\n",
    "Rct = 144.1\n",
    "\n",
    "CPE2_T = 2.88 * 1e-5\n",
    "CPE2_P = 0.7675\n",
    "Q1_pair = [CPE2_T, CPE2_P]\n",
    "\n",
    "W0 = \n",
    "z6_2_1_list = [RaQRbaQaRWbb(w, R0=Rs, Q0_pair=Q0_pair, R1=Rint, Q1_pair=Q1_pair, R2=Rct, W0=W0) for w in w6_2_1_list]\n",
    "nyquist_plot(z_list = z6_2_1_list, x_lim = [0, 500], y_lim = [0, 300], plot_label='')"
   ]
  },
  {
   "cell_type": "code",
   "execution_count": null,
   "metadata": {},
   "outputs": [],
   "source": []
  },
  {
   "cell_type": "code",
   "execution_count": null,
   "metadata": {},
   "outputs": [],
   "source": []
  },
  {
   "cell_type": "code",
   "execution_count": null,
   "metadata": {},
   "outputs": [],
   "source": []
  },
  {
   "cell_type": "code",
   "execution_count": null,
   "metadata": {},
   "outputs": [],
   "source": []
  },
  {
   "cell_type": "code",
   "execution_count": null,
   "metadata": {},
   "outputs": [],
   "source": []
  },
  {
   "cell_type": "code",
   "execution_count": null,
   "metadata": {},
   "outputs": [],
   "source": []
  },
  {
   "cell_type": "markdown",
   "metadata": {},
   "source": [
    "## ECM.7- R0-(Q0, R1)-W0 examples"
   ]
  },
  {
   "cell_type": "markdown",
   "metadata": {},
   "source": [
    "### Exp-1 (Doubted)"
   ]
  },
  {
   "cell_type": "markdown",
   "metadata": {},
   "source": [
    "source: <100-173-050-Preparation and capacitive properties of lithium manganese oxide intercalation compound>"
   ]
  },
  {
   "cell_type": "markdown",
   "metadata": {},
   "source": [
    "paras are as following"
   ]
  },
  {
   "cell_type": "markdown",
   "metadata": {},
   "source": [
    "<font size=5 color=red>Questionable:</font>\n",
    "+ <font size=4 color=red>The magnitude of CPE-T usually is 1e-6. But here we have 0.14 ~ 0.22</font>\n",
    "+ <font size=4 color=red>The shapes of the original Nyquist plots are not very consistent with my fitting results</font>\n",
    "+ <font size=4 color=red>For (a), the exponential coefficient, CPE_P, is 1.13 > 1, which is vary rare situation</font>"
   ]
  },
  {
   "cell_type": "markdown",
   "metadata": {},
   "source": [
    "![paras-plot](dpfc_files/imgs/30.png)"
   ]
  },
  {
   "cell_type": "markdown",
   "metadata": {},
   "source": [
    "EIS-Nyquist plot"
   ]
  },
  {
   "cell_type": "markdown",
   "metadata": {},
   "source": [
    "![Nyquist-plot](dpfc_files/imgs/29.png)"
   ]
  },
  {
   "cell_type": "code",
   "execution_count": 65,
   "metadata": {
    "ExecuteTime": {
     "end_time": "2020-07-02T11:52:46.416642Z",
     "start_time": "2020-07-02T11:52:46.413642Z"
    }
   },
   "outputs": [],
   "source": [
    "# ECM-7 R(QR)W\n",
    "def RaQRbW(w, R0, Q0_pair, R1, W0):\n",
    "    z = R0 + 1 / ((1 / Q(w, q=Q0_pair[0], n=Q0_pair[1])) + (1/R1)) + WB(w, sigma=W0)\n",
    "    return z"
   ]
  },
  {
   "cell_type": "code",
   "execution_count": 60,
   "metadata": {
    "ExecuteTime": {
     "end_time": "2020-07-02T09:23:13.892344Z",
     "start_time": "2020-07-02T09:23:13.888807Z"
    }
   },
   "outputs": [],
   "source": [
    "# an excitation voltage of 5 mV\n",
    "# a frequency range of 0.01–100 kHz\n",
    "fre7_1_list, w7_1_list = fre_generator(f_start = 5, f_end = -2, pts_decade = 10)"
   ]
  },
  {
   "cell_type": "markdown",
   "metadata": {},
   "source": [
    "#### a"
   ]
  },
  {
   "cell_type": "markdown",
   "metadata": {},
   "source": [
    "<font size=4 color=red>For (a), its CPE_P is 1.13, which is weird</font>"
   ]
  },
  {
   "cell_type": "code",
   "execution_count": 62,
   "metadata": {
    "ExecuteTime": {
     "end_time": "2020-07-02T09:23:26.235071Z",
     "start_time": "2020-07-02T09:23:26.127732Z"
    }
   },
   "outputs": [
    {
     "name": "stderr",
     "output_type": "stream",
     "text": [
      "No handles with labels found to put in legend.\n"
     ]
    },
    {
     "data": {
      "image/png": "[encoded data removed]",
      "text/plain": [
       "<Figure size 432x288 with 1 Axes>"
      ]
     },
     "metadata": {
      "needs_background": "light"
     },
     "output_type": "display_data"
    }
   ],
   "source": [
    "# EIS-para (a)-LiMnO2/TiN NTA\n",
    "Rs = 0.92\n",
    "Rct = 0.48\n",
    "# CPE is a constant phase element -an equivalent circuit used for fitting the data. \n",
    "# CPE-T is a pseudo capacitance which is called Q, \n",
    "# CPE-P is related to the semi circle in nyquist plot (depressed semicircle), normally used the notation `n`. \n",
    "# by using CPE-P and CPE-T and resistance one can calculate the true capacitance for the electrodes. \n",
    "# Capacitance = (R^(1-n)/n)*Q^(1/n)\n",
    "Wr = 3.39\n",
    "Wp = 0.43\n",
    "Wt = 0.44\n",
    "# Wr, Wt, Wp = sigma\n",
    "W0 = [Wr, Wt, Wp]\n",
    "\n",
    "cpe_t = 0.14\n",
    "cpe_p = 1.13\n",
    "Q0_pair = [cpe_t, cpe_p]\n",
    "\n",
    "z_7_1_1_list = [RaQRbW(w, R0=Rs, Q0_pair=Q0_pair, R1=Rct, W0=W0) for w in w7_1_list]\n",
    "nyquist_plot(z_list=z_7_1_1_list, x_lim=[0, 5], y_lim=[0, 5], grid_flag=True, plot_label='')"
   ]
  },
  {
   "cell_type": "markdown",
   "metadata": {},
   "source": [
    "#### b"
   ]
  },
  {
   "cell_type": "code",
   "execution_count": 8,
   "metadata": {
    "ExecuteTime": {
     "end_time": "2020-06-21T15:03:18.411927Z",
     "start_time": "2020-06-21T15:03:18.303287Z"
    }
   },
   "outputs": [
    {
     "name": "stderr",
     "output_type": "stream",
     "text": [
      "No handles with labels found to put in legend.\n"
     ]
    },
    {
     "data": {
      "image/png": "[encoded data removed]",
      "text/plain": [
       "<Figure size 432x288 with 1 Axes>"
      ]
     },
     "metadata": {
      "needs_background": "light"
     },
     "output_type": "display_data"
    }
   ],
   "source": [
    "# EIS-para (b)-MnO2/TiN NTA\n",
    "Rs = 0.98\n",
    "Rct = 0.97\n",
    "\n",
    "Wr = 4.22\n",
    "Wp = 0.51\n",
    "Wt = 0.49\n",
    "# Wr, Wt, Wp = sigma\n",
    "W0 = [Wr, Wt, Wp]\n",
    "\n",
    "# CPE is a constant phase element -an equivalent circuit used for fitting the data. \n",
    "# CPE-T is a pseudo capacitance which is called Q, \n",
    "# CPE-P is related to the semi circle in nyquist plot (depressed semicircle), normally used the notation `n`. \n",
    "# by using CPE-P and CPE-T and resistance one can calculate the true capacitance for the electrodes. \n",
    "# Capacitance = (R^(1-n)/n)*Q^(1/n)\n",
    "cpe_t = 0.22\n",
    "cpe_p = 0.98\n",
    "Q0_pair = [cpe_t, cpe_p]\n",
    "\n",
    "z_7_1_2_list = [RaQRbW(w, R0=Rs, Q0_pair=Q0_pair, R1=Rct, W0=W0) for w in w7_1_list]\n",
    "nyquist_plot(z_list=z_7_1_2_list, x_lim=[0, 5], y_lim=[0, 5], plot_label='')"
   ]
  },
  {
   "cell_type": "markdown",
   "metadata": {},
   "source": [
    "### Exp-2 (Doubted)"
   ]
  },
  {
   "cell_type": "markdown",
   "metadata": {},
   "source": [
    "source: <100-173-053-Preparation of carbon-coated lithium iron phosphate/titanium nitride for a lithium-ion supercapacitor>"
   ]
  },
  {
   "cell_type": "markdown",
   "metadata": {},
   "source": [
    "EIS-Nyquist plot"
   ]
  },
  {
   "cell_type": "markdown",
   "metadata": {},
   "source": [
    "![Nyquist-plot](dpfc_files/imgs/31.png)"
   ]
  },
  {
   "cell_type": "markdown",
   "metadata": {},
   "source": [
    "paras are as following"
   ]
  },
  {
   "cell_type": "markdown",
   "metadata": {},
   "source": [
    "<font size=3 color=red>The magnitude of CPE-T usually is 1e-6. But here we have 0.0097 ~ 0.4</font>"
   ]
  },
  {
   "cell_type": "markdown",
   "metadata": {},
   "source": [
    "![paras-plot](dpfc_files/imgs/32.png)"
   ]
  },
  {
   "cell_type": "code",
   "execution_count": 12,
   "metadata": {
    "ExecuteTime": {
     "end_time": "2020-06-21T15:07:19.637671Z",
     "start_time": "2020-06-21T15:07:19.635670Z"
    }
   },
   "outputs": [],
   "source": [
    "# a perturbation potential of 5 mV\n",
    "# a frequency range of 0.01–100 000 Hz\n",
    "fre7_2_list, w7_2_list = fre_generator(f_start = 5, f_end = -2, pts_decade = 10)"
   ]
  },
  {
   "cell_type": "code",
   "execution_count": 13,
   "metadata": {
    "ExecuteTime": {
     "end_time": "2020-06-21T15:07:21.103952Z",
     "start_time": "2020-06-21T15:07:20.988376Z"
    }
   },
   "outputs": [
    {
     "name": "stderr",
     "output_type": "stream",
     "text": [
      "No handles with labels found to put in legend.\n"
     ]
    },
    {
     "data": {
      "image/png": "[encoded data removed]",
      "text/plain": [
       "<Figure size 432x288 with 1 Axes>"
      ]
     },
     "metadata": {
      "needs_background": "light"
     },
     "output_type": "display_data"
    }
   ],
   "source": [
    "# EIS-para- (a) - LiFePO4/TiN - Whole Frame\n",
    "Rs = 2.103\n",
    "\n",
    "cpe_t = 0.40058 * 1e-6\n",
    "cpe_p = 0.9844\n",
    "Q0_pair = [cpe_t, cpe_p]\n",
    "\n",
    "Rct = 0.3645\n",
    "\n",
    "Wr = 0.5391\n",
    "Wt = 0.003011\n",
    "Wp = 0.29718\n",
    "W0 = [Wr, Wt, Wp]\n",
    "\n",
    "z_7_2_1_list = [RaQRbW(w, R0=Rs, Q0_pair=Q0_pair, R1=Rct, W0=W0) for w in w7_2_list]\n",
    "nyquist_plot(z_list=z_7_2_1_list, x_lim=[0, 8], y_lim=[0, 35], plot_label='')"
   ]
  },
  {
   "cell_type": "code",
   "execution_count": 14,
   "metadata": {
    "ExecuteTime": {
     "end_time": "2020-06-21T15:07:22.280254Z",
     "start_time": "2020-06-21T15:07:22.151555Z"
    }
   },
   "outputs": [
    {
     "name": "stderr",
     "output_type": "stream",
     "text": [
      "No handles with labels found to put in legend.\n"
     ]
    },
    {
     "data": {
      "image/png": "[encoded data removed]",
      "text/plain": [
       "<Figure size 432x288 with 1 Axes>"
      ]
     },
     "metadata": {
      "needs_background": "light"
     },
     "output_type": "display_data"
    }
   ],
   "source": [
    "# EIS-para- (a) - LiFePO4/TiN - Partial Frame\n",
    "nyquist_plot(z_list=z_7_2_1_list, x_lim=[0, 55], y_lim=[0, 75], plot_label='')"
   ]
  },
  {
   "cell_type": "code",
   "execution_count": 17,
   "metadata": {
    "ExecuteTime": {
     "end_time": "2020-06-21T15:11:16.553301Z",
     "start_time": "2020-06-21T15:11:16.439824Z"
    }
   },
   "outputs": [
    {
     "name": "stderr",
     "output_type": "stream",
     "text": [
      "No handles with labels found to put in legend.\n"
     ]
    },
    {
     "data": {
      "image/png": "[encoded data removed]",
      "text/plain": [
       "<Figure size 432x288 with 1 Axes>"
      ]
     },
     "metadata": {
      "needs_background": "light"
     },
     "output_type": "display_data"
    }
   ],
   "source": [
    "# EIS-para-(b) C-LiFePO4/TiN\n",
    "Rs = 1.824\n",
    "\n",
    "cpe_t = 0.0097889\n",
    "cpe_p = 0.94189\n",
    "Q0_pair = [cpe_t, cpe_p]\n",
    "\n",
    "Rct = 0.2512\n",
    "\n",
    "Wr = 0.45538\n",
    "Wt = 0.61681\n",
    "Wp = 0.58246\n",
    "W0 = [Wr, Wt, Wp]\n",
    "\n",
    "z_7_2_2_list = [RaQRbW(w, R0=Rs, Q0_pair=Q0_pair, R1=Rct, W0=W0) for w in w7_2_list]\n",
    "nyquist_plot(z_list=z_7_2_2_list, x_lim=[0, 8], y_lim=[0, 35], plot_label='')"
   ]
  },
  {
   "cell_type": "markdown",
   "metadata": {},
   "source": [
    "EIS-Nyquist plot"
   ]
  },
  {
   "cell_type": "markdown",
   "metadata": {},
   "source": [
    "![Nyquist-plot](dpfc_files/imgs/33.png)"
   ]
  },
  {
   "cell_type": "markdown",
   "metadata": {},
   "source": [
    "paras are as following"
   ]
  },
  {
   "cell_type": "markdown",
   "metadata": {},
   "source": [
    "![paras-plot](dpfc_files/imgs/34.png)"
   ]
  },
  {
   "cell_type": "code",
   "execution_count": 18,
   "metadata": {
    "ExecuteTime": {
     "end_time": "2020-06-21T15:11:43.173493Z",
     "start_time": "2020-06-21T15:11:43.058781Z"
    }
   },
   "outputs": [
    {
     "name": "stderr",
     "output_type": "stream",
     "text": [
      "No handles with labels found to put in legend.\n"
     ]
    },
    {
     "data": {
      "image/png": "[encoded data removed]",
      "text/plain": [
       "<Figure size 432x288 with 1 Axes>"
      ]
     },
     "metadata": {
      "needs_background": "light"
     },
     "output_type": "display_data"
    }
   ],
   "source": [
    "# EIS-para-(a) C-LiFePO4 / TiN - 0.0V\n",
    "Rs = 1.824\n",
    "\n",
    "cpe_t = 0.0097889\n",
    "cpe_p = 0.94189\n",
    "Q0_pair = [cpe_t, cpe_p]\n",
    "\n",
    "Rct = 0.2512\n",
    "\n",
    "Wr = 0.45538\n",
    "Wt = 0.61681\n",
    "Wp = 0.58246\n",
    "W0 = [Wr, Wt, Wp]\n",
    "\n",
    "z_7_2_3_list = [RaQRbW(w, R0=Rs, Q0_pair=Q0_pair, R1=Rct, W0=W0) for w in w7_2_list]\n",
    "nyquist_plot(z_list=z_7_2_3_list, x_lim=[0, 8], y_lim=[0, 35], plot_label='')"
   ]
  },
  {
   "cell_type": "code",
   "execution_count": 19,
   "metadata": {
    "ExecuteTime": {
     "end_time": "2020-06-21T15:12:27.900432Z",
     "start_time": "2020-06-21T15:12:27.785843Z"
    }
   },
   "outputs": [
    {
     "name": "stderr",
     "output_type": "stream",
     "text": [
      "No handles with labels found to put in legend.\n"
     ]
    },
    {
     "data": {
      "image/png": "[encoded data removed]",
      "text/plain": [
       "<Figure size 432x288 with 1 Axes>"
      ]
     },
     "metadata": {
      "needs_background": "light"
     },
     "output_type": "display_data"
    }
   ],
   "source": [
    "# EIS-para-(b) C-LiFePO4 / TiN - 0.5 V\n",
    "Rs = 1.826\n",
    "\n",
    "cpe_t = 0.015723\n",
    "cpe_p = 0.9993\n",
    "Q0_pair = [cpe_t, cpe_p]\n",
    "\n",
    "Rct = 0.2226\n",
    "\n",
    "Wr = 0.30786\n",
    "Wt = 0.32876\n",
    "Wp = 0.60593\n",
    "W0 = [Wr, Wt, Wp]\n",
    "\n",
    "z_7_2_4_list = [RaQRbW(w, R0=Rs, Q0_pair=Q0_pair, R1=Rct, W0=W0) for w in w7_2_list]\n",
    "nyquist_plot(z_list=z_7_2_4_list, x_lim=[0, 8], y_lim=[0, 35], plot_label='')"
   ]
  },
  {
   "cell_type": "markdown",
   "metadata": {},
   "source": [
    "### Exp-3 (Selected)"
   ]
  },
  {
   "cell_type": "markdown",
   "metadata": {},
   "source": [
    "source: <ECM-007-003-Electrochemical impedance spectroscopy study of Ce(IV) with aminopolycarboxylate ligands for redox flow batteries applications>"
   ]
  },
  {
   "cell_type": "markdown",
   "metadata": {},
   "source": [
    "<font size=5 color=blue>This paper contains other ECM model result besides ECM-7, if you have time later, can check and implement them</font>"
   ]
  },
  {
   "cell_type": "markdown",
   "metadata": {},
   "source": [
    "<font size=4 color=blue>Warburg type: Standard</font>\n",
    "+ <font>In table 3, there is only one parameter about warburg, W1(Ohm). Only Standard form of Warburg is applicable</font>"
   ]
  },
  {
   "cell_type": "markdown",
   "metadata": {
    "ExecuteTime": {
     "end_time": "2020-07-02T11:51:43.834590Z",
     "start_time": "2020-07-02T11:51:43.830589Z"
    }
   },
   "source": [
    "paras are as following\n",
    "![paras-plot](dpfc_files/imgs/49.png)"
   ]
  },
  {
   "cell_type": "markdown",
   "metadata": {
    "ExecuteTime": {
     "end_time": "2020-07-02T11:51:44.388608Z",
     "start_time": "2020-07-02T11:51:44.384607Z"
    }
   },
   "source": [
    "EIS-Nyquist plot\n",
    "![Nyquist-plot](dpfc_files/imgs/46.png)"
   ]
  },
  {
   "cell_type": "markdown",
   "metadata": {},
   "source": [
    "EIS-Bode plot\n",
    "![Bode-plot](dpfc_files/imgs/47.png)"
   ]
  },
  {
   "cell_type": "markdown",
   "metadata": {},
   "source": [
    "EIS-ECM plot\n",
    "![ECM-plot](dpfc_files/imgs/48.png)"
   ]
  },
  {
   "cell_type": "code",
   "execution_count": 95,
   "metadata": {
    "ExecuteTime": {
     "end_time": "2020-07-02T12:41:38.261106Z",
     "start_time": "2020-07-02T12:41:38.258103Z"
    }
   },
   "outputs": [],
   "source": [
    "# 0.1 to 10^5 Hz\n",
    "fre7_3_list, w7_3_list = fre_generator(f_start = 5, f_end = -1, pts_decade = 10)"
   ]
  },
  {
   "cell_type": "code",
   "execution_count": 96,
   "metadata": {
    "ExecuteTime": {
     "end_time": "2020-07-02T12:41:39.168295Z",
     "start_time": "2020-07-02T12:41:39.163629Z"
    }
   },
   "outputs": [
    {
     "data": {
      "text/plain": [
       "7.068375"
      ]
     },
     "execution_count": 96,
     "metadata": {},
     "output_type": "execute_result"
    }
   ],
   "source": [
    "3.1415 * 1.5 * 1.5"
   ]
  },
  {
   "cell_type": "code",
   "execution_count": 98,
   "metadata": {
    "ExecuteTime": {
     "end_time": "2020-07-02T12:41:50.942895Z",
     "start_time": "2020-07-02T12:41:50.835570Z"
    },
    "scrolled": true
   },
   "outputs": [
    {
     "name": "stderr",
     "output_type": "stream",
     "text": [
      "No handles with labels found to put in legend.\n"
     ]
    },
    {
     "data": {
      "image/png": "[encoded data removed]",
      "text/plain": [
       "<Figure size 432x288 with 1 Axes>"
      ]
     },
     "metadata": {
      "needs_background": "light"
     },
     "output_type": "display_data"
    }
   ],
   "source": [
    "# EIS- E(V) = 1.2, its own fitting error is the smallest one\n",
    "\n",
    "# using platinum electrode with a diameter(直径) of 3 mm as a working electrode\n",
    "# Electrode Area = pi * (D / 2)^2 = 3.1415 * 1.5 * 1.5 = 7.068375 * 1e-2 cm^2\n",
    "R_1 = 1.582\n",
    "R_2 = 3.562\n",
    "\n",
    "# R_1 = 1.582 * 1e3\n",
    "# R_2 = 3.562 * 1e3\n",
    "\n",
    "# area = 7.068375 * 1e-2\n",
    "# R_1 = 1.582 / area\n",
    "# R_2 = 3.5620 / area\n",
    "\n",
    "C1 = 2.1 * 1e-6\n",
    "# C1 = 2.1 * 1e-6 / area\n",
    "Q0_pair = [C1, 1.0]\n",
    "\n",
    "W1 = 225.15\n",
    "z_7_3_list = [RaQRbW(w, R0=R_1, Q0_pair=Q0_pair, R1=R_2, W0=W1) for w in w7_3_list]\n",
    "nyquist_plot(z_list = z_7_3_list, x_lim=[0, 300], y_lim=[0, 300], grid_flag=True, plot_label='')"
   ]
  },
  {
   "cell_type": "code",
   "execution_count": 100,
   "metadata": {
    "ExecuteTime": {
     "end_time": "2020-07-02T12:42:05.290192Z",
     "start_time": "2020-07-02T12:42:05.187098Z"
    }
   },
   "outputs": [
    {
     "name": "stderr",
     "output_type": "stream",
     "text": [
      "No handles with labels found to put in legend.\n"
     ]
    },
    {
     "data": {
      "image/png": "[encoded data removed]",
      "text/plain": [
       "<Figure size 432x288 with 1 Axes>"
      ]
     },
     "metadata": {
      "needs_background": "light"
     },
     "output_type": "display_data"
    }
   ],
   "source": [
    "nyquist_plot(z_list = z_7_3_list, x_lim=[0, 10], y_lim=[0, 10], grid_flag=True, plot_label='')"
   ]
  },
  {
   "cell_type": "markdown",
   "metadata": {},
   "source": [
    "## ECM.8- R0-(Q0, （R1, W0))-Q1 examples"
   ]
  },
  {
   "cell_type": "markdown",
   "metadata": {},
   "source": [
    "### Exp-1 (Doubted)"
   ]
  },
  {
   "cell_type": "markdown",
   "metadata": {},
   "source": [
    "source: <100-173-009-Cobalt terephthalate MOF-templated synthesis of porous nano-crystalline Co3O4 by the new indirect solid state thermolysis as cathode material of asymmetric supercapacitor>"
   ]
  },
  {
   "cell_type": "markdown",
   "metadata": {},
   "source": [
    "<font size=5 color=red>Questionable:</font>\n",
    "+ <font size=4 color=red>According to the shape of Nyquist plot, the warburg type belongs to Finite Length - Open Circuit Terminus, W_fsw</font>\n",
    "+ <font size=4 color=red>But there is only one parameter of Warburg, W_fsw needs three</font>"
   ]
  },
  {
   "cell_type": "markdown",
   "metadata": {},
   "source": [
    "paras are as following"
   ]
  },
  {
   "cell_type": "markdown",
   "metadata": {},
   "source": [
    "![paras-plot](dpfc_files/imgs/26.png)"
   ]
  },
  {
   "cell_type": "markdown",
   "metadata": {},
   "source": [
    "EIS-Nyquist plot"
   ]
  },
  {
   "cell_type": "markdown",
   "metadata": {},
   "source": [
    "![Nyquist-plot](dpfc_files/imgs/25.png)"
   ]
  },
  {
   "cell_type": "code",
   "execution_count": 101,
   "metadata": {
    "ExecuteTime": {
     "end_time": "2020-07-02T12:43:30.802384Z",
     "start_time": "2020-07-02T12:43:30.799383Z"
    }
   },
   "outputs": [],
   "source": [
    "# ECM-8 R(Q(RW))Q\n",
    "def RaQaRWbbQ(w, R0, Q0_pair, R1, W0, Q1_pair):\n",
    "    z = R0 + 1 / ((1 / Q(w, q=Q0_pair[0],n=Q0_pair[1])) + (1 / (R1 + WB(w, sigma=W0)))) \\\n",
    "           + Q(w, q=Q1_pair[0], n=Q1_pair[1])\n",
    "    return z"
   ]
  },
  {
   "cell_type": "code",
   "execution_count": 102,
   "metadata": {
    "ExecuteTime": {
     "end_time": "2020-07-02T12:43:31.267769Z",
     "start_time": "2020-07-02T12:43:31.265767Z"
    }
   },
   "outputs": [],
   "source": [
    "# frequency ranging from 100 to 0.1 Hz, at the room temperature\n",
    "fre8_list, w8_list = fre_generator(f_start = 5, f_end = -3, pts_decade = 10)"
   ]
  },
  {
   "cell_type": "code",
   "execution_count": 104,
   "metadata": {
    "ExecuteTime": {
     "end_time": "2020-07-02T12:43:37.189663Z",
     "start_time": "2020-07-02T12:43:37.079216Z"
    }
   },
   "outputs": [
    {
     "name": "stderr",
     "output_type": "stream",
     "text": [
      "No handles with labels found to put in legend.\n"
     ]
    },
    {
     "data": {
      "image/png": "[encoded data removed]",
      "text/plain": [
       "<Figure size 432x288 with 1 Axes>"
      ]
     },
     "metadata": {
      "needs_background": "light"
     },
     "output_type": "display_data"
    }
   ],
   "source": [
    "# EIS-para-Di-Co3O4\n",
    "Rs = 0.826\n",
    "Rct = 0.344\n",
    "Cdl = 0.0001\n",
    "Q0_pair = [Cdl, 1]\n",
    "Cps = 0.002\n",
    "Q1_pair = [Cps, 1]\n",
    "W0 = 0.418\n",
    "z_8_1_1_list = [RaQaRWbbQ(w, R0=Rs, Q0_pair=Q0_pair, R1=Rct, W0=W0, Q1_pair=Q1_pair) for w in w8_list]\n",
    "# EIS-para-Di-Co3O4-Whole Nyquist img\n",
    "nyquist_plot(z_list=z_8_1_1_list, x_lim=[0, 7.5], y_lim=[0, 80000], plot_label='')"
   ]
  },
  {
   "cell_type": "code",
   "execution_count": 39,
   "metadata": {
    "ExecuteTime": {
     "end_time": "2020-05-15T04:09:21.076880Z",
     "start_time": "2020-05-15T04:09:20.876835Z"
    }
   },
   "outputs": [
    {
     "name": "stderr",
     "output_type": "stream",
     "text": [
      "No handles with labels found to put in legend.\n"
     ]
    },
    {
     "data": {
      "image/png": "[encoded data removed]",
      "text/plain": [
       "<Figure size 432x288 with 1 Axes>"
      ]
     },
     "metadata": {
      "needs_background": "light"
     },
     "output_type": "display_data"
    }
   ],
   "source": [
    "# EIS-para-Di-Co3O4-partial Nyquist img\n",
    "nyquist_plot(z_list=z_8_1_1_list, x_lim=[0.8, 1.3], y_lim=[0, 0.5], plot_label='')"
   ]
  },
  {
   "cell_type": "code",
   "execution_count": 45,
   "metadata": {
    "ExecuteTime": {
     "end_time": "2020-05-15T04:11:15.357523Z",
     "start_time": "2020-05-15T04:11:15.144971Z"
    }
   },
   "outputs": [
    {
     "name": "stderr",
     "output_type": "stream",
     "text": [
      "No handles with labels found to put in legend.\n"
     ]
    },
    {
     "data": {
      "image/png": "[encoded data removed]",
      "text/plain": [
       "<Figure size 432x288 with 1 Axes>"
      ]
     },
     "metadata": {
      "needs_background": "light"
     },
     "output_type": "display_data"
    }
   ],
   "source": [
    "# EIS-para-Co(OH)2\n",
    "Rs = 0.864\n",
    "Rct = 0.016\n",
    "Cdl = 0.0002\n",
    "Q0_pair = [Cdl, 1]\n",
    "Cps = 0.148\n",
    "Q1_pair = [Cps, 1]\n",
    "W0 = 0.186\n",
    "z_8_1_2_list = [RaQaRWbbQ(w, R0=Rs, Q0_pair=Q0_pair, R1=Rct, W0=W0, Q1_pair=Q1_pair) for w in w8_list]\n",
    "# EIS-para-Co(OH)2-Whole Nyquist img\n",
    "nyquist_plot(z_list=z_8_1_2_list, x_lim=[0.5, 3.5], y_lim=[0, 1000], plot_label='')"
   ]
  },
  {
   "cell_type": "code",
   "execution_count": 57,
   "metadata": {
    "ExecuteTime": {
     "end_time": "2020-05-15T04:13:41.834078Z",
     "start_time": "2020-05-15T04:13:41.642853Z"
    }
   },
   "outputs": [
    {
     "name": "stderr",
     "output_type": "stream",
     "text": [
      "No handles with labels found to put in legend.\n"
     ]
    },
    {
     "data": {
      "image/png": "[encoded data removed]",
      "text/plain": [
       "<Figure size 432x288 with 1 Axes>"
      ]
     },
     "metadata": {
      "needs_background": "light"
     },
     "output_type": "display_data"
    }
   ],
   "source": [
    "# EIS-para-Co(OH)2-partial Nyquist img\n",
    "nyquist_plot(z_list=z_8_1_2_list, x_lim=[0.86, 0.89], y_lim=[0, 0.02], plot_label='')"
   ]
  },
  {
   "cell_type": "code",
   "execution_count": 66,
   "metadata": {
    "ExecuteTime": {
     "end_time": "2020-05-15T04:15:52.807257Z",
     "start_time": "2020-05-15T04:15:52.633010Z"
    }
   },
   "outputs": [
    {
     "name": "stderr",
     "output_type": "stream",
     "text": [
      "No handles with labels found to put in legend.\n"
     ]
    },
    {
     "data": {
      "image/png": "[encoded data removed]",
      "text/plain": [
       "<Figure size 432x288 with 1 Axes>"
      ]
     },
     "metadata": {
      "needs_background": "light"
     },
     "output_type": "display_data"
    }
   ],
   "source": [
    "# EIS-para-In-Co3O4\n",
    "Rs = 0.806\n",
    "Rct = 0.042\n",
    "Cdl = 0.002\n",
    "Q0_pair = [Cdl, 1]\n",
    "Cps = 0.239\n",
    "Q1_pair = [Cps, 1]\n",
    "W0 = 0.812\n",
    "z_8_1_3_list = [RaQaRWbbQ(w, R0=Rs, Q0_pair=Q0_pair, R1=Rct, W0=W0, Q1_pair=Q1_pair) for w in w8_list]\n",
    "# EIS-para-In-Co3O4-Whole Nyquist img\n",
    "nyquist_plot(z_list=z_8_1_3_list, x_lim=[0.5, 11.5], y_lim=[0, 600], plot_label='')"
   ]
  },
  {
   "cell_type": "code",
   "execution_count": 72,
   "metadata": {
    "ExecuteTime": {
     "end_time": "2020-05-15T04:16:52.240166Z",
     "start_time": "2020-05-15T04:16:51.955089Z"
    }
   },
   "outputs": [
    {
     "name": "stderr",
     "output_type": "stream",
     "text": [
      "No handles with labels found to put in legend.\n"
     ]
    },
    {
     "data": {
      "image/png": "[encoded data removed]",
      "text/plain": [
       "<Figure size 432x288 with 1 Axes>"
      ]
     },
     "metadata": {
      "needs_background": "light"
     },
     "output_type": "display_data"
    }
   ],
   "source": [
    "# EIS-para-In-Co3O4-partial Nyquist img\n",
    "nyquist_plot(z_list=z_8_1_3_list, x_lim=[0.78, 0.9], y_lim=[0, 0.1], plot_label='')"
   ]
  },
  {
   "cell_type": "markdown",
   "metadata": {},
   "source": [
    "### Exp-2 (Selected)"
   ]
  },
  {
   "cell_type": "markdown",
   "metadata": {},
   "source": [
    "source: <100-173-035-High-performance supercapacitor based on reduced graphene oxide decorated with europium oxide nanoparticles>"
   ]
  },
  {
   "cell_type": "markdown",
   "metadata": {},
   "source": [
    "paras are as following\n",
    "![paras-plot](dpfc_files/imgs/28.png)"
   ]
  },
  {
   "cell_type": "markdown",
   "metadata": {
    "ExecuteTime": {
     "end_time": "2020-07-02T12:51:00.333383Z",
     "start_time": "2020-07-02T12:51:00.327382Z"
    }
   },
   "source": [
    "<font color=blue size=5>mMho</font>\n",
    "+ <font>\n",
    "    The siemens (symbolized S) is the Standard International (SI) unit of electrical conductance. \n",
    "    The archaic term for this unit is the mho (ohm spelled backwards). \n",
    "    Siemens are also used, when multiplied by imaginary numbers, to denote susceptance in alternating current (AC) and radio frequency (RF) applications.\n",
    "  </font>\n",
    "+ <font>309 mMho = 309m Mho = 0.309 Mho = 0.309 ohm<sup>-1</sup> = 1 / 0.309 ohm</font>"
   ]
  },
  {
   "cell_type": "markdown",
   "metadata": {},
   "source": [
    "EIS-Nyquist plot\n",
    "![Nyquist-plot](dpfc_files/imgs/27.png)"
   ]
  },
  {
   "cell_type": "code",
   "execution_count": 152,
   "metadata": {
    "ExecuteTime": {
     "end_time": "2020-07-03T07:58:23.392654Z",
     "start_time": "2020-07-03T07:58:23.389556Z"
    }
   },
   "outputs": [],
   "source": [
    "# EIS measurements at open circuit potentials (OCPs) ranging from 0.1 to 10^5 Hz\n",
    "fre8_2_list, w8_2_list = fre_generator(f_start = 5, f_end = -2, pts_decade = 10)"
   ]
  },
  {
   "cell_type": "markdown",
   "metadata": {},
   "source": [
    "#### EuN"
   ]
  },
  {
   "cell_type": "code",
   "execution_count": 118,
   "metadata": {
    "ExecuteTime": {
     "end_time": "2020-07-02T13:46:33.748716Z",
     "start_time": "2020-07-02T13:46:33.640697Z"
    }
   },
   "outputs": [
    {
     "data": {
      "image/png": "[encoded data removed]",
      "text/plain": [
       "<Figure size 432x288 with 1 Axes>"
      ]
     },
     "metadata": {
      "needs_background": "light"
     },
     "output_type": "display_data"
    }
   ],
   "source": [
    "# EIS-para-EuN\n",
    "Rs = 1.84\n",
    "\n",
    "Cdl = 0.24 * 1e-3\n",
    "Q0_pair = [Cdl, 1]\n",
    "\n",
    "Rct = 10.21\n",
    "# The ohm is a unit used to describe Impedance; for admittance, the word “ohm” is simply flipped around to read “mho.” \n",
    "# Since the ear is small, it is more practical to use thousandths of a mho or millimhos (mmho’s)\n",
    "Zw = 1.0 / (309 * 1e-3) # unit is ohm now\n",
    "# Zw = 309\n",
    "\n",
    "Cf = 322 * 1e-3\n",
    "Q1_pair = [Cf, 1]\n",
    "\n",
    "z_8_2_1_list = [RaQaRWbbQ(w, R0=Rs, Q0_pair=Q0_pair, R1=Rct, W0=Zw, Q1_pair=Q1_pair) for w in w8_2_list]\n",
    "nyquist_plot(z_list=z_8_2_1_list, x_lim=[0, 50], y_lim=[0, 70], grid_flag=True, plot_label='EuN')"
   ]
  },
  {
   "cell_type": "code",
   "execution_count": 122,
   "metadata": {
    "ExecuteTime": {
     "end_time": "2020-07-02T14:34:01.774462Z",
     "start_time": "2020-07-02T14:34:01.660134Z"
    }
   },
   "outputs": [
    {
     "data": {
      "image/png": "[encoded data removed]",
      "text/plain": [
       "<Figure size 432x288 with 1 Axes>"
      ]
     },
     "metadata": {
      "needs_background": "light"
     },
     "output_type": "display_data"
    }
   ],
   "source": [
    "nyquist_plot(z_list=z_8_2_1_list, x_lim=[0, 15], y_lim=[0, 15], grid_flag=True, plot_label='EuN - Enlarge')"
   ]
  },
  {
   "cell_type": "markdown",
   "metadata": {},
   "source": [
    "#### EuN-RGO1"
   ]
  },
  {
   "cell_type": "code",
   "execution_count": 128,
   "metadata": {
    "ExecuteTime": {
     "end_time": "2020-07-02T14:47:40.276877Z",
     "start_time": "2020-07-02T14:47:40.164221Z"
    },
    "scrolled": true
   },
   "outputs": [
    {
     "data": {
      "image/png": "[encoded data removed]",
      "text/plain": [
       "<Figure size 432x288 with 1 Axes>"
      ]
     },
     "metadata": {
      "needs_background": "light"
     },
     "output_type": "display_data"
    }
   ],
   "source": [
    "# EIS-para-EuN-RGO1\n",
    "Rs = 1.71\n",
    "\n",
    "Cdl = 0.4 * 1e-3\n",
    "Q0_pair = [Cdl, 1]\n",
    "\n",
    "Rct = 6.22\n",
    "# The ohm is a unit used to describe Impedance; for admittance, the word “ohm” is simply flipped around to read “mho.” \n",
    "# Since the ear is small, it is more practical to use thousandths of a mho or millimhos (mmho’s)\n",
    "Zw = 1.0 / (331 * 1e-3)\n",
    "\n",
    "Cf = 422 * 1e-3\n",
    "Q1_pair = [Cf, 1]\n",
    "\n",
    "z_8_2_2_list = [RaQaRWbbQ(w, R0=Rs, Q0_pair=Q0_pair, R1=Rct, W0=Zw, Q1_pair=Q1_pair) for w in w8_2_list]\n",
    "nyquist_plot(z_list=z_8_2_2_list, x_lim=[0, 70], y_lim=[0, 70], grid_flag=True, plot_label='EuN-RGO1')"
   ]
  },
  {
   "cell_type": "code",
   "execution_count": 129,
   "metadata": {
    "ExecuteTime": {
     "end_time": "2020-07-02T14:48:02.347845Z",
     "start_time": "2020-07-02T14:48:02.236685Z"
    }
   },
   "outputs": [
    {
     "data": {
      "image/png": "[encoded data removed]",
      "text/plain": [
       "<Figure size 432x288 with 1 Axes>"
      ]
     },
     "metadata": {
      "needs_background": "light"
     },
     "output_type": "display_data"
    }
   ],
   "source": [
    "nyquist_plot(z_list=z_8_2_2_list, x_lim=[0, 15], y_lim=[0, 15], grid_flag=True, plot_label='EuN-RGO1')"
   ]
  },
  {
   "cell_type": "markdown",
   "metadata": {},
   "source": [
    "#### EuN-RGO2"
   ]
  },
  {
   "cell_type": "code",
   "execution_count": 126,
   "metadata": {
    "ExecuteTime": {
     "end_time": "2020-07-02T14:35:44.728885Z",
     "start_time": "2020-07-02T14:35:44.556070Z"
    }
   },
   "outputs": [
    {
     "data": {
      "image/png": "[encoded data removed]",
      "text/plain": [
       "<Figure size 432x288 with 1 Axes>"
      ]
     },
     "metadata": {
      "needs_background": "light"
     },
     "output_type": "display_data"
    }
   ],
   "source": [
    "# EIS-para-EuN-RGO2\n",
    "Rs = 1.53\n",
    "\n",
    "Cdl = 0.42 * 1e-3\n",
    "Q0_pair = [Cdl, 1]\n",
    "\n",
    "Rct = 4.03\n",
    "# The ohm is a unit used to describe Impedance; for admittance, the word “ohm” is simply flipped around to read “mho.” \n",
    "# Since the ear is small, it is more practical to use thousandths of a mho or millimhos (mmho’s)\n",
    "Zw = 1.0 / (385 * 1e-3)\n",
    "\n",
    "Cf = 573 * 1e-3\n",
    "Q1_pair = [Cf, 1]\n",
    "\n",
    "z_8_2_3_list = [RaQaRWbbQ(w, R0=Rs, Q0_pair=Q0_pair, R1=Rct, W0=Zw, Q1_pair=Q1_pair) for w in w8_2_list]\n",
    "nyquist_plot(z_list=z_8_2_3_list, x_lim=[0, 70], y_lim=[0, 70], grid_flag=True, plot_label='EuN-RGO2')"
   ]
  },
  {
   "cell_type": "code",
   "execution_count": 127,
   "metadata": {
    "ExecuteTime": {
     "end_time": "2020-07-02T14:38:33.219002Z",
     "start_time": "2020-07-02T14:38:33.104406Z"
    }
   },
   "outputs": [
    {
     "data": {
      "image/png": "[encoded data removed]",
      "text/plain": [
       "<Figure size 432x288 with 1 Axes>"
      ]
     },
     "metadata": {
      "needs_background": "light"
     },
     "output_type": "display_data"
    }
   ],
   "source": [
    "nyquist_plot(z_list=z_8_2_3_list, x_lim=[0, 15], y_lim=[0, 15], grid_flag=True, plot_label='EuN-RGO2 - Enlarge')"
   ]
  },
  {
   "cell_type": "markdown",
   "metadata": {},
   "source": [
    "#### EuN-RGO3"
   ]
  },
  {
   "cell_type": "code",
   "execution_count": 130,
   "metadata": {
    "ExecuteTime": {
     "end_time": "2020-07-02T14:48:48.304463Z",
     "start_time": "2020-07-02T14:48:48.196360Z"
    }
   },
   "outputs": [
    {
     "data": {
      "image/png": "[encoded data removed]",
      "text/plain": [
       "<Figure size 432x288 with 1 Axes>"
      ]
     },
     "metadata": {
      "needs_background": "light"
     },
     "output_type": "display_data"
    }
   ],
   "source": [
    "# EIS-para-EuN-RGO3\n",
    "Rs = 1.59\n",
    "\n",
    "Cdl = 0.45 * 1e-3\n",
    "Q0_pair = [Cdl, 1]\n",
    "\n",
    "Rct = 4.84\n",
    "# The ohm is a unit used to describe Impedance; for admittance, the word “ohm” is simply flipped around to read “mho.” \n",
    "# Since the ear is small, it is more practical to use thousandths of a mho or millimhos (mmho’s)\n",
    "Zw = 1.0 / (343 * 1e-3)\n",
    "\n",
    "Cf = 424 * 1e-3\n",
    "Q1_pair = [Cf, 1]\n",
    "\n",
    "z_8_2_3_list = [RaQaRWbbQ(w, R0=Rs, Q0_pair=Q0_pair, R1=Rct, W0=Zw, Q1_pair=Q1_pair) for w in w8_2_list]\n",
    "nyquist_plot(z_list=z_8_2_3_list, x_lim=[0, 50], y_lim=[0, 70], grid_flag=True, plot_label='EuN-RGO3')"
   ]
  },
  {
   "cell_type": "code",
   "execution_count": 132,
   "metadata": {
    "ExecuteTime": {
     "end_time": "2020-07-02T14:52:33.777791Z",
     "start_time": "2020-07-02T14:52:33.665676Z"
    }
   },
   "outputs": [
    {
     "data": {
      "image/png": "[encoded data removed]",
      "text/plain": [
       "<Figure size 432x288 with 1 Axes>"
      ]
     },
     "metadata": {
      "needs_background": "light"
     },
     "output_type": "display_data"
    }
   ],
   "source": [
    "nyquist_plot(z_list=z_8_2_3_list, x_lim=[0, 15], y_lim=[0, 15], grid_flag=True, plot_label='EuN-RGO3 - Enlarge')"
   ]
  },
  {
   "cell_type": "markdown",
   "metadata": {},
   "source": [
    "### Exp-3"
   ]
  },
  {
   "cell_type": "markdown",
   "metadata": {},
   "source": [
    "source: <100-173-055-Structural evolution during annealing of thermally reduced graphene nanosheets for application in supercapacitors>"
   ]
  },
  {
   "cell_type": "markdown",
   "metadata": {
    "ExecuteTime": {
     "end_time": "2020-07-02T15:10:04.734165Z",
     "start_time": "2020-07-02T15:10:04.729164Z"
    }
   },
   "source": [
    "<font size=5 color=red>Questionable:</font>\n",
    "+ <font size=4 color=red>According to the shape of the Nyquist plot, the warburg type has a high chance to be Finite Length - Open Circuit Terminus, a small chance to be Standard form</font>    "
   ]
  },
  {
   "cell_type": "markdown",
   "metadata": {},
   "source": [
    "EIS-Nyquist plot"
   ]
  },
  {
   "cell_type": "markdown",
   "metadata": {},
   "source": [
    "![Nyquist-plot](dpfc_files/imgs/35.png)"
   ]
  },
  {
   "cell_type": "markdown",
   "metadata": {},
   "source": [
    "paras are as following"
   ]
  },
  {
   "cell_type": "markdown",
   "metadata": {},
   "source": [
    "![paras-plot](dpfc_files/imgs/36.png)"
   ]
  },
  {
   "cell_type": "markdown",
   "metadata": {},
   "source": [
    "<font color=black size=3 face=雅黑>**注意，电容的单位是**</font><font color=red size=5 face=雅黑>**F/g**</font><font color=black size=3 face=雅黑>**,我不知怎么转化成正常的**</font><font color=red size=5 face=雅黑>**F/cm^2**</font>"
   ]
  },
  {
   "cell_type": "code",
   "execution_count": 30,
   "metadata": {
    "ExecuteTime": {
     "end_time": "2020-05-17T09:57:27.881786Z",
     "start_time": "2020-05-17T09:57:27.871185Z"
    }
   },
   "outputs": [],
   "source": [
    "# frequency range from 200 kHz to 10 mHz\n",
    "fre8_3_list, w8_3_list = fre_generator(f_start = 6, f_end = -2, pts_decade = 10)"
   ]
  },
  {
   "cell_type": "code",
   "execution_count": 31,
   "metadata": {
    "ExecuteTime": {
     "end_time": "2020-05-17T09:57:29.092590Z",
     "start_time": "2020-05-17T09:57:28.613044Z"
    }
   },
   "outputs": [
    {
     "name": "stderr",
     "output_type": "stream",
     "text": [
      "No handles with labels found to put in legend.\n"
     ]
    },
    {
     "data": {
      "image/png": "[encoded data removed]",
      "text/plain": [
       "<Figure size 432x288 with 1 Axes>"
      ]
     },
     "metadata": {
      "needs_background": "light"
     },
     "output_type": "display_data"
    }
   ],
   "source": [
    "# EIS-G250\n",
    "Ri = 1.93\n",
    "Rc = 0.43\n",
    "Cc = 0.39\n",
    "Cd = 125.14\n",
    "W0 = 1.07\n",
    "z_8_3_1_list = [RaQaRWbbQ(w, R0=Ri, Q0_pair=[Cc, 1], R1=Rc, W0=W0, Q1_pair=[Cd, 1]) for w in w8_3_list]\n",
    "nyquist_plot(z_list=z_8_3_1_list, x_lim=[0, 15], y_lim=[0, 30], plot_label='')"
   ]
  },
  {
   "cell_type": "code",
   "execution_count": 32,
   "metadata": {
    "ExecuteTime": {
     "end_time": "2020-05-17T10:03:31.422003Z",
     "start_time": "2020-05-17T10:03:30.948290Z"
    }
   },
   "outputs": [
    {
     "name": "stderr",
     "output_type": "stream",
     "text": [
      "No handles with labels found to put in legend.\n"
     ]
    },
    {
     "data": {
      "image/png": "[encoded data removed]",
      "text/plain": [
       "<Figure size 432x288 with 1 Axes>"
      ]
     },
     "metadata": {
      "needs_background": "light"
     },
     "output_type": "display_data"
    }
   ],
   "source": [
    "# EIS-G1000\n",
    "Ri = 0.89\n",
    "Rc = 0.34\n",
    "Cc = 0.23\n",
    "Cd = 34.47\n",
    "W0 = 1.12\n",
    "z_8_3_2_list = [RaQaRWbbQ(w, R0=Ri, Q0_pair=[Cc, 1], R1=Rc, W0=W0, Q1_pair=[Cd, 1]) for w in w8_3_list]\n",
    "nyquist_plot(z_list=z_8_3_2_list, x_lim=[0, 15], y_lim=[0, 30], plot_label='')"
   ]
  },
  {
   "cell_type": "markdown",
   "metadata": {},
   "source": [
    "## ECM.9 - R0(Q0(R1(Q1R2))) examples"
   ]
  },
  {
   "cell_type": "markdown",
   "metadata": {},
   "source": [
    "### Exp-1"
   ]
  },
  {
   "cell_type": "markdown",
   "metadata": {
    "ExecuteTime": {
     "end_time": "2020-07-02T17:34:53.608063Z",
     "start_time": "2020-07-02T17:34:53.603062Z"
    }
   },
   "source": [
    "source: <ECM-009-001-Electrochemical impedance spectroscopy for analyzing microstructure evolution of NaA zeolite membrane in acid water/ethanol solution>"
   ]
  },
  {
   "cell_type": "markdown",
   "metadata": {},
   "source": [
    "paras are as following\n",
    "![paras-plot](dpfc_files/imgs/51.png)"
   ]
  },
  {
   "cell_type": "markdown",
   "metadata": {},
   "source": [
    "EIS-Nyquist plot\n",
    "![Nyquist-plot](dpfc_files/imgs/50.png)"
   ]
  },
  {
   "cell_type": "markdown",
   "metadata": {},
   "source": [
    "ECM-plot\n",
    "![ECM-plot](dpfc_files/imgs/52.png)"
   ]
  },
  {
   "cell_type": "markdown",
   "metadata": {},
   "source": [
    "<font size=5 color=red>Questionable:</font>\n",
    "+ <font size=4 color=red>In Nyquist plot, The ranges of the x and y axis are different, Bad</font>\n",
    "+ <font size=4 color=red>Normally, the raw and the fitted results are ploted together in Nyquist, but this paper did not</font>\n",
    "+ <font size=4 color=red>The shape of Nyquist plot and my fitted results are not very consistent, But I think mine is right</font>"
   ]
  },
  {
   "cell_type": "code",
   "execution_count": 138,
   "metadata": {
    "ExecuteTime": {
     "end_time": "2020-07-02T17:43:50.625602Z",
     "start_time": "2020-07-02T17:43:50.621006Z"
    }
   },
   "outputs": [],
   "source": [
    "# ECM-9 R(Q(R(QR)))\n",
    "def RaQaRaQRbbb(w, R0, Q0_pair, R1, Q1_pair, R2):\n",
    "    z = R0 + 1 / ((1 / Q(w, q=Q0_pair[0], n=Q0_pair[1])) + ( 1 / ( R1 + ( 1 / ( 1/Q(w, q=Q1_pair[0],n=Q1_pair[1]) + 1/R2)))) )\n",
    "    return z"
   ]
  },
  {
   "cell_type": "code",
   "execution_count": 139,
   "metadata": {
    "ExecuteTime": {
     "end_time": "2020-07-02T17:46:17.826409Z",
     "start_time": "2020-07-02T17:46:17.823408Z"
    }
   },
   "outputs": [],
   "source": [
    "# frequency ranging from 100 to 0.1 Hz, at the room temperature\n",
    "fre9_1_list, w9_1_list = fre_generator(f_start = 6, f_end = -1, pts_decade = 10)"
   ]
  },
  {
   "cell_type": "markdown",
   "metadata": {},
   "source": [
    "#### 0 h"
   ]
  },
  {
   "cell_type": "code",
   "execution_count": 145,
   "metadata": {
    "ExecuteTime": {
     "end_time": "2020-07-03T02:37:03.294221Z",
     "start_time": "2020-07-03T02:37:03.176875Z"
    }
   },
   "outputs": [
    {
     "data": {
      "image/png": "[encoded data removed]",
      "text/plain": [
       "<Figure size 432x288 with 1 Axes>"
      ]
     },
     "metadata": {
      "needs_background": "light"
     },
     "output_type": "display_data"
    }
   ],
   "source": [
    "# EIS-Para 0 h\n",
    "Rs = 2174\n",
    "\n",
    "Cm = 2.995 * 1e-11\n",
    "Q0_pair = [Cm, 1.0]\n",
    "\n",
    "Rm = 1.523 * 1e4\n",
    "\n",
    "Cdl = 9.554 * 1e-6\n",
    "Q1_pair = [Cdl, 1.0]\n",
    "Rdl = 1.609 * 1e5\n",
    "\n",
    "z_9_0h_list = [RaQaRaQRbbb(w, R0=Rs, Q0_pair=Q0_pair, R1=Rm, Q1_pair=Q1_pair, R2=Rdl) for w in w9_1_list]\n",
    "nyquist_plot(z_list = z_9_0h_list, x_lim=[0, 80000], y_lim=[0, 80000], grid_flag=True, plot_label='0 h')"
   ]
  },
  {
   "cell_type": "markdown",
   "metadata": {},
   "source": [
    "#### 7 h"
   ]
  },
  {
   "cell_type": "code",
   "execution_count": 146,
   "metadata": {
    "ExecuteTime": {
     "end_time": "2020-07-03T02:53:41.169325Z",
     "start_time": "2020-07-03T02:53:41.051106Z"
    },
    "scrolled": true
   },
   "outputs": [
    {
     "data": {
      "image/png": "[encoded data removed]",
      "text/plain": [
       "<Figure size 432x288 with 1 Axes>"
      ]
     },
     "metadata": {
      "needs_background": "light"
     },
     "output_type": "display_data"
    }
   ],
   "source": [
    "# EIS-Para 7 h\n",
    "Rs = 1677\n",
    "\n",
    "Cm = 6.874 * 1e-11\n",
    "Q0_pair = [Cm, 1.0]\n",
    "\n",
    "Rm = 5.699 * 1e3\n",
    "\n",
    "Cdl = 1.044 * 1e-4\n",
    "Q1_pair = [Cdl, 1.0]\n",
    "Rdl = 2.205 * 1e3\n",
    "\n",
    "z_9_7h_list = [RaQaRaQRbbb(w, R0=Rs, Q0_pair=Q0_pair, R1=Rm, Q1_pair=Q1_pair, R2=Rdl) for w in w9_1_list]\n",
    "nyquist_plot(z_list = z_9_7h_list, x_lim=[0, 80000], y_lim=[0, 80000], grid_flag=True, plot_label='7 h')"
   ]
  },
  {
   "cell_type": "code",
   "execution_count": 147,
   "metadata": {
    "ExecuteTime": {
     "end_time": "2020-07-03T02:54:15.084773Z",
     "start_time": "2020-07-03T02:54:14.976932Z"
    }
   },
   "outputs": [
    {
     "data": {
      "image/png": "[encoded data removed]",
      "text/plain": [
       "<Figure size 432x288 with 1 Axes>"
      ]
     },
     "metadata": {
      "needs_background": "light"
     },
     "output_type": "display_data"
    }
   ],
   "source": [
    "nyquist_plot(z_list = z_9_7h_list, x_lim=[0, 10000], y_lim=[0, 10000], grid_flag=True, plot_label='7 h')"
   ]
  },
  {
   "cell_type": "markdown",
   "metadata": {},
   "source": [
    "#### 94 h"
   ]
  },
  {
   "cell_type": "code",
   "execution_count": 144,
   "metadata": {
    "ExecuteTime": {
     "end_time": "2020-07-03T02:33:26.894526Z",
     "start_time": "2020-07-03T02:33:26.774334Z"
    }
   },
   "outputs": [
    {
     "data": {
      "image/png": "[encoded data removed]",
      "text/plain": [
       "<Figure size 432x288 with 1 Axes>"
      ]
     },
     "metadata": {
      "needs_background": "light"
     },
     "output_type": "display_data"
    }
   ],
   "source": [
    "# EIS-Para 94h\n",
    "Rs = 2236\n",
    "\n",
    "Cm = 2.242 * 1e-11\n",
    "Q0_pair = [Cm, 1.0]\n",
    "\n",
    "Rm = 5.466 * 1e4\n",
    "\n",
    "Cdl = 2.488 * 1e-6\n",
    "Q1_pair = [Cdl, 1.0]\n",
    "Rdl = 5.467 * 1e4\n",
    "\n",
    "z_9_94h_list = [RaQaRaQRbbb(w, R0=Rs, Q0_pair=Q0_pair, R1=Rm, Q1_pair=Q1_pair, R2=Rdl) for w in w9_1_list]\n",
    "nyquist_plot(z_list=z_9_94h_list, x_lim=[0, 80000], y_lim=[0, 80000], grid_flag=True, plot_label='94h')"
   ]
  },
  {
   "cell_type": "markdown",
   "metadata": {},
   "source": [
    "### Exp-2 (Selected)"
   ]
  },
  {
   "cell_type": "markdown",
   "metadata": {},
   "source": [
    "source: <ECM-009-002-Evaluation of the corrosion resistance of Ni(P)Cr coatings for bipolar plates by electrochemical impedance spectroscopy>"
   ]
  },
  {
   "cell_type": "markdown",
   "metadata": {},
   "source": [
    "#### Ni-P 20"
   ]
  },
  {
   "cell_type": "markdown",
   "metadata": {},
   "source": [
    "paras are as following\n",
    "![paras-plot](dpfc_files/imgs/55.png)"
   ]
  },
  {
   "cell_type": "markdown",
   "metadata": {},
   "source": [
    "EIS-Nyquist plot\n",
    "![Nyquist-plot](dpfc_files/imgs/53.png)"
   ]
  },
  {
   "cell_type": "markdown",
   "metadata": {},
   "source": [
    "ECM-plot\n",
    "![ECM-plot](dpfc_files/imgs/54.png)"
   ]
  },
  {
   "cell_type": "markdown",
   "metadata": {},
   "source": [
    "##### 0 min"
   ]
  },
  {
   "cell_type": "code",
   "execution_count": 148,
   "metadata": {
    "ExecuteTime": {
     "end_time": "2020-07-03T03:49:51.082288Z",
     "start_time": "2020-07-03T03:49:51.079287Z"
    }
   },
   "outputs": [],
   "source": [
    "# frequency range from 10 mHz to 100 kHz\n",
    "fre9_2_list, w9_2_list = fre_generator(f_start = 5, f_end = -2, pts_decade = 10)"
   ]
  },
  {
   "cell_type": "code",
   "execution_count": 149,
   "metadata": {
    "ExecuteTime": {
     "end_time": "2020-07-03T03:49:51.844724Z",
     "start_time": "2020-07-03T03:49:51.728094Z"
    }
   },
   "outputs": [
    {
     "data": {
      "image/png": "[encoded data removed]",
      "text/plain": [
       "<Figure size 432x288 with 1 Axes>"
      ]
     },
     "metadata": {
      "needs_background": "light"
     },
     "output_type": "display_data"
    }
   ],
   "source": [
    "# EIS-para Ni-P 20 0 min\n",
    "R_1 = 70.52\n",
    "\n",
    "CPE2_T = 5.52 * 1e-6\n",
    "CPE2_P = 0.762\n",
    "Q0_pair = [CPE2_T, CPE2_P]\n",
    "\n",
    "R_2 = 764.9\n",
    "\n",
    "CPE3_T = 3.63 * 1e-5\n",
    "CPE3_P = 0.739\n",
    "Q1_pair = [CPE3_T, CPE3_P]\n",
    "\n",
    "R_3 = 2470\n",
    "\n",
    "z_9_2_p20_0min_list = [RaQaRaQRbbb(w, R0=R_1, Q0_pair=Q0_pair, R1=R_2, Q1_pair=Q1_pair, R2=R_3) for w in w9_2_list]\n",
    "nyquist_plot(z_list=z_9_2_p20_0min_list, x_lim=[0, 8000], y_lim=[0, 4000], grid_flag=True, plot_label='Ni-P 20 0 min')"
   ]
  },
  {
   "cell_type": "code",
   "execution_count": 151,
   "metadata": {
    "ExecuteTime": {
     "end_time": "2020-07-03T03:51:00.305245Z",
     "start_time": "2020-07-03T03:51:00.187721Z"
    }
   },
   "outputs": [
    {
     "data": {
      "image/png": "[encoded data removed]",
      "text/plain": [
       "<Figure size 432x288 with 1 Axes>"
      ]
     },
     "metadata": {
      "needs_background": "light"
     },
     "output_type": "display_data"
    }
   ],
   "source": [
    "nyquist_plot(z_list=z_9_2_p20_0min_list, x_lim=[0, 4000], y_lim=[0, 2000], grid_flag=True, plot_label='Ni-P 20 0 min')"
   ]
  },
  {
   "cell_type": "markdown",
   "metadata": {},
   "source": [
    "<font size=4 color=blue>There are many other good examples to be implemented, if u have time, try them</font>"
   ]
  },
  {
   "cell_type": "code",
   "execution_count": null,
   "metadata": {},
   "outputs": [],
   "source": []
  },
  {
   "cell_type": "markdown",
   "metadata": {},
   "source": [
    "## ECM.11- R0-(Q0, R1)-(Q1, R2-W0) examples"
   ]
  },
  {
   "cell_type": "markdown",
   "metadata": {},
   "source": [
    "### Exp-1"
   ]
  },
  {
   "cell_type": "markdown",
   "metadata": {},
   "source": [
    "source: <100-173-001-A comparative study, of 1M and 8M KOH electrolyte concentrations, used in Ni–MH batteries>"
   ]
  },
  {
   "cell_type": "markdown",
   "metadata": {},
   "source": [
    "paras are as following"
   ]
  },
  {
   "cell_type": "markdown",
   "metadata": {},
   "source": [
    "![para-plot](dpfc_files/imgs/8.png)"
   ]
  },
  {
   "cell_type": "markdown",
   "metadata": {},
   "source": [
    "EIS-Nyquist plot"
   ]
  },
  {
   "cell_type": "markdown",
   "metadata": {},
   "source": [
    "![para-plot](dpfc_files/imgs/9.png)"
   ]
  },
  {
   "cell_type": "markdown",
   "metadata": {},
   "source": [
    "ECM plot"
   ]
  },
  {
   "cell_type": "markdown",
   "metadata": {},
   "source": [
    "![ecm-plot](dpfc_files/imgs/10.png)"
   ]
  },
  {
   "cell_type": "code",
   "execution_count": 77,
   "metadata": {
    "ExecuteTime": {
     "end_time": "2020-05-12T09:41:23.416573Z",
     "start_time": "2020-05-12T09:41:23.411205Z"
    }
   },
   "outputs": [],
   "source": [
    "# ECM-11 R0(C0R1(R2W0))(Q0R3)\n",
    "def RaCRaRWbbaQRb(w, R0, C0, R1, R2, W0, Q0_pair, R3):\n",
    "    z = R0 + 1 / (1j * w * C0 + 1/R1 + 1 / (R2 + WB(w, sigma=W0)) ) + 1 / (1 / Q(w, q=Q0_pair[0], n=Q0_pair[1]) + 1/R3)\n",
    "    return z"
   ]
  },
  {
   "cell_type": "code",
   "execution_count": 78,
   "metadata": {
    "ExecuteTime": {
     "end_time": "2020-05-12T09:41:24.268420Z",
     "start_time": "2020-05-12T09:41:24.264358Z"
    }
   },
   "outputs": [],
   "source": [
    "# From the bode plots in Fig-13, its frequency range is assumed to be 1e-3 ~ 1e5, 10 points per decade\n",
    "fre11_list, w11_list = fre_generator(f_start = 5, f_end = -3, pts_decade = 10)"
   ]
  },
  {
   "cell_type": "code",
   "execution_count": 79,
   "metadata": {
    "ExecuteTime": {
     "end_time": "2020-05-12T09:41:25.143937Z",
     "start_time": "2020-05-12T09:41:25.136755Z"
    }
   },
   "outputs": [],
   "source": [
    "Rel = 0.56\n",
    "Cdl = 24 * 1e-6 # F*cm^(-2)\n",
    "Rct = 1.7\n",
    "R = 1.3\n",
    "W0 = 0.14\n",
    "\n",
    "cpe_q = 0.24\n",
    "cpe_n = 0.89\n",
    "Q0_pair = [cpe_q, cpe_n]\n",
    "\n",
    "Rlf = 5.9\n",
    "z11_1_list = [RaCRaRWbbaQRb(w, R0=Rel, C0=Cdl, R1=R, R2=Rct, W0=W0, Q0_pair=Q0_pair, R3=Rlf) for w in w11_list]"
   ]
  },
  {
   "cell_type": "code",
   "execution_count": 80,
   "metadata": {
    "ExecuteTime": {
     "end_time": "2020-05-12T09:41:26.156440Z",
     "start_time": "2020-05-12T09:41:25.970241Z"
    },
    "scrolled": true
   },
   "outputs": [
    {
     "name": "stderr",
     "output_type": "stream",
     "text": [
      "No handles with labels found to put in legend.\n"
     ]
    },
    {
     "data": {
      "image/png": "[encoded data removed]",
      "text/plain": [
       "<Figure size 432x288 with 1 Axes>"
      ]
     },
     "metadata": {
      "needs_background": "light"
     },
     "output_type": "display_data"
    }
   ],
   "source": [
    "nyquist_plot(z_list=z11_1_list, x_lim=[0, 8], y_lim=[-1, 3], plot_label='')"
   ]
  },
  {
   "cell_type": "code",
   "execution_count": null,
   "metadata": {},
   "outputs": [],
   "source": [
    "# Enlarge the high frequency regime\n",
    "nyquist_plot(z_list=z11_1_list, x_lim=[0, 8], y_lim=[-1, 3], plot_label='')"
   ]
  },
  {
   "cell_type": "markdown",
   "metadata": {},
   "source": [
    "### Exp-2"
   ]
  },
  {
   "cell_type": "markdown",
   "metadata": {},
   "source": [
    "source: <100-173-001-A comparative study, of 1M and 8M KOH electrolyte concentrations, used in Ni–MH batteries>"
   ]
  },
  {
   "cell_type": "markdown",
   "metadata": {
    "ExecuteTime": {
     "end_time": "2020-05-12T09:16:59.436829Z",
     "start_time": "2020-05-12T09:16:59.429364Z"
    }
   },
   "source": [
    "paras are as following"
   ]
  },
  {
   "cell_type": "markdown",
   "metadata": {},
   "source": [
    "![para-plot](dpfc_files/imgs/11.png)"
   ]
  },
  {
   "cell_type": "markdown",
   "metadata": {},
   "source": [
    "EIS-Nyquist plot"
   ]
  },
  {
   "cell_type": "markdown",
   "metadata": {
    "ExecuteTime": {
     "end_time": "2020-05-12T09:21:05.496789Z",
     "start_time": "2020-05-12T09:21:05.427654Z"
    }
   },
   "source": [
    "![Nyquist-plot](dpfc_files/imgs/12.png)"
   ]
  },
  {
   "cell_type": "code",
   "execution_count": 81,
   "metadata": {
    "ExecuteTime": {
     "end_time": "2020-05-12T09:41:40.396114Z",
     "start_time": "2020-05-12T09:41:40.389834Z"
    }
   },
   "outputs": [],
   "source": [
    "Rel = 0.34\n",
    "Cdl = 86 * 1e-6 # F*cm^(-2)\n",
    "Rct = 1.2\n",
    "R = 2.5\n",
    "W0 = 0.12\n",
    "\n",
    "cpe_q = 0.04\n",
    "cpe_n = 0.79\n",
    "Q0_pair = [cpe_q, cpe_n]\n",
    "\n",
    "Rlf = 29.6\n",
    "z11_2_list = [RaCRaRWbbaQRb(w, R0=Rel, C0=Cdl, R1=R, R2=Rct, W0=W0, Q0_pair=Q0_pair, R3=Rlf) for w in w11_list]"
   ]
  },
  {
   "cell_type": "code",
   "execution_count": 83,
   "metadata": {
    "ExecuteTime": {
     "end_time": "2020-05-12T09:41:59.407502Z",
     "start_time": "2020-05-12T09:41:59.142730Z"
    }
   },
   "outputs": [
    {
     "name": "stderr",
     "output_type": "stream",
     "text": [
      "No handles with labels found to put in legend.\n"
     ]
    },
    {
     "data": {
      "image/png": "[encoded data removed]",
      "text/plain": [
       "<Figure size 432x288 with 1 Axes>"
      ]
     },
     "metadata": {
      "needs_background": "light"
     },
     "output_type": "display_data"
    }
   ],
   "source": [
    "nyquist_plot(z_list=z11_2_list, x_lim=[-2, 35], y_lim=[-2, 16], plot_label='')"
   ]
  },
  {
   "cell_type": "code",
   "execution_count": 85,
   "metadata": {
    "ExecuteTime": {
     "end_time": "2020-05-12T09:54:54.763621Z",
     "start_time": "2020-05-12T09:54:54.596912Z"
    }
   },
   "outputs": [
    {
     "name": "stderr",
     "output_type": "stream",
     "text": [
      "No handles with labels found to put in legend.\n"
     ]
    },
    {
     "data": {
      "image/png": "[encoded data removed]",
      "text/plain": [
       "<Figure size 432x288 with 1 Axes>"
      ]
     },
     "metadata": {
      "needs_background": "light"
     },
     "output_type": "display_data"
    }
   ],
   "source": [
    "# Enlarge the high frequency regime\n",
    "nyquist_plot(z_list=z11_2_list, x_lim=[0, 3], y_lim=[-2, 2], plot_label='')"
   ]
  },
  {
   "cell_type": "markdown",
   "metadata": {},
   "source": [
    "## ECM exampls in 'EIS Introduction'"
   ]
  },
  {
   "cell_type": "code",
   "execution_count": null,
   "metadata": {},
   "outputs": [],
   "source": []
  },
  {
   "cell_type": "code",
   "execution_count": null,
   "metadata": {},
   "outputs": [],
   "source": []
  },
  {
   "cell_type": "code",
   "execution_count": null,
   "metadata": {},
   "outputs": [],
   "source": []
  },
  {
   "cell_type": "markdown",
   "metadata": {},
   "source": [
    "## ECM exampls in 'EIS-1st'"
   ]
  },
  {
   "cell_type": "markdown",
   "metadata": {},
   "source": [
    "## ECM exampls in 'Impedance'"
   ]
  },
  {
   "cell_type": "code",
   "execution_count": 4,
   "metadata": {
    "ExecuteTime": {
     "end_time": "2020-04-15T14:25:45.698161Z",
     "start_time": "2020-04-15T14:25:45.684155Z"
    }
   },
   "outputs": [],
   "source": [
    "# https://impedancepy.readthedocs.io/en/latest/getting-started.html\n",
    "# ECM-10 R0(C0R1)(C1(R2W0))\n",
    "def RaCRbaCaRWbb(w, R0, C0, R1, C1, R2, W0):\n",
    "    z = R0 + 1/(1/R1 + 1/C0) + 1 / (1/C1 + 1/(R2 + WB(w, sigma=W0)))\n",
    "    return z"
   ]
  },
  {
   "cell_type": "code",
   "execution_count": 5,
   "metadata": {
    "ExecuteTime": {
     "end_time": "2020-04-15T14:32:49.556699Z",
     "start_time": "2020-04-15T14:32:49.542721Z"
    }
   },
   "outputs": [],
   "source": [
    "R0=1.65e-02\n",
    "C0=3.32\n",
    "R1=8.68e-03\n",
    "C1=2.20e-01\n",
    "R2=5.39e-03\n",
    "W0=233\n",
    "z_3_list = [RaCRbaCaRWbb(w, R0, C0, R1, C1, R2, W0) for w in w_list]"
   ]
  },
  {
   "cell_type": "code",
   "execution_count": 46,
   "metadata": {
    "ExecuteTime": {
     "end_time": "2020-05-12T01:49:15.379109Z",
     "start_time": "2020-05-12T01:49:15.365647Z"
    }
   },
   "outputs": [
    {
     "ename": "NameError",
     "evalue": "name 'z_3_list' is not defined",
     "output_type": "error",
     "traceback": [
      "\u001b[1;31m---------------------------------------------------------------------------\u001b[0m",
      "\u001b[1;31mNameError\u001b[0m                                 Traceback (most recent call last)",
      "\u001b[1;32m<ipython-input-46-0b86da8aacdc>\u001b[0m in \u001b[0;36m<module>\u001b[1;34m\u001b[0m\n\u001b[1;32m----> 1\u001b[1;33m \u001b[0mnyquist_plot\u001b[0m\u001b[1;33m(\u001b[0m\u001b[0mz_list\u001b[0m \u001b[1;33m=\u001b[0m \u001b[0mz_3_list\u001b[0m\u001b[1;33m,\u001b[0m \u001b[0mx_lim\u001b[0m\u001b[1;33m=\u001b[0m\u001b[1;33m[\u001b[0m\u001b[1;36m0.19\u001b[0m\u001b[1;33m,\u001b[0m \u001b[1;36m0.26\u001b[0m\u001b[1;33m]\u001b[0m\u001b[1;33m,\u001b[0m \u001b[0my_lim\u001b[0m\u001b[1;33m=\u001b[0m\u001b[1;33m[\u001b[0m\u001b[1;33m-\u001b[0m\u001b[1;36m0.005\u001b[0m\u001b[1;33m,\u001b[0m \u001b[1;36m0.03\u001b[0m\u001b[1;33m]\u001b[0m\u001b[1;33m,\u001b[0m \u001b[0mplot_label\u001b[0m\u001b[1;33m=\u001b[0m\u001b[1;34m'Impedance-Example'\u001b[0m\u001b[1;33m)\u001b[0m\u001b[1;33m\u001b[0m\u001b[1;33m\u001b[0m\u001b[0m\n\u001b[0m",
      "\u001b[1;31mNameError\u001b[0m: name 'z_3_list' is not defined"
     ]
    }
   ],
   "source": [
    "nyquist_plot(z_list = z_3_list, x_lim=[0.19, 0.26], y_lim=[-0.005, 0.03], plot_label='Impedance-Example')"
   ]
  },
  {
   "cell_type": "code",
   "execution_count": null,
   "metadata": {},
   "outputs": [],
   "source": []
  },
  {
   "cell_type": "markdown",
   "metadata": {},
   "source": [
    "## ECM exampls in 'PyEIS'"
   ]
  },
  {
   "cell_type": "code",
   "execution_count": 135,
   "metadata": {
    "ExecuteTime": {
     "end_time": "2020-07-02T17:31:34.737657Z",
     "start_time": "2020-07-02T17:31:34.734610Z"
    }
   },
   "outputs": [
    {
     "data": {
      "text/plain": [
       "23.0"
      ]
     },
     "execution_count": 135,
     "metadata": {},
     "output_type": "execute_result"
    }
   ],
   "source": [
    "52.5-29.5"
   ]
  },
  {
   "cell_type": "code",
   "execution_count": 136,
   "metadata": {
    "ExecuteTime": {
     "end_time": "2020-07-02T17:31:39.243569Z",
     "start_time": "2020-07-02T17:31:39.239568Z"
    }
   },
   "outputs": [
    {
     "data": {
      "text/plain": [
       "7.666666666666667"
      ]
     },
     "execution_count": 136,
     "metadata": {},
     "output_type": "execute_result"
    }
   ],
   "source": [
    "23/3"
   ]
  },
  {
   "cell_type": "code",
   "execution_count": null,
   "metadata": {},
   "outputs": [],
   "source": []
  }
 ],
 "metadata": {
  "kernelspec": {
   "display_name": "Python 3",
   "language": "python",
   "name": "python3"
  },
  "language_info": {
   "codemirror_mode": {
    "name": "ipython",
    "version": 3
   },
   "file_extension": ".py",
   "mimetype": "text/x-python",
   "name": "python",
   "nbconvert_exporter": "python",
   "pygments_lexer": "ipython3",
   "version": "3.8.2"
  },
  "toc": {
   "base_numbering": 1,
   "nav_menu": {},
   "number_sections": true,
   "sideBar": true,
   "skip_h1_title": false,
   "title_cell": "Table of Contents",
   "title_sidebar": "Contents",
   "toc_cell": false,
   "toc_position": {
    "height": "calc(100% - 180px)",
    "left": "10px",
    "top": "150px",
    "width": "312px"
   },
   "toc_section_display": true,
   "toc_window_display": true
  },
  "varInspector": {
   "cols": {
    "lenName": 16,
    "lenType": 16,
    "lenVar": 40
   },
   "kernels_config": {
    "python": {
     "delete_cmd_postfix": "",
     "delete_cmd_prefix": "del ",
     "library": "var_list.py",
     "varRefreshCmd": "print(var_dic_list())"
    },
    "r": {
     "delete_cmd_postfix": ") ",
     "delete_cmd_prefix": "rm(",
     "library": "var_list.r",
     "varRefreshCmd": "cat(var_dic_list()) "
    }
   },
   "types_to_exclude": [
    "module",
    "function",
    "builtin_function_or_method",
    "instance",
    "_Feature"
   ],
   "window_display": false
  }
 },
 "nbformat": 4,
 "nbformat_minor": 2
}
