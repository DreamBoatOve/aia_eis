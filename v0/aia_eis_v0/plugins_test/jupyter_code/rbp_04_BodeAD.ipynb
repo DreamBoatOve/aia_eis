{
 "cells": [
  {
   "cell_type": "markdown",
   "metadata": {},
   "source": [
    "# Config Environment"
   ]
  },
  {
   "cell_type": "code",
   "execution_count": 1,
   "metadata": {},
   "outputs": [],
   "source": [
    "import sys\n",
    "sys.path.append('../../')\n",
    "\n",
    "import os\n",
    "import math\n",
    "import numpy as np\n",
    "import copy\n",
    "\n",
    "from circuits.ecm import ECM\n",
    "from circuits.vogit_1 import Vogit_3\n",
    "from IS.IS import IS_0\n",
    "\n",
    "from smoothAlg.SavitzkyGolay import savitzkyGolay\n",
    "from utils.file_utils.pickle_utils import pickle_file, load_pickle_file\n",
    "\n",
    "%matplotlib widget\n",
    "from utils.visualize_utils.IS_plots.ny import nyquist_multiPlots_1, nyquist_plot_1\n",
    "from utils.visualize_utils.IS_plots.bd import bode_one_plot, bode_two_plot, bode_absZ\n",
    "from utils.visualize_utils.IS_plots.residuals import real_residual_plot, residuals_plot"
   ]
  },
  {
   "cell_type": "markdown",
   "metadata": {},
   "source": [
    "# 证明有1个异常的点阻抗 的Bode上也能反映出异常"
   ]
  },
  {
   "cell_type": "code",
   "execution_count": 2,
   "metadata": {},
   "outputs": [],
   "source": [
    "# load EIS with one Outier\n",
    "RaRCbaRWb_OneOutlier_pkl_fp = './rbp_files/0/R(RC)(RW)_pkl/oneOutlier/'"
   ]
  },
  {
   "cell_type": "code",
   "execution_count": 3,
   "metadata": {},
   "outputs": [
    {
     "data": {
      "application/vnd.jupyter.widget-view+json": {
       "model_id": "aea75fe0b8904dcda5c1477c0e744867",
       "version_major": 2,
       "version_minor": 0
      },
      "text/plain": [
       "Canvas(toolbar=Toolbar(toolitems=[('Home', 'Reset original view', 'home', 'home'), ('Back', 'Back to previous …"
      ]
     },
     "metadata": {},
     "output_type": "display_data"
    }
   ],
   "source": [
    "# 先看看理想的EIS什么样子\n",
    "RaRCbaRWb_IS = IS_0()\n",
    "RaRCbaRWb_IS.read_from_EcmCls(fp='./rbp_files/0/R(RC)(RW)_pkl/',\n",
    "                              fn='2021_09_14_R(RC)(RW)_ecm.pkl')\n",
    "\n",
    "# plot Bodes\n",
    "bode_one_plot(fre_list = RaRCbaRWb_IS.fre_arr,\n",
    "              z_list = RaRCbaRWb_IS.z_arr, fig_title='Bode-RaRCbaRWb')"
   ]
  },
  {
   "cell_type": "code",
   "execution_count": 4,
   "metadata": {},
   "outputs": [],
   "source": [
    "# Import Ideal R(RC)(RW)_IS\n",
    "RaRCbaRWb_OneOutlier_HF_H_IS = IS_0()\n",
    "RaRCbaRWb_OneOutlier_HF_H_IS.read_from_EcmCls(fp=RaRCbaRWb_OneOutlier_pkl_fp,\n",
    "                                              fn='2021_09_15_R(RC)(RW)_HF_H_ecm.pkl')"
   ]
  },
  {
   "cell_type": "code",
   "execution_count": 5,
   "metadata": {},
   "outputs": [
    {
     "data": {
      "application/vnd.jupyter.widget-view+json": {
       "model_id": "e23ab952aa3646f49f534535ea8ba73d",
       "version_major": 2,
       "version_minor": 0
      },
      "text/plain": [
       "Canvas(toolbar=Toolbar(toolitems=[('Home', 'Reset original view', 'home', 'home'), ('Back', 'Back to previous …"
      ]
     },
     "metadata": {},
     "output_type": "display_data"
    }
   ],
   "source": [
    "# plot Bodes\n",
    "bode_one_plot(fre_list = RaRCbaRWb_OneOutlier_HF_H_IS.fre_arr,\n",
    "              z_list = RaRCbaRWb_OneOutlier_HF_H_IS.z_arr, fig_title='Bode-RaRCbaRWb_OneOutlier_HF_H')"
   ]
  },
  {
   "cell_type": "markdown",
   "metadata": {},
   "source": [
    "## HF_H"
   ]
  },
  {
   "cell_type": "code",
   "execution_count": 6,
   "metadata": {},
   "outputs": [
    {
     "data": {
      "application/vnd.jupyter.widget-view+json": {
       "model_id": "49febd3fe9b04755b5a506584e6a57f3",
       "version_major": 2,
       "version_minor": 0
      },
      "text/plain": [
       "Canvas(toolbar=Toolbar(toolitems=[('Home', 'Reset original view', 'home', 'home'), ('Back', 'Back to previous …"
      ]
     },
     "metadata": {},
     "output_type": "display_data"
    }
   ],
   "source": [
    "# plot ideal and abnormal(1 Outlier) Bode\n",
    "bode_two_plot(fre_arr=RaRCbaRWb_IS.fre_arr, z_arr=RaRCbaRWb_IS.z_arr, \n",
    "              z1_arr=RaRCbaRWb_OneOutlier_HF_H_IS.z_arr,\n",
    "              fig_title='ideal and abnormal (1 Outlier HF_H) Bode',\n",
    "              ax1_title_list=['Ideal','abnormal (1 Outlier HF_H)'],\n",
    "              ax2_title_list=['Ideal','abnormal (1 Outlier HF_H)'])"
   ]
  },
  {
   "cell_type": "code",
   "execution_count": 7,
   "metadata": {},
   "outputs": [
    {
     "data": {
      "application/vnd.jupyter.widget-view+json": {
       "model_id": "365b5452c48647608fd5127dbe8f2261",
       "version_major": 2,
       "version_minor": 0
      },
      "text/plain": [
       "Canvas(toolbar=Toolbar(toolitems=[('Home', 'Reset original view', 'home', 'home'), ('Back', 'Back to previous …"
      ]
     },
     "metadata": {},
     "output_type": "display_data"
    },
    {
     "name": "stderr",
     "output_type": "stream",
     "text": [
      "g:\\python\\python\\pythov3.6.1\\lib\\site-packages\\numpy\\core\\_asarray.py:83: ComplexWarning: Casting complex values to real discards the imaginary part\n",
      "  return array(a, dtype, copy=False, order=order)\n",
      "g:\\python\\python\\pythov3.6.1\\lib\\site-packages\\numpy\\core\\_asarray.py:83: ComplexWarning: Casting complex values to real discards the imaginary part\n",
      "  return array(a, dtype, copy=False, order=order)\n"
     ]
    }
   ],
   "source": [
    "%matplotlib widget\n",
    "bode_absZ(fre_arr=RaRCbaRWb_IS.fre_arr,\n",
    "          z_arr_list=[RaRCbaRWb_IS.z_arr, RaRCbaRWb_OneOutlier_HF_H_IS.z_arr], \n",
    "          plot_type='normal', fig_title='Bode-|Z|-HF-H',label_list=['Ideal','HF-H'])"
   ]
  },
  {
   "cell_type": "markdown",
   "metadata": {},
   "source": [
    "## HF-M"
   ]
  },
  {
   "cell_type": "code",
   "execution_count": 10,
   "metadata": {},
   "outputs": [
    {
     "data": {
      "application/vnd.jupyter.widget-view+json": {
       "model_id": "e9ff49946e1a4f1a97e1e89d085a2039",
       "version_major": 2,
       "version_minor": 0
      },
      "text/plain": [
       "Canvas(toolbar=Toolbar(toolitems=[('Home', 'Reset original view', 'home', 'home'), ('Back', 'Back to previous …"
      ]
     },
     "metadata": {},
     "output_type": "display_data"
    }
   ],
   "source": [
    "# Import IS from pickle file HF-M\n",
    "RaRCbaRWb_OneOutlier_HF_M_IS = IS_0()\n",
    "RaRCbaRWb_OneOutlier_HF_M_IS.read_from_EcmCls(fp=RaRCbaRWb_OneOutlier_pkl_fp,\n",
    "                                              fn='2021_09_15_R(RC)(RW)_HF_M_ecm.pkl')\n",
    "\n",
    "# plot ideal and abnormal(1 Outlier) Bode\n",
    "bode_two_plot(fre_arr=RaRCbaRWb_IS.fre_arr, z_arr=RaRCbaRWb_IS.z_arr, \n",
    "              z1_arr=RaRCbaRWb_OneOutlier_HF_M_IS.z_arr,\n",
    "              fig_title='ideal and abnormal (1 Outlier HF_M) Bode',\n",
    "              ax1_title_list=['Ideal','abnormal (1 Outlier HF_M)'],\n",
    "              ax2_title_list=['Ideal','abnormal (1 Outlier HF_M)'])"
   ]
  },
  {
   "cell_type": "code",
   "execution_count": 11,
   "metadata": {},
   "outputs": [
    {
     "data": {
      "application/vnd.jupyter.widget-view+json": {
       "model_id": "eaa29808a3e14a04b27da3c0e7df68a5",
       "version_major": 2,
       "version_minor": 0
      },
      "text/plain": [
       "Canvas(toolbar=Toolbar(toolitems=[('Home', 'Reset original view', 'home', 'home'), ('Back', 'Back to previous …"
      ]
     },
     "metadata": {},
     "output_type": "display_data"
    },
    {
     "name": "stderr",
     "output_type": "stream",
     "text": [
      "g:\\python\\python\\pythov3.6.1\\lib\\site-packages\\numpy\\core\\_asarray.py:83: ComplexWarning: Casting complex values to real discards the imaginary part\n",
      "  return array(a, dtype, copy=False, order=order)\n",
      "g:\\python\\python\\pythov3.6.1\\lib\\site-packages\\numpy\\core\\_asarray.py:83: ComplexWarning: Casting complex values to real discards the imaginary part\n",
      "  return array(a, dtype, copy=False, order=order)\n"
     ]
    }
   ],
   "source": [
    "%matplotlib widget\n",
    "bode_absZ(fre_arr=RaRCbaRWb_IS.fre_arr,\n",
    "          z_arr_list=[RaRCbaRWb_IS.z_arr, RaRCbaRWb_OneOutlier_HF_M_IS.z_arr], \n",
    "          plot_type='normal', fig_title='Bode-|Z|-HF-M',label_list=['Ideal','HF-M'])"
   ]
  },
  {
   "cell_type": "markdown",
   "metadata": {},
   "source": [
    "## HF-S"
   ]
  },
  {
   "cell_type": "code",
   "execution_count": 13,
   "metadata": {},
   "outputs": [
    {
     "data": {
      "application/vnd.jupyter.widget-view+json": {
       "model_id": "b5181a22b9da418f86f4aa82c41c5fc6",
       "version_major": 2,
       "version_minor": 0
      },
      "text/plain": [
       "Canvas(toolbar=Toolbar(toolitems=[('Home', 'Reset original view', 'home', 'home'), ('Back', 'Back to previous …"
      ]
     },
     "metadata": {},
     "output_type": "display_data"
    }
   ],
   "source": [
    "# Import IS from pickle file HF-S\n",
    "RaRCbaRWb_OneOutlier_HF_S_IS = IS_0()\n",
    "RaRCbaRWb_OneOutlier_HF_S_IS.read_from_EcmCls(fp=RaRCbaRWb_OneOutlier_pkl_fp,\n",
    "                                              fn='2021_09_15_R(RC)(RW)_HF_S_ecm.pkl')\n",
    "\n",
    "# plot ideal and abnormal(1 Outlier) Bode\n",
    "bode_two_plot(fre_arr=RaRCbaRWb_IS.fre_arr, z_arr=RaRCbaRWb_IS.z_arr, \n",
    "              z1_arr=RaRCbaRWb_OneOutlier_HF_S_IS.z_arr,\n",
    "              fig_title='ideal and abnormal (1 Outlier HF_S) Bode',\n",
    "              ax1_title_list=['Ideal','abnormal (1 Outlier HF_S)'],\n",
    "              ax2_title_list=['Ideal','abnormal (1 Outlier HF_S)'])"
   ]
  },
  {
   "cell_type": "code",
   "execution_count": 14,
   "metadata": {},
   "outputs": [
    {
     "data": {
      "application/vnd.jupyter.widget-view+json": {
       "model_id": "b6c376010393431e8a79bb2a32af2704",
       "version_major": 2,
       "version_minor": 0
      },
      "text/plain": [
       "Canvas(toolbar=Toolbar(toolitems=[('Home', 'Reset original view', 'home', 'home'), ('Back', 'Back to previous …"
      ]
     },
     "metadata": {},
     "output_type": "display_data"
    },
    {
     "name": "stderr",
     "output_type": "stream",
     "text": [
      "g:\\python\\python\\pythov3.6.1\\lib\\site-packages\\numpy\\core\\_asarray.py:83: ComplexWarning: Casting complex values to real discards the imaginary part\n",
      "  return array(a, dtype, copy=False, order=order)\n",
      "g:\\python\\python\\pythov3.6.1\\lib\\site-packages\\numpy\\core\\_asarray.py:83: ComplexWarning: Casting complex values to real discards the imaginary part\n",
      "  return array(a, dtype, copy=False, order=order)\n"
     ]
    }
   ],
   "source": [
    "%matplotlib widget\n",
    "bode_absZ(fre_arr=RaRCbaRWb_IS.fre_arr,\n",
    "          z_arr_list=[RaRCbaRWb_IS.z_arr, RaRCbaRWb_OneOutlier_HF_S_IS.z_arr], \n",
    "          plot_type='normal', fig_title='Bode-|Z|-HF-S',label_list=['Ideal','HF-S'])"
   ]
  },
  {
   "cell_type": "markdown",
   "metadata": {},
   "source": [
    "## LF_H"
   ]
  },
  {
   "cell_type": "code",
   "execution_count": 15,
   "metadata": {},
   "outputs": [
    {
     "data": {
      "application/vnd.jupyter.widget-view+json": {
       "model_id": "de056b6be66a484bb3aea389056f967d",
       "version_major": 2,
       "version_minor": 0
      },
      "text/plain": [
       "Canvas(toolbar=Toolbar(toolitems=[('Home', 'Reset original view', 'home', 'home'), ('Back', 'Back to previous …"
      ]
     },
     "metadata": {},
     "output_type": "display_data"
    }
   ],
   "source": [
    "# Import IS from pickle file LF_H\n",
    "RaRCbaRWb_OneOutlier_LF_H_IS = IS_0()\n",
    "RaRCbaRWb_OneOutlier_LF_H_IS.read_from_EcmCls(fp=RaRCbaRWb_OneOutlier_pkl_fp,\n",
    "                                              fn='2021_09_15_R(RC)(RW)_LF_H_ecm.pkl')\n",
    "\n",
    "# plot ideal and abnormal(1 Outlier) Bode\n",
    "bode_two_plot(fre_arr=RaRCbaRWb_IS.fre_arr, z_arr=RaRCbaRWb_IS.z_arr, \n",
    "              z1_arr=RaRCbaRWb_OneOutlier_LF_H_IS.z_arr,\n",
    "              fig_title='ideal and abnormal (1 Outlier LF_H) Bode',\n",
    "              ax1_title_list=['Ideal','abnormal (1 Outlier LF_H)'],\n",
    "              ax2_title_list=['Ideal','abnormal (1 Outlier LF_H)'])"
   ]
  },
  {
   "cell_type": "code",
   "execution_count": 16,
   "metadata": {},
   "outputs": [
    {
     "data": {
      "application/vnd.jupyter.widget-view+json": {
       "model_id": "601146d6567543c2a806e23a0be7c971",
       "version_major": 2,
       "version_minor": 0
      },
      "text/plain": [
       "Canvas(toolbar=Toolbar(toolitems=[('Home', 'Reset original view', 'home', 'home'), ('Back', 'Back to previous …"
      ]
     },
     "metadata": {},
     "output_type": "display_data"
    },
    {
     "name": "stderr",
     "output_type": "stream",
     "text": [
      "g:\\python\\python\\pythov3.6.1\\lib\\site-packages\\numpy\\core\\_asarray.py:83: ComplexWarning: Casting complex values to real discards the imaginary part\n",
      "  return array(a, dtype, copy=False, order=order)\n",
      "g:\\python\\python\\pythov3.6.1\\lib\\site-packages\\numpy\\core\\_asarray.py:83: ComplexWarning: Casting complex values to real discards the imaginary part\n",
      "  return array(a, dtype, copy=False, order=order)\n"
     ]
    }
   ],
   "source": [
    "%matplotlib widget\n",
    "bode_absZ(fre_arr=RaRCbaRWb_IS.fre_arr,\n",
    "          z_arr_list=[RaRCbaRWb_IS.z_arr, RaRCbaRWb_OneOutlier_LF_H_IS.z_arr], \n",
    "          plot_type='normal', fig_title='Bode-|Z|-LF-H',label_list=['Ideal','LF-H'])"
   ]
  },
  {
   "cell_type": "markdown",
   "metadata": {},
   "source": [
    "## LF_M"
   ]
  },
  {
   "cell_type": "code",
   "execution_count": 17,
   "metadata": {},
   "outputs": [
    {
     "data": {
      "application/vnd.jupyter.widget-view+json": {
       "model_id": "4029ae17209c476eb5d260853ce4d1a0",
       "version_major": 2,
       "version_minor": 0
      },
      "text/plain": [
       "Canvas(toolbar=Toolbar(toolitems=[('Home', 'Reset original view', 'home', 'home'), ('Back', 'Back to previous …"
      ]
     },
     "metadata": {},
     "output_type": "display_data"
    }
   ],
   "source": [
    "# Import IS from pickle file LF_M\n",
    "RaRCbaRWb_OneOutlier_LF_M_IS = IS_0()\n",
    "RaRCbaRWb_OneOutlier_LF_M_IS.read_from_EcmCls(fp=RaRCbaRWb_OneOutlier_pkl_fp,\n",
    "                                              fn='2021_09_15_R(RC)(RW)_LF_M_ecm.pkl')\n",
    "\n",
    "# plot ideal and abnormal(1 Outlier) Bode\n",
    "bode_two_plot(fre_arr=RaRCbaRWb_IS.fre_arr, z_arr=RaRCbaRWb_IS.z_arr, \n",
    "              z1_arr=RaRCbaRWb_OneOutlier_LF_M_IS.z_arr,\n",
    "              fig_title='ideal and abnormal (1 Outlier LF_M) Bode',\n",
    "              ax1_title_list=['Ideal','abnormal (1 Outlier LF_M)'],\n",
    "              ax2_title_list=['Ideal','abnormal (1 Outlier LF_M)'])"
   ]
  },
  {
   "cell_type": "code",
   "execution_count": 18,
   "metadata": {},
   "outputs": [
    {
     "data": {
      "application/vnd.jupyter.widget-view+json": {
       "model_id": "bee29a176a3e42f1adeef9b7cd1b9c0e",
       "version_major": 2,
       "version_minor": 0
      },
      "text/plain": [
       "Canvas(toolbar=Toolbar(toolitems=[('Home', 'Reset original view', 'home', 'home'), ('Back', 'Back to previous …"
      ]
     },
     "metadata": {},
     "output_type": "display_data"
    },
    {
     "name": "stderr",
     "output_type": "stream",
     "text": [
      "g:\\python\\python\\pythov3.6.1\\lib\\site-packages\\numpy\\core\\_asarray.py:83: ComplexWarning: Casting complex values to real discards the imaginary part\n",
      "  return array(a, dtype, copy=False, order=order)\n",
      "g:\\python\\python\\pythov3.6.1\\lib\\site-packages\\numpy\\core\\_asarray.py:83: ComplexWarning: Casting complex values to real discards the imaginary part\n",
      "  return array(a, dtype, copy=False, order=order)\n"
     ]
    }
   ],
   "source": [
    "%matplotlib widget\n",
    "bode_absZ(fre_arr=RaRCbaRWb_IS.fre_arr,\n",
    "          z_arr_list=[RaRCbaRWb_IS.z_arr, RaRCbaRWb_OneOutlier_LF_M_IS.z_arr], \n",
    "          plot_type='normal', fig_title='Bode-|Z|-LF-M',label_list=['Ideal','LF-M'])"
   ]
  },
  {
   "cell_type": "markdown",
   "metadata": {},
   "source": [
    "## LF_S"
   ]
  },
  {
   "cell_type": "code",
   "execution_count": 20,
   "metadata": {},
   "outputs": [
    {
     "data": {
      "application/vnd.jupyter.widget-view+json": {
       "model_id": "7d4e6d980b8e4340b051ec6ea5a070b6",
       "version_major": 2,
       "version_minor": 0
      },
      "text/plain": [
       "Canvas(toolbar=Toolbar(toolitems=[('Home', 'Reset original view', 'home', 'home'), ('Back', 'Back to previous …"
      ]
     },
     "metadata": {},
     "output_type": "display_data"
    }
   ],
   "source": [
    "# Import IS from pickle file LF_S\n",
    "RaRCbaRWb_OneOutlier_LF_S_IS = IS_0()\n",
    "RaRCbaRWb_OneOutlier_LF_S_IS.read_from_EcmCls(fp=RaRCbaRWb_OneOutlier_pkl_fp,\n",
    "                                              fn='2021_09_15_R(RC)(RW)_LF_S_ecm.pkl')\n",
    "\n",
    "# plot ideal and abnormal(1 Outlier) Bode\n",
    "bode_two_plot(fre_arr=RaRCbaRWb_IS.fre_arr, z_arr=RaRCbaRWb_IS.z_arr, \n",
    "              z1_arr=RaRCbaRWb_OneOutlier_LF_S_IS.z_arr,\n",
    "              fig_title='ideal and abnormal (1 Outlier LF_S) Bode',\n",
    "              ax1_title_list=['Ideal','abnormal (1 Outlier LF_S)'],\n",
    "              ax2_title_list=['Ideal','abnormal (1 Outlier LF_S)'])"
   ]
  },
  {
   "cell_type": "code",
   "execution_count": 21,
   "metadata": {},
   "outputs": [
    {
     "data": {
      "application/vnd.jupyter.widget-view+json": {
       "model_id": "2955628533864015b749a8c4055e18d8",
       "version_major": 2,
       "version_minor": 0
      },
      "text/plain": [
       "Canvas(toolbar=Toolbar(toolitems=[('Home', 'Reset original view', 'home', 'home'), ('Back', 'Back to previous …"
      ]
     },
     "metadata": {},
     "output_type": "display_data"
    },
    {
     "name": "stderr",
     "output_type": "stream",
     "text": [
      "g:\\python\\python\\pythov3.6.1\\lib\\site-packages\\numpy\\core\\_asarray.py:83: ComplexWarning: Casting complex values to real discards the imaginary part\n",
      "  return array(a, dtype, copy=False, order=order)\n",
      "g:\\python\\python\\pythov3.6.1\\lib\\site-packages\\numpy\\core\\_asarray.py:83: ComplexWarning: Casting complex values to real discards the imaginary part\n",
      "  return array(a, dtype, copy=False, order=order)\n"
     ]
    }
   ],
   "source": [
    "%matplotlib widget\n",
    "bode_absZ(fre_arr=RaRCbaRWb_IS.fre_arr,\n",
    "          z_arr_list=[RaRCbaRWb_IS.z_arr, RaRCbaRWb_OneOutlier_LF_S_IS.z_arr], \n",
    "          plot_type='normal', fig_title='Bode-|Z|-LF-S',label_list=['Ideal','LF-S'])"
   ]
  },
  {
   "cell_type": "markdown",
   "metadata": {},
   "source": [
    "## MF_H"
   ]
  },
  {
   "cell_type": "code",
   "execution_count": 23,
   "metadata": {},
   "outputs": [
    {
     "data": {
      "application/vnd.jupyter.widget-view+json": {
       "model_id": "233eeb7fbe364bbd9ee4f86826348d79",
       "version_major": 2,
       "version_minor": 0
      },
      "text/plain": [
       "Canvas(toolbar=Toolbar(toolitems=[('Home', 'Reset original view', 'home', 'home'), ('Back', 'Back to previous …"
      ]
     },
     "metadata": {},
     "output_type": "display_data"
    }
   ],
   "source": [
    "# Import IS from pickle file MF_H\n",
    "RaRCbaRWb_OneOutlier_MF_H_IS = IS_0()\n",
    "RaRCbaRWb_OneOutlier_MF_H_IS.read_from_EcmCls(fp=RaRCbaRWb_OneOutlier_pkl_fp,\n",
    "                                              fn='2021_09_15_R(RC)(RW)_MF_H_ecm.pkl')\n",
    "\n",
    "# plot ideal and abnormal(1 Outlier) Bode\n",
    "bode_two_plot(fre_arr=RaRCbaRWb_IS.fre_arr, z_arr=RaRCbaRWb_IS.z_arr, \n",
    "              z1_arr=RaRCbaRWb_OneOutlier_MF_H_IS.z_arr,\n",
    "              fig_title='ideal and abnormal (1 Outlier MF_H) Bode',\n",
    "              ax1_title_list=['Ideal','abnormal (1 Outlier MF_H)'],\n",
    "              ax2_title_list=['Ideal','abnormal (1 Outlier MF_H)'])"
   ]
  },
  {
   "cell_type": "code",
   "execution_count": 24,
   "metadata": {},
   "outputs": [
    {
     "data": {
      "application/vnd.jupyter.widget-view+json": {
       "model_id": "05849da42dfe41c6b116a4ffcbdf2af5",
       "version_major": 2,
       "version_minor": 0
      },
      "text/plain": [
       "Canvas(toolbar=Toolbar(toolitems=[('Home', 'Reset original view', 'home', 'home'), ('Back', 'Back to previous …"
      ]
     },
     "metadata": {},
     "output_type": "display_data"
    },
    {
     "name": "stderr",
     "output_type": "stream",
     "text": [
      "g:\\python\\python\\pythov3.6.1\\lib\\site-packages\\numpy\\core\\_asarray.py:83: ComplexWarning: Casting complex values to real discards the imaginary part\n",
      "  return array(a, dtype, copy=False, order=order)\n",
      "g:\\python\\python\\pythov3.6.1\\lib\\site-packages\\numpy\\core\\_asarray.py:83: ComplexWarning: Casting complex values to real discards the imaginary part\n",
      "  return array(a, dtype, copy=False, order=order)\n"
     ]
    }
   ],
   "source": [
    "%matplotlib widget\n",
    "bode_absZ(fre_arr=RaRCbaRWb_IS.fre_arr,\n",
    "          z_arr_list=[RaRCbaRWb_IS.z_arr, RaRCbaRWb_OneOutlier_MF_H_IS.z_arr], \n",
    "          plot_type='normal', fig_title='Bode-|Z|-MF-H',label_list=['Ideal','MF-H'])"
   ]
  },
  {
   "cell_type": "markdown",
   "metadata": {},
   "source": [
    "## MF_M"
   ]
  },
  {
   "cell_type": "code",
   "execution_count": 25,
   "metadata": {},
   "outputs": [
    {
     "data": {
      "application/vnd.jupyter.widget-view+json": {
       "model_id": "e5209056a17c411db43f7ec57f9e86e8",
       "version_major": 2,
       "version_minor": 0
      },
      "text/plain": [
       "Canvas(toolbar=Toolbar(toolitems=[('Home', 'Reset original view', 'home', 'home'), ('Back', 'Back to previous …"
      ]
     },
     "metadata": {},
     "output_type": "display_data"
    }
   ],
   "source": [
    "# Import IS from pickle file MF_M\n",
    "RaRCbaRWb_OneOutlier_MF_M_IS = IS_0()\n",
    "RaRCbaRWb_OneOutlier_MF_M_IS.read_from_EcmCls(fp=RaRCbaRWb_OneOutlier_pkl_fp,\n",
    "                                              fn='2021_09_15_R(RC)(RW)_MF_M_ecm.pkl')\n",
    "\n",
    "# plot ideal and abnormal(1 Outlier) Bode\n",
    "bode_two_plot(fre_arr=RaRCbaRWb_IS.fre_arr, z_arr=RaRCbaRWb_IS.z_arr, \n",
    "              z1_arr=RaRCbaRWb_OneOutlier_MF_M_IS.z_arr,\n",
    "              fig_title='ideal and abnormal (1 Outlier MF_M) Bode',\n",
    "              ax1_title_list=['Ideal','abnormal (1 Outlier MF_M)'],\n",
    "              ax2_title_list=['Ideal','abnormal (1 Outlier MF_M)'])"
   ]
  },
  {
   "cell_type": "code",
   "execution_count": 26,
   "metadata": {},
   "outputs": [
    {
     "data": {
      "application/vnd.jupyter.widget-view+json": {
       "model_id": "54404fbc5ebe4b77b0c685498124bb7a",
       "version_major": 2,
       "version_minor": 0
      },
      "text/plain": [
       "Canvas(toolbar=Toolbar(toolitems=[('Home', 'Reset original view', 'home', 'home'), ('Back', 'Back to previous …"
      ]
     },
     "metadata": {},
     "output_type": "display_data"
    },
    {
     "name": "stderr",
     "output_type": "stream",
     "text": [
      "g:\\python\\python\\pythov3.6.1\\lib\\site-packages\\numpy\\core\\_asarray.py:83: ComplexWarning: Casting complex values to real discards the imaginary part\n",
      "  return array(a, dtype, copy=False, order=order)\n",
      "g:\\python\\python\\pythov3.6.1\\lib\\site-packages\\numpy\\core\\_asarray.py:83: ComplexWarning: Casting complex values to real discards the imaginary part\n",
      "  return array(a, dtype, copy=False, order=order)\n"
     ]
    }
   ],
   "source": [
    "%matplotlib widget\n",
    "bode_absZ(fre_arr=RaRCbaRWb_IS.fre_arr,\n",
    "          z_arr_list=[RaRCbaRWb_IS.z_arr, RaRCbaRWb_OneOutlier_MF_M_IS.z_arr], \n",
    "          plot_type='normal', fig_title='Bode-|Z|-MF-M',label_list=['Ideal','MF-M'])"
   ]
  },
  {
   "cell_type": "markdown",
   "metadata": {},
   "source": [
    "## MF_S"
   ]
  },
  {
   "cell_type": "code",
   "execution_count": 27,
   "metadata": {},
   "outputs": [
    {
     "data": {
      "application/vnd.jupyter.widget-view+json": {
       "model_id": "194a0a82c9ac4d958bd8ef665e8c1fcb",
       "version_major": 2,
       "version_minor": 0
      },
      "text/plain": [
       "Canvas(toolbar=Toolbar(toolitems=[('Home', 'Reset original view', 'home', 'home'), ('Back', 'Back to previous …"
      ]
     },
     "metadata": {},
     "output_type": "display_data"
    }
   ],
   "source": [
    "# Import IS from pickle file MF_S\n",
    "RaRCbaRWb_OneOutlier_MF_S_IS = IS_0()\n",
    "RaRCbaRWb_OneOutlier_MF_S_IS.read_from_EcmCls(fp=RaRCbaRWb_OneOutlier_pkl_fp,\n",
    "                                              fn='2021_09_15_R(RC)(RW)_MF_S_ecm.pkl')\n",
    "\n",
    "# plot ideal and abnormal(1 Outlier) Bode\n",
    "bode_two_plot(fre_arr=RaRCbaRWb_IS.fre_arr, z_arr=RaRCbaRWb_IS.z_arr, \n",
    "              z1_arr=RaRCbaRWb_OneOutlier_MF_S_IS.z_arr,\n",
    "              fig_title='ideal and abnormal (1 Outlier MF_S) Bode',\n",
    "              ax1_title_list=['Ideal','abnormal (1 Outlier MF_S)'],\n",
    "              ax2_title_list=['Ideal','abnormal (1 Outlier MF_S)'])"
   ]
  },
  {
   "cell_type": "code",
   "execution_count": 28,
   "metadata": {},
   "outputs": [
    {
     "data": {
      "application/vnd.jupyter.widget-view+json": {
       "model_id": "8536d9bf62ed40c49e7ac321550dbf65",
       "version_major": 2,
       "version_minor": 0
      },
      "text/plain": [
       "Canvas(toolbar=Toolbar(toolitems=[('Home', 'Reset original view', 'home', 'home'), ('Back', 'Back to previous …"
      ]
     },
     "metadata": {},
     "output_type": "display_data"
    },
    {
     "name": "stderr",
     "output_type": "stream",
     "text": [
      "g:\\python\\python\\pythov3.6.1\\lib\\site-packages\\numpy\\core\\_asarray.py:83: ComplexWarning: Casting complex values to real discards the imaginary part\n",
      "  return array(a, dtype, copy=False, order=order)\n",
      "g:\\python\\python\\pythov3.6.1\\lib\\site-packages\\numpy\\core\\_asarray.py:83: ComplexWarning: Casting complex values to real discards the imaginary part\n",
      "  return array(a, dtype, copy=False, order=order)\n"
     ]
    }
   ],
   "source": [
    "%matplotlib widget\n",
    "bode_absZ(fre_arr=RaRCbaRWb_IS.fre_arr,\n",
    "          z_arr_list=[RaRCbaRWb_IS.z_arr, RaRCbaRWb_OneOutlier_MF_S_IS.z_arr], \n",
    "          plot_type='normal', fig_title='Bode-|Z|-MF-S',label_list=['Ideal','MF-S'])"
   ]
  },
  {
   "cell_type": "markdown",
   "metadata": {},
   "source": [
    "# 两个异常点"
   ]
  },
  {
   "cell_type": "code",
   "execution_count": 29,
   "metadata": {},
   "outputs": [],
   "source": [
    "# load EIS with one Outier\n",
    "RaRCbaRWb_twoOutlier_pkl_fp = './rbp_files/0/R(RC)(RW)_pkl/twoOutliers/'"
   ]
  },
  {
   "cell_type": "markdown",
   "metadata": {},
   "source": [
    "## HMF-HH"
   ]
  },
  {
   "cell_type": "code",
   "execution_count": 30,
   "metadata": {},
   "outputs": [
    {
     "data": {
      "application/vnd.jupyter.widget-view+json": {
       "model_id": "4c1b241fe220460cad622d10faf98be5",
       "version_major": 2,
       "version_minor": 0
      },
      "text/plain": [
       "Canvas(toolbar=Toolbar(toolitems=[('Home', 'Reset original view', 'home', 'home'), ('Back', 'Back to previous …"
      ]
     },
     "metadata": {},
     "output_type": "display_data"
    }
   ],
   "source": [
    "# Import Ideal R(RC)(RW)_IS\n",
    "RaRCbaRWb_twoOutlier_HMF_HH_IS = IS_0()\n",
    "RaRCbaRWb_twoOutlier_HMF_HH_IS.read_from_EcmCls(fp=RaRCbaRWb_twoOutlier_pkl_fp,\n",
    "                                                fn='2021_10_13_R(RC)(RW)_HMF_HH_ecm.pkl')\n",
    "\n",
    "# plot ideal and abnormal(1 Outlier) Bode\n",
    "bode_two_plot(fre_arr=RaRCbaRWb_IS.fre_arr, z_arr=RaRCbaRWb_IS.z_arr, \n",
    "              z1_arr=RaRCbaRWb_twoOutlier_HMF_HH_IS.z_arr,\n",
    "              fig_title='ideal and abnormal (2 Outlier HMF_HH) Bode',\n",
    "              ax1_title_list=['Ideal','abnormal (2 Outlier HMF_HH)'],\n",
    "              ax2_title_list=['Ideal','abnormal (2 Outlier HMF_HH)'])"
   ]
  },
  {
   "cell_type": "code",
   "execution_count": 31,
   "metadata": {},
   "outputs": [
    {
     "data": {
      "application/vnd.jupyter.widget-view+json": {
       "model_id": "37d08d512f0b46f3a932590e6d909205",
       "version_major": 2,
       "version_minor": 0
      },
      "text/plain": [
       "Canvas(toolbar=Toolbar(toolitems=[('Home', 'Reset original view', 'home', 'home'), ('Back', 'Back to previous …"
      ]
     },
     "metadata": {},
     "output_type": "display_data"
    },
    {
     "name": "stderr",
     "output_type": "stream",
     "text": [
      "g:\\python\\python\\pythov3.6.1\\lib\\site-packages\\numpy\\core\\_asarray.py:83: ComplexWarning: Casting complex values to real discards the imaginary part\n",
      "  return array(a, dtype, copy=False, order=order)\n",
      "g:\\python\\python\\pythov3.6.1\\lib\\site-packages\\numpy\\core\\_asarray.py:83: ComplexWarning: Casting complex values to real discards the imaginary part\n",
      "  return array(a, dtype, copy=False, order=order)\n"
     ]
    }
   ],
   "source": [
    "%matplotlib widget\n",
    "bode_absZ(fre_arr=RaRCbaRWb_IS.fre_arr,\n",
    "          z_arr_list=[RaRCbaRWb_IS.z_arr, RaRCbaRWb_twoOutlier_HMF_HH_IS.z_arr], \n",
    "          plot_type='normal', fig_title='Bode-|Z|-HMF_HH',label_list=['Ideal','HMF_HH'])"
   ]
  },
  {
   "cell_type": "markdown",
   "metadata": {},
   "source": [
    "只画一个就行"
   ]
  },
  {
   "cell_type": "markdown",
   "metadata": {
    "tags": []
   },
   "source": [
    "## HMF-HM"
   ]
  },
  {
   "cell_type": "code",
   "execution_count": null,
   "metadata": {},
   "outputs": [],
   "source": []
  },
  {
   "cell_type": "code",
   "execution_count": null,
   "metadata": {},
   "outputs": [],
   "source": [
    "HMF-MH"
   ]
  },
  {
   "cell_type": "code",
   "execution_count": null,
   "metadata": {},
   "outputs": [],
   "source": [
    "HMF-MM"
   ]
  },
  {
   "cell_type": "code",
   "execution_count": null,
   "metadata": {},
   "outputs": [],
   "source": [
    "HLF-HH"
   ]
  },
  {
   "cell_type": "code",
   "execution_count": null,
   "metadata": {},
   "outputs": [],
   "source": [
    "HLF-HM"
   ]
  },
  {
   "cell_type": "code",
   "execution_count": null,
   "metadata": {},
   "outputs": [],
   "source": [
    "HLF-MH"
   ]
  },
  {
   "cell_type": "code",
   "execution_count": null,
   "metadata": {},
   "outputs": [],
   "source": [
    "HLF-MM"
   ]
  },
  {
   "cell_type": "code",
   "execution_count": null,
   "metadata": {},
   "outputs": [],
   "source": [
    "MLF-HH"
   ]
  },
  {
   "cell_type": "code",
   "execution_count": null,
   "metadata": {},
   "outputs": [],
   "source": [
    "MLF-HM"
   ]
  },
  {
   "cell_type": "code",
   "execution_count": null,
   "metadata": {},
   "outputs": [],
   "source": [
    "MLF-MH"
   ]
  },
  {
   "cell_type": "code",
   "execution_count": null,
   "metadata": {},
   "outputs": [],
   "source": [
    "MLF-MM"
   ]
  },
  {
   "cell_type": "code",
   "execution_count": null,
   "metadata": {},
   "outputs": [],
   "source": []
  },
  {
   "cell_type": "code",
   "execution_count": null,
   "metadata": {},
   "outputs": [],
   "source": []
  },
  {
   "cell_type": "markdown",
   "metadata": {},
   "source": [
    "# 三个异常点"
   ]
  },
  {
   "cell_type": "code",
   "execution_count": 32,
   "metadata": {},
   "outputs": [],
   "source": [
    "# load EIS with one Outier\n",
    "RaRCbaRWb_threeOutlier_pkl_fp = './rbp_files/0/R(RC)(RW)_pkl/threeOutliers/'"
   ]
  },
  {
   "cell_type": "markdown",
   "metadata": {},
   "source": [
    "## HMLF-BBB"
   ]
  },
  {
   "cell_type": "code",
   "execution_count": 33,
   "metadata": {},
   "outputs": [
    {
     "data": {
      "application/vnd.jupyter.widget-view+json": {
       "model_id": "a3ecb504393347d385345c84749eb742",
       "version_major": 2,
       "version_minor": 0
      },
      "text/plain": [
       "Canvas(toolbar=Toolbar(toolitems=[('Home', 'Reset original view', 'home', 'home'), ('Back', 'Back to previous …"
      ]
     },
     "metadata": {},
     "output_type": "display_data"
    }
   ],
   "source": [
    "# Import Ideal R(RC)(RW)_IS\n",
    "RaRCbaRWb_threeOutlier_HMLF_BBB_IS = IS_0()\n",
    "RaRCbaRWb_threeOutlier_HMLF_BBB_IS.read_from_EcmCls(fp=RaRCbaRWb_threeOutlier_pkl_fp,\n",
    "                                                    fn='2021_10_13_R(RC)(RW)_HHH_ecm.pkl')\n",
    "\n",
    "# plot ideal and abnormal(3 Outlier) Bode\n",
    "bode_two_plot(fre_arr=RaRCbaRWb_IS.fre_arr, z_arr=RaRCbaRWb_IS.z_arr, \n",
    "              z1_arr=RaRCbaRWb_threeOutlier_HMLF_BBB_IS.z_arr,\n",
    "              fig_title='ideal and abnormal (3 Outlier HMLF_BBB) Bode',\n",
    "              ax1_title_list=['Ideal','abnormal (3 Outlier HMLF_BBB)'],\n",
    "              ax2_title_list=['Ideal','abnormal (3 Outlier HMLF_BBB)'])"
   ]
  },
  {
   "cell_type": "code",
   "execution_count": 34,
   "metadata": {},
   "outputs": [
    {
     "data": {
      "application/vnd.jupyter.widget-view+json": {
       "model_id": "31213d4bd63d44fe998797f80cbfe907",
       "version_major": 2,
       "version_minor": 0
      },
      "text/plain": [
       "Canvas(toolbar=Toolbar(toolitems=[('Home', 'Reset original view', 'home', 'home'), ('Back', 'Back to previous …"
      ]
     },
     "metadata": {},
     "output_type": "display_data"
    },
    {
     "name": "stderr",
     "output_type": "stream",
     "text": [
      "g:\\python\\python\\pythov3.6.1\\lib\\site-packages\\numpy\\core\\_asarray.py:83: ComplexWarning: Casting complex values to real discards the imaginary part\n",
      "  return array(a, dtype, copy=False, order=order)\n",
      "g:\\python\\python\\pythov3.6.1\\lib\\site-packages\\numpy\\core\\_asarray.py:83: ComplexWarning: Casting complex values to real discards the imaginary part\n",
      "  return array(a, dtype, copy=False, order=order)\n"
     ]
    }
   ],
   "source": [
    "%matplotlib widget\n",
    "bode_absZ(fre_arr=RaRCbaRWb_IS.fre_arr,\n",
    "          z_arr_list=[RaRCbaRWb_IS.z_arr, RaRCbaRWb_threeOutlier_HMLF_BBB_IS.z_arr], \n",
    "          plot_type='normal', fig_title='Bode-|Z|-HMLF_BBB',label_list=['Ideal','HMLF_BBB'])"
   ]
  },
  {
   "cell_type": "code",
   "execution_count": null,
   "metadata": {},
   "outputs": [],
   "source": []
  },
  {
   "cell_type": "code",
   "execution_count": null,
   "metadata": {},
   "outputs": [],
   "source": []
  },
  {
   "cell_type": "code",
   "execution_count": null,
   "metadata": {},
   "outputs": [],
   "source": []
  },
  {
   "cell_type": "code",
   "execution_count": null,
   "metadata": {},
   "outputs": [],
   "source": []
  },
  {
   "cell_type": "code",
   "execution_count": null,
   "metadata": {},
   "outputs": [],
   "source": []
  },
  {
   "cell_type": "markdown",
   "metadata": {},
   "source": [
    "# Casual Tests"
   ]
  },
  {
   "cell_type": "code",
   "execution_count": 7,
   "metadata": {},
   "outputs": [
    {
     "data": {
      "text/plain": [
       "array([1, 2, 3, 4, 5])"
      ]
     },
     "execution_count": 7,
     "metadata": {},
     "output_type": "execute_result"
    }
   ],
   "source": [
    "a = np.array([1,2,3,4,5])\n",
    "a"
   ]
  },
  {
   "cell_type": "code",
   "execution_count": 8,
   "metadata": {},
   "outputs": [
    {
     "data": {
      "text/plain": [
       "array([0.        , 0.30103   , 0.47712125, 0.60205999, 0.69897   ])"
      ]
     },
     "execution_count": 8,
     "metadata": {},
     "output_type": "execute_result"
    }
   ],
   "source": [
    "a_log10 = np.log10(a)\n",
    "a_log10"
   ]
  },
  {
   "cell_type": "code",
   "execution_count": null,
   "metadata": {},
   "outputs": [],
   "source": []
  }
 ],
 "metadata": {
  "kernelspec": {
   "display_name": "Python 3",
   "language": "python",
   "name": "python3"
  },
  "language_info": {
   "codemirror_mode": {
    "name": "ipython",
    "version": 3
   },
   "file_extension": ".py",
   "mimetype": "text/x-python",
   "name": "python",
   "nbconvert_exporter": "python",
   "pygments_lexer": "ipython3",
   "version": "3.7.3"
  }
 },
 "nbformat": 4,
 "nbformat_minor": 4
}
