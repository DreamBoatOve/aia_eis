{
 "cells": [
  {
   "cell_type": "markdown",
   "metadata": {},
   "source": [
    "# Purpose"
   ]
  },
  {
   "cell_type": "markdown",
   "metadata": {
    "ExecuteTime": {
     "end_time": "2020-05-18T14:34:35.972634Z",
     "start_time": "2020-05-18T14:34:35.967569Z"
    }
   },
   "source": [
    "+ <font size=3>Gather 0~9-ECMs from references</font>\n",
    "+ <font size=3>Pickle the parameters in ECM and ideally simulated EIS data</font>"
   ]
  },
  {
   "cell_type": "markdown",
   "metadata": {},
   "source": [
    "# Preparation of circuit elements and plot utils"
   ]
  },
  {
   "cell_type": "markdown",
   "metadata": {},
   "source": [
    "## Set the global sys"
   ]
  },
  {
   "cell_type": "code",
   "execution_count": 1,
   "metadata": {
    "ExecuteTime": {
     "end_time": "2020-07-11T12:31:37.407373Z",
     "start_time": "2020-07-11T12:31:37.393378Z"
    }
   },
   "outputs": [],
   "source": [
    "import sys\n",
    "sys.path.append('../../')"
   ]
  },
  {
   "cell_type": "markdown",
   "metadata": {},
   "source": [
    "## Preparation of circuit elements"
   ]
  },
  {
   "cell_type": "code",
   "execution_count": 2,
   "metadata": {
    "ExecuteTime": {
     "end_time": "2020-07-11T12:31:43.522878Z",
     "start_time": "2020-07-11T12:31:43.264430Z"
    },
    "code_folding": [
     0
    ]
   },
   "outputs": [],
   "source": [
    "from circuits.elements import ele_C, ele_L, ele_Warburg, ele_Q\n",
    "\n",
    "C = ele_C\n",
    "L = ele_L\n",
    "WB = ele_Warburg\n",
    "Q = ele_Q"
   ]
  },
  {
   "cell_type": "markdown",
   "metadata": {},
   "source": [
    "## Frequency Setting"
   ]
  },
  {
   "cell_type": "code",
   "execution_count": 3,
   "metadata": {
    "ExecuteTime": {
     "end_time": "2020-07-11T12:31:47.856786Z",
     "start_time": "2020-07-11T12:31:47.667761Z"
    },
    "code_folding": []
   },
   "outputs": [],
   "source": [
    "from utils.frequency_generator import fre_generator"
   ]
  },
  {
   "cell_type": "code",
   "execution_count": 4,
   "metadata": {
    "ExecuteTime": {
     "end_time": "2020-07-11T12:31:50.694316Z",
     "start_time": "2020-07-11T12:31:50.681345Z"
    }
   },
   "outputs": [],
   "source": [
    "# Frequency range 1e5 ~ 1e-3, 10 points per decade\n",
    "fre_list, w_list = fre_generator(f_start = 5, f_end = -3, pts_decade = 10)"
   ]
  },
  {
   "cell_type": "markdown",
   "metadata": {},
   "source": [
    "## Preparation of plot utils"
   ]
  },
  {
   "cell_type": "code",
   "execution_count": 5,
   "metadata": {
    "ExecuteTime": {
     "end_time": "2020-07-11T12:48:58.989030Z",
     "start_time": "2020-07-11T12:48:58.571343Z"
    },
    "code_folding": []
   },
   "outputs": [],
   "source": [
    "import matplotlib.pyplot as plt\n",
    "from utils.visualize_utils.impedance_plots import nyquist_plot"
   ]
  },
  {
   "cell_type": "markdown",
   "metadata": {},
   "source": [
    "## Preparation of ECM configuration"
   ]
  },
  {
   "cell_type": "code",
   "execution_count": 6,
   "metadata": {
    "ExecuteTime": {
     "end_time": "2020-07-04T08:39:11.426229Z",
     "start_time": "2020-07-04T08:39:11.418798Z"
    },
    "code_folding": [
     0,
     19
    ]
   },
   "outputs": [],
   "source": [
    "import datetime\n",
    "import pickle\n",
    "def get_date_prefix():\n",
    "    year_str = str(datetime.datetime.now().year)\n",
    "    month = datetime.datetime.now().month\n",
    "    day = datetime.datetime.now().day\n",
    "\n",
    "    if month < 10:\n",
    "        month_str = '0' + str(month)\n",
    "    else:\n",
    "        month_str = str(month)\n",
    "\n",
    "    if day < 10:\n",
    "        day_str = '0'+str(day)\n",
    "    else:\n",
    "        day_str = str(day)\n",
    "    # date_str, like '2020_04_01_'\n",
    "    date_str = year_str + '_'+month_str+'_'+day_str+'_'\n",
    "    return date_str\n",
    "\n",
    "# 1-Pickle parameters' configuration of each ECMs\n",
    "def pickle_sim_ecm_para_config_dict(ecm_num, limit_list, para_list, fre_list, z_list):\n",
    "    ecm_para_config_dict = {}\n",
    "    ecm_para_config_dict['ecm_num'] = ecm_num\n",
    "    ecm_para_config_dict['limit'] = limit_list\n",
    "    ecm_para_config_dict['para'] = para_list\n",
    "    ecm_para_config_dict['f'] = fre_list\n",
    "    ecm_para_config_dict['z_sim'] = z_list\n",
    "\n",
    "    ecm_num_str = ''\n",
    "    if ecm_num < 10:\n",
    "        ecm_num_str += '00' + str(ecm_num)\n",
    "    elif ecm_num < 100:\n",
    "        ecm_num_str += '0' + str(ecm_num)\n",
    "    file_name = get_date_prefix() + 'sim_ecm_'+ecm_num_str+'_pickle.file'\n",
    "    with open(file_name, 'wb') as file:\n",
    "        pickle.dump(ecm_para_config_dict, file)"
   ]
  },
  {
   "cell_type": "markdown",
   "metadata": {},
   "source": [
    "# ECM exhibitions"
   ]
  },
  {
   "cell_type": "markdown",
   "metadata": {},
   "source": [
    "## ECM-001"
   ]
  },
  {
   "cell_type": "code",
   "execution_count": 7,
   "metadata": {
    "ExecuteTime": {
     "end_time": "2020-07-04T08:39:14.730156Z",
     "start_time": "2020-07-04T08:39:14.727452Z"
    }
   },
   "outputs": [],
   "source": [
    "# Define Circuit\n",
    "# ECM-1 R(QR), already include ECM-0, when n = 1\n",
    "def RaQRb(w, R0, Q0_pair, R1):\n",
    "    z = R0 + 1 / ((1 / R1) + (1 / Q(w, q = Q0_pair[0], n = Q0_pair[1])))\n",
    "    return z"
   ]
  },
  {
   "cell_type": "markdown",
   "metadata": {},
   "source": [
    "source: Lai's second paper: <Local electrochemical properties of fusion boundary region in SA508-309L/308L overlay welded joint>"
   ]
  },
  {
   "cell_type": "markdown",
   "metadata": {},
   "source": [
    "paras are as following"
   ]
  },
  {
   "cell_type": "markdown",
   "metadata": {},
   "source": [
    "![eis_para_img](./dpfc_files/imgs/0.png)"
   ]
  },
  {
   "cell_type": "markdown",
   "metadata": {},
   "source": [
    "EIS-Nyquist plot"
   ]
  },
  {
   "cell_type": "markdown",
   "metadata": {},
   "source": [
    "![nyquist-plot](././dpfc_files/imgs/1.png)"
   ]
  },
  {
   "cell_type": "code",
   "execution_count": 8,
   "metadata": {
    "ExecuteTime": {
     "end_time": "2020-07-04T08:39:18.644582Z",
     "start_time": "2020-07-04T08:39:18.354682Z"
    },
    "scrolled": true
   },
   "outputs": [
    {
     "name": "stderr",
     "output_type": "stream",
     "text": [
      "No handles with labels found to put in legend.\n"
     ]
    },
    {
     "data": {
      "image/png": "[encoded data removed]",
      "text/plain": [
       "<Figure size 432x288 with 1 Axes>"
      ]
     },
     "metadata": {
      "needs_background": "light"
     },
     "output_type": "display_data"
    }
   ],
   "source": [
    "R0 = 0.02\n",
    "R1 = 5.3 * 1e4\n",
    "Qf = 1.8 * 1e-4\n",
    "n = 0.8\n",
    "Q0_pair = [Qf, n]\n",
    "z1_list = [RaQRb(w, R0, Q0_pair, R1) for w in w_list]\n",
    "nyquist_plot(z_list=z1_list, x_lim=[-500, 50000], y_lim=[-500, 25000], plot_label='')"
   ]
  },
  {
   "cell_type": "code",
   "execution_count": 80,
   "metadata": {},
   "outputs": [],
   "source": [
    "def ecm1_nyquist_plot_fig1(img_dict, z_list, x_lim=[0, 50000], y_lim=[0, 50000], grid_flag=False, plot_label=''):\n",
    "    # In ECM-1, z is too big and its unti is ohm. herein, \n",
    "    # z_real_list = [z.real for z in z_list]\n",
    "    # z_imag_list = [z.imag for z in z_list]\n",
    "    \n",
    "    # we shrink it for 1000 times and its unit becomes kohm\n",
    "    z_real_list = [z.real / 1000 for z in z_list]\n",
    "    z_imag_list = [z.imag / 1000 for z in z_list]\n",
    "    z_inv_imag_list = [-z_imag for z_imag in z_imag_list]\n",
    "\n",
    "    width = 2.5 # inchs\n",
    "    height = 2.5 # inchs\n",
    "    fig = plt.figure(figsize=(width, height))\n",
    "#     plt.plot(z_real_list, z_inv_imag_list, 'o--', label=plot_label)\n",
    "    plt.plot(z_real_list, z_inv_imag_list, '.--', label=plot_label)\n",
    "\n",
    "    plt.xlim(x_lim)\n",
    "    plt.ylim(y_lim)\n",
    "    plt.xlabel('Z$_{real}$ [k$\\Omega$]')\n",
    "    plt.ylabel('-Z$_{imag}$ [k$\\Omega$]')\n",
    "    plt.grid(grid_flag)\n",
    "    plt.legend()\n",
    "    # plt.show()\n",
    "\n",
    "    fname = img_dict['fname']\n",
    "    dpi = img_dict['dpi']\n",
    "    print(fname, dpi)\n",
    "    plt.savefig(fname, dpi=dpi, format='tif', bbox_inches='tight')"
   ]
  },
  {
   "cell_type": "code",
   "execution_count": 81,
   "metadata": {},
   "outputs": [
    {
     "name": "stdout",
     "output_type": "stream",
     "text": [
      "ecm1_1.tif 600\n"
     ]
    },
    {
     "data": {
      "image/png": "[encoded data removed]",
      "text/plain": [
       "<Figure size 180x180 with 1 Axes>"
      ]
     },
     "metadata": {
      "needs_background": "light"
     },
     "output_type": "display_data"
    }
   ],
   "source": [
    "# img_dict = {'fname':'ecm1_0.tif', 'dpi':900}\n",
    "img_dict = {'fname':'ecm1_1.tif', 'dpi': 600}\n",
    "ecm1_nyquist_plot_fig1(img_dict, z_list=z1_list, x_lim=[0, 50], y_lim=[0, 50], plot_label='ECM - 1')"
   ]
  },
  {
   "cell_type": "markdown",
   "metadata": {},
   "source": [
    "<font size=5>电阻</font> 的参数范围在保证最小的取值下限（1e-15）的同时，上限取实际结果的100倍。比1e-15更小的数字在运算的过程中将被自动舍去"
   ]
  },
  {
   "cell_type": "markdown",
   "metadata": {},
   "source": [
    "<font size=5>CPE的n</font> 取值范围设为 0.5 - 1"
   ]
  },
  {
   "cell_type": "code",
   "execution_count": 18,
   "metadata": {
    "ExecuteTime": {
     "end_time": "2020-05-19T02:17:11.517144Z",
     "start_time": "2020-05-19T02:17:11.510772Z"
    }
   },
   "outputs": [],
   "source": [
    "ecm_1_limit_list = [[1e-15, 2], [1e-15, 1e-2], [0.5, 1], [1e-15, 1e6]]\n",
    "ecm_1_para_list = [R0, Q0_pair[0], Q0_pair[1], R1]\n",
    "pickle_sim_ecm_para_config_dict(ecm_num=1, limit_list=ecm_1_limit_list, para_list=ecm_1_para_list,\\\n",
    "                                fre_list=fre_list, z_list=z1_list)"
   ]
  },
  {
   "cell_type": "code",
   "execution_count": 9,
   "metadata": {
    "ExecuteTime": {
     "end_time": "2020-07-04T08:39:23.050764Z",
     "start_time": "2020-07-04T08:39:23.046752Z"
    }
   },
   "outputs": [],
   "source": [
    "# 3- Pickle the fitted Ideal result\n",
    "# 3.1- Define the range for each parameter\n",
    "ecm_1_limit_list = [[1e-4, 1], [1e-6, 1e-2], [0.5, 1], [1e2, 1e6]]\n",
    "\n",
    "# R0, Q0_pair_q, Q0_pair_n, R1, Q1_pair_q, Q1_pair_n, R2\n",
    "ecm_1_para_list = [R0, Q0_pair[0], Q0_pair[1], R1]\n",
    "\n",
    "pickle_sim_ecm_para_config_dict(ecm_num = 1,\n",
    "                                limit_list = ecm_1_limit_list, \n",
    "                                para_list = ecm_1_para_list,\n",
    "                                fre_list = fre_list,\n",
    "                                z_list = z1_list)\n",
    "\n",
    "# Generated pickle file: 2020_07_04_sim_ecm_001_pickle_0.file\n",
    "# Temporary folder: DPFC\\dpfc_src\\plugins_test\\jupyter_code, \n",
    "# then it will be moved to folder: 'DPFC\\dpfc_src\\plugins_test\\jupyter_code\\ecm_sim_res\\ecm_001'\n",
    "# And a copy of this pickle file is stored as 'DPFC\\dpfc_src\\datasets\\goa_datasets\\simulated\\ecm_001'"
   ]
  },
  {
   "cell_type": "markdown",
   "metadata": {},
   "source": [
    "## ECM-002"
   ]
  },
  {
   "cell_type": "code",
   "execution_count": 39,
   "metadata": {
    "ExecuteTime": {
     "end_time": "2020-05-20T03:00:17.413069Z",
     "start_time": "2020-05-20T03:00:17.395800Z"
    }
   },
   "outputs": [],
   "source": [
    "# Import Circuit\n",
    "# ECM-2 R(QR)(QR)\n",
    "from circuits.circuit_pack import RaQRbaQRb"
   ]
  },
  {
   "cell_type": "markdown",
   "metadata": {},
   "source": [
    "source: Lai's second paper: <Local electrochemical properties of fusion boundary region in SA508-309L/308L overlay welded joint>"
   ]
  },
  {
   "cell_type": "markdown",
   "metadata": {},
   "source": [
    "paras are as following\n",
    "![paras-plot](dpfc_files/imgs/6.png)"
   ]
  },
  {
   "cell_type": "markdown",
   "metadata": {},
   "source": [
    "EIS-Nyquist plot\n",
    "![Nyquist-plot](dpfc_files/imgs/7.png)"
   ]
  },
  {
   "cell_type": "markdown",
   "metadata": {
    "ExecuteTime": {
     "end_time": "2020-05-20T03:48:17.157059Z",
     "start_time": "2020-05-20T03:48:17.149311Z"
    }
   },
   "source": [
    "Generate the ideal EIS"
   ]
  },
  {
   "cell_type": "markdown",
   "metadata": {},
   "source": [
    "+ <font color=red size=4>The following two Nyquist plot is different from Lai's experimental or fitting result</font>\n",
    "+ <font color=red size=4>Reason: In the fitting results in Lai's paper, the value of Rct and Rf should be exchanged<font>"
   ]
  },
  {
   "cell_type": "code",
   "execution_count": 43,
   "metadata": {
    "ExecuteTime": {
     "end_time": "2020-05-20T08:37:27.249017Z",
     "start_time": "2020-05-20T08:37:27.091827Z"
    },
    "code_folding": [
     0
    ]
   },
   "outputs": [
    {
     "name": "stderr",
     "output_type": "stream",
     "text": [
      "No handles with labels found to put in legend.\n"
     ]
    },
    {
     "data": {
      "image/png": "[encoded data removed]",
      "text/plain": [
       "<Figure size 432x288 with 1 Axes>"
      ]
     },
     "metadata": {
      "needs_background": "light"
     },
     "output_type": "display_data"
    }
   ],
   "source": [
    "\"\"\"\n",
    "    Rs = R0\n",
    "    Rct = R1\n",
    "    Rf = R2\n",
    "\"\"\"\n",
    "Rs = R0 = 1e-2\n",
    "\n",
    "Qf = 1.6 * 1e-2\n",
    "n1 = 0.6\n",
    "Q0_pair = [Qf, n1]\n",
    "\n",
    "Rct = R1 = 0.39\n",
    "\n",
    "Qdl = 4 * 1e-5\n",
    "n2 = 0.91\n",
    "Q1_pair = [Qdl, n2]\n",
    "\n",
    "Rf = R2 = 35\n",
    "\n",
    "z2_list = [RaQRbaQRb(w, R0, Q0_pair, R1, Q1_pair, R2) for w in w_list]\n",
    "nyquist_plot(z_list=z2_list, x_lim=[-1, 40], y_lim=[-1, 30], plot_label='')"
   ]
  },
  {
   "cell_type": "code",
   "execution_count": 46,
   "metadata": {
    "ExecuteTime": {
     "end_time": "2020-05-20T08:38:40.620073Z",
     "start_time": "2020-05-20T08:38:40.503639Z"
    },
    "scrolled": true
   },
   "outputs": [
    {
     "name": "stderr",
     "output_type": "stream",
     "text": [
      "No handles with labels found to put in legend.\n"
     ]
    },
    {
     "data": {
      "image/png": "[encoded data removed]",
      "text/plain": [
       "<Figure size 432x288 with 1 Axes>"
      ]
     },
     "metadata": {
      "needs_background": "light"
     },
     "output_type": "display_data"
    }
   ],
   "source": [
    "nyquist_plot(z_list=z2_list, x_lim=[0, 1], y_lim=[0, 1], plot_label='')"
   ]
  },
  {
   "cell_type": "markdown",
   "metadata": {},
   "source": [
    "<font size=4>After exchange the value of Rct and Rf, my Nyquist plot is in consistent with Lai's</font>"
   ]
  },
  {
   "cell_type": "code",
   "execution_count": 40,
   "metadata": {
    "ExecuteTime": {
     "end_time": "2020-05-20T08:42:51.145067Z",
     "start_time": "2020-05-20T08:42:51.017407Z"
    },
    "scrolled": true
   },
   "outputs": [
    {
     "name": "stderr",
     "output_type": "stream",
     "text": [
      "No handles with labels found to put in legend.\n"
     ]
    },
    {
     "data": {
      "image/png": "[encoded data removed]",
      "text/plain": [
       "<Figure size 432x288 with 1 Axes>"
      ]
     },
     "metadata": {
      "needs_background": "light"
     },
     "output_type": "display_data"
    }
   ],
   "source": [
    "Rs = R0 = 1e-2\n",
    "\n",
    "Qf = 1.6 * 1e-2\n",
    "n1 = 0.6\n",
    "Q0_pair = [Qf, n1]\n",
    "\n",
    "Rct = R1 = 35\n",
    "\n",
    "Qdl = 4 * 1e-5\n",
    "n2 = 0.91\n",
    "Q1_pair = [Qdl, n2]\n",
    "\n",
    "Rf = R2 = 0.39\n",
    "\n",
    "z2_list = [RaQRbaQRb(w, R0, Q0_pair, R1, Q1_pair, R2) for w in w_list]\n",
    "nyquist_plot(z_list=z2_list, x_lim=[-1, 40], y_lim=[-1, 30], plot_label='')"
   ]
  },
  {
   "cell_type": "code",
   "execution_count": 77,
   "metadata": {},
   "outputs": [],
   "source": [
    "def ecm2_nyquist_plot_fig1(img_dict, z_list, x_lim=[0, 50000], y_lim=[0, 50000], grid_flag=False, plot_label=''):\n",
    "    z_real_list = [z.real for z in z_list]\n",
    "    z_imag_list = [z.imag for z in z_list]\n",
    "    z_inv_imag_list = [-z_imag for z_imag in z_imag_list]\n",
    "\n",
    "    width = 2.5 # inchs\n",
    "    height = 2.5 # inchs\n",
    "    fig = plt.figure(figsize=(width, height))\n",
    "#     plt.plot(z_real_list, z_inv_imag_list, 'o--', label=plot_label)\n",
    "    plt.plot(z_real_list, z_inv_imag_list, '.--', label=plot_label)\n",
    "\n",
    "    plt.xlim(x_lim)\n",
    "    plt.ylim(y_lim)\n",
    "    plt.xlabel('Z$_{real}$ [$\\Omega$]')\n",
    "    plt.ylabel('-Z$_{imag}$ [$\\Omega$]')\n",
    "    plt.grid(grid_flag)\n",
    "    plt.legend()\n",
    "    # plt.show()\n",
    "\n",
    "    fname = img_dict['fname']\n",
    "    dpi = img_dict['dpi']\n",
    "    print(fname, dpi)\n",
    "    plt.savefig(fname, dpi=dpi, format='tif', bbox_inches='tight')"
   ]
  },
  {
   "cell_type": "code",
   "execution_count": 78,
   "metadata": {
    "scrolled": true
   },
   "outputs": [
    {
     "name": "stdout",
     "output_type": "stream",
     "text": [
      "ecm2_1.tif 600\n"
     ]
    },
    {
     "data": {
      "image/png": "[encoded data removed]",
      "text/plain": [
       "<Figure size 180x180 with 1 Axes>"
      ]
     },
     "metadata": {
      "needs_background": "light"
     },
     "output_type": "display_data"
    }
   ],
   "source": [
    "ecm2_img_dict = {'fname':'ecm2_1.tif', 'dpi': 600}\n",
    "ecm2_nyquist_plot_fig1(ecm2_img_dict, z_list = z2_list, x_lim=[0, 40], y_lim=[0, 40], plot_label='ECM - 2')"
   ]
  },
  {
   "cell_type": "code",
   "execution_count": 82,
   "metadata": {},
   "outputs": [],
   "source": [
    "def ecm2_inset_nyquist_plot_fig1(img_dict, z_list, x_lim=[0, 50000], y_lim=[0, 50000], grid_flag=False, plot_label=''):\n",
    "    z_real_list = [z.real for z in z_list]\n",
    "    z_imag_list = [z.imag for z in z_list]\n",
    "    z_inv_imag_list = [-z_imag for z_imag in z_imag_list]\n",
    "\n",
    "    width = 2.5 # inchs\n",
    "    height = 2.5 # inchs\n",
    "    fig = plt.figure(figsize=(width, height))\n",
    "#     plt.plot(z_real_list, z_inv_imag_list, 'o--', label=plot_label)\n",
    "    plt.plot(z_real_list, z_inv_imag_list, '.--', label=plot_label)\n",
    "\n",
    "    plt.xlim(x_lim)\n",
    "    plt.ylim(y_lim)\n",
    "#     plt.xlabel('Z$_{real}$ [$\\Omega$]')\n",
    "#     plt.ylabel('-Z$_{imag}$ [$\\Omega$]')\n",
    "    plt.grid(grid_flag)\n",
    "#     plt.legend()\n",
    "    # plt.show()\n",
    "\n",
    "    fname = img_dict['fname']\n",
    "    dpi = img_dict['dpi']\n",
    "    print(fname, dpi)\n",
    "    plt.savefig(fname, dpi=dpi, format='tif', bbox_inches='tight')"
   ]
  },
  {
   "cell_type": "code",
   "execution_count": 83,
   "metadata": {},
   "outputs": [
    {
     "name": "stdout",
     "output_type": "stream",
     "text": [
      "ecm2_inset_3.tif 600\n"
     ]
    },
    {
     "data": {
      "image/png": "[encoded data removed]",
      "text/plain": [
       "<Figure size 180x180 with 1 Axes>"
      ]
     },
     "metadata": {
      "needs_background": "light"
     },
     "output_type": "display_data"
    }
   ],
   "source": [
    "ecm2_inset_img_dict = {'fname':'ecm2_inset_3.tif', 'dpi': 600}\n",
    "ecm2_inset_nyquist_plot_fig1(ecm2_inset_img_dict, z_list = z2_list, x_lim=[0, 1], y_lim=[0, 1], plot_label='')"
   ]
  },
  {
   "cell_type": "code",
   "execution_count": 50,
   "metadata": {
    "ExecuteTime": {
     "end_time": "2020-05-20T08:43:49.405452Z",
     "start_time": "2020-05-20T08:43:49.286041Z"
    }
   },
   "outputs": [
    {
     "name": "stderr",
     "output_type": "stream",
     "text": [
      "No handles with labels found to put in legend.\n"
     ]
    },
    {
     "data": {
      "image/png": "[encoded data removed]",
      "text/plain": [
       "<Figure size 432x288 with 1 Axes>"
      ]
     },
     "metadata": {
      "needs_background": "light"
     },
     "output_type": "display_data"
    }
   ],
   "source": [
    "nyquist_plot(z_list=z2_list, x_lim=[0, 1], y_lim=[0, 1], plot_label='')"
   ]
  },
  {
   "cell_type": "markdown",
   "metadata": {},
   "source": [
    "pickle ideal EIS data"
   ]
  },
  {
   "cell_type": "markdown",
   "metadata": {
    "ExecuteTime": {
     "end_time": "2020-05-20T08:19:52.325768Z",
     "start_time": "2020-05-20T08:19:52.319792Z"
    }
   },
   "source": [
    "First Try - Generate data"
   ]
  },
  {
   "cell_type": "markdown",
   "metadata": {
    "ExecuteTime": {
     "end_time": "2020-05-20T08:23:23.127332Z",
     "start_time": "2020-05-20T08:23:23.121461Z"
    }
   },
   "source": [
    "+ <font color=red size=3>In ecm_2_limit_list, Use GWO to fit EIS-data, the chi-square is very big, the range of each parameter should be narrowed</font>\n",
    "+ <font color=red size=3>In ecm_2_para_list, the sequence of element is wrong</font>"
   ]
  },
  {
   "cell_type": "code",
   "execution_count": 29,
   "metadata": {
    "ExecuteTime": {
     "end_time": "2020-05-20T03:57:22.700135Z",
     "start_time": "2020-05-20T03:57:22.693987Z"
    },
    "code_folding": [
     0,
     3
    ]
   },
   "outputs": [],
   "source": [
    "# 参数范围的下限为1e-15（除CPE的n_min = 0.5外），上限为当前真实参数的100倍（除CPE的n_max = 1.0外）\n",
    "ecm_2_limit_list = [[1e-15, 1.0], [1e-15, 1e2], [1e-15, 1.0], [0.5, 1.0], [1e-15, 1e-2], [0.5, 1.0], [1e-15, 1.0]]\n",
    "ecm_2_para_list = [Rs, Rf, Q0_pair[0], Q0_pair[1], Q1_pair[0], Q1_pair[1], Rct]\n",
    "pickle_sim_ecm_para_config_dict(ecm_num=2, limit_list = ecm_2_limit_list, para_list = ecm_2_para_list,\\\n",
    "                                fre_list=fre_list, z_list=z2_list)\n",
    "# generate pickle file: 2020_05_20_sim_ecm_2_pickle_0.file"
   ]
  },
  {
   "cell_type": "markdown",
   "metadata": {},
   "source": [
    "Second Try - Generate data"
   ]
  },
  {
   "cell_type": "markdown",
   "metadata": {},
   "source": [
    "<font color=red size=3>In ecm_2_para_list, the sequence of element is wrong</font>"
   ]
  },
  {
   "cell_type": "code",
   "execution_count": 30,
   "metadata": {
    "ExecuteTime": {
     "end_time": "2020-05-20T05:28:38.708167Z",
     "start_time": "2020-05-20T05:28:38.702175Z"
    },
    "code_folding": [
     0
    ]
   },
   "outputs": [],
   "source": [
    "# 参数范围的下限为当前真实参数的0.01倍（除CPE的n_min = 0.5外），上限为当前真实参数的100倍（除CPE的n_max = 1.0外）\n",
    "ecm_2_limit_list = [[1e-4, 1.0], [1.0, 1e4], [1e-4, 1.0], [0.5, 1.0], [1e-7, 1e-3], [0.5, 1.0], [1e-4, 1.0]]\n",
    "ecm_2_para_list = [Rs, Rf, Q0_pair[0], Q0_pair[1], Q1_pair[0], Q1_pair[1], Rct]\n",
    "pickle_sim_ecm_para_config_dict(ecm_num=2, limit_list = ecm_2_limit_list, para_list = ecm_2_para_list,\\\n",
    "                                fre_list=fre_list, z_list=z2_list)\n",
    "# generate pickle file: 2020_05_20_sim_ecm_2_pickle_1.file"
   ]
  },
  {
   "cell_type": "markdown",
   "metadata": {
    "ExecuteTime": {
     "end_time": "2020-05-20T08:20:27.880994Z",
     "start_time": "2020-05-20T08:20:27.875960Z"
    }
   },
   "source": [
    "Third Try - Generate data"
   ]
  },
  {
   "cell_type": "code",
   "execution_count": 51,
   "metadata": {
    "ExecuteTime": {
     "end_time": "2020-05-20T08:51:38.356906Z",
     "start_time": "2020-05-20T08:51:38.350812Z"
    },
    "code_folding": []
   },
   "outputs": [],
   "source": [
    "\"\"\"\n",
    "    参数范围的下限为当前真实参数的0.01倍（除CPE的n_min = 0.5外），上限为当前真实参数的100倍（除CPE的n_max = 1.0外）\n",
    "    R0, Q0_pair_q, Q0_pair_n, R1, Q1_pair_q, Q1_pair_n, R2 = = ECM_paras_list\n",
    "para:\n",
    "    Rs = R0 = 1e-2\n",
    "\n",
    "    Qf = 1.6 * 1e-2\n",
    "    n1 = 0.6\n",
    "    Q0_pair = [Qf, n1]\n",
    "\n",
    "    Rct = R1 = 35\n",
    "\n",
    "    Qdl = 4 * 1e-5\n",
    "    n2 = 0.91\n",
    "    Q1_pair = [Qdl, n2]\n",
    "\n",
    "    Rf = R2 = 0.39\n",
    "\"\"\"\n",
    "ecm_2_limit_list = [[1e-4, 1.0], [1e-4, 1.0], [0.5, 1.0], [1.0, 1e4],  [1e-7, 1e-3], [0.5, 1.0], [1e-4, 1.0]]\n",
    "ecm_2_para_list = [Rs, Q0_pair[0], Q0_pair[1], Rct, Q1_pair[0], Q1_pair[1], Rf]\n",
    "pickle_sim_ecm_para_config_dict(ecm_num=2, limit_list = ecm_2_limit_list, para_list = ecm_2_para_list,\\\n",
    "                                fre_list=fre_list, z_list=z2_list)\n",
    "# generate pickle file: 2020_05_20_sim_ecm_2_pickle_2.file"
   ]
  },
  {
   "cell_type": "markdown",
   "metadata": {},
   "source": [
    "## ECM-003"
   ]
  },
  {
   "cell_type": "code",
   "execution_count": 47,
   "metadata": {
    "ExecuteTime": {
     "end_time": "2020-05-20T05:41:40.222579Z",
     "start_time": "2020-05-20T05:41:40.220070Z"
    }
   },
   "outputs": [],
   "source": [
    "# Import Circuit\n",
    "# ECM-3 R(QR(LR))\n",
    "from circuits.circuit_pack import RaQRaLRbb"
   ]
  },
  {
   "cell_type": "markdown",
   "metadata": {},
   "source": [
    "source: Lai's second paper: <Local electrochemical properties of fusion boundary region in SA508-309L/308L overlay welded joint>"
   ]
  },
  {
   "cell_type": "markdown",
   "metadata": {
    "ExecuteTime": {
     "end_time": "2020-05-20T05:43:15.936031Z",
     "start_time": "2020-05-20T05:43:15.930009Z"
    }
   },
   "source": [
    "paras are as following\n",
    "![paras-plot](dpfc_files/imgs/4.png)"
   ]
  },
  {
   "cell_type": "markdown",
   "metadata": {
    "ExecuteTime": {
     "end_time": "2020-05-20T05:43:16.432907Z",
     "start_time": "2020-05-20T05:43:16.426601Z"
    }
   },
   "source": [
    "EIS-Nyquist plot\n",
    "![Nyquist-plot](dpfc_files/imgs/5.png)"
   ]
  },
  {
   "cell_type": "code",
   "execution_count": 48,
   "metadata": {
    "ExecuteTime": {
     "end_time": "2020-05-20T09:03:15.291346Z",
     "start_time": "2020-05-20T09:03:15.172496Z"
    }
   },
   "outputs": [
    {
     "name": "stderr",
     "output_type": "stream",
     "text": [
      "No handles with labels found to put in legend.\n"
     ]
    },
    {
     "data": {
      "image/png": "[encoded data removed]",
      "text/plain": [
       "<Figure size 432x288 with 1 Axes>"
      ]
     },
     "metadata": {
      "needs_background": "light"
     },
     "output_type": "display_data"
    }
   ],
   "source": [
    "# Generate the ideal EIS\n",
    "Rs = R0 = 0.01\n",
    "Rct = R1 = 41\n",
    "\n",
    "Qdl = 3.3 * 1e-4\n",
    "n = 0.92\n",
    "Q0_pair = [Qdl, n]\n",
    "\n",
    "RL = R2 = 50\n",
    "L0 = 110\n",
    "\n",
    "z3_list = [RaQRaLRbb(w, R0, Q0_pair, R1, L0, R2) for w in w_list]\n",
    "nyquist_plot(z_list=z3_list, x_lim=[-5, 55], y_lim=[-15, 50], plot_label='')"
   ]
  },
  {
   "cell_type": "code",
   "execution_count": 74,
   "metadata": {},
   "outputs": [],
   "source": [
    "def ecm3_nyquist_fig1(img_dict, z_list, x_lim=[0, 50000], y_lim=[0, 50000], grid_flag=False, plot_label=''):\n",
    "    z_real_list = [z.real for z in z_list]\n",
    "    z_imag_list = [z.imag for z in z_list]\n",
    "    z_inv_imag_list = [-z_imag for z_imag in z_imag_list]\n",
    "\n",
    "    width = 2.5 # inchs\n",
    "    height = 2.5 # inchs\n",
    "    fig = plt.figure(figsize=(width, height))\n",
    "#     plt.plot(z_real_list, z_inv_imag_list, 'o--', label=plot_label)\n",
    "    plt.plot(z_real_list, z_inv_imag_list, '.--', label=plot_label)\n",
    "\n",
    "    plt.xlim(x_lim)\n",
    "    plt.ylim(y_lim)\n",
    "    plt.xlabel('Z$_{real}$ [$\\Omega$]')\n",
    "    plt.ylabel('-Z$_{imag}$ [$\\Omega$]')\n",
    "    plt.grid(grid_flag)\n",
    "    plt.legend()\n",
    "    # plt.show()\n",
    "\n",
    "    fname = img_dict['fname']\n",
    "    dpi = img_dict['dpi']\n",
    "    print(fname, dpi)\n",
    "    plt.savefig(fname, dpi=dpi, format='tif', bbox_inches='tight')"
   ]
  },
  {
   "cell_type": "code",
   "execution_count": 75,
   "metadata": {},
   "outputs": [
    {
     "name": "stdout",
     "output_type": "stream",
     "text": [
      "ecm3_1.tif 600\n"
     ]
    },
    {
     "data": {
      "image/png": "[encoded data removed]",
      "text/plain": [
       "<Figure size 180x180 with 1 Axes>"
      ]
     },
     "metadata": {
      "needs_background": "light"
     },
     "output_type": "display_data"
    }
   ],
   "source": [
    "ecm3_img_dict = {'fname':'ecm3_1.tif', 'dpi': 600}\n",
    "ecm3_nyquist_fig1(ecm3_img_dict, z_list = z3_list, x_lim=[-10, 45], y_lim=[-10, 45], plot_label='ECM - 3')"
   ]
  },
  {
   "cell_type": "code",
   "execution_count": 55,
   "metadata": {
    "ExecuteTime": {
     "end_time": "2020-05-20T09:13:12.602858Z",
     "start_time": "2020-05-20T09:13:12.596122Z"
    }
   },
   "outputs": [],
   "source": [
    "# pickle ideal EIS data\n",
    "ecm_3_limit_list = [[1e-4, 1.0], [1e-6, 1e-2], [0.5, 1.0], [1.0, 1e4], [1.0, 1e4], [1.0, 1e4]]\n",
    "# R0, Q0_pair_q, Q0_pair_n, R1, L0, R2\n",
    "ecm_3_para_list = [R0, Q0_pair[0], Q0_pair[1], R1, L0, R2]\n",
    "pickle_sim_ecm_para_config_dict(ecm_num=3, limit_list=ecm_3_limit_list, para_list=ecm_3_para_list,\\\n",
    "                                fre_list=fre_list, z_list=z3_list)\n",
    "# generate pickle file: 2020_05_20_sim_ecm_3_pickle_0.file"
   ]
  },
  {
   "cell_type": "markdown",
   "metadata": {},
   "source": [
    "## ECM-004"
   ]
  },
  {
   "cell_type": "code",
   "execution_count": 52,
   "metadata": {
    "ExecuteTime": {
     "end_time": "2020-06-30T10:53:57.929462Z",
     "start_time": "2020-06-30T10:53:57.918343Z"
    }
   },
   "outputs": [],
   "source": [
    "# Import Circuit\n",
    "# ECM-4 R(Q(RW))\n",
    "from circuits.circuit_pack import RaQaRWbb"
   ]
  },
  {
   "cell_type": "markdown",
   "metadata": {},
   "source": [
    "source: <049-Effects of phosphate additives on the stability of positive electrolytes for vanadium flow batteries>"
   ]
  },
  {
   "cell_type": "markdown",
   "metadata": {},
   "source": [
    "paras are as following\n",
    "![paras-plot](dpfc_files/imgs/22.png)"
   ]
  },
  {
   "cell_type": "markdown",
   "metadata": {},
   "source": [
    "EIS-Nyquist plot\n",
    "![Nyquist-plot](dpfc_files/imgs/21.png)"
   ]
  },
  {
   "cell_type": "markdown",
   "metadata": {},
   "source": [
    "All three lines are ok. But the black line(Blank) is the most obvious one, so I pick it"
   ]
  },
  {
   "cell_type": "code",
   "execution_count": 22,
   "metadata": {
    "ExecuteTime": {
     "end_time": "2020-07-03T06:20:13.642155Z",
     "start_time": "2020-07-03T06:20:13.501811Z"
    },
    "scrolled": true
   },
   "outputs": [
    {
     "data": {
      "image/png": "[encoded data removed]",
      "text/plain": [
       "<Figure size 432x288 with 1 Axes>"
      ]
     },
     "metadata": {
      "needs_background": "light"
     },
     "output_type": "display_data"
    }
   ],
   "source": [
    "# Generate the ideal EIS\n",
    "# EIS- Blank\n",
    "R_1 = R0 = 1.004\n",
    "\n",
    "cpe_q = 1.101 * 1e-3\n",
    "cpe_n = 1\n",
    "Q0_pair = [cpe_q, cpe_n]\n",
    "\n",
    "R_2 = R1 = 2.827\n",
    "W0 = 0.3276\n",
    "z4_list = [RaQaRWbb(w, R0, Q0_pair, R1, W0) for w in w_list]\n",
    "nyquist_plot(z_list=z4_list, x_lim=[0, 8], y_lim=[0, 8], grid_flag=True, plot_label='Blank')"
   ]
  },
  {
   "cell_type": "code",
   "execution_count": 23,
   "metadata": {
    "ExecuteTime": {
     "end_time": "2020-07-03T06:20:15.635816Z",
     "start_time": "2020-07-03T06:20:15.517603Z"
    }
   },
   "outputs": [
    {
     "data": {
      "image/png": "[encoded data removed]",
      "text/plain": [
       "<Figure size 432x288 with 1 Axes>"
      ]
     },
     "metadata": {
      "needs_background": "light"
     },
     "output_type": "display_data"
    }
   ],
   "source": [
    "nyquist_plot(z_list=z4_list, x_lim=[0, 5], y_lim=[0, 1.5], grid_flag=True, plot_label='Blank - Enlarged')"
   ]
  },
  {
   "cell_type": "markdown",
   "metadata": {},
   "source": [
    "<font size=4 color=red>The ecm4-ideal-pickle generated from the following code is wrong,should be replaced</font>"
   ]
  },
  {
   "cell_type": "code",
   "execution_count": 67,
   "metadata": {
    "ExecuteTime": {
     "end_time": "2020-05-20T14:42:45.899659Z",
     "start_time": "2020-05-20T14:42:45.892150Z"
    }
   },
   "outputs": [],
   "source": [
    "# pickle ideal EIS data\n",
    "ecm_4_limit_list = [[1e-2, 1e2], [1e-5, 1e-1], [0.5, 1.0], [1e-2, 1e2], [1e-3, 10.0]]\n",
    "# R0, Q0_pair, R1, W0\n",
    "ecm_4_para_list = [R0, Q0_pair[0], Q0_pair[1], R1, W0]\n",
    "pickle_sim_ecm_para_config_dict(ecm_num=4, limit_list=ecm_4_limit_list, para_list=ecm_4_para_list,\\\n",
    "                                fre_list=fre_list, z_list=z4_list)\n",
    "# Temporary folder: DPFC\\dpfc_src\\plugins_test\\jupyter_code\n",
    "# generate pickle file: 2020_05_20_sim_ecm_4_pickle_0.file"
   ]
  },
  {
   "cell_type": "markdown",
   "metadata": {},
   "source": [
    "+ <font size=4 color=red>In Table 3 containing fitting result, the unit of W is S s<sup>-5</sup> cm<sup>-2</sup></font>\n",
    "+ <font size=4 color=red>For standard form of Zw, its unit should be ohm s<sup>-0.5</sup>(cm<sup>2</sup>)</font> \n",
    "+ <font size=4 color=red>I reverse the warburg by replacing it with 1/w </font>"
   ]
  },
  {
   "cell_type": "markdown",
   "metadata": {},
   "source": [
    "<font size=4 color=green>This is right one</font>"
   ]
  },
  {
   "cell_type": "code",
   "execution_count": 53,
   "metadata": {
    "ExecuteTime": {
     "end_time": "2020-07-03T06:23:52.264376Z",
     "start_time": "2020-07-03T06:23:52.147276Z"
    },
    "scrolled": true
   },
   "outputs": [
    {
     "data": {
      "image/png": "[encoded data removed]",
      "text/plain": [
       "<Figure size 432x288 with 1 Axes>"
      ]
     },
     "metadata": {
      "needs_background": "light"
     },
     "output_type": "display_data"
    }
   ],
   "source": [
    "# Generate the ideal EIS\n",
    "# EIS- Blank\n",
    "R_1 = R0 = 1.004\n",
    "\n",
    "cpe_q = 1.101 * 1e-3\n",
    "cpe_n = 1.0\n",
    "Q0_pair = [cpe_q, cpe_n]\n",
    "\n",
    "R_2 = R1 = 2.827\n",
    "W0 = 1.0 / 0.3276\n",
    "z4_list_1 = [RaQaRWbb(w, R0, Q0_pair, R1, W0) for w in w_list]\n",
    "nyquist_plot(z_list=z4_list_1, x_lim=[0, 8], y_lim=[0, 8], grid_flag=True, plot_label='Blank')"
   ]
  },
  {
   "cell_type": "code",
   "execution_count": 72,
   "metadata": {},
   "outputs": [],
   "source": [
    "def ecm4_nyquist_fig1(img_dict, z_list, x_lim=[0, 50000], y_lim=[0, 50000], grid_flag=False, plot_label=''):\n",
    "    z_real_list = [z.real for z in z_list]\n",
    "    z_imag_list = [z.imag for z in z_list]\n",
    "    z_inv_imag_list = [-z_imag for z_imag in z_imag_list]\n",
    "\n",
    "    width = 2.5 # inchs\n",
    "    height = 2.5 # inchs\n",
    "    fig = plt.figure(figsize=(width, height))\n",
    "#     plt.plot(z_real_list, z_inv_imag_list, 'o--', label=plot_label)\n",
    "    plt.plot(z_real_list, z_inv_imag_list, '.--', label=plot_label)\n",
    "\n",
    "    plt.xlim(x_lim)\n",
    "    plt.ylim(y_lim)\n",
    "    plt.xlabel('Z$_{real}$ [$\\Omega$]')\n",
    "    plt.ylabel('-Z$_{imag}$ [$\\Omega$]')\n",
    "    plt.grid(grid_flag)\n",
    "    plt.legend()\n",
    "    # plt.show()\n",
    "\n",
    "    fname = img_dict['fname']\n",
    "    dpi = img_dict['dpi']\n",
    "    print(fname, dpi)\n",
    "    plt.savefig(fname, dpi=dpi, format='tif', bbox_inches='tight')"
   ]
  },
  {
   "cell_type": "code",
   "execution_count": 73,
   "metadata": {},
   "outputs": [
    {
     "name": "stdout",
     "output_type": "stream",
     "text": [
      "ecm4_2.tif 600\n"
     ]
    },
    {
     "data": {
      "image/png": "[encoded data removed]",
      "text/plain": [
       "<Figure size 180x180 with 1 Axes>"
      ]
     },
     "metadata": {
      "needs_background": "light"
     },
     "output_type": "display_data"
    }
   ],
   "source": [
    "ecm4_img_dict = {'fname':'ecm4_2.tif', 'dpi': 600}\n",
    "ecm4_nyquist_fig1(ecm4_img_dict, z_list = z4_list_1, x_lim=[0, 12], y_lim=[0, 12], plot_label='ECM - 4')"
   ]
  },
  {
   "cell_type": "code",
   "execution_count": 26,
   "metadata": {
    "ExecuteTime": {
     "end_time": "2020-07-03T06:43:19.940011Z",
     "start_time": "2020-07-03T06:43:19.929819Z"
    }
   },
   "outputs": [],
   "source": [
    "# pickle ideal ECM - 4 data\n",
    "ecm_4_limit_list = [[1e-2, 1e2], [1e-5, 1e-1], [0.5, 1.0], [1e-2, 1e2], [1e-2, 1e2]]\n",
    "\n",
    "# Be sure to check the order of the input parameters to be consistent with the function: \n",
    "# from global_optimizations.GOA_criterions.goa_criterion_2_check\n",
    "# R0, Q0_pair_q, Q0_pair_n, R1, W0\n",
    "ecm_4_para_list = [R0, Q0_pair[0], Q0_pair[1], R1, W0]\n",
    "\n",
    "pickle_sim_ecm_para_config_dict(ecm_num=4, limit_list=ecm_4_limit_list, para_list=ecm_4_para_list,\\\n",
    "                                fre_list=fre_list, z_list=z4_list_1)\n",
    "\n",
    "# Generated pickle file: 2020_07_03_sim_ecm_4_pickle_0.file\n",
    "# Temporary folder: DPFC\\dpfc_src\\plugins_test\\jupyter_code, \n",
    "# then it will be moved to folder: 'DPFC\\dpfc_src\\plugins_test\\jupyter_code\\ecm_sim_res\\ecm_004'\n",
    "# And a copy of this pickle file is stored as 'DPFC\\dpfc_src\\datasets\\goa_datasets\\simulated\\ecm_004'"
   ]
  },
  {
   "cell_type": "markdown",
   "metadata": {},
   "source": [
    "+ <font size=5 color=blue>When C is represented by CPE with n == 1, increase n's upper limit from 1.0 to 1.1</font>\n",
    "+ <font size=5 color=blue>For a normal CPE, its range stays put</font>"
   ]
  },
  {
   "cell_type": "code",
   "execution_count": 41,
   "metadata": {
    "ExecuteTime": {
     "end_time": "2020-07-03T07:53:20.320711Z",
     "start_time": "2020-07-03T07:53:20.316079Z"
    }
   },
   "outputs": [],
   "source": [
    "# pickle ideal ECM - 4 data\n",
    "ecm_4_limit_list = [[1e-2, 1e2], [1e-5, 1e-1], [0.5, 1.1], [1e-2, 1e2], [1e-2, 1e2]]\n",
    "\n",
    "# Be sure to check the order of the input parameters to be consistent with the function: \n",
    "# from global_optimizations.GOA_criterions.goa_criterion_2_check\n",
    "# R0, Q0_pair_q, Q0_pair_n, R1, W0\n",
    "ecm_4_para_list = [R0, Q0_pair[0], Q0_pair[1], R1, W0]\n",
    "\n",
    "pickle_sim_ecm_para_config_dict(ecm_num=4, limit_list=ecm_4_limit_list, para_list=ecm_4_para_list,\\\n",
    "                                fre_list=fre_list, z_list=z4_list_1)\n",
    "\n",
    "# Generated pickle file: 2020_07_03_sim_ecm_4_pickle_1.file\n",
    "# Temporary folder: DPFC\\dpfc_src\\plugins_test\\jupyter_code, \n",
    "# then it will be moved to folder: 'DPFC\\dpfc_src\\plugins_test\\jupyter_code\\ecm_sim_res\\ecm_004'\n",
    "# And a copy of this pickle file is stored as 'DPFC\\dpfc_src\\datasets\\goa_datasets\\simulated\\ecm_004'"
   ]
  },
  {
   "cell_type": "markdown",
   "metadata": {},
   "source": [
    "## ECM-005"
   ]
  },
  {
   "cell_type": "markdown",
   "metadata": {},
   "source": [
    "source: <080-Electrochemical and Thermal Studies of LiNi0.8Co0.15Al0.015O2 under Fluorinated Electrolytes>"
   ]
  },
  {
   "cell_type": "markdown",
   "metadata": {},
   "source": [
    "paras are as following\n",
    "![paras-plot](dpfc_files/imgs/23.png)"
   ]
  },
  {
   "cell_type": "markdown",
   "metadata": {},
   "source": [
    "<font size=4 color=blue>Warburg type: Standard</font>"
   ]
  },
  {
   "cell_type": "markdown",
   "metadata": {},
   "source": [
    "EIS-Nyquist plot\n",
    "![Nyquist-plot](dpfc_files/imgs/24.png)"
   ]
  },
  {
   "cell_type": "code",
   "execution_count": 59,
   "metadata": {
    "ExecuteTime": {
     "end_time": "2020-07-03T09:24:24.979858Z",
     "start_time": "2020-07-03T09:24:24.976857Z"
    }
   },
   "outputs": [],
   "source": [
    "# 1- Import Circuit\n",
    "# ECM-5 R(QR)(QR)W\n",
    "from circuits.circuit_pack import RaQRbaQRbW"
   ]
  },
  {
   "cell_type": "code",
   "execution_count": 60,
   "metadata": {
    "ExecuteTime": {
     "end_time": "2020-07-03T09:24:25.653422Z",
     "start_time": "2020-07-03T09:24:25.550472Z"
    }
   },
   "outputs": [
    {
     "data": {
      "image/png": "[encoded data removed]",
      "text/plain": [
       "<Figure size 432x288 with 1 Axes>"
      ]
     },
     "metadata": {
      "needs_background": "light"
     },
     "output_type": "display_data"
    }
   ],
   "source": [
    "# 2- Generate the ideal EIS\n",
    "# 2.1- Set the value of each parameter\n",
    "\n",
    "# EIS-FE-para\n",
    "Re = 5.6\n",
    "Rf = 5.3\n",
    "\n",
    "cpe1_q = 486 * 1e-6\n",
    "cpe1_n = 0.65\n",
    "Q0_pair = [cpe1_q, cpe1_n]\n",
    "\n",
    "Rct = 8.1\n",
    "\n",
    "cpe2_q = 5977 * 1e-6\n",
    "cpe2_n = 0.6\n",
    "Q1_pair = [cpe2_q, cpe2_n]\n",
    "\n",
    "W0 = 11.3\n",
    "\n",
    "z5_list = [RaQRbaQRbW(w, R0=Re, Q0_pair=Q0_pair, R1=Rf, Q1_pair=Q1_pair, R2=Rct, W0=W0) for w in w_list]\n",
    "nyquist_plot(z_list = z5_list, x_lim=[0, 25], y_lim=[0, 10], grid_flag=True, plot_label='ECM - 5')"
   ]
  },
  {
   "cell_type": "code",
   "execution_count": 70,
   "metadata": {},
   "outputs": [],
   "source": [
    "def ecm5_nyquist_fig1(img_dict, z_list, x_lim=[0, 50000], y_lim=[0, 50000], grid_flag=False, plot_label=''):\n",
    "    z_real_list = [z.real for z in z_list]\n",
    "    z_imag_list = [z.imag for z in z_list]\n",
    "    z_inv_imag_list = [-z_imag for z_imag in z_imag_list]\n",
    "\n",
    "    width = 2.5 # inchs\n",
    "    height = 2.5 # inchs\n",
    "    fig = plt.figure(figsize=(width, height))\n",
    "#     plt.plot(z_real_list, z_inv_imag_list, 'o--', label=plot_label)\n",
    "    plt.plot(z_real_list, z_inv_imag_list, '.--', label=plot_label)\n",
    "\n",
    "    plt.xlim(x_lim)\n",
    "    plt.ylim(y_lim)\n",
    "    plt.xlabel('Z$_{real}$ [$\\Omega$]')\n",
    "    plt.ylabel('-Z$_{imag}$ [$\\Omega$]')\n",
    "    plt.grid(grid_flag)\n",
    "    plt.legend()\n",
    "    # plt.show()\n",
    "\n",
    "    fname = img_dict['fname']\n",
    "    dpi = img_dict['dpi']\n",
    "    print(fname, dpi)\n",
    "    plt.savefig(fname, dpi=dpi, format='tif', bbox_inches='tight')"
   ]
  },
  {
   "cell_type": "code",
   "execution_count": 71,
   "metadata": {},
   "outputs": [
    {
     "name": "stdout",
     "output_type": "stream",
     "text": [
      "ecm5_1.tif 600\n"
     ]
    },
    {
     "data": {
      "image/png": "[encoded data removed]",
      "text/plain": [
       "<Figure size 180x180 with 1 Axes>"
      ]
     },
     "metadata": {
      "needs_background": "light"
     },
     "output_type": "display_data"
    }
   ],
   "source": [
    "ecm5_img_dict = {'fname':'ecm5_1.tif', 'dpi': 600}\n",
    "ecm5_nyquist_fig1(ecm5_img_dict, z_list = z5_list, x_lim=[5, 25], y_lim=[0, 20], plot_label='ECM - 5')"
   ]
  },
  {
   "cell_type": "code",
   "execution_count": 51,
   "metadata": {
    "ExecuteTime": {
     "end_time": "2020-07-03T09:29:16.865766Z",
     "start_time": "2020-07-03T09:29:16.861744Z"
    }
   },
   "outputs": [],
   "source": [
    "# 3- Picklethe fitted Ideal result\n",
    "# 3.1- Define the range for each parameter\n",
    "ecm_5_limit_list = [[1e-1, 1e3], [1e-8, 1e-4], [0.5, 1.0], [1e-1, 1e3], [1e-8, 1e-4], [0.5, 1.0], [1e-1, 1e3], [1e-1, 1e3]]\n",
    "\n",
    "# R0, Q0_pair_q, Q0_pair_n, R1, Q1_pair_q, Q1_pair_n, R2, W0\n",
    "ecm_5_para_list = [Re, Q0_pair[0], Q0_pair[1], Rf, Q1_pair[0], Q1_pair[1], Rct, W0]\n",
    "\n",
    "pickle_sim_ecm_para_config_dict(ecm_num = 5, \n",
    "                                limit_list = ecm_5_limit_list, \n",
    "                                para_list = ecm_5_para_list,\n",
    "                                fre_list = fre_list, \n",
    "                                z_list = z5_list)\n",
    "\n",
    "# Generated pickle file: 2020_07_03_sim_ecm_005_pickle_0.file\n",
    "# Temporary folder: DPFC\\dpfc_src\\plugins_test\\jupyter_code, \n",
    "# then it will be moved to folder: 'DPFC\\dpfc_src\\plugins_test\\jupyter_code\\ecm_sim_res\\ecm_005'\n",
    "# And a copy of this pickle file is stored as 'DPFC\\dpfc_src\\datasets\\goa_datasets\\simulated\\ecm_005'"
   ]
  },
  {
   "cell_type": "markdown",
   "metadata": {},
   "source": [
    "## ECM-006"
   ]
  },
  {
   "cell_type": "markdown",
   "metadata": {
    "ExecuteTime": {
     "end_time": "2020-07-03T06:54:18.151576Z",
     "start_time": "2020-07-03T06:54:18.148561Z"
    }
   },
   "source": [
    "source: <ecm-006-001-In-situ electrochemical study of plasma electrolytic oxidation treated Zr3Al based alloy in 300°C/14 MPa lithium borate buffer solution>"
   ]
  },
  {
   "cell_type": "markdown",
   "metadata": {},
   "source": [
    "<font size=4 color=blue>Warburg type: Standard</font>"
   ]
  },
  {
   "cell_type": "markdown",
   "metadata": {},
   "source": [
    "paras are as following\n",
    "![paras-plot](dpfc_files/imgs/41.png)"
   ]
  },
  {
   "cell_type": "markdown",
   "metadata": {},
   "source": [
    "EIS-Nyquist plot\n",
    "![Nyquist-plot](dpfc_files/imgs/40.png)"
   ]
  },
  {
   "cell_type": "markdown",
   "metadata": {},
   "source": [
    "ECM-plot\n",
    "![ECM-plot](dpfc_files/imgs/42.png)"
   ]
  },
  {
   "cell_type": "code",
   "execution_count": 63,
   "metadata": {
    "ExecuteTime": {
     "end_time": "2020-07-03T07:03:43.215102Z",
     "start_time": "2020-07-03T07:03:43.212099Z"
    }
   },
   "outputs": [],
   "source": [
    "# 1- Import Circuit\n",
    "# ECM-6 R(QR)(Q(RW))\n",
    "from circuits.circuit_pack import RaQRbaQaRWbb"
   ]
  },
  {
   "cell_type": "code",
   "execution_count": 64,
   "metadata": {
    "ExecuteTime": {
     "end_time": "2020-07-03T07:03:44.934949Z",
     "start_time": "2020-07-03T07:03:44.820552Z"
    }
   },
   "outputs": [
    {
     "data": {
      "image/png": "[encoded data removed]",
      "text/plain": [
       "<Figure size 432x288 with 1 Axes>"
      ]
     },
     "metadata": {
      "needs_background": "light"
     },
     "output_type": "display_data"
    }
   ],
   "source": [
    "# 2- Generate the ideal EIS\n",
    "# 2.1- Set the value of each parameter\n",
    "\n",
    "# EIS-pare Whole Frame\n",
    "# The data after 240h immersion are all avaliable, i just choose the last one, 768h, to make sure this one has unique ECM-6's feature\n",
    "Rs = 150.8\n",
    "\n",
    "Cm = 1.657 * 1e-6\n",
    "Q0_pair = [Cm, 1.0]\n",
    "\n",
    "Rc = 120.5\n",
    "\n",
    "CPE_q = 1.972 * 1e-3\n",
    "CPE_n = 0.389\n",
    "Q1_pair = [CPE_q, CPE_n]\n",
    "\n",
    "Ro = 4688\n",
    "\n",
    "# W0 = 1.555 * 1e-4\n",
    "W0 = 1 / (1.555 * 1e-4)\n",
    "\n",
    "z6_list = [RaQRbaQaRWbb(w, R0=Rs, Q0_pair=Q0_pair, R1=Rc, Q1_pair=Q1_pair, R2=Ro, W0=W0) for w in w_list]\n",
    "nyquist_plot(z_list = z6_list, x_lim = [0, 2500], y_lim = [0, 2500], grid_flag=True, plot_label='ECM-6')"
   ]
  },
  {
   "cell_type": "code",
   "execution_count": 68,
   "metadata": {},
   "outputs": [],
   "source": [
    "def ecm6_nyquist_fig1(img_dict, z_list, x_lim=[0, 50000], y_lim=[0, 50000], grid_flag=False, plot_label=''):\n",
    "    z_real_list = [z.real / 1000 for z in z_list]\n",
    "    z_imag_list = [z.imag / 1000 for z in z_list]\n",
    "    z_inv_imag_list = [-z_imag for z_imag in z_imag_list]\n",
    "\n",
    "    width = 2.5 # inchs\n",
    "    height = 2.5 # inchs\n",
    "    fig = plt.figure(figsize=(width, height))\n",
    "    # 选择'o--'，点太密集，聚集到一团，啥都看不清，要试试其他的样式\n",
    "#     plt.plot(z_real_list, z_inv_imag_list, 'o--', label=plot_label)\n",
    "    plt.plot(z_real_list, z_inv_imag_list, '.--', label=plot_label)\n",
    "\n",
    "    plt.xlim(x_lim)\n",
    "    plt.ylim(y_lim)\n",
    "    plt.xlabel('Z$_{real}$ [k$\\Omega$]')\n",
    "    plt.ylabel('-Z$_{imag}$ [k$\\Omega$]')\n",
    "    plt.grid(grid_flag)\n",
    "    plt.legend()\n",
    "    # plt.show()\n",
    "\n",
    "    fname = img_dict['fname']\n",
    "    dpi = img_dict['dpi']\n",
    "    print(fname, dpi)\n",
    "    plt.savefig(fname, dpi=dpi, format='tif', bbox_inches='tight')"
   ]
  },
  {
   "cell_type": "code",
   "execution_count": 69,
   "metadata": {
    "scrolled": true
   },
   "outputs": [
    {
     "name": "stdout",
     "output_type": "stream",
     "text": [
      "ecm6_1.tif 600\n"
     ]
    },
    {
     "data": {
      "image/png": "[encoded data removed]",
      "text/plain": [
       "<Figure size 180x180 with 1 Axes>"
      ]
     },
     "metadata": {
      "needs_background": "light"
     },
     "output_type": "display_data"
    }
   ],
   "source": [
    "ecm6_img_dict = {'fname':'ecm6_1.tif', 'dpi': 600}\n",
    "ecm6_nyquist_fig1(ecm6_img_dict, z_list = z6_list, x_lim=[0, 2.5], y_lim=[0, 2.5], plot_label='ECM - 6')"
   ]
  },
  {
   "cell_type": "code",
   "execution_count": 113,
   "metadata": {
    "scrolled": true
   },
   "outputs": [
    {
     "data": {
      "image/png": "[encoded data removed]",
      "text/plain": [
       "<Figure size 432x288 with 1 Axes>"
      ]
     },
     "metadata": {
      "needs_background": "light"
     },
     "output_type": "display_data"
    }
   ],
   "source": [
    "nyquist_plot(z_list = z6_list, x_lim = [100, 500], y_lim = [0, 400], grid_flag=True, plot_label='ECM - 6 - Enlarge')"
   ]
  },
  {
   "cell_type": "code",
   "execution_count": 115,
   "metadata": {},
   "outputs": [],
   "source": [
    "def ecm6_inset_nyquist_fig1(img_dict, z_list, x_lim=[0, 50000], y_lim=[0, 50000], grid_flag=False, plot_label=''):\n",
    "    z_real_list = [z.real / 1000 for z in z_list]\n",
    "    z_imag_list = [z.imag / 1000 for z in z_list]\n",
    "    z_inv_imag_list = [-z_imag for z_imag in z_imag_list]\n",
    "\n",
    "    width = 2.5 # inchs\n",
    "    height = 2.5 # inchs\n",
    "    fig = plt.figure(figsize=(width, height))\n",
    "    # 选择'o--'，点太密集，聚集到一团，啥都看不清，要试试其他的样式\n",
    "#     plt.plot(z_real_list, z_inv_imag_list, 'o--', label=plot_label)\n",
    "    plt.plot(z_real_list, z_inv_imag_list, '.--', label=plot_label)\n",
    "\n",
    "    plt.xlim(x_lim)\n",
    "    plt.ylim(y_lim)\n",
    "#     plt.xlabel('Z$_{real}$ [k$\\Omega$]')\n",
    "#     plt.ylabel('-Z$_{imag}$ [k$\\Omega$]')\n",
    "    plt.grid(grid_flag)\n",
    "#     plt.legend()\n",
    "    # plt.show()\n",
    "\n",
    "    fname = img_dict['fname']\n",
    "    dpi = img_dict['dpi']\n",
    "    print(fname, dpi)\n",
    "    plt.savefig(fname, dpi=dpi, format='tif', bbox_inches='tight')"
   ]
  },
  {
   "cell_type": "code",
   "execution_count": 116,
   "metadata": {},
   "outputs": [
    {
     "name": "stdout",
     "output_type": "stream",
     "text": [
      "ecm6_inset_0.tif 600\n"
     ]
    },
    {
     "data": {
      "image/png": "[encoded data removed]",
      "text/plain": [
       "<Figure size 180x180 with 1 Axes>"
      ]
     },
     "metadata": {
      "needs_background": "light"
     },
     "output_type": "display_data"
    }
   ],
   "source": [
    "ecm6_inset_img_dict = {'fname':'ecm6_inset_0.tif', 'dpi': 600}\n",
    "ecm6_inset_nyquist_fig1(ecm6_inset_img_dict, z_list = z6_list, x_lim=[0.1, 0.5], y_lim=[0, 0.4], plot_label='')"
   ]
  },
  {
   "cell_type": "code",
   "execution_count": 39,
   "metadata": {
    "ExecuteTime": {
     "end_time": "2020-07-03T07:50:22.847129Z",
     "start_time": "2020-07-03T07:50:22.841556Z"
    }
   },
   "outputs": [],
   "source": [
    "# 3- Picklethe fitted Ideal result\n",
    "# 3.1- Define the range for each parameter\n",
    "ecm_6_limit_list = [[1.0, 1e4], [1e-8, 1e-4], [0.5, 1.0], [1.0, 1e4], [1e-5, 1e-1], [0.5, 1.0], [10.0, 1e5], [10, 1e5]]\n",
    "\n",
    "# R0, Q0_pair_q, Q0_pair_n, R1, Q1_pair_q, Q1_pair_n, R2, W0\n",
    "ecm_6_para_list = [Rs, Q0_pair[0], Q0_pair[1], Rc, Q1_pair[0], Q1_pair[1], Ro,W0]\n",
    "\n",
    "pickle_sim_ecm_para_config_dict(ecm_num = 6, \n",
    "                                limit_list = ecm_6_limit_list, \n",
    "                                para_list = ecm_6_para_list,\n",
    "                                fre_list = fre_list, \n",
    "                                z_list = z6_list)\n",
    "\n",
    "# Generated pickle file: 2020_07_03_sim_ecm_006_pickle_0.file\n",
    "# Temporary folder: DPFC\\dpfc_src\\plugins_test\\jupyter_code, \n",
    "# then it will be moved to folder: 'DPFC\\dpfc_src\\plugins_test\\jupyter_code\\ecm_sim_res\\ecm_006'\n",
    "# And a copy of this pickle file is stored as 'DPFC\\dpfc_src\\datasets\\goa_datasets\\simulated\\ecm_006'"
   ]
  },
  {
   "cell_type": "markdown",
   "metadata": {},
   "source": [
    "+ <font size=5 color=blue>When C is represented by CPE with n == 1, increase n's upper limit from 1.0 to 1.1</font>\n",
    "+ <font size=5 color=blue>For a normal CPE, its range stays put</font>"
   ]
  },
  {
   "cell_type": "code",
   "execution_count": 40,
   "metadata": {
    "ExecuteTime": {
     "end_time": "2020-07-03T07:50:48.924655Z",
     "start_time": "2020-07-03T07:50:48.920161Z"
    }
   },
   "outputs": [],
   "source": [
    "# 3- Picklethe fitted Ideal result\n",
    "# 3.1- Define the range for each parameter\n",
    "ecm_6_limit_list = [[1.0, 1e4], [1e-8, 1e-4], [0.5, 1.1], [1.0, 1e4], [1e-5, 1e-1], [0.5, 1.0], [10.0, 1e5], [10, 1e5]]\n",
    "\n",
    "# R0, Q0_pair_q, Q0_pair_n, R1, Q1_pair_q, Q1_pair_n, R2, W0\n",
    "ecm_6_para_list = [Rs, Q0_pair[0], Q0_pair[1], Rc, Q1_pair[0], Q1_pair[1], Ro,W0]\n",
    "\n",
    "pickle_sim_ecm_para_config_dict(ecm_num = 6, \n",
    "                                limit_list = ecm_6_limit_list, \n",
    "                                para_list = ecm_6_para_list,\n",
    "                                fre_list = fre_list, \n",
    "                                z_list = z6_list)\n",
    "\n",
    "# Generated pickle file: 2020_07_03_sim_ecm_006_pickle_1.file\n",
    "# Temporary folder: DPFC\\dpfc_src\\plugins_test\\jupyter_code, \n",
    "# then it will be moved to folder: 'DPFC\\dpfc_src\\plugins_test\\jupyter_code\\ecm_sim_res\\ecm_006'\n",
    "# And a copy of this pickle file is stored as 'DPFC\\dpfc_src\\datasets\\goa_datasets\\simulated\\ecm_006'"
   ]
  },
  {
   "cell_type": "markdown",
   "metadata": {},
   "source": [
    "## ECM-007"
   ]
  },
  {
   "cell_type": "markdown",
   "metadata": {},
   "source": [
    "source: <ECM-007-003-Electrochemical impedance spectroscopy study of Ce(IV) with aminopolycarboxylate ligands for redox flow batteries applications>"
   ]
  },
  {
   "cell_type": "markdown",
   "metadata": {},
   "source": [
    "<font size=5 color=blue>This paper contains other ECM model result besides ECM-7, if you have time later, can check and implement them</font>"
   ]
  },
  {
   "cell_type": "markdown",
   "metadata": {},
   "source": [
    "<font size=4 color=blue>Warburg type: Standard</font>\n",
    "+ <font>In table 3, there is only one parameter about warburg, W1(Ohm). Only Standard form of Warburg is applicable</font>"
   ]
  },
  {
   "cell_type": "markdown",
   "metadata": {},
   "source": [
    "paras are as following\n",
    "![paras-plot](dpfc_files/imgs/49.png)"
   ]
  },
  {
   "cell_type": "markdown",
   "metadata": {},
   "source": [
    "EIS-Nyquist plot\n",
    "![Nyquist-plot](dpfc_files/imgs/46.png)"
   ]
  },
  {
   "cell_type": "markdown",
   "metadata": {},
   "source": [
    "EIS-Bode plot\n",
    "![Bode-plot](dpfc_files/imgs/47.png)"
   ]
  },
  {
   "cell_type": "markdown",
   "metadata": {},
   "source": [
    "EIS-ECM plot\n",
    "![ECM-plot](dpfc_files/imgs/48.png)"
   ]
  },
  {
   "cell_type": "code",
   "execution_count": 84,
   "metadata": {
    "ExecuteTime": {
     "end_time": "2020-07-03T07:20:24.973748Z",
     "start_time": "2020-07-03T07:20:24.970723Z"
    }
   },
   "outputs": [],
   "source": [
    "# 1- Import Circuit\n",
    "# ECM-7 R(QR)(Q(RW))\n",
    "from circuits.circuit_pack import RaQRbW"
   ]
  },
  {
   "cell_type": "code",
   "execution_count": 85,
   "metadata": {
    "ExecuteTime": {
     "end_time": "2020-07-03T07:23:21.006035Z",
     "start_time": "2020-07-03T07:23:20.890646Z"
    },
    "scrolled": true
   },
   "outputs": [
    {
     "data": {
      "image/png": "[encoded data removed]",
      "text/plain": [
       "<Figure size 432x288 with 1 Axes>"
      ]
     },
     "metadata": {
      "needs_background": "light"
     },
     "output_type": "display_data"
    }
   ],
   "source": [
    "# 2- Generate the ideal EIS\n",
    "# 2.1- Set the value of each parameter\n",
    "\n",
    "# EIS- E(V) = 1.2, its own fitting error is the smallest one\n",
    "# using platinum electrode with a diameter(直径) of 3 mm as a working electrode\n",
    "# Electrode Area = pi * (D / 2)^2 = 3.1415 * 1.5 * 1.5 = 7.068375 * 1e-2 cm^2\n",
    "R_1 = 1.582\n",
    "\n",
    "C1 = 2.1 * 1e-6\n",
    "Q0_pair = [C1, 1.0]\n",
    "\n",
    "R_2 = 3.562\n",
    "\n",
    "W1 = 225.15\n",
    "z7_list = [RaQRbW(w, R0=R_1, Q0_pair=Q0_pair, R1=R_2, W0=W1) for w in w_list]\n",
    "nyquist_plot(z_list = z7_list, x_lim=[0, 300], y_lim=[0, 300], grid_flag=True, plot_label='ECM - 7')"
   ]
  },
  {
   "cell_type": "code",
   "execution_count": 88,
   "metadata": {},
   "outputs": [],
   "source": [
    "def ecm7_nyquist_fig1(img_dict, z_list, x_lim=[0, 50000], y_lim=[0, 50000], grid_flag=False, plot_label=''):\n",
    "    z_real_list = [z.real for z in z_list]\n",
    "    z_imag_list = [z.imag for z in z_list]\n",
    "    z_inv_imag_list = [-z_imag for z_imag in z_imag_list]\n",
    "\n",
    "    width = 2.5 # inchs\n",
    "    height = 2.5 # inchs\n",
    "    fig = plt.figure(figsize=(width, height))\n",
    "    # 选择'o--'，点太密集，聚集到一团，啥都看不清，要试试其他的样式\n",
    "    # plt.plot(z_real_list, z_inv_imag_list, 'o--', label=plot_label)\n",
    "    plt.plot(z_real_list, z_inv_imag_list, '.--', label=plot_label)\n",
    "\n",
    "    plt.xlim(x_lim)\n",
    "    plt.ylim(y_lim)\n",
    "    plt.xlabel('Z$_{real}$ [$\\Omega$]')\n",
    "    plt.ylabel('-Z$_{imag}$ [$\\Omega$]')\n",
    "    plt.grid(grid_flag)\n",
    "    plt.legend()\n",
    "    # plt.show()\n",
    "\n",
    "    fname = img_dict['fname']\n",
    "    dpi = img_dict['dpi']\n",
    "    print(fname, dpi)\n",
    "    plt.savefig(fname, dpi=dpi, format='tif', bbox_inches='tight')"
   ]
  },
  {
   "cell_type": "code",
   "execution_count": 90,
   "metadata": {},
   "outputs": [
    {
     "name": "stdout",
     "output_type": "stream",
     "text": [
      "ecm7_0.tif 600\n"
     ]
    },
    {
     "data": {
      "image/png": "[encoded data removed]",
      "text/plain": [
       "<Figure size 180x180 with 1 Axes>"
      ]
     },
     "metadata": {
      "needs_background": "light"
     },
     "output_type": "display_data"
    }
   ],
   "source": [
    "ecm7_img_dict = {'fname':'ecm7_0.tif', 'dpi': 600}\n",
    "ecm7_nyquist_fig1(ecm7_img_dict, z_list = z7_list, x_lim=[0, 300], y_lim=[0, 300], plot_label='ECM - 7')"
   ]
  },
  {
   "cell_type": "code",
   "execution_count": 87,
   "metadata": {
    "scrolled": true
   },
   "outputs": [
    {
     "data": {
      "image/png": "[encoded data removed]",
      "text/plain": [
       "<Figure size 432x288 with 1 Axes>"
      ]
     },
     "metadata": {
      "needs_background": "light"
     },
     "output_type": "display_data"
    }
   ],
   "source": [
    "nyquist_plot(z_list = z7_list, x_lim=[0, 15], y_lim=[0, 15], grid_flag=True, plot_label='ECM - 7 - Enlarge')"
   ]
  },
  {
   "cell_type": "code",
   "execution_count": 92,
   "metadata": {},
   "outputs": [],
   "source": [
    "def ecm7_inset_nyquist_fig1(img_dict, z_list, x_lim=[0, 50000], y_lim=[0, 50000], grid_flag=False, plot_label=''):\n",
    "    z_real_list = [z.real for z in z_list]\n",
    "    z_imag_list = [z.imag for z in z_list]\n",
    "    z_inv_imag_list = [-z_imag for z_imag in z_imag_list]\n",
    "\n",
    "    width = 2.5 # inchs\n",
    "    height = 2.5 # inchs\n",
    "    fig = plt.figure(figsize=(width, height))\n",
    "    # 选择'o--'，点太密集，聚集到一团，啥都看不清，要试试其他的样式\n",
    "    # plt.plot(z_real_list, z_inv_imag_list, 'o--', label=plot_label)\n",
    "    plt.plot(z_real_list, z_inv_imag_list, '.--', label=plot_label)\n",
    "\n",
    "    plt.xlim(x_lim)\n",
    "    plt.ylim(y_lim)\n",
    "#     plt.xlabel('Z$_{real}$ [$\\Omega$]')\n",
    "#     plt.ylabel('-Z$_{imag}$ [$\\Omega$]')\n",
    "    plt.grid(grid_flag)\n",
    "#     plt.legend()\n",
    "    # plt.show()\n",
    "\n",
    "    fname = img_dict['fname']\n",
    "    dpi = img_dict['dpi']\n",
    "    print(fname, dpi)\n",
    "    plt.savefig(fname, dpi=dpi, format='tif', bbox_inches='tight')"
   ]
  },
  {
   "cell_type": "code",
   "execution_count": 96,
   "metadata": {},
   "outputs": [
    {
     "name": "stdout",
     "output_type": "stream",
     "text": [
      "ecm7_inset_1.tif 600\n"
     ]
    },
    {
     "data": {
      "image/png": "[encoded data removed]",
      "text/plain": [
       "<Figure size 180x180 with 1 Axes>"
      ]
     },
     "metadata": {
      "needs_background": "light"
     },
     "output_type": "display_data"
    }
   ],
   "source": [
    "ecm7_inset_img_dict = {'fname':'ecm7_inset_1.tif', 'dpi': 600}\n",
    "ecm7_inset_nyquist_fig1(ecm7_inset_img_dict, z_list = z7_list, x_lim=[1, 10], y_lim=[1, 10], plot_label='')"
   ]
  },
  {
   "cell_type": "code",
   "execution_count": 38,
   "metadata": {
    "ExecuteTime": {
     "end_time": "2020-07-03T07:35:05.991538Z",
     "start_time": "2020-07-03T07:35:05.987268Z"
    }
   },
   "outputs": [],
   "source": [
    "# 3- Picklethe fitted Ideal result\n",
    "# 3.1- Define the range for each parameter\n",
    "ecm_7_limit_list = [[1e-2, 1e2], [1e-8, 1e-2], [0.5, 1.1], [1e-2, 1e2], [1.0, 1e4]]\n",
    "\n",
    "# R0, Q0_pair_q, Q0_pair_n, R1, W0\n",
    "ecm_7_para_list = [R_1, Q0_pair[0], Q0_pair[1], R_2, W1]\n",
    "\n",
    "pickle_sim_ecm_para_config_dict(ecm_num = 7, \n",
    "                                limit_list = ecm_7_limit_list, \n",
    "                                para_list = ecm_7_para_list,\n",
    "                                fre_list = fre_list, \n",
    "                                z_list = z7_list)\n",
    "\n",
    "# Generated pickle file: 2020_07_03_sim_ecm_007_pickle.file\n",
    "# Temporary folder: DPFC\\dpfc_src\\plugins_test\\jupyter_code, \n",
    "# then it will be moved to folder: 'DPFC\\dpfc_src\\plugins_test\\jupyter_code\\ecm_sim_res\\ecm_007'\n",
    "# And a copy of this pickle file is stored as 'DPFC\\dpfc_src\\datasets\\goa_datasets\\simulated\\ecm_007'"
   ]
  },
  {
   "cell_type": "markdown",
   "metadata": {},
   "source": [
    "## ECM-008"
   ]
  },
  {
   "cell_type": "markdown",
   "metadata": {},
   "source": [
    "source: <100-173-035-High-performance supercapacitor based on reduced graphene oxide decorated with europium oxide nanoparticles>"
   ]
  },
  {
   "cell_type": "markdown",
   "metadata": {},
   "source": [
    "paras are as following\n",
    "![paras-plot](dpfc_files/imgs/28.png)"
   ]
  },
  {
   "cell_type": "markdown",
   "metadata": {},
   "source": [
    "<font color=blue size=5>mMho</font>\n",
    "+ <font>\n",
    "    The siemens (symbolized S) is the Standard International (SI) unit of electrical conductance. \n",
    "    The archaic term for this unit is the mho (ohm spelled backwards). \n",
    "    Siemens are also used, when multiplied by imaginary numbers, to denote susceptance in alternating current (AC) and radio frequency (RF) applications.\n",
    "  </font>\n",
    "+ <font>309 mMho = 309m Mho = 0.309 Mho = 0.309 ohm<sup>-1</sup> = 1 / 0.309 ohm</font>"
   ]
  },
  {
   "cell_type": "markdown",
   "metadata": {},
   "source": [
    "EIS-Nyquist plot\n",
    "![Nyquist-plot](dpfc_files/imgs/27.png)"
   ]
  },
  {
   "cell_type": "code",
   "execution_count": 97,
   "metadata": {
    "ExecuteTime": {
     "end_time": "2020-07-03T08:00:13.158732Z",
     "start_time": "2020-07-03T08:00:13.155716Z"
    }
   },
   "outputs": [],
   "source": [
    "# 1- Import Circuit\n",
    "# ECM-8 R(Q(RW))Q\n",
    "from circuits.circuit_pack import RaQaRWbbQ"
   ]
  },
  {
   "cell_type": "code",
   "execution_count": 98,
   "metadata": {
    "ExecuteTime": {
     "end_time": "2020-07-03T08:14:52.217263Z",
     "start_time": "2020-07-03T08:14:52.104849Z"
    },
    "scrolled": true
   },
   "outputs": [
    {
     "data": {
      "image/png": "[encoded data removed]",
      "text/plain": [
       "<Figure size 432x288 with 1 Axes>"
      ]
     },
     "metadata": {
      "needs_background": "light"
     },
     "output_type": "display_data"
    }
   ],
   "source": [
    "# 2- Generate the ideal EIS\n",
    "# 2.1- Set the value of each parameter\n",
    "\n",
    "# EIS-para-EuN\n",
    "Rs = 1.84\n",
    "\n",
    "Cdl = 0.24 * 1e-3\n",
    "Q0_pair = [Cdl, 1]\n",
    "\n",
    "Rct = 10.21\n",
    "# The ohm is a unit used to describe Impedance; for admittance, the word “ohm” is simply flipped around to read “mho.” \n",
    "# Since the ear is small, it is more practical to use thousandths of a mho or millimhos (mmho’s)\n",
    "Zw = 1.0 / (309 * 1e-3) # unit is ohm now\n",
    "# Zw = 309\n",
    "\n",
    "Cf = 322 * 1e-3\n",
    "Q1_pair = [Cf, 1]\n",
    "\n",
    "z8_list = [RaQaRWbbQ(w, R0=Rs, Q0_pair=Q0_pair, R1=Rct, W0=Zw, Q1_pair=Q1_pair) for w in w_list]\n",
    "nyquist_plot(z_list=z8_list, x_lim=[0, 50], y_lim=[0, 70], grid_flag=True, plot_label='ECM - 8 - EuN')"
   ]
  },
  {
   "cell_type": "code",
   "execution_count": 99,
   "metadata": {},
   "outputs": [],
   "source": [
    "def ecm8_nyquist_fig1(img_dict, z_list, x_lim=[0, 50000], y_lim=[0, 50000], grid_flag=False, plot_label=''):\n",
    "    z_real_list = [z.real for z in z_list]\n",
    "    z_imag_list = [z.imag for z in z_list]\n",
    "    z_inv_imag_list = [-z_imag for z_imag in z_imag_list]\n",
    "\n",
    "    width = 2.5 # inchs\n",
    "    height = 2.5 # inchs\n",
    "    fig = plt.figure(figsize=(width, height))\n",
    "    # 选择'o--'，点太密集，聚集到一团，啥都看不清，要试试其他的样式\n",
    "    # plt.plot(z_real_list, z_inv_imag_list, 'o--', label=plot_label)\n",
    "    plt.plot(z_real_list, z_inv_imag_list, '.--', label=plot_label)\n",
    "\n",
    "    plt.xlim(x_lim)\n",
    "    plt.ylim(y_lim)\n",
    "    plt.xlabel('Z$_{real}$ [$\\Omega$]')\n",
    "    plt.ylabel('-Z$_{imag}$ [$\\Omega$]')\n",
    "    plt.grid(grid_flag)\n",
    "    plt.legend()\n",
    "    # plt.show()\n",
    "\n",
    "    fname = img_dict['fname']\n",
    "    dpi = img_dict['dpi']\n",
    "    print(fname, dpi)\n",
    "    plt.savefig(fname, dpi=dpi, format='tif', bbox_inches='tight')"
   ]
  },
  {
   "cell_type": "code",
   "execution_count": 100,
   "metadata": {
    "scrolled": true
   },
   "outputs": [
    {
     "name": "stdout",
     "output_type": "stream",
     "text": [
      "ecm8_0.tif 600\n"
     ]
    },
    {
     "data": {
      "image/png": "[encoded data removed]",
      "text/plain": [
       "<Figure size 180x180 with 1 Axes>"
      ]
     },
     "metadata": {
      "needs_background": "light"
     },
     "output_type": "display_data"
    }
   ],
   "source": [
    "ecm8_img_dict = {'fname':'ecm8_0.tif', 'dpi': 600}\n",
    "ecm8_nyquist_fig1(ecm8_img_dict, z_list = z8_list, x_lim=[0, 70], y_lim=[0, 70], plot_label='ECM - 8')"
   ]
  },
  {
   "cell_type": "code",
   "execution_count": 101,
   "metadata": {
    "scrolled": true
   },
   "outputs": [
    {
     "data": {
      "image/png": "[encoded data removed]",
      "text/plain": [
       "<Figure size 432x288 with 1 Axes>"
      ]
     },
     "metadata": {
      "needs_background": "light"
     },
     "output_type": "display_data"
    }
   ],
   "source": [
    "nyquist_plot(z_list=z8_list, x_lim=[0, 15], y_lim=[0, 15], grid_flag=True, plot_label='ECM - 8 - EuN - Enlarge')"
   ]
  },
  {
   "cell_type": "code",
   "execution_count": 103,
   "metadata": {},
   "outputs": [],
   "source": [
    "def ecm8_inset_nyquist_fig1(img_dict, z_list, x_lim=[0, 50000], y_lim=[0, 50000], grid_flag=False, plot_label=''):\n",
    "    z_real_list = [z.real for z in z_list]\n",
    "    z_imag_list = [z.imag for z in z_list]\n",
    "    z_inv_imag_list = [-z_imag for z_imag in z_imag_list]\n",
    "\n",
    "    width = 2.5 # inchs\n",
    "    height = 2.5 # inchs\n",
    "    fig = plt.figure(figsize=(width, height))\n",
    "    # 选择'o--'，点太密集，聚集到一团，啥都看不清，要试试其他的样式\n",
    "    # plt.plot(z_real_list, z_inv_imag_list, 'o--', label=plot_label)\n",
    "    plt.plot(z_real_list, z_inv_imag_list, '.--', label=plot_label)\n",
    "\n",
    "    plt.xlim(x_lim)\n",
    "    plt.ylim(y_lim)\n",
    "#     plt.xlabel('Z$_{real}$ [$\\Omega$]')\n",
    "#     plt.ylabel('-Z$_{imag}$ [$\\Omega$]')\n",
    "    plt.grid(grid_flag)\n",
    "#     plt.legend()\n",
    "    # plt.show()\n",
    "\n",
    "    fname = img_dict['fname']\n",
    "    dpi = img_dict['dpi']\n",
    "    print(fname, dpi)\n",
    "    plt.savefig(fname, dpi=dpi, format='tif', bbox_inches='tight')"
   ]
  },
  {
   "cell_type": "code",
   "execution_count": 104,
   "metadata": {},
   "outputs": [
    {
     "name": "stdout",
     "output_type": "stream",
     "text": [
      "ecm8_inset_0.tif 600\n"
     ]
    },
    {
     "data": {
      "image/png": "[encoded data removed]",
      "text/plain": [
       "<Figure size 180x180 with 1 Axes>"
      ]
     },
     "metadata": {
      "needs_background": "light"
     },
     "output_type": "display_data"
    }
   ],
   "source": [
    "ecm8_inset_img_dict = {'fname':'ecm8_inset_0.tif', 'dpi': 600}\n",
    "ecm8_inset_nyquist_fig1(ecm8_inset_img_dict, z_list = z8_list, x_lim=[0, 15], y_lim=[0, 15], plot_label='')"
   ]
  },
  {
   "cell_type": "code",
   "execution_count": 44,
   "metadata": {
    "ExecuteTime": {
     "end_time": "2020-07-03T08:17:05.068903Z",
     "start_time": "2020-07-03T08:17:05.063903Z"
    }
   },
   "outputs": [],
   "source": [
    "# 3- Picklethe fitted Ideal result\n",
    "# 3.1- Define the range for each parameter\n",
    "ecm_8_limit_list = [[1e-2, 1e2], [1e-5, 1e-1], [0.5, 1.1], [0.01, 1e3], [1e-3, 1e1], [1e-3, 1e1], [0.5, 1.1]]\n",
    "\n",
    "# R0, Q0_pair_q, Q0_pair_n, R1, W0, Q1_pair_q, Q1_pair_n\n",
    "ecm_8_para_list = [Rs, Q0_pair[0], Q0_pair[1], Rct, Zw, Q1_pair[0], Q1_pair[1]]\n",
    "\n",
    "pickle_sim_ecm_para_config_dict(ecm_num = 8,\n",
    "                                limit_list = ecm_8_limit_list, \n",
    "                                para_list = ecm_8_para_list,\n",
    "                                fre_list = fre_list, \n",
    "                                z_list = z8_list)\n",
    "\n",
    "# Generated pickle file: 2020_07_03_sim_ecm_008_pickle_0.file\n",
    "# Temporary folder: DPFC\\dpfc_src\\plugins_test\\jupyter_code, \n",
    "# then it will be moved to folder: 'DPFC\\dpfc_src\\plugins_test\\jupyter_code\\ecm_sim_res\\ecm_008'\n",
    "# And a copy of this pickle file is stored as 'DPFC\\dpfc_src\\datasets\\goa_datasets\\simulated\\ecm_008'"
   ]
  },
  {
   "cell_type": "markdown",
   "metadata": {},
   "source": [
    "## ECM-009"
   ]
  },
  {
   "cell_type": "markdown",
   "metadata": {},
   "source": [
    "source: <ECM-009-002-Evaluation of the corrosion resistance of Ni(P)Cr coatings for bipolar plates by electrochemical impedance spectroscopy>"
   ]
  },
  {
   "cell_type": "markdown",
   "metadata": {},
   "source": [
    "paras are as following\n",
    "![paras-plot](dpfc_files/imgs/55.png)"
   ]
  },
  {
   "cell_type": "markdown",
   "metadata": {},
   "source": [
    "EIS-Nyquist plot\n",
    "![Nyquist-plot](dpfc_files/imgs/53.png)"
   ]
  },
  {
   "cell_type": "markdown",
   "metadata": {},
   "source": [
    "ECM-plot\n",
    "![ECM-plot](dpfc_files/imgs/54.png)"
   ]
  },
  {
   "cell_type": "code",
   "execution_count": 105,
   "metadata": {
    "ExecuteTime": {
     "end_time": "2020-07-03T08:25:02.238043Z",
     "start_time": "2020-07-03T08:25:02.236042Z"
    }
   },
   "outputs": [],
   "source": [
    "# 1- Import Circuit\n",
    "# ECM-9 R(Q(R(QR)))\n",
    "from circuits.circuit_pack import RaQaRaQRbbb"
   ]
  },
  {
   "cell_type": "code",
   "execution_count": 106,
   "metadata": {
    "ExecuteTime": {
     "end_time": "2020-07-03T08:25:19.217433Z",
     "start_time": "2020-07-03T08:25:19.069828Z"
    },
    "scrolled": true
   },
   "outputs": [
    {
     "data": {
      "image/png": "[encoded data removed]",
      "text/plain": [
       "<Figure size 432x288 with 1 Axes>"
      ]
     },
     "metadata": {
      "needs_background": "light"
     },
     "output_type": "display_data"
    }
   ],
   "source": [
    "# 2- Generate the ideal EIS\n",
    "# 2.1- Set the value of each parameter\n",
    "\n",
    "# EIS-para Ni-P 20 0 min\n",
    "R_1 = 70.52\n",
    "\n",
    "CPE2_T = 5.52 * 1e-6\n",
    "CPE2_P = 0.762\n",
    "Q0_pair = [CPE2_T, CPE2_P]\n",
    "\n",
    "R_2 = 764.9\n",
    "\n",
    "CPE3_T = 3.63 * 1e-5\n",
    "CPE3_P = 0.739\n",
    "Q1_pair = [CPE3_T, CPE3_P]\n",
    "\n",
    "R_3 = 2470\n",
    "\n",
    "z9_list = [RaQaRaQRbbb(w, R0=R_1, Q0_pair=Q0_pair, R1=R_2, Q1_pair=Q1_pair, R2=R_3) for w in w_list]\n",
    "nyquist_plot(z_list = z9_list, x_lim=[0, 4000], y_lim=[0, 2000], grid_flag=True, plot_label='Ni-P 20 0 min')"
   ]
  },
  {
   "cell_type": "code",
   "execution_count": 108,
   "metadata": {},
   "outputs": [],
   "source": [
    "def ecm9_nyquist_fig1(img_dict, z_list, x_lim=[0, 50000], y_lim=[0, 50000], grid_flag=False, plot_label=''):\n",
    "    z_real_list = [z.real / 1000 for z in z_list]\n",
    "    z_imag_list = [z.imag / 1000 for z in z_list]\n",
    "    z_inv_imag_list = [-z_imag for z_imag in z_imag_list]\n",
    "\n",
    "    width = 2.5 # inchs\n",
    "    height = 2.5 # inchs\n",
    "    fig = plt.figure(figsize=(width, height))\n",
    "    # 选择'o--'，点太密集，聚集到一团，啥都看不清，要试试其他的样式\n",
    "    # plt.plot(z_real_list, z_inv_imag_list, 'o--', label=plot_label)\n",
    "    plt.plot(z_real_list, z_inv_imag_list, '.--', label=plot_label)\n",
    "\n",
    "    plt.xlim(x_lim)\n",
    "    plt.ylim(y_lim)\n",
    "    plt.xlabel('Z$_{real}$ [k$\\Omega$]')\n",
    "    plt.ylabel('-Z$_{imag}$ [k$\\Omega$]')\n",
    "    plt.grid(grid_flag)\n",
    "    plt.legend()\n",
    "    # plt.show()\n",
    "\n",
    "    fname = img_dict['fname']\n",
    "    dpi = img_dict['dpi']\n",
    "    print(fname, dpi)\n",
    "    plt.savefig(fname, dpi=dpi, format='tif', bbox_inches='tight')"
   ]
  },
  {
   "cell_type": "code",
   "execution_count": 110,
   "metadata": {},
   "outputs": [
    {
     "name": "stdout",
     "output_type": "stream",
     "text": [
      "ecm9_1.tif 600\n"
     ]
    },
    {
     "data": {
      "image/png": "[encoded data removed]",
      "text/plain": [
       "<Figure size 180x180 with 1 Axes>"
      ]
     },
     "metadata": {
      "needs_background": "light"
     },
     "output_type": "display_data"
    }
   ],
   "source": [
    "ecm9_img_dict = {'fname':'ecm9_1.tif', 'dpi': 600}\n",
    "ecm9_nyquist_fig1(ecm9_img_dict, z_list = z9_list, x_lim=[0, 3.5], y_lim=[0, 3.5], plot_label='ECM - 9')"
   ]
  },
  {
   "cell_type": "code",
   "execution_count": 47,
   "metadata": {
    "ExecuteTime": {
     "end_time": "2020-07-03T08:28:55.201516Z",
     "start_time": "2020-07-03T08:28:55.197502Z"
    }
   },
   "outputs": [],
   "source": [
    "# 3- Picklethe fitted Ideal result\n",
    "# 3.1- Define the range for each parameter\n",
    "ecm_9_limit_list = [[1.0, 1e4], [1e-8, 1e-4], [0.5, 1.0], [10, 1e5], [1e-7, 1e-3], [0.5, 1.0], [1e1, 1e5]]\n",
    "\n",
    "# R0, Q0_pair_q, Q0_pair_n, R1, Q1_pair_q, Q1_pair_n, R2\n",
    "ecm_9_para_list = [R_1, Q0_pair[0], Q0_pair[1], R_2, Q1_pair[0], Q1_pair[1], R_3]\n",
    "\n",
    "pickle_sim_ecm_para_config_dict(ecm_num = 9,\n",
    "                                limit_list = ecm_9_limit_list, \n",
    "                                para_list = ecm_9_para_list,\n",
    "                                fre_list = fre_list,\n",
    "                                z_list = z9_list)\n",
    "\n",
    "# Generated pickle file: 2020_07_03_sim_ecm_009_pickle_0.file\n",
    "# Temporary folder: DPFC\\dpfc_src\\plugins_test\\jupyter_code, \n",
    "# then it will be moved to folder: 'DPFC\\dpfc_src\\plugins_test\\jupyter_code\\ecm_sim_res\\ecm_009'\n",
    "# And a copy of this pickle file is stored as 'DPFC\\dpfc_src\\datasets\\goa_datasets\\simulated\\ecm_009'"
   ]
  },
  {
   "cell_type": "markdown",
   "metadata": {},
   "source": [
    "## ECM-010"
   ]
  },
  {
   "cell_type": "code",
   "execution_count": null,
   "metadata": {},
   "outputs": [],
   "source": []
  }
 ],
 "metadata": {
  "kernelspec": {
   "display_name": "Python 3",
   "language": "python",
   "name": "python3"
  },
  "language_info": {
   "codemirror_mode": {
    "name": "ipython",
    "version": 3
   },
   "file_extension": ".py",
   "mimetype": "text/x-python",
   "name": "python",
   "nbconvert_exporter": "python",
   "pygments_lexer": "ipython3",
   "version": "3.8.2"
  },
  "toc": {
   "base_numbering": 1,
   "nav_menu": {},
   "number_sections": true,
   "sideBar": true,
   "skip_h1_title": false,
   "title_cell": "Table of Contents",
   "title_sidebar": "Contents",
   "toc_cell": false,
   "toc_position": {
    "height": "calc(100% - 180px)",
    "left": "10px",
    "top": "150px",
    "width": "221px"
   },
   "toc_section_display": true,
   "toc_window_display": true
  },
  "varInspector": {
   "cols": {
    "lenName": 16,
    "lenType": 16,
    "lenVar": 40
   },
   "kernels_config": {
    "python": {
     "delete_cmd_postfix": "",
     "delete_cmd_prefix": "del ",
     "library": "var_list.py",
     "varRefreshCmd": "print(var_dic_list())"
    },
    "r": {
     "delete_cmd_postfix": ") ",
     "delete_cmd_prefix": "rm(",
     "library": "var_list.r",
     "varRefreshCmd": "cat(var_dic_list()) "
    }
   },
   "types_to_exclude": [
    "module",
    "function",
    "builtin_function_or_method",
    "instance",
    "_Feature"
   ],
   "window_display": false
  }
 },
 "nbformat": 4,
 "nbformat_minor": 4
}
