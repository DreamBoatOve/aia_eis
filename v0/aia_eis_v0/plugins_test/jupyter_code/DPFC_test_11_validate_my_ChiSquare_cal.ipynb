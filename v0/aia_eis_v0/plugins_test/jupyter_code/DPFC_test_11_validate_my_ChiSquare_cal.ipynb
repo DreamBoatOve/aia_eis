{
 "cells": [
  {
   "cell_type": "markdown",
   "metadata": {},
   "source": [
    "# 验证ZSimpWin对Chi-Square的计算和我的是否一致"
   ]
  },
  {
   "cell_type": "code",
   "execution_count": 1,
   "metadata": {
    "ExecuteTime": {
     "end_time": "2021-02-07T13:56:04.788487Z",
     "start_time": "2021-02-07T13:56:04.782486Z"
    }
   },
   "outputs": [],
   "source": [
    "import os\n",
    "import math\n",
    "import sys\n",
    "sys.path.append('../../')\n",
    "\n",
    "from utils.file_utils.pickle_utils import load_pickle_file"
   ]
  },
  {
   "cell_type": "code",
   "execution_count": 2,
   "metadata": {
    "ExecuteTime": {
     "end_time": "2021-02-07T13:56:05.699805Z",
     "start_time": "2021-02-07T13:56:05.693803Z"
    }
   },
   "outputs": [],
   "source": [
    "lai_normed_dataset = load_pickle_file(fp='../../datasets/goa_datasets/normed',\n",
    "                                      fn='2020_08_22_goa_lai_normed_dataset_pickle.file')"
   ]
  },
  {
   "cell_type": "code",
   "execution_count": 3,
   "metadata": {
    "ExecuteTime": {
     "end_time": "2021-02-07T13:56:06.666451Z",
     "start_time": "2021-02-07T13:56:06.654939Z"
    },
    "collapsed": true
   },
   "outputs": [
    {
     "name": "stdout",
     "output_type": "stream",
     "text": [
      "Index: 0 Fn: 1-1 ECM-Num: 9\n",
      "Index: 1 Fn: 1-2 ECM-Num: 9\n",
      "Index: 2 Fn: 1-3 ECM-Num: 9\n",
      "Index: 3 Fn: 1-4 ECM-Num: 9\n",
      "Index: 4 Fn: 1-6 ECM-Num: 9\n",
      "Index: 5 Fn: 1-7 ECM-Num: 9\n",
      "Index: 6 Fn: 1-8 ECM-Num: 9\n",
      "Index: 7 Fn: 1-9 ECM-Num: 9\n",
      "Index: 8 Fn: 1-10 ECM-Num: 9\n",
      "Index: 9 Fn: 1-11 ECM-Num: 9\n",
      "Index: 10 Fn: 1-12 ECM-Num: 9\n",
      "Index: 11 Fn: 1-14 ECM-Num: 2\n",
      "Index: 12 Fn: 1-16 ECM-Num: 9\n",
      "Index: 13 Fn: 1-18 ECM-Num: 9\n",
      "Index: 14 Fn: 1-19 ECM-Num: 9\n",
      "Index: 15 Fn: 1-20 ECM-Num: 9\n",
      "Index: 16 Fn: 1-21 ECM-Num: 9\n",
      "Index: 17 Fn: 1-22 ECM-Num: 9\n",
      "Index: 18 Fn: 1-24 ECM-Num: 9\n",
      "Index: 19 Fn: 1-25 ECM-Num: 9\n",
      "Index: 20 Fn: 1-26 ECM-Num: 9\n",
      "Index: 21 Fn: 1-27 ECM-Num: 9\n",
      "Index: 22 Fn: 1-29 ECM-Num: 9\n",
      "Index: 23 Fn: 1-30 ECM-Num: 9\n",
      "Index: 24 Fn: 1-31 ECM-Num: 9\n",
      "Index: 25 Fn: 1-32 ECM-Num: 9\n",
      "Index: 26 Fn: 1-33 ECM-Num: 9\n",
      "Index: 27 Fn: 2-1 ECM-Num: 9\n",
      "Index: 28 Fn: 2-2 ECM-Num: 9\n",
      "Index: 29 Fn: 2-3 ECM-Num: 9\n",
      "Index: 30 Fn: 2-4 ECM-Num: 9\n",
      "Index: 31 Fn: 2-5 ECM-Num: 9\n",
      "Index: 32 Fn: 2-6 ECM-Num: 9\n",
      "Index: 33 Fn: 2-7 ECM-Num: 9\n",
      "Index: 34 Fn: 2-8 ECM-Num: 9\n",
      "Index: 35 Fn: 2-9 ECM-Num: 9\n",
      "Index: 36 Fn: 2-10 ECM-Num: 9\n",
      "Index: 37 Fn: 2-11 ECM-Num: 9\n",
      "Index: 38 Fn: 2-12 ECM-Num: 9\n",
      "Index: 39 Fn: 2-13 ECM-Num: 2\n",
      "Index: 40 Fn: 2-15 ECM-Num: 2\n",
      "Index: 41 Fn: 2-16 ECM-Num: 2\n",
      "Index: 42 Fn: 2-17 ECM-Num: 2\n",
      "Index: 43 Fn: 2-19 ECM-Num: 2\n",
      "Index: 44 Fn: 2-20 ECM-Num: 2\n",
      "Index: 45 Fn: 2-23 ECM-Num: 9\n",
      "Index: 46 Fn: 2-24 ECM-Num: 9\n",
      "Index: 47 Fn: 2-26 ECM-Num: 2\n",
      "Index: 48 Fn: 2-28 ECM-Num: 2\n",
      "Index: 49 Fn: 2-29 ECM-Num: 2\n",
      "Index: 50 Fn: 2-30 ECM-Num: 9\n",
      "Index: 51 Fn: 2-31 ECM-Num: 9\n",
      "Index: 52 Fn: 2-32 ECM-Num: 9\n",
      "Index: 53 Fn: 2-33 ECM-Num: 9\n",
      "Index: 54 Fn: 2-34 ECM-Num: 9\n",
      "Index: 55 Fn: 3-1 ECM-Num: 9\n",
      "Index: 56 Fn: 3-5 ECM-Num: 9\n",
      "Index: 57 Fn: 3-6 ECM-Num: 9\n",
      "Index: 58 Fn: 3-7 ECM-Num: 9\n",
      "Index: 59 Fn: 3-8 ECM-Num: 9\n",
      "Index: 60 Fn: 3-9 ECM-Num: 9\n",
      "Index: 61 Fn: 3-10 ECM-Num: 9\n",
      "Index: 62 Fn: 3-11 ECM-Num: 9\n",
      "Index: 63 Fn: 3-12 ECM-Num: 9\n",
      "Index: 64 Fn: 3-13 ECM-Num: 9\n",
      "Index: 65 Fn: 3-14 ECM-Num: 9\n",
      "Index: 66 Fn: 3-15 ECM-Num: 9\n",
      "Index: 67 Fn: 3-17 ECM-Num: 2\n",
      "Index: 68 Fn: 3-19 ECM-Num: 9\n",
      "Index: 69 Fn: 3-20 ECM-Num: 9\n",
      "Index: 70 Fn: 3-21 ECM-Num: 9\n",
      "Index: 71 Fn: 3-22 ECM-Num: 9\n",
      "Index: 72 Fn: 3-23 ECM-Num: 9\n",
      "Index: 73 Fn: 3-24 ECM-Num: 2\n",
      "Index: 74 Fn: 3-25 ECM-Num: 9\n",
      "Index: 75 Fn: 3-26 ECM-Num: 9\n",
      "Index: 76 Fn: 3-27 ECM-Num: 9\n",
      "Index: 77 Fn: 3-29 ECM-Num: 9\n",
      "Index: 78 Fn: 3-30 ECM-Num: 9\n",
      "Index: 79 Fn: 3-31 ECM-Num: 9\n",
      "Index: 80 Fn: 3-32 ECM-Num: 9\n",
      "Index: 81 Fn: 3-33 ECM-Num: 9\n",
      "Index: 82 Fn: 3-34 ECM-Num: 9\n",
      "Index: 83 Fn: 4-1 ECM-Num: 9\n",
      "Index: 84 Fn: 4-2 ECM-Num: 9\n",
      "Index: 85 Fn: 4-3 ECM-Num: 9\n",
      "Index: 86 Fn: 4-4 ECM-Num: 9\n",
      "Index: 87 Fn: 4-5 ECM-Num: 9\n",
      "Index: 88 Fn: 4-6 ECM-Num: 9\n",
      "Index: 89 Fn: 4-7 ECM-Num: 9\n",
      "Index: 90 Fn: 4-8 ECM-Num: 9\n",
      "Index: 91 Fn: 4-9 ECM-Num: 9\n",
      "Index: 92 Fn: 4-10 ECM-Num: 9\n",
      "Index: 93 Fn: 4-11 ECM-Num: 9\n",
      "Index: 94 Fn: 4-12 ECM-Num: 9\n",
      "Index: 95 Fn: 4-14 ECM-Num: 9\n",
      "Index: 96 Fn: 4-19 ECM-Num: 9\n",
      "Index: 97 Fn: 4-21 ECM-Num: 9\n",
      "Index: 98 Fn: 4-22 ECM-Num: 9\n",
      "Index: 99 Fn: 4-25 ECM-Num: 9\n",
      "Index: 100 Fn: 4-28 ECM-Num: 9\n",
      "Index: 101 Fn: 4-29 ECM-Num: 2\n",
      "Index: 102 Fn: 4-31 ECM-Num: 9\n",
      "Index: 103 Fn: 4-34 ECM-Num: 2\n",
      "Index: 104 Fn: 5-1 ECM-Num: 9\n",
      "Index: 105 Fn: 5-2 ECM-Num: 9\n",
      "Index: 106 Fn: 5-3 ECM-Num: 9\n",
      "Index: 107 Fn: 5-4 ECM-Num: 9\n",
      "Index: 108 Fn: 5-5 ECM-Num: 9\n",
      "Index: 109 Fn: 5-6 ECM-Num: 9\n",
      "Index: 110 Fn: 5-7 ECM-Num: 9\n",
      "Index: 111 Fn: 5-8 ECM-Num: 9\n",
      "Index: 112 Fn: 5-9 ECM-Num: 9\n",
      "Index: 113 Fn: 5-11 ECM-Num: 2\n",
      "Index: 114 Fn: 5-12 ECM-Num: 9\n",
      "Index: 115 Fn: 5-16 ECM-Num: 2\n",
      "Index: 116 Fn: 5-17 ECM-Num: 2\n",
      "Index: 117 Fn: 5-18 ECM-Num: 2\n",
      "Index: 118 Fn: 5-19 ECM-Num: 9\n",
      "Index: 119 Fn: 5-22 ECM-Num: 2\n",
      "Index: 120 Fn: 5-26 ECM-Num: 9\n",
      "Index: 121 Fn: 5-27 ECM-Num: 9\n",
      "Index: 122 Fn: 5-28 ECM-Num: 2\n",
      "Index: 123 Fn: 5-29 ECM-Num: 2\n",
      "Index: 124 Fn: 5-31 ECM-Num: 2\n",
      "Index: 125 Fn: 5-32 ECM-Num: 9\n",
      "Index: 126 Fn: 5-33 ECM-Num: 9\n"
     ]
    }
   ],
   "source": [
    "for i, normed_dataset in enumerate(lai_normed_dataset):\n",
    "    print('Index:',i, 'Fn:',normed_dataset['file_name'],'ECM-Num:',normed_dataset['ecm_num'])"
   ]
  },
  {
   "cell_type": "code",
   "execution_count": 3,
   "metadata": {
    "ExecuteTime": {
     "end_time": "2021-02-04T14:35:14.073345Z",
     "start_time": "2021-02-04T14:35:14.065342Z"
    },
    "collapsed": true
   },
   "outputs": [
    {
     "data": {
      "text/plain": [
       "{'file_name': '1-1',\n",
       " 'ecm_num': 9,\n",
       " 'f': [100078.1,\n",
       "  63140.62,\n",
       "  39890.62,\n",
       "  25171.88,\n",
       "  15890.62,\n",
       "  10078.13,\n",
       "  6328.125,\n",
       "  3984.375,\n",
       "  2527.573,\n",
       "  1577.524,\n",
       "  998.264,\n",
       "  627.7902,\n",
       "  397.9953,\n",
       "  252.4038,\n",
       "  158.3615,\n",
       "  100.4464,\n",
       "  63.3446,\n",
       "  38.42213,\n",
       "  24.93351,\n",
       "  15.625,\n",
       "  9.93114,\n",
       "  6.317385,\n",
       "  3.945707,\n",
       "  2.504006,\n",
       "  1.584686,\n",
       "  0.999041,\n",
       "  0.633446,\n",
       "  0.400641,\n",
       "  0.2520161,\n",
       "  0.1588983,\n",
       "  0.1001603],\n",
       " 'z_raw': [(0.005566658429999999-0.0112022736j),\n",
       "  (0.006214947129999999-0.0172324988j),\n",
       "  (0.007368535799999999-0.026122751099999997j),\n",
       "  (0.009056134699999998-0.04021551339999999j),\n",
       "  (0.012023241999999998-0.061301606599999996j),\n",
       "  (0.016536719899999996-0.09290519339999999j),\n",
       "  (0.023778965299999996-0.14188580999999997j),\n",
       "  (0.035883835499999996-0.21661419499999998j),\n",
       "  (0.053372581399999994-0.32566773299999996j),\n",
       "  (0.07932827849999999-0.49626218699999997j),\n",
       "  (0.13905518399999997-0.7571126649999999j),\n",
       "  (0.20865297099999996-1.0980639199999997j),\n",
       "  (0.33903952699999995-1.6492582899999997j),\n",
       "  (0.537771268-2.4403963399999995j),\n",
       "  (0.8503393009999999-3.6465191499999996j),\n",
       "  (1.33983368-5.392990949999999j),\n",
       "  (2.0879820899999997-7.8160849799999985j),\n",
       "  (3.5735213999999993-11.964560999999998j),\n",
       "  (5.482721369999999-16.493734299999996j),\n",
       "  (8.851856139999999-23.340918199999997j),\n",
       "  (13.428434799999998-32.3249692j),\n",
       "  (20.409383099999996-45.588299299999996j),\n",
       "  (30.907434199999997-62.87515629999999j),\n",
       "  (45.299025199999996-84.20728549999998j),\n",
       "  (63.91934479999999-112.13080599999998j),\n",
       "  (89.19084769999999-148.95025499999997j),\n",
       "  (120.13717699999998-197.40278299999997j),\n",
       "  (161.74786399999996-264.15943999999996j),\n",
       "  (215.80669999999998-357.86057399999993j),\n",
       "  (285.52881799999994-486.4391289999999j),\n",
       "  (370.64242699999994-661.259928j)]}"
      ]
     },
     "execution_count": 3,
     "metadata": {},
     "output_type": "execute_result"
    }
   ],
   "source": [
    "lai_normed_dataset[0]"
   ]
  },
  {
   "cell_type": "markdown",
   "metadata": {},
   "source": [
    "## Define Fittness Function / Chi-Square"
   ]
  },
  {
   "cell_type": "code",
   "execution_count": 4,
   "metadata": {
    "ExecuteTime": {
     "end_time": "2021-02-07T13:56:11.313561Z",
     "start_time": "2021-02-07T13:56:11.303558Z"
    }
   },
   "outputs": [],
   "source": [
    "from circuits.circuit_pack import *\n",
    "\n",
    "def cal_EIS_WSE_fitness_v1(exp_data_dict, ECM_paras_list):\n",
    "    fre_list = exp_data_dict['f']\n",
    "    ECM_num = exp_data_dict['ecm_num']\n",
    "    \n",
    "    # N\n",
    "    data_len = len(fre_list)\n",
    "    # M para num in ECM\n",
    "    para_len = len(ECM_paras_list)\n",
    "    # v Degrees of freedom, v = N - M - 1\n",
    "#     v = data_len - para_len - 1\n",
    "    \n",
    "    if 'z_raw' in exp_data_dict.keys():\n",
    "        z_raw_complex_list = exp_data_dict['z_raw']\n",
    "    elif 'z_sim' in exp_data_dict.keys():\n",
    "        z_raw_complex_list = exp_data_dict['z_sim']\n",
    "\n",
    "    w_list = [2 * math.pi * f for f in fre_list]\n",
    "    z_sim_complex_list = None\n",
    "    if ECM_num == 2:\n",
    "        R0, Q0_pair_q, Q0_pair_n, R1, Q1_pair_q, Q1_pair_n, R2 = ECM_paras_list\n",
    "        Q0_pair = [Q0_pair_q, Q0_pair_n]\n",
    "        Q1_pair = [Q1_pair_q, Q1_pair_n]\n",
    "        z_sim_complex_list = [RaQRbaQRb(w, R0, Q0_pair, R1, Q1_pair, R2) for w in w_list]\n",
    "    elif ECM_num == 9:\n",
    "        R0, Q0_pair_q, Q0_pair_n, R1, Q1_pair_q, Q1_pair_n, R2 = ECM_paras_list\n",
    "        Q0_pair = [Q0_pair_q, Q0_pair_n]\n",
    "        Q1_pair = [Q1_pair_q, Q1_pair_n]\n",
    "        z_sim_complex_list = [RaQaRaQRbbb(w, R0, Q0_pair, R1, Q1_pair, R2) for w in w_list]\n",
    "\n",
    "    # Calculate the Weighted Square of difference between the raw-Z and simulated-Z\n",
    "    # the same as the calculation of Chi-Square Error\n",
    "    \n",
    "# Version 1    \n",
    "#     def cal_w(raw_Z):\n",
    "#         return 1 / (raw_Z.real ** 2 + raw_Z.imag ** 2)\n",
    "\n",
    "#     z_weighted_square_err = sum([cal_w(rz) * ((rz.real - sz.real)**2 + (rz.imag - sz.imag)**2)\n",
    "#                                  for rz, sz in zip(z_raw_complex_list, z_sim_complex_list)])\n",
    "\n",
    "# Version 2\n",
    "#     def cal_w(raw_Z):\n",
    "#         return 1e6 / (raw_Z.real ** 2 + raw_Z.imag ** 2)\n",
    "\n",
    "#     z_weighted_square_err = sum([cal_w(rz) * ((rz.real - sz.real)**2 + (rz.imag - sz.imag)**2)\n",
    "#                                  for rz, sz in zip(z_raw_complex_list, z_sim_complex_list)])\n",
    "    \n",
    "# Version 3\n",
    "#     print('version 3')\n",
    "#     z_weighted_square_err = sum([((rz.real - sz.real) / rz.real)**2 + ((rz.imag - sz.imag) / rz.imag)**2\n",
    "#                                  for rz, sz in zip(z_raw_complex_list, z_sim_complex_list)])\n",
    "\n",
    "# Version 4\n",
    "#     print('version 4')\n",
    "#     v = data_len - para_len - 1\n",
    "#     def cal_w(raw_Z):\n",
    "#         return 1 / (raw_Z.real ** 2 + raw_Z.imag ** 2)\n",
    "\n",
    "#     z_weighted_square_err = sum([cal_w(rz) * ((rz.real - sz.real)**2 + (rz.imag - sz.imag)**2)\n",
    "#                                  for rz, sz in zip(z_raw_complex_list, z_sim_complex_list)]) / v  \n",
    "\n",
    "# Version 5\n",
    "    print('version 5')\n",
    "    v = data_len - para_len\n",
    "    def cal_w(raw_Z):\n",
    "        return 1 / (raw_Z.real ** 2 + raw_Z.imag ** 2)\n",
    "\n",
    "    z_weighted_square_err = sum([cal_w(rz) * ((rz.real - sz.real)**2 + (rz.imag - sz.imag)**2)\n",
    "                                 for rz, sz in zip(z_raw_complex_list, z_sim_complex_list)]) / v  \n",
    "    return z_weighted_square_err"
   ]
  },
  {
   "cell_type": "markdown",
   "metadata": {},
   "source": [
    "## ECM9相关数据的实验"
   ]
  },
  {
   "cell_type": "markdown",
   "metadata": {},
   "source": [
    "### 对比实验1"
   ]
  },
  {
   "cell_type": "markdown",
   "metadata": {},
   "source": [
    "<p>文件：distributed_parallel_fitting_circuit\\datasets\\experiement_data\\lai\\eis\\1\\20170415-EIS-1-1.DTA</p>\n",
    "<p>ZSimpWin Fitted Res: D:\\ms_0\\zsimpwin\\install\\f1\\par\\20170415-EIS-1-1, R(Q(R(QR)))_1.par</p>\n",
    "<p></p>\n",
    "<p></p>\n",
    "<p></p>"
   ]
  },
  {
   "cell_type": "code",
   "execution_count": 40,
   "metadata": {
    "ExecuteTime": {
     "end_time": "2021-02-05T08:50:08.353139Z",
     "start_time": "2021-02-05T08:50:08.349138Z"
    },
    "code_folding": [
     1
    ]
   },
   "outputs": [],
   "source": [
    "\"\"\"\n",
    "In file: D:\\ms_0\\zsimpwin\\install\\f1\\par\\20170415-EIS-1-1, R(Q(R(QR)))_1.par\n",
    "    02/03/2021, 20:17:10\n",
    "    ...\\par\\20170415-EIS-1-1, R(Q(R(QR)))_1.par\n",
    "\n",
    "      1                             = detect the sign of Zim         \n",
    "      1                             = modulus weighting factor   \n",
    "    0.000                        = sample area in square cm \n",
    "    R(Q(R(QR)))\n",
    "    9.812e-04          2     = chi squared, # of iters \n",
    "\n",
    "    index   fixed    parameter      start               end        rel. std. error (%) \n",
    "    -------  ------  ----------     --------            -----      ------------ \n",
    "        1       0          R      3.461E-003     3.461E-003          9.569 \n",
    "        2       0        Q-Yo     5.161E-004     5.161E-004          4.073 \n",
    "        3       0         Q-n     8.000E-001     8.998E-001          0.442 \n",
    "        4       0          R      4.807E+001     4.807E+001         23.560 \n",
    "        5       0        Q-Yo     1.343E-003     1.343E-003          5.192 \n",
    "        6       0         Q-n     8.000E-001     5.700E-001          5.036 \n",
    "        7       0          R      8.362E+013     7.225E+012      6.248E010 \n",
    "    -------------------------------------------------------------------------------------\n",
    "\n",
    "    Measurement errors in impedance data = < 3.132 pct.\n",
    "\"\"\"\n",
    "ZSimpWin_Chi_s = 9.812 * 1e-04\n",
    "ZSimpWin_ECM_paras_list = [3.461*1e-3, 5.161*1e-4, 8.998*0.1, 4.807*10, 1.343*1e-3, \n",
    "                           5.7*1e-1, 7.225*1e12]"
   ]
  },
  {
   "cell_type": "code",
   "execution_count": 41,
   "metadata": {
    "ExecuteTime": {
     "end_time": "2021-02-05T08:50:08.859616Z",
     "start_time": "2021-02-05T08:50:08.855616Z"
    }
   },
   "outputs": [
    {
     "name": "stdout",
     "output_type": "stream",
     "text": [
      "version 5\n"
     ]
    },
    {
     "data": {
      "text/plain": [
       "0.0009409671252464147"
      ]
     },
     "execution_count": 41,
     "metadata": {},
     "output_type": "execute_result"
    }
   ],
   "source": [
    "Chi_s = cal_EIS_WSE_fitness_v1(exp_data_dict = lai_normed_dataset[0],\n",
    "                               ECM_paras_list=ZSimpWin_ECM_paras_list)\n",
    "Chi_s"
   ]
  },
  {
   "cell_type": "markdown",
   "metadata": {},
   "source": [
    "<p>version 1 = 0.0225</p>\n",
    "<p>version 2 = 1.007 * 1e7</p>\n",
    "<p>version 3 = 18.952374605782545</p>\n",
    "<p>version 4 = 0.0009818787393875632 = 9.818 * 1e-4</p>\n",
    "<p>version 5 = 0.0009409671252464147 = 9.409 * 1e-4</p>"
   ]
  },
  {
   "cell_type": "markdown",
   "metadata": {},
   "source": [
    "### 对比实验2"
   ]
  },
  {
   "cell_type": "markdown",
   "metadata": {},
   "source": [
    "<p>文件：distributed_parallel_fitting_circuit\\datasets\\experiement_data\\lai\\eis\\1\\20170415-EIS-1-2.DTA</p>\n",
    "<p>ZSimpWin Fitted Res: D:\\ms_0\\zsimpwin\\install\\f1\\par\\20170415-EIS-1-2, R(Q(R(QR)))_1.par</p>"
   ]
  },
  {
   "cell_type": "code",
   "execution_count": 42,
   "metadata": {
    "ExecuteTime": {
     "end_time": "2021-02-05T08:59:07.997080Z",
     "start_time": "2021-02-05T08:59:07.994101Z"
    },
    "code_folding": [
     1
    ]
   },
   "outputs": [],
   "source": [
    "\"\"\"\n",
    "In file: D:\\ms_0\\zsimpwin\\install\\f1\\par\\20170415-EIS-1-2, R(Q(R(QR)))_1.par\n",
    "    02/03/2021, 20:17:10\n",
    "    ...\\par\\20170415-EIS-1-2, R(Q(R(QR)))_1.par\n",
    "      1                             = detect the sign of Zim         \n",
    "      1                             = modulus weighting factor   \n",
    "    0.000                        = sample area in square cm \n",
    "    R(Q(R(QR)))\n",
    "    3.897e-02          6     = chi squared, # of iters \n",
    "\n",
    "    index   fixed    parameter      start               end        rel. std. error (%) \n",
    "    -------  ------  ----------     --------            -----      ------------ \n",
    "        1       0          R      7.956E-003     7.952E-003         19.650 \n",
    "        2       0        Q-Yo     2.413E-003     2.412E-003         10.940 \n",
    "        3       0         Q-n     8.251E-001     8.251E-001          1.647 \n",
    "        4       0          R      4.623E+002     4.623E+002         63.270 \n",
    "        5       0        Q-Yo     3.186E-003     3.186E-003         45.080 \n",
    "        6       0         Q-n     1.000E+000     1.000E+000        103.000 \n",
    "        7       0          R      1.652E+011     1.652E+011      4.933E010 \n",
    "    -------------------------------------------------------------------------------------\n",
    "\n",
    "    Measurement errors in impedance data = < 19.74 pct.     \n",
    "\"\"\"\n",
    "ZSimpWin_Chi_s = 3.897 * 1e-2\n",
    "ZSimpWin_ECM_paras_list = [7.952*1e-3, 2.412*1e-3, 8.251*0.1, 4.623*100, 3.186*1e-3, \n",
    "                           1, 1.652*1e11]"
   ]
  },
  {
   "cell_type": "code",
   "execution_count": 5,
   "metadata": {
    "ExecuteTime": {
     "end_time": "2021-02-07T13:56:43.829083Z",
     "start_time": "2021-02-07T13:56:43.822082Z"
    },
    "collapsed": true
   },
   "outputs": [
    {
     "data": {
      "text/plain": [
       "{'file_name': '1-2',\n",
       " 'ecm_num': 9,\n",
       " 'f': [100078.1,\n",
       "  63140.62,\n",
       "  39890.62,\n",
       "  25171.88,\n",
       "  15890.62,\n",
       "  10078.13,\n",
       "  6328.125,\n",
       "  3984.375,\n",
       "  2527.573,\n",
       "  1577.524,\n",
       "  998.264,\n",
       "  627.7902,\n",
       "  397.9953,\n",
       "  252.4038,\n",
       "  158.3615,\n",
       "  100.4464,\n",
       "  63.3446,\n",
       "  38.42213,\n",
       "  24.93351,\n",
       "  15.625,\n",
       "  9.93114,\n",
       "  6.317385,\n",
       "  3.945707,\n",
       "  2.504006,\n",
       "  1.584686,\n",
       "  0.999041,\n",
       "  0.633446,\n",
       "  0.400641,\n",
       "  0.2520161,\n",
       "  0.1588983,\n",
       "  0.1001603],\n",
       " 'z_raw': [(0.008075191389999998-0.008385831029999999j),\n",
       "  (0.0096057666-0.011853945799999998j),\n",
       "  (0.012052622899999999-0.0167202066j),\n",
       "  (0.015530527599999998-0.023158219299999998j),\n",
       "  (0.0200452579-0.03180972779999999j),\n",
       "  (0.025748333999999998-0.043350007999999995j),\n",
       "  (0.032659673099999995-0.06032411849999999j),\n",
       "  (0.041579730499999995-0.0847623007j),\n",
       "  (0.052618091199999995-0.12079731299999999j),\n",
       "  (0.06773534699999999-0.17595513j),\n",
       "  (0.08480883139999999-0.257533032j),\n",
       "  (0.11476074499999998-0.37935721199999994j),\n",
       "  (0.15933255-0.557703113j),\n",
       "  (0.216272007-0.8247984209999999j),\n",
       "  (0.30209301999999993-1.23707325j),\n",
       "  (0.4281791979999999-1.8355588499999997j),\n",
       "  (0.6215309719999998-2.7164970099999994j),\n",
       "  (0.9917088999999999-4.173556339999999j),\n",
       "  (1.4171724099999998-6.118814319999999j),\n",
       "  (2.2028847399999996-9.102570459999999j),\n",
       "  (3.1589628599999995-13.568703599999997j),\n",
       "  (4.725476899999999-19.9382888j),\n",
       "  (7.385422999999999-29.883334599999994j),\n",
       "  (11.348834699999998-44.000488399999995j),\n",
       "  (17.920581499999997-64.21901179999999j),\n",
       "  (28.848407799999997-92.87600439999999j),\n",
       "  (45.977533099999995-131.474831j),\n",
       "  (57.47067659999999-151.00166599999997j),\n",
       "  (58.05634529999999-109.71458299999999j),\n",
       "  (74.40044809999999-148.10528899999997j),\n",
       "  (102.30350599999998-209.67115199999998j)]}"
      ]
     },
     "execution_count": 5,
     "metadata": {},
     "output_type": "execute_result"
    }
   ],
   "source": [
    "lai_normed_dataset[1]"
   ]
  },
  {
   "cell_type": "code",
   "execution_count": 43,
   "metadata": {
    "ExecuteTime": {
     "end_time": "2021-02-05T08:59:10.149071Z",
     "start_time": "2021-02-05T08:59:10.146071Z"
    }
   },
   "outputs": [
    {
     "name": "stdout",
     "output_type": "stream",
     "text": [
      "version 5\n"
     ]
    },
    {
     "data": {
      "text/plain": [
       "0.05604859429717337"
      ]
     },
     "execution_count": 43,
     "metadata": {},
     "output_type": "execute_result"
    }
   ],
   "source": [
    "Chi_s = cal_EIS_WSE_fitness_v1(exp_data_dict = lai_normed_dataset[1],\n",
    "                              ECM_paras_list = ZSimpWin_ECM_paras_list)\n",
    "Chi_s"
   ]
  },
  {
   "cell_type": "markdown",
   "metadata": {},
   "source": [
    "<p>version 1 = 1.345</p>\n",
    "<p>version 2 = 1.345 * 1e6</p>\n",
    "<p>version 3 = 4.33862</p>\n",
    "<p>version 4 = 0.058485489701398295 = 5.848 * 1e-2</p>\n",
    "<p>version 5 = 0.05604859429717337 = 5.604 * 1e-2</p>"
   ]
  },
  {
   "cell_type": "code",
   "execution_count": 9,
   "metadata": {
    "ExecuteTime": {
     "end_time": "2021-02-07T14:08:17.703675Z",
     "start_time": "2021-02-07T14:08:17.699393Z"
    }
   },
   "outputs": [
    {
     "name": "stdout",
     "output_type": "stream",
     "text": [
      "version 5\n"
     ]
    },
    {
     "data": {
      "text/plain": [
       "0.1988453551502429"
      ]
     },
     "execution_count": 9,
     "metadata": {},
     "output_type": "execute_result"
    }
   ],
   "source": [
    "lai_chi_s = 0.01921\n",
    "lai_para_list = [0.006298,0.000397,0.9433,0.07029,0.001723,0.8321,823.9]\n",
    "my_cal_lai_chi_s = cal_EIS_WSE_fitness_v1(exp_data_dict = lai_normed_dataset[1],\n",
    "                                          ECM_paras_list = lai_para_list)\n",
    "my_cal_lai_chi_s"
   ]
  },
  {
   "cell_type": "code",
   "execution_count": 12,
   "metadata": {
    "ExecuteTime": {
     "end_time": "2021-02-07T14:12:36.288194Z",
     "start_time": "2021-02-07T14:12:36.284028Z"
    }
   },
   "outputs": [
    {
     "name": "stdout",
     "output_type": "stream",
     "text": [
      "version 5\n"
     ]
    },
    {
     "data": {
      "text/plain": [
       "0.056342169092525124"
      ]
     },
     "execution_count": 12,
     "metadata": {},
     "output_type": "execute_result"
    }
   ],
   "source": [
    "de1_para_list = [0.007347290722192746,0.0025553596449647328,0.8200021738055506,1.0,0.00226685474838891,0.3558598511239782,10000.0]\n",
    "de1_chi_s = cal_EIS_WSE_fitness_v1(exp_data_dict = lai_normed_dataset[1],\n",
    "                                          ECM_paras_list = de_para_list)\n",
    "de1_chi_s"
   ]
  },
  {
   "cell_type": "code",
   "execution_count": null,
   "metadata": {},
   "outputs": [],
   "source": []
  },
  {
   "cell_type": "code",
   "execution_count": null,
   "metadata": {},
   "outputs": [],
   "source": []
  },
  {
   "cell_type": "markdown",
   "metadata": {},
   "source": [
    "### 对比实验3"
   ]
  },
  {
   "cell_type": "markdown",
   "metadata": {},
   "source": [
    "<p>文件：distributed_parallel_fitting_circuit\\datasets\\experiement_data\\lai\\eis\\1\\20170415-EIS-1-3.DTA</p>\n",
    "<p>ZSimpWin Fitted Res: D:\\ms_0\\zsimpwin\\install\\f1\\par\\20170415-EIS-1-3, R(Q(R(QR))).par</p>"
   ]
  },
  {
   "cell_type": "code",
   "execution_count": 60,
   "metadata": {
    "ExecuteTime": {
     "end_time": "2021-02-05T10:15:05.562783Z",
     "start_time": "2021-02-05T10:15:05.559866Z"
    },
    "code_folding": [
     2
    ]
   },
   "outputs": [],
   "source": [
    "\"\"\"\n",
    "02/05/2021, 17:13:31\n",
    "...\\par\\20170415-EIS-1-3, R(Q(R(QR))).par\n",
    "      1                             = detect the sign of Zim         \n",
    "      1                             = modulus weighting factor   \n",
    "    0.000                        = sample area in square cm \n",
    "    R(Q(R(QR)))\n",
    "    1.759e-02          5     = chi squared, # of iters \n",
    "\n",
    "    index   fixed    parameter      start               end        rel. std. error (%) \n",
    "    -------  ------  ----------     --------            -----      ------------ \n",
    "        1       0          R               1     5.823E-008      5.297E006 \n",
    "        2       0        Q-Yo       0.001387       0.001386          11.79 \n",
    "        3       0         Q-n         0.7615         0.7615          1.656 \n",
    "        4       0          R       4.759E007      2.177E010      2.135E010 \n",
    "        5       0        Q-Yo      7.555E012      1.156E013      1.364E033 \n",
    "        6       0         Q-n            0.8         0.2368      9.921E033 \n",
    "        7       0          R       1.651E007      4.887E007      2.834E054 \n",
    "    -------------------------------------------------------------------------------------\n",
    "\n",
    "    Measurement errors in impedance data = < 13.26 pct.        \n",
    "\"\"\"\n",
    "ZSimpWin_Chi_s = 1.759 * 1e-02\n",
    "ZSimpWin_ECM_paras_list = [5.823 * 1e-8, 1.386 * 1e-3, 7.615 * 0.1, 2.177 * 1e10, 1.156 * 1e13, \n",
    "                           0.2368, 4.887 * 1e7]"
   ]
  },
  {
   "cell_type": "code",
   "execution_count": 46,
   "metadata": {
    "ExecuteTime": {
     "end_time": "2021-02-05T10:03:57.329625Z",
     "start_time": "2021-02-05T10:03:57.325225Z"
    },
    "collapsed": true
   },
   "outputs": [
    {
     "data": {
      "text/plain": [
       "{'file_name': '1-3',\n",
       " 'ecm_num': 9,\n",
       " 'f': [100078.1,\n",
       "  63140.62,\n",
       "  39890.62,\n",
       "  25171.88,\n",
       "  15890.62,\n",
       "  10078.13,\n",
       "  6328.125,\n",
       "  3984.375,\n",
       "  2527.573,\n",
       "  1577.524,\n",
       "  998.264,\n",
       "  627.7902,\n",
       "  397.9953,\n",
       "  252.4038,\n",
       "  158.3615,\n",
       "  100.4464,\n",
       "  63.3446,\n",
       "  38.42213,\n",
       "  24.93351,\n",
       "  15.625,\n",
       "  9.93114,\n",
       "  6.317385,\n",
       "  3.945707,\n",
       "  2.504006,\n",
       "  1.584686,\n",
       "  0.999041,\n",
       "  0.633446,\n",
       "  0.400641,\n",
       "  0.2520161,\n",
       "  0.1588983,\n",
       "  0.1001603],\n",
       " 'z_raw': [(0.009774658799999997-0.024024890199999996j),\n",
       "  (0.012006789099999998-0.035561948499999996j),\n",
       "  (0.0168019863-0.052780074999999996j),\n",
       "  (0.023299306199999995-0.07943358109999998j),\n",
       "  (0.0335026191-0.11616676599999999j),\n",
       "  (0.05143116949999999-0.17167505299999997j),\n",
       "  (0.0787601838-0.250748761j),\n",
       "  (0.12326494499999999-0.35956616099999994j),\n",
       "  (0.18536277499999998-0.510472988j),\n",
       "  (0.25987522199999996-0.6173892649999999j),\n",
       "  (0.36683260599999995-0.8375653259999999j),\n",
       "  (0.5005520609999999-1.14467441j),\n",
       "  (0.6995794289999999-1.5810802599999998j),\n",
       "  (0.930972348-2.19989615j),\n",
       "  (1.2722798299999998-3.1262348199999996j),\n",
       "  (1.7189967699999997-4.4069885499999994j),\n",
       "  (2.3377187299999997-6.328625659999999j),\n",
       "  (3.4640121499999994-9.409209489999999j),\n",
       "  (4.48129526-12.825565799999998j),\n",
       "  (5.989719149999999-18.027732399999998j),\n",
       "  (8.157328629999999-26.070624999999996j),\n",
       "  (12.0013654-38.0926146j),\n",
       "  (17.1151469-55.33631429999999j),\n",
       "  (24.013527699999997-79.85890219999999j),\n",
       "  (34.695489699999996-115.20171099999999j),\n",
       "  (48.694887599999994-166.83715299999997j),\n",
       "  (68.48040379999999-236.41342699999996j),\n",
       "  (101.93879499999998-348.28405699999996j),\n",
       "  (145.90257999999997-510.4937939999999j),\n",
       "  (219.52117699999997-757.0420659999999j),\n",
       "  (347.75370599999997-1110.9949499999998j)]}"
      ]
     },
     "execution_count": 46,
     "metadata": {},
     "output_type": "execute_result"
    }
   ],
   "source": [
    "lai_normed_dataset[2]"
   ]
  },
  {
   "cell_type": "code",
   "execution_count": 61,
   "metadata": {
    "ExecuteTime": {
     "end_time": "2021-02-05T10:15:08.722573Z",
     "start_time": "2021-02-05T10:15:08.719572Z"
    }
   },
   "outputs": [
    {
     "name": "stdout",
     "output_type": "stream",
     "text": [
      "version 5\n"
     ]
    },
    {
     "data": {
      "text/plain": [
       "0.016590064362530233"
      ]
     },
     "execution_count": 61,
     "metadata": {},
     "output_type": "execute_result"
    }
   ],
   "source": [
    "Chi_s = cal_EIS_WSE_fitness_v1(exp_data_dict = lai_normed_dataset[2],\n",
    "                              ECM_paras_list = ZSimpWin_ECM_paras_list)\n",
    "Chi_s"
   ]
  },
  {
   "cell_type": "markdown",
   "metadata": {
    "ExecuteTime": {
     "end_time": "2021-02-05T10:15:37.138128Z",
     "start_time": "2021-02-05T10:15:37.135126Z"
    }
   },
   "source": [
    "<p>version 4 = 0.5329512951899834 = 5.329 * 1e-1</p>\n",
    "<p>version 5 = 0.016590064362530233 = 1.659 * 1e-2</p>"
   ]
  },
  {
   "cell_type": "markdown",
   "metadata": {},
   "source": [
    "### 对比实验4"
   ]
  },
  {
   "cell_type": "markdown",
   "metadata": {},
   "source": [
    "<p>文件：distributed_parallel_fitting_circuit\\datasets\\experiement_data\\lai\\eis\\1\\20170415-EIS-1-4.DTA</p>\n",
    "<p>ZSimpWin Fitted Res: D:\\ms_0\\zsimpwin\\install\\f1\\par\\20170415-EIS-1-4, R(Q(R(QR))).par</p>"
   ]
  },
  {
   "cell_type": "code",
   "execution_count": 63,
   "metadata": {
    "ExecuteTime": {
     "end_time": "2021-02-05T10:16:06.059639Z",
     "start_time": "2021-02-05T10:16:06.056727Z"
    },
    "code_folding": [
     2
    ]
   },
   "outputs": [],
   "source": [
    "\"\"\"\n",
    "02/05/2021, 17:35:16\n",
    "...\\par\\20170415-EIS-1-4, R(Q(R(QR))).par\n",
    "      1                             = detect the sign of Zim         \n",
    "      1                             = modulus weighting factor   \n",
    "    0.000                        = sample area in square cm \n",
    "    R(Q(R(QR)))\n",
    "    1.233e-01          4     = chi squared, # of iters \n",
    "\n",
    "    index   fixed    parameter      start               end        rel. std. error (%) \n",
    "    -------  ------  ----------     --------            -----      ------------ \n",
    "        1       0          R            0.01     2.391E-007      1.115E007 \n",
    "        2       0        Q-Yo         0.1829       0.001828          23.16 \n",
    "        3       0         Q-n         0.6525         0.6525          4.203 \n",
    "        4       0          R       7.623E013      6.006E017      8.154E023 \n",
    "        5       0        Q-Yo     5.112E-008          248.6       5.24E043 \n",
    "        6       0         Q-n            0.8     9.353E-010      2.996E045 \n",
    "        7       0          R       5.908E015      6.645E024      2.609E071 \n",
    "    -------------------------------------------------------------------------------------\n",
    "\n",
    "    Measurement errors in impedance data = < 35.11 pct.        \n",
    "\"\"\"\n",
    "ZSimpWin_Chi_s = 1.233 * 1e-01\n",
    "ZSimpWin_ECM_paras_list = [2.391 * 1e-7, 1.828 * 1e-3, 6.525 * 0.1, 6.006 * 1e17, 2.486 * 1e2, \n",
    "                           0.9353, 6.645 * 1e24]"
   ]
  },
  {
   "cell_type": "code",
   "execution_count": 49,
   "metadata": {
    "ExecuteTime": {
     "end_time": "2021-02-05T10:07:50.194188Z",
     "start_time": "2021-02-05T10:07:50.189341Z"
    },
    "collapsed": true
   },
   "outputs": [
    {
     "data": {
      "text/plain": [
       "{'file_name': '1-4',\n",
       " 'ecm_num': 9,\n",
       " 'f': [100078.1,\n",
       "  63140.62,\n",
       "  39890.62,\n",
       "  25171.88,\n",
       "  15890.62,\n",
       "  10078.13,\n",
       "  6328.125,\n",
       "  3984.375,\n",
       "  2527.573,\n",
       "  1577.524,\n",
       "  998.264,\n",
       "  627.7902,\n",
       "  397.9953,\n",
       "  252.4038,\n",
       "  158.3615,\n",
       "  100.4464,\n",
       "  63.3446,\n",
       "  38.42213,\n",
       "  24.93351,\n",
       "  15.625,\n",
       "  9.93114,\n",
       "  6.317385,\n",
       "  3.945707,\n",
       "  2.504006,\n",
       "  1.584686,\n",
       "  0.999041,\n",
       "  0.633446,\n",
       "  0.400641,\n",
       "  0.2520161,\n",
       "  0.1588983,\n",
       "  0.1001603],\n",
       " 'z_raw': [(0.020330209199999994-0.08539544949999998j),\n",
       "  (0.0324951643-0.12826292999999997j),\n",
       "  (0.06507592609999999-0.18102997599999998j),\n",
       "  (0.11465913899999998-0.25416246j),\n",
       "  (0.19675729199999997-0.33977288799999994j),\n",
       "  (0.25658070299999997-0.380582039j),\n",
       "  (0.4418636879999999-0.4729934029999999j),\n",
       "  (0.5983006689999999-0.5085034879999999j),\n",
       "  (0.70634552-0.586905748j),\n",
       "  (0.8264577499999999-0.692459333j),\n",
       "  (0.9445739169999998-0.8487791539999999j),\n",
       "  (1.1318595299999998-1.16400884j),\n",
       "  (1.3115334799999998-1.5453545399999997j),\n",
       "  (1.5204287499999998-2.1304657199999997j),\n",
       "  (1.8237105399999998-3.0416503499999994j),\n",
       "  (2.23732069-4.362803069999999j),\n",
       "  (2.8322187699999994-6.3574702499999995j),\n",
       "  (3.9579778999999995-9.614141519999999j),\n",
       "  (5.441047759999999-13.338585199999999j),\n",
       "  (8.036222559999999-19.146842699999997j),\n",
       "  (10.7989907-27.301461499999995j),\n",
       "  (16.190037399999998-38.08032289999999j),\n",
       "  (23.253240099999996-53.61129489999999j),\n",
       "  (31.942098399999995-74.6510594j),\n",
       "  (43.997529099999994-105.40309499999998j),\n",
       "  (61.91926199999999-151.039844j),\n",
       "  (87.91663169999998-214.29887099999996j),\n",
       "  (126.50108599999999-297.23128399999996j),\n",
       "  (195.11725399999997-428.6806629999999j),\n",
       "  (307.612266-612.0872699999999j),\n",
       "  (493.93706599999996-866.1038859999999j)]}"
      ]
     },
     "execution_count": 49,
     "metadata": {},
     "output_type": "execute_result"
    }
   ],
   "source": [
    "lai_normed_dataset[3]"
   ]
  },
  {
   "cell_type": "code",
   "execution_count": 64,
   "metadata": {
    "ExecuteTime": {
     "end_time": "2021-02-05T10:16:09.260088Z",
     "start_time": "2021-02-05T10:16:09.257087Z"
    }
   },
   "outputs": [
    {
     "name": "stdout",
     "output_type": "stream",
     "text": [
      "version 5\n"
     ]
    },
    {
     "data": {
      "text/plain": [
       "0.201890489986128"
      ]
     },
     "execution_count": 64,
     "metadata": {},
     "output_type": "execute_result"
    }
   ],
   "source": [
    "Chi_s = cal_EIS_WSE_fitness_v1(exp_data_dict = lai_normed_dataset[3],\n",
    "                              ECM_paras_list = ZSimpWin_ECM_paras_list)\n",
    "Chi_s"
   ]
  },
  {
   "cell_type": "markdown",
   "metadata": {
    "ExecuteTime": {
     "end_time": "2021-02-05T10:16:45.321912Z",
     "start_time": "2021-02-05T10:16:45.318795Z"
    }
   },
   "source": [
    "<p>version 4 = 0.2106683373768292 = 2.106 * 1e-1</p>\n",
    "<p>version 5 = 0.201890489986128 = 2.018 * 1e-1</p>"
   ]
  },
  {
   "cell_type": "markdown",
   "metadata": {},
   "source": [
    "### 对比实验5"
   ]
  },
  {
   "cell_type": "markdown",
   "metadata": {
    "ExecuteTime": {
     "end_time": "2021-02-05T10:02:55.371856Z",
     "start_time": "2021-02-05T10:02:55.366855Z"
    }
   },
   "source": [
    "<p>文件：distributed_parallel_fitting_circuit\\datasets\\experiement_data\\lai\\eis\\1\\20170415-EIS-1-6.DTA</p>\n",
    "<p>ZSimpWin Fitted Res: D:\\ms_0\\zsimpwin\\install\\f1\\par\\20170415-EIS-1-6, R(Q(R(QR))).par</p>"
   ]
  },
  {
   "cell_type": "code",
   "execution_count": 66,
   "metadata": {
    "ExecuteTime": {
     "end_time": "2021-02-05T10:16:53.417668Z",
     "start_time": "2021-02-05T10:16:53.413667Z"
    },
    "code_folding": [
     2
    ]
   },
   "outputs": [],
   "source": [
    "\"\"\"\n",
    "02/05/2021, 17:57:37\n",
    "...\\par\\20170415-EIS-1-6, R(Q(R(QR))).par\n",
    "      1                             = detect the sign of Zim         \n",
    "      1                             = modulus weighting factor   \n",
    "    0.000                        = sample area in square cm \n",
    "    R(Q(R(QR)))\n",
    "    9.952e-02          4     = chi squared, # of iters \n",
    "\n",
    "    index   fixed    parameter      start               end        rel. std. error (%) \n",
    "    -------  ------  ----------     --------            -----      ------------ \n",
    "        1       0          R            0.01       0.003184          599.7 \n",
    "        2       0        Q-Yo     6.252E-005     6.255E-005          124.3 \n",
    "        3       0         Q-n         0.9397         0.9397          11.17 \n",
    "        4       0          R           8.899          8.919          214.6 \n",
    "        5       0        Q-Yo      0.0003815      0.0003814          30.62 \n",
    "        6       0         Q-n         0.6612         0.6613           10.4 \n",
    "        7       0          R       2.435E012      1.575E012      1.611E010 \n",
    "    -------------------------------------------------------------------------------------\n",
    "\n",
    "    Measurement errors in impedance data = < 31.55 pct.        \n",
    "\"\"\"\n",
    "ZSimpWin_Chi_s = 9.952 * 1e-02\n",
    "ZSimpWin_ECM_paras_list = [3.184 * 1e-3, 6.255 * 1e-5, 9.397 * 0.1, 8.919, 3.814 * 1e-4, \n",
    "                           0.6613, 1.575 * 1e12]"
   ]
  },
  {
   "cell_type": "code",
   "execution_count": 57,
   "metadata": {
    "ExecuteTime": {
     "end_time": "2021-02-05T10:14:19.129141Z",
     "start_time": "2021-02-05T10:14:19.126141Z"
    },
    "collapsed": true
   },
   "outputs": [
    {
     "data": {
      "text/plain": [
       "{'file_name': '1-6',\n",
       " 'ecm_num': 9,\n",
       " 'f': [100078.1,\n",
       "  63140.62,\n",
       "  39890.62,\n",
       "  25171.88,\n",
       "  15890.62,\n",
       "  10078.13,\n",
       "  6328.125,\n",
       "  3984.375,\n",
       "  2527.573,\n",
       "  1577.524,\n",
       "  998.264,\n",
       "  627.7902,\n",
       "  397.9953,\n",
       "  252.4038,\n",
       "  158.3615,\n",
       "  100.4464,\n",
       "  63.3446,\n",
       "  38.42213,\n",
       "  24.93351,\n",
       "  15.625,\n",
       "  9.93114,\n",
       "  6.317385,\n",
       "  3.945707,\n",
       "  2.504006,\n",
       "  1.584686,\n",
       "  0.999041,\n",
       "  0.633446,\n",
       "  0.400641,\n",
       "  0.2520161,\n",
       "  0.1588983,\n",
       "  0.1001603],\n",
       " 'z_raw': [(0.008045851899999998-0.055740960699999995j),\n",
       "  (0.0125338677-0.08411518359999999j),\n",
       "  (0.016810672299999996-0.13270854599999998j),\n",
       "  (0.026232861299999997-0.21112817799999997j),\n",
       "  (0.057845305799999996-0.31094233699999996j),\n",
       "  (0.10168912299999999-0.46178947299999995j),\n",
       "  (0.113589953-0.712045859j),\n",
       "  (0.21702243699999998-1.0833946799999998j),\n",
       "  (0.36855485799999993-1.6227508399999997j),\n",
       "  (1.0337259099999998-2.5734143499999997j),\n",
       "  (1.1342007099999998-3.1442198899999996j),\n",
       "  (1.6747779599999997-5.144459239999999j),\n",
       "  (2.52495859-7.053789499999999j),\n",
       "  (3.7609874999999993-9.946953689999999j),\n",
       "  (5.6699177999999995-13.906366799999999j),\n",
       "  (7.956587089999999-19.616916899999996j),\n",
       "  (10.723836599999998-26.859111799999997j),\n",
       "  (18.791746899999996-39.8645485j),\n",
       "  (23.193246099999996-53.09746749999999j),\n",
       "  (37.6033504-69.54527709999999j),\n",
       "  (45.25846359999999-107.30553099999999j),\n",
       "  (60.31752319999999-151.553126j),\n",
       "  (85.28592509999999-216.21372999999997j),\n",
       "  (117.60975299999998-311.02919699999995j),\n",
       "  (164.91522399999997-445.66603499999997j),\n",
       "  (237.15678699999998-636.630876j),\n",
       "  (344.06932699999993-904.8750589999999j),\n",
       "  (444.3590949999999-1191.2717699999998j),\n",
       "  (229.68783699999997-311.78194999999994j),\n",
       "  (168.081473-243.30223299999997j),\n",
       "  (267.66999799999996-250.47262699999996j)]}"
      ]
     },
     "execution_count": 57,
     "metadata": {},
     "output_type": "execute_result"
    }
   ],
   "source": [
    "lai_normed_dataset[4]"
   ]
  },
  {
   "cell_type": "code",
   "execution_count": 67,
   "metadata": {
    "ExecuteTime": {
     "end_time": "2021-02-05T10:16:56.206861Z",
     "start_time": "2021-02-05T10:16:56.202964Z"
    }
   },
   "outputs": [
    {
     "name": "stdout",
     "output_type": "stream",
     "text": [
      "version 5\n"
     ]
    },
    {
     "data": {
      "text/plain": [
       "4.789518946550982"
      ]
     },
     "execution_count": 67,
     "metadata": {},
     "output_type": "execute_result"
    }
   ],
   "source": [
    "Chi_s = cal_EIS_WSE_fitness_v1(exp_data_dict = lai_normed_dataset[4],\n",
    "                              ECM_paras_list = ZSimpWin_ECM_paras_list)\n",
    "Chi_s"
   ]
  },
  {
   "cell_type": "markdown",
   "metadata": {
    "ExecuteTime": {
     "end_time": "2021-02-05T10:17:22.267741Z",
     "start_time": "2021-02-05T10:17:22.264741Z"
    }
   },
   "source": [
    "<p>version 4 = 4.997758900748851 = 4.997</p>\n",
    "<p>version 5 = 4.789518946550982 = 4.789</p>"
   ]
  },
  {
   "cell_type": "markdown",
   "metadata": {},
   "source": [
    "### 结论:"
   ]
  },
  {
   "cell_type": "markdown",
   "metadata": {
    "ExecuteTime": {
     "end_time": "2021-02-05T10:44:09.583529Z",
     "start_time": "2021-02-05T10:44:09.571020Z"
    }
   },
   "source": [
    "<p>1- weight factor 的第四个版本 X^2_v = X^2 / v, v = N - M - 1 比较可信</p>\n",
    "<p>2- weight factor 的第四及五个版本：大部分结果的和ZSimp的结果在同一个数量级，但是当ZSimp自身的结果很差时，我的计算结果会高出一两个数量级</p>"
   ]
  },
  {
   "cell_type": "code",
   "execution_count": null,
   "metadata": {},
   "outputs": [],
   "source": []
  },
  {
   "cell_type": "markdown",
   "metadata": {},
   "source": [
    "## ECM2相关数据的实验"
   ]
  },
  {
   "cell_type": "markdown",
   "metadata": {},
   "source": [
    "### 对比实验1"
   ]
  },
  {
   "cell_type": "markdown",
   "metadata": {},
   "source": [
    "<p>文件：distributed_parallel_fitting_circuit\\datasets\\experiement_data\\lai\\eis\\1\\20170415-EIS-1-14.DTA</p>\n",
    "<p>ZSimpWin Fitted Res: D:\\ms_0\\zsimpwin\\install\\f1\\par\\20170415-EIS-1-14, R(Q(R(QR))).par</p>\n",
    "<p>Index: 11 Fn: 1-14 ECM-Num: 2</p>\n",
    "<p></p>"
   ]
  },
  {
   "cell_type": "code",
   "execution_count": 75,
   "metadata": {
    "ExecuteTime": {
     "end_time": "2021-02-05T12:48:43.322816Z",
     "start_time": "2021-02-05T12:48:43.318650Z"
    },
    "code_folding": [
     2
    ]
   },
   "outputs": [],
   "source": [
    "\"\"\"\n",
    "02/05/2021, 19:09:07\n",
    "...\\par\\20170415-EIS-1-14, R(QR)(QR).par\n",
    "      1                             = detect the sign of Zim         \n",
    "      1                             = modulus weighting factor   \n",
    "    0.000                        = sample area in square cm \n",
    "    R(QR)(QR)\n",
    "    3.405e-03          4     = chi squared, # of iters \n",
    "\n",
    "    index   fixed    parameter      start               end        rel. std. error (%) \n",
    "    -------  ------  ----------     --------            -----      ------------ \n",
    "        1       0          R         0.01665        0.01665           1548 \n",
    "        2       0        Q-Yo      5.564E007      2.833E009      1.271E012 \n",
    "        3       0         Q-n         0.7475         0.1293      7.584E011 \n",
    "        4       0          R       1.393E012      7.164E011      4.233E033 \n",
    "        5       0        Q-Yo       0.002829       0.002829          2.893 \n",
    "        6       0         Q-n         0.7751         0.7751          1.785 \n",
    "        7       0          R           1.581           1582          20.04 \n",
    "    -------------------------------------------------------------------------------------\n",
    "\n",
    "    Measurement errors in impedance data = < 5.835 pct.             \n",
    "\"\"\"\n",
    "ZSimpWin_Chi_s = 3.405 * 1e-03\n",
    "ZSimpWin_ECM_paras_list = [1.665 * 1e-2, 2.833 * 1e9, 0.1293, 7.164 * 1e11, 2.829 * 1e-3, \n",
    "                           0.7751, 1.582 * 1e3]"
   ]
  },
  {
   "cell_type": "code",
   "execution_count": 76,
   "metadata": {
    "ExecuteTime": {
     "end_time": "2021-02-05T12:48:43.750267Z",
     "start_time": "2021-02-05T12:48:43.747267Z"
    }
   },
   "outputs": [
    {
     "name": "stdout",
     "output_type": "stream",
     "text": [
      "version 4\n"
     ]
    },
    {
     "data": {
      "text/plain": [
       "0.0034773248133933205"
      ]
     },
     "execution_count": 76,
     "metadata": {},
     "output_type": "execute_result"
    }
   ],
   "source": [
    "Chi_s = cal_EIS_WSE_fitness_v1(exp_data_dict = lai_normed_dataset[11],\n",
    "                              ECM_paras_list = ZSimpWin_ECM_paras_list)\n",
    "Chi_s"
   ]
  },
  {
   "cell_type": "markdown",
   "metadata": {},
   "source": [
    "### 对比实验2"
   ]
  },
  {
   "cell_type": "markdown",
   "metadata": {},
   "source": [
    "<p>文件：distributed_parallel_fitting_circuit\\datasets\\experiement_data\\lai\\eis\\2\\20170415-EIS-2-13.DTA</p>\n",
    "<p>ZSimpWin Fitted Res: D:\\ms_0\\zsimpwin\\install\\f1\\par\\20170415-EIS-2-13, R(Q(R(QR))).par</p>\n",
    "<p>Index: 39 Fn: 2-13 ECM-Num: 2</p>"
   ]
  },
  {
   "cell_type": "code",
   "execution_count": 77,
   "metadata": {
    "ExecuteTime": {
     "end_time": "2021-02-05T12:50:29.194152Z",
     "start_time": "2021-02-05T12:50:29.191152Z"
    }
   },
   "outputs": [],
   "source": [
    "\"\"\"\n",
    "02/05/2021, 19:07:53\n",
    "...\\par\\20170415-EIS-2-13, R(QR)(QR).par\n",
    "      1                             = detect the sign of Zim         \n",
    "      1                             = modulus weighting factor   \n",
    "    0.000                        = sample area in square cm \n",
    "    R(QR)(QR)\n",
    "    4.890e-03          4     = chi squared, # of iters \n",
    "\n",
    "    index   fixed    parameter      start               end        rel. std. error (%) \n",
    "    -------  ------  ----------     --------            -----      ------------ \n",
    "        1       0          R            0.01     1.678E-007      1.006E007 \n",
    "        2       0        Q-Yo     4.142E-005     4.141E-005             66 \n",
    "        3       0         Q-n         0.9078         0.9078          6.433 \n",
    "        4       0          R          0.4041         0.4041          7.532 \n",
    "        5       0        Q-Yo        0.01307        0.01306           6.51 \n",
    "        6       0         Q-n         0.6659         0.6658          1.983 \n",
    "        7       0          R           26.31          26.31          4.838 \n",
    "    -------------------------------------------------------------------------------------\n",
    "\n",
    "    Measurement errors in impedance data = < 6.993 pct.        \n",
    "\"\"\"\n",
    "ZSimpWin_Chi_s = 4.89 * 1e-03\n",
    "ZSimpWin_ECM_paras_list = [1.678 * 1e-7, 4.141 * 1e-5, 0.9078, 0.4041, 1.306 * 1e-2, \n",
    "                           0.6658, 2.631 * 1e1]"
   ]
  },
  {
   "cell_type": "code",
   "execution_count": 78,
   "metadata": {
    "ExecuteTime": {
     "end_time": "2021-02-05T12:50:29.792413Z",
     "start_time": "2021-02-05T12:50:29.789414Z"
    }
   },
   "outputs": [
    {
     "name": "stdout",
     "output_type": "stream",
     "text": [
      "version 4\n"
     ]
    },
    {
     "data": {
      "text/plain": [
       "0.004932553817041041"
      ]
     },
     "execution_count": 78,
     "metadata": {},
     "output_type": "execute_result"
    }
   ],
   "source": [
    "Chi_s = cal_EIS_WSE_fitness_v1(exp_data_dict = lai_normed_dataset[39],\n",
    "                              ECM_paras_list = ZSimpWin_ECM_paras_list)\n",
    "Chi_s"
   ]
  },
  {
   "cell_type": "markdown",
   "metadata": {},
   "source": [
    "### 对比实验3"
   ]
  },
  {
   "cell_type": "markdown",
   "metadata": {},
   "source": [
    "<p>文件：distributed_parallel_fitting_circuit\\datasets\\experiement_data\\lai\\eis\\2\\20170415-EIS-2-15.DTA</p>\n",
    "<p>ZSimpWin Fitted Res: D:\\ms_0\\zsimpwin\\install\\f1\\par\\20170415-EIS-2-15, R(Q(R(QR))).par</p>\n",
    "<p>Index: 40 Fn: 2-15 ECM-Num: 2</p>"
   ]
  },
  {
   "cell_type": "code",
   "execution_count": 79,
   "metadata": {
    "ExecuteTime": {
     "end_time": "2021-02-05T12:53:59.273177Z",
     "start_time": "2021-02-05T12:53:59.269175Z"
    }
   },
   "outputs": [],
   "source": [
    "\"\"\"\n",
    "02/05/2021, 19:10:14\n",
    "...\\par\\20170415-EIS-2-15, R(QR)(QR).par\n",
    "      1                             = detect the sign of Zim         \n",
    "      1                             = modulus weighting factor   \n",
    "    0.000                        = sample area in square cm \n",
    "    R(QR)(QR)\n",
    "    1.267e-03          4     = chi squared, # of iters \n",
    "\n",
    "    index   fixed    parameter      start               end        rel. std. error (%) \n",
    "    -------  ------  ----------     --------            -----      ------------ \n",
    "        1       0          R            0.01     1.879E-008      8.931E007 \n",
    "        2       0        Q-Yo         0.5121        0.05119          55.78 \n",
    "        3       0         Q-n         0.4025         0.4025          15.67 \n",
    "        4       0          R          0.1863         0.1863          15.75 \n",
    "        5       0        Q-Yo         0.1403         0.1403          3.393 \n",
    "        6       0         Q-n         0.6659         0.6659          1.874 \n",
    "        7       0          R           6.656          6.657          5.005 \n",
    "    -------------------------------------------------------------------------------------\n",
    "\n",
    "    Measurement errors in impedance data = < 3.559 pct.    \n",
    "\"\"\"\n",
    "ZSimpWin_Chi_s = 1.267 * 1e-03\n",
    "ZSimpWin_ECM_paras_list = [1.879 * 1e-8, 5.119 * 1e-2, 0.4025, 0.1863, 0.1403, \n",
    "                           0.6659, 6.657]"
   ]
  },
  {
   "cell_type": "code",
   "execution_count": 80,
   "metadata": {
    "ExecuteTime": {
     "end_time": "2021-02-05T12:53:59.702301Z",
     "start_time": "2021-02-05T12:53:59.697969Z"
    }
   },
   "outputs": [
    {
     "name": "stdout",
     "output_type": "stream",
     "text": [
      "version 4\n"
     ]
    },
    {
     "data": {
      "text/plain": [
       "0.0012833446828037494"
      ]
     },
     "execution_count": 80,
     "metadata": {},
     "output_type": "execute_result"
    }
   ],
   "source": [
    "Chi_s = cal_EIS_WSE_fitness_v1(exp_data_dict = lai_normed_dataset[40],\n",
    "                              ECM_paras_list = ZSimpWin_ECM_paras_list)\n",
    "Chi_s"
   ]
  },
  {
   "cell_type": "markdown",
   "metadata": {},
   "source": [
    "### 对比实验4"
   ]
  },
  {
   "cell_type": "markdown",
   "metadata": {},
   "source": [
    "<p>文件：distributed_parallel_fitting_circuit\\datasets\\experiement_data\\lai\\eis\\2\\20170415-EIS-2-16.DTA</p>\n",
    "<p>ZSimpWin Fitted Res: D:\\ms_0\\zsimpwin\\install\\f1\\par\\20170415-EIS-2-16, R(Q(R(QR))).par</p>\n",
    "<p>Index: 41 Fn: 2-16 ECM-Num: 2</p>"
   ]
  },
  {
   "cell_type": "code",
   "execution_count": 82,
   "metadata": {
    "ExecuteTime": {
     "end_time": "2021-02-05T13:36:56.805071Z",
     "start_time": "2021-02-05T13:36:56.802070Z"
    }
   },
   "outputs": [],
   "source": [
    "\"\"\"\n",
    "02/05/2021, 19:13:15\n",
    "...\\par\\20170415-EIS-2-16, R(QR)(QR).par\n",
    "      1                             = detect the sign of Zim         \n",
    "      1                             = modulus weighting factor   \n",
    "    0.000                        = sample area in square cm \n",
    "    R(QR)(QR)\n",
    "    1.829e-02          4     = chi squared, # of iters \n",
    "\n",
    "    index   fixed    parameter      start               end        rel. std. error (%) \n",
    "    -------  ------  ----------     --------            -----      ------------ \n",
    "        1       0          R            0.01     2.682E-007      5.678E006 \n",
    "        2       0        Q-Yo       0.001655       0.001655           9.64 \n",
    "        3       0         Q-n          0.754         0.7541          7.124 \n",
    "        4       0          R           225.9           2259          50.57 \n",
    "        5       0        Q-Yo      0.0005171      0.0005172          24.43 \n",
    "        6       0         Q-n         0.7419         0.7418          4.045 \n",
    "        7       0          R           21.59           21.6          27.96 \n",
    "    -------------------------------------------------------------------------------------\n",
    "\n",
    "    Measurement errors in impedance data = < 13.52 pct.     \n",
    "\"\"\"\n",
    "ZSimpWin_Chi_s = 1.829 * 1e-02\n",
    "ZSimpWin_ECM_paras_list = [2.682 * 1e-7, 1.655 * 1e-3, 0.7541, 2259, 5.172 * 1e-4, \n",
    "                           0.7418, 21.6]"
   ]
  },
  {
   "cell_type": "code",
   "execution_count": 83,
   "metadata": {
    "ExecuteTime": {
     "end_time": "2021-02-05T13:36:57.380064Z",
     "start_time": "2021-02-05T13:36:57.376506Z"
    }
   },
   "outputs": [
    {
     "name": "stdout",
     "output_type": "stream",
     "text": [
      "version 5\n"
     ]
    },
    {
     "data": {
      "text/plain": [
       "0.014794650064146625"
      ]
     },
     "execution_count": 83,
     "metadata": {},
     "output_type": "execute_result"
    }
   ],
   "source": [
    "Chi_s = cal_EIS_WSE_fitness_v1(exp_data_dict = lai_normed_dataset[41],\n",
    "                              ECM_paras_list = ZSimpWin_ECM_paras_list)\n",
    "Chi_s"
   ]
  },
  {
   "cell_type": "markdown",
   "metadata": {},
   "source": [
    "### 对比实验5"
   ]
  },
  {
   "cell_type": "markdown",
   "metadata": {},
   "source": [
    "<p>文件：distributed_parallel_fitting_circuit\\datasets\\experiement_data\\lai\\eis\\2\\20170415-EIS-2-17.DTA</p>\n",
    "<p>ZSimpWin Fitted Res: D:\\ms_0\\zsimpwin\\install\\f1\\par\\20170415-EIS-2-17, R(Q(R(QR))).par</p>\n",
    "<p>Index: 42 Fn: 2-17 ECM-Num: 2</p>"
   ]
  },
  {
   "cell_type": "code",
   "execution_count": 84,
   "metadata": {
    "ExecuteTime": {
     "end_time": "2021-02-05T13:39:19.245659Z",
     "start_time": "2021-02-05T13:39:19.241658Z"
    }
   },
   "outputs": [],
   "source": [
    "\"\"\"\n",
    "02/05/2021, 20:42:39\n",
    "...\\par\\20170415-EIS-2-17, R(QR)(QR).par\n",
    "      1                             = detect the sign of Zim         \n",
    "      1                             = modulus weighting factor   \n",
    "    0.000                        = sample area in square cm \n",
    "    R(QR)(QR)\n",
    "    1.373e-03          4     = chi squared, # of iters \n",
    "\n",
    "    index   fixed    parameter      start               end        rel. std. error (%) \n",
    "    -------  ------  ----------     --------            -----      ------------ \n",
    "        1       0          R             0.1       0.001288           9883 \n",
    "        2       0        Q-Yo     2.148E-005     2.152E-005          98.82 \n",
    "        3       0         Q-n         0.8718         0.8711          19.86 \n",
    "        4       0          R          0.1315          0.132          97.19 \n",
    "        5       0        Q-Yo        0.04358        0.04358          2.202 \n",
    "        6       0         Q-n         0.7239          0.724         0.7163 \n",
    "        7       0          R           31.22          31.22          4.695 \n",
    "    -------------------------------------------------------------------------------------\n",
    "\n",
    "    Measurement errors in impedance data = < 3.705 pct.        \n",
    "\"\"\"\n",
    "ZSimpWin_Chi_s = 1.373 * 1e-03\n",
    "ZSimpWin_ECM_paras_list = [1.288 * 1e-3, 2.152 * 1e-5, 0.8711, 0.132, 0.04358, \n",
    "                           0.724, 31.22]"
   ]
  },
  {
   "cell_type": "code",
   "execution_count": 85,
   "metadata": {
    "ExecuteTime": {
     "end_time": "2021-02-05T13:39:19.883480Z",
     "start_time": "2021-02-05T13:39:19.880479Z"
    }
   },
   "outputs": [
    {
     "name": "stdout",
     "output_type": "stream",
     "text": [
      "version 5\n"
     ]
    },
    {
     "data": {
      "text/plain": [
       "0.0014089728727283146"
      ]
     },
     "execution_count": 85,
     "metadata": {},
     "output_type": "execute_result"
    }
   ],
   "source": [
    "Chi_s = cal_EIS_WSE_fitness_v1(exp_data_dict = lai_normed_dataset[42],\n",
    "                              ECM_paras_list = ZSimpWin_ECM_paras_list)\n",
    "Chi_s"
   ]
  },
  {
   "cell_type": "markdown",
   "metadata": {},
   "source": [
    "# 结论"
   ]
  },
  {
   "cell_type": "markdown",
   "metadata": {
    "ExecuteTime": {
     "end_time": "2021-02-05T13:41:44.747790Z",
     "start_time": "2021-02-05T13:41:44.743790Z"
    }
   },
   "source": [
    "经过上述实验：Chi-Square的Version4和Version5结果相近，在文献中确实都又出现，\n",
    "但是在ZSimpWin的《Tech Note 37: Least Squares Fit Formulation》- 《3. Definition of the chi-squared》 - Eq10中对Modulus weighting给出了自己的定义，此处按照和软件一样的操作来"
   ]
  },
  {
   "cell_type": "code",
   "execution_count": null,
   "metadata": {},
   "outputs": [],
   "source": []
  }
 ],
 "metadata": {
  "kernelspec": {
   "display_name": "Python 3",
   "language": "python",
   "name": "python3"
  },
  "language_info": {
   "codemirror_mode": {
    "name": "ipython",
    "version": 3
   },
   "file_extension": ".py",
   "mimetype": "text/x-python",
   "name": "python",
   "nbconvert_exporter": "python",
   "pygments_lexer": "ipython3",
   "version": "3.8.2"
  },
  "toc": {
   "base_numbering": 1,
   "nav_menu": {},
   "number_sections": true,
   "sideBar": true,
   "skip_h1_title": false,
   "title_cell": "Table of Contents",
   "title_sidebar": "Contents",
   "toc_cell": false,
   "toc_position": {
    "height": "524.8px",
    "left": "24px",
    "top": "108.8px",
    "width": "181px"
   },
   "toc_section_display": true,
   "toc_window_display": true
  },
  "varInspector": {
   "cols": {
    "lenName": 16,
    "lenType": 16,
    "lenVar": 40
   },
   "kernels_config": {
    "python": {
     "delete_cmd_postfix": "",
     "delete_cmd_prefix": "del ",
     "library": "var_list.py",
     "varRefreshCmd": "print(var_dic_list())"
    },
    "r": {
     "delete_cmd_postfix": ") ",
     "delete_cmd_prefix": "rm(",
     "library": "var_list.r",
     "varRefreshCmd": "cat(var_dic_list()) "
    }
   },
   "types_to_exclude": [
    "module",
    "function",
    "builtin_function_or_method",
    "instance",
    "_Feature"
   ],
   "window_display": false
  }
 },
 "nbformat": 4,
 "nbformat_minor": 4
}
