{
 "cells": [
  {
   "cell_type": "markdown",
   "metadata": {},
   "source": [
    "# Circuits and Plots setting"
   ]
  },
  {
   "cell_type": "code",
   "execution_count": 1,
   "metadata": {
    "ExecuteTime": {
     "end_time": "2020-07-01T07:07:08.661778Z",
     "start_time": "2020-07-01T07:07:08.656777Z"
    }
   },
   "outputs": [],
   "source": [
    "import sys\n",
    "sys.path.append('../../')\n",
    "# circuit elements, R,C,L\n",
    "from circuits.elements import ele_C, ele_L, ele_Q\n",
    "\n",
    "C = ele_C\n",
    "L = ele_L\n",
    "Q = ele_Q"
   ]
  },
  {
   "cell_type": "code",
   "execution_count": 2,
   "metadata": {
    "ExecuteTime": {
     "end_time": "2020-07-01T07:07:09.605283Z",
     "start_time": "2020-07-01T07:07:09.467580Z"
    }
   },
   "outputs": [],
   "source": [
    "from utils.frequency_generator import fre_generator\n",
    "from utils.visualize_utils.impedance_plots import nyquist_plot"
   ]
  },
  {
   "cell_type": "code",
   "execution_count": 4,
   "metadata": {
    "ExecuteTime": {
     "end_time": "2020-07-01T07:07:22.604979Z",
     "start_time": "2020-07-01T07:07:22.602991Z"
    }
   },
   "outputs": [],
   "source": [
    "# Frequency range 10 kHz to 1 mHz, 10 points per decade\n",
    "fre_list, w_list = fre_generator(f_start = 4, f_end = -3, pts_decade = 10)"
   ]
  },
  {
   "cell_type": "code",
   "execution_count": 5,
   "metadata": {
    "ExecuteTime": {
     "end_time": "2020-07-01T07:07:23.132859Z",
     "start_time": "2020-07-01T07:07:23.129859Z"
    }
   },
   "outputs": [
    {
     "data": {
      "text/plain": [
       "[62831.853071795864,\n",
       " 49909.11493497502,\n",
       " 39644.21916294998,\n",
       " 31490.522624728612,\n",
       " 25013.81124704572]"
      ]
     },
     "execution_count": 5,
     "metadata": {},
     "output_type": "execute_result"
    }
   ],
   "source": [
    "w_list[:5]"
   ]
  },
  {
   "cell_type": "markdown",
   "metadata": {},
   "source": [
    "# All kinds of Warburg implementation"
   ]
  },
  {
   "cell_type": "markdown",
   "metadata": {},
   "source": [
    "There several implementation of Warburg"
   ]
  },
  {
   "cell_type": "markdown",
   "metadata": {},
   "source": [
    "## Paper: EIS by James Ross MacDonald"
   ]
  },
  {
   "cell_type": "markdown",
   "metadata": {},
   "source": [
    "source: paper ELECTROCHEMICAL IMPEDANCE SPECTROSCOPY"
   ]
  },
  {
   "cell_type": "markdown",
   "metadata": {},
   "source": [
    "### Semi-infinite diffusion"
   ]
  },
  {
   "cell_type": "code",
   "execution_count": 6,
   "metadata": {
    "ExecuteTime": {
     "end_time": "2020-07-01T07:07:24.868354Z",
     "start_time": "2020-07-01T07:07:24.825609Z"
    }
   },
   "outputs": [],
   "source": [
    "import math\n",
    "import mpmath as mp\n",
    "def jrm_Wsi(w, R, C):\n",
    "#     z = math.sqrt(R / (1j * w * C))\n",
    "    z = (R / (1j * w * C)) ** 0.5\n",
    "    return z"
   ]
  },
  {
   "cell_type": "code",
   "execution_count": 7,
   "metadata": {
    "ExecuteTime": {
     "end_time": "2020-07-01T07:07:25.480991Z",
     "start_time": "2020-07-01T07:07:25.476991Z"
    }
   },
   "outputs": [],
   "source": [
    "Rd = 1\n",
    "Cd = 1\n",
    "Zsi_list = [jrm_Wsi(w, R=Rd, C=Cd) for w in w_list]"
   ]
  },
  {
   "cell_type": "code",
   "execution_count": 8,
   "metadata": {
    "ExecuteTime": {
     "end_time": "2020-07-01T07:07:25.957557Z",
     "start_time": "2020-07-01T07:07:25.954556Z"
    }
   },
   "outputs": [
    {
     "data": {
      "text/plain": [
       "[(0.0028209479177387815-0.0028209479177387815j),\n",
       " (0.0031651556223276107-0.0031651556223276107j),\n",
       " (0.0035513630189891944-0.0035513630189891944j),\n",
       " (0.00398469484523141-0.00398469484523141j),\n",
       " (0.004470901151111548-0.004470901151111548j)]"
      ]
     },
     "execution_count": 8,
     "metadata": {},
     "output_type": "execute_result"
    }
   ],
   "source": [
    "Zsi_list[:5]"
   ]
  },
  {
   "cell_type": "code",
   "execution_count": 10,
   "metadata": {
    "ExecuteTime": {
     "end_time": "2020-07-01T07:07:40.661515Z",
     "start_time": "2020-07-01T07:07:40.530301Z"
    }
   },
   "outputs": [
    {
     "name": "stderr",
     "output_type": "stream",
     "text": [
      "No handles with labels found to put in legend.\n"
     ]
    },
    {
     "data": {
      "image/png": "[encoded data removed]",
      "text/plain": [
       "<Figure size 432x288 with 1 Axes>"
      ]
     },
     "metadata": {
      "needs_background": "light"
     },
     "output_type": "display_data"
    }
   ],
   "source": [
    "nyquist_plot(z_list=Zsi_list, x_lim=[0, 9], y_lim=[0, 9], grid_flag=True, plot_label='')"
   ]
  },
  {
   "cell_type": "markdown",
   "metadata": {},
   "source": [
    "### Finite Length Warburg(FLW, Short)"
   ]
  },
  {
   "cell_type": "code",
   "execution_count": 18,
   "metadata": {
    "ExecuteTime": {
     "end_time": "2020-07-01T06:52:45.284099Z",
     "start_time": "2020-07-01T06:52:45.245548Z"
    }
   },
   "outputs": [],
   "source": [
    "mp.coth?"
   ]
  },
  {
   "cell_type": "code",
   "execution_count": 12,
   "metadata": {
    "ExecuteTime": {
     "end_time": "2020-07-01T07:08:02.465068Z",
     "start_time": "2020-07-01T07:08:02.463067Z"
    }
   },
   "outputs": [],
   "source": [
    "def jrm_FLW(w, R, C):\n",
    "    z1 = (R / (1j * w * C)) ** 0.5\n",
    "    z2 = mp.coth((R * C * 1j * w) ** 0.5)\n",
    "    z = z1 * z2\n",
    "    return z"
   ]
  },
  {
   "cell_type": "code",
   "execution_count": 16,
   "metadata": {
    "ExecuteTime": {
     "end_time": "2020-07-01T07:09:00.784346Z",
     "start_time": "2020-07-01T07:09:00.659942Z"
    }
   },
   "outputs": [
    {
     "data": {
      "image/png": "[encoded data removed]",
      "text/plain": [
       "<Figure size 432x288 with 1 Axes>"
      ]
     },
     "metadata": {
      "needs_background": "light"
     },
     "output_type": "display_data"
    }
   ],
   "source": [
    "Rd = 1\n",
    "Cd = 1\n",
    "Zflw_list = [jrm_FLW(w, R=Rd, C=Cd) for w in w_list]\n",
    "nyquist_plot(z_list=Zflw_list, x_lim=[0, 0.9], y_lim=[0, 0.9], grid_flag=True, plot_label='Cd= 1F')"
   ]
  },
  {
   "cell_type": "code",
   "execution_count": 19,
   "metadata": {
    "ExecuteTime": {
     "end_time": "2020-07-01T07:09:49.032556Z",
     "start_time": "2020-07-01T07:09:48.905227Z"
    }
   },
   "outputs": [
    {
     "data": {
      "image/png": "[encoded data removed]",
      "text/plain": [
       "<Figure size 432x288 with 1 Axes>"
      ]
     },
     "metadata": {
      "needs_background": "light"
     },
     "output_type": "display_data"
    }
   ],
   "source": [
    "Rd = 1\n",
    "Cd = 300\n",
    "Zflw_list = [jrm_FLW(w, R=Rd, C=Cd) for w in w_list]\n",
    "nyquist_plot(z_list=Zflw_list, x_lim=[0, 0.9], y_lim=[0, 0.9], grid_flag=True, plot_label='Cd= 300F')"
   ]
  },
  {
   "cell_type": "markdown",
   "metadata": {},
   "source": [
    "### Finite Space Warburg(FSW, Open)"
   ]
  },
  {
   "cell_type": "code",
   "execution_count": 21,
   "metadata": {
    "ExecuteTime": {
     "end_time": "2020-07-01T07:11:09.502202Z",
     "start_time": "2020-07-01T07:11:09.500201Z"
    }
   },
   "outputs": [],
   "source": [
    "def jrm_FSW(w, R, C):\n",
    "    z1 = (R / (1j * w * C)) ** 0.5\n",
    "    z2 = mp.tanh((R * C * 1j * w) ** 0.5)\n",
    "    z = z1 * z2\n",
    "    return z"
   ]
  },
  {
   "cell_type": "code",
   "execution_count": 24,
   "metadata": {
    "ExecuteTime": {
     "end_time": "2020-07-01T07:12:10.884656Z",
     "start_time": "2020-07-01T07:12:10.774643Z"
    }
   },
   "outputs": [
    {
     "data": {
      "image/png": "[encoded data removed]",
      "text/plain": [
       "<Figure size 432x288 with 1 Axes>"
      ]
     },
     "metadata": {
      "needs_background": "light"
     },
     "output_type": "display_data"
    }
   ],
   "source": [
    "Rd = 1\n",
    "Cd = 1\n",
    "Zfsw_list = [jrm_FSW(w, R=Rd, C=Cd) for w in w_list]\n",
    "nyquist_plot(z_list=Zfsw_list, x_lim=[0, 1.1], y_lim=[0, 1.1], grid_flag=True, plot_label='Cd= 1F')"
   ]
  },
  {
   "cell_type": "code",
   "execution_count": 25,
   "metadata": {
    "ExecuteTime": {
     "end_time": "2020-07-01T07:13:39.516472Z",
     "start_time": "2020-07-01T07:13:39.408897Z"
    }
   },
   "outputs": [
    {
     "data": {
      "image/png": "[encoded data removed]",
      "text/plain": [
       "<Figure size 432x288 with 1 Axes>"
      ]
     },
     "metadata": {
      "needs_background": "light"
     },
     "output_type": "display_data"
    }
   ],
   "source": [
    "Rd = 1\n",
    "Cd = 10\n",
    "Zfsw_list = [jrm_FSW(w, R=Rd, C=Cd) for w in w_list]\n",
    "nyquist_plot(z_list=Zfsw_list, x_lim=[0, 1.1], y_lim=[0, 1.1], grid_flag=True, plot_label='Cd= 10F')"
   ]
  },
  {
   "cell_type": "code",
   "execution_count": 26,
   "metadata": {
    "ExecuteTime": {
     "end_time": "2020-07-01T07:13:54.889496Z",
     "start_time": "2020-07-01T07:13:54.772798Z"
    }
   },
   "outputs": [
    {
     "data": {
      "image/png": "[encoded data removed]",
      "text/plain": [
       "<Figure size 432x288 with 1 Axes>"
      ]
     },
     "metadata": {
      "needs_background": "light"
     },
     "output_type": "display_data"
    }
   ],
   "source": [
    "Rd = 1\n",
    "Cd = 100\n",
    "Zfsw_list = [jrm_FSW(w, R=Rd, C=Cd) for w in w_list]\n",
    "nyquist_plot(z_list=Zfsw_list, x_lim=[0, 1.1], y_lim=[0, 1.1], grid_flag=True, plot_label='Cd= 100F')"
   ]
  },
  {
   "cell_type": "code",
   "execution_count": 28,
   "metadata": {
    "ExecuteTime": {
     "end_time": "2020-07-01T07:14:19.281633Z",
     "start_time": "2020-07-01T07:14:19.171249Z"
    }
   },
   "outputs": [
    {
     "data": {
      "image/png": "[encoded data removed]",
      "text/plain": [
       "<Figure size 432x288 with 1 Axes>"
      ]
     },
     "metadata": {
      "needs_background": "light"
     },
     "output_type": "display_data"
    }
   ],
   "source": [
    "Rd = 1\n",
    "Cd = 500\n",
    "Zfsw_list = [jrm_FSW(w, R=Rd, C=Cd) for w in w_list]\n",
    "nyquist_plot(z_list=Zfsw_list, x_lim=[0, 1.1], y_lim=[0, 1.1], grid_flag=True, plot_label='Cd= 500F')"
   ]
  },
  {
   "cell_type": "code",
   "execution_count": null,
   "metadata": {},
   "outputs": [],
   "source": []
  }
 ],
 "metadata": {
  "kernelspec": {
   "display_name": "Python 3",
   "language": "python",
   "name": "python3"
  },
  "language_info": {
   "codemirror_mode": {
    "name": "ipython",
    "version": 3
   },
   "file_extension": ".py",
   "mimetype": "text/x-python",
   "name": "python",
   "nbconvert_exporter": "python",
   "pygments_lexer": "ipython3",
   "version": "3.8.2"
  },
  "toc": {
   "base_numbering": 1,
   "nav_menu": {},
   "number_sections": true,
   "sideBar": true,
   "skip_h1_title": false,
   "title_cell": "Table of Contents",
   "title_sidebar": "Contents",
   "toc_cell": false,
   "toc_position": {
    "height": "calc(100% - 180px)",
    "left": "10px",
    "top": "150px",
    "width": "290px"
   },
   "toc_section_display": true,
   "toc_window_display": true
  },
  "varInspector": {
   "cols": {
    "lenName": 16,
    "lenType": 16,
    "lenVar": 40
   },
   "kernels_config": {
    "python": {
     "delete_cmd_postfix": "",
     "delete_cmd_prefix": "del ",
     "library": "var_list.py",
     "varRefreshCmd": "print(var_dic_list())"
    },
    "r": {
     "delete_cmd_postfix": ") ",
     "delete_cmd_prefix": "rm(",
     "library": "var_list.r",
     "varRefreshCmd": "cat(var_dic_list()) "
    }
   },
   "types_to_exclude": [
    "module",
    "function",
    "builtin_function_or_method",
    "instance",
    "_Feature"
   ],
   "window_display": false
  }
 },
 "nbformat": 4,
 "nbformat_minor": 4
}
